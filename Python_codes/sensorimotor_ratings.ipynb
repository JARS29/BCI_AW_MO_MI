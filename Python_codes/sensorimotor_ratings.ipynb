{
 "cells": [
  {
   "cell_type": "code",
   "execution_count": null,
   "metadata": {},
   "outputs": [],
   "source": [
    "import pandas as pd\n",
    "import plotly.graph_objects as go\n",
    "from plotly.subplots import make_subplots\n"
   ]
  },
  {
   "cell_type": "code",
   "execution_count": null,
   "metadata": {},
   "outputs": [],
   "source": [
    "df_sensor = pd.read_csv('AW_sensorimotor.csv')\n",
    "df_perceptual = pd.read_csv('AW_perceptual.csv')\n",
    "df_action = pd.read_csv('AW_action.csv')\n",
    "df_words = pd.read_csv('AW_words.csv', sep=';')\n",
    "df_words['Word'] = df_words['Word'].str.upper()\n",
    "df_sensor=df_sensor.merge(df_words, on='Word')\n",
    "df_perceptual=df_perceptual.merge(df_words, on='Word')\n",
    "df_action=df_action.merge(df_words, on='Word')"
   ]
  },
  {
   "cell_type": "code",
   "execution_count": 48,
   "metadata": {},
   "outputs": [
    {
     "data": {
      "text/html": [
       "<div>\n",
       "<style scoped>\n",
       "    .dataframe tbody tr th:only-of-type {\n",
       "        vertical-align: middle;\n",
       "    }\n",
       "\n",
       "    .dataframe tbody tr th {\n",
       "        vertical-align: top;\n",
       "    }\n",
       "\n",
       "    .dataframe thead th {\n",
       "        text-align: right;\n",
       "    }\n",
       "</style>\n",
       "<table border=\"1\" class=\"dataframe\">\n",
       "  <thead>\n",
       "    <tr style=\"text-align: right;\">\n",
       "      <th></th>\n",
       "      <th>Word</th>\n",
       "      <th>Auditory.mean</th>\n",
       "      <th>Gustatory.mean</th>\n",
       "      <th>Haptic.mean</th>\n",
       "      <th>Interoceptive.mean</th>\n",
       "      <th>Olfactory.mean</th>\n",
       "      <th>Visual.mean</th>\n",
       "      <th>Foot_leg.mean</th>\n",
       "      <th>Hand_arm.mean</th>\n",
       "      <th>Head.mean</th>\n",
       "      <th>Mouth.mean</th>\n",
       "      <th>Torso.mean</th>\n",
       "      <th>AW</th>\n",
       "    </tr>\n",
       "  </thead>\n",
       "  <tbody>\n",
       "    <tr>\n",
       "      <th>0</th>\n",
       "      <td>CLAP</td>\n",
       "      <td>4.625</td>\n",
       "      <td>0.000</td>\n",
       "      <td>2.833</td>\n",
       "      <td>0.625</td>\n",
       "      <td>0.000</td>\n",
       "      <td>3.750</td>\n",
       "      <td>0.300</td>\n",
       "      <td>4.550</td>\n",
       "      <td>1.500</td>\n",
       "      <td>0.250</td>\n",
       "      <td>0.550</td>\n",
       "      <td>Arm</td>\n",
       "    </tr>\n",
       "    <tr>\n",
       "      <th>1</th>\n",
       "      <td>CUT</td>\n",
       "      <td>0.950</td>\n",
       "      <td>0.050</td>\n",
       "      <td>3.450</td>\n",
       "      <td>2.150</td>\n",
       "      <td>0.100</td>\n",
       "      <td>3.250</td>\n",
       "      <td>1.263</td>\n",
       "      <td>4.211</td>\n",
       "      <td>1.842</td>\n",
       "      <td>1.053</td>\n",
       "      <td>1.316</td>\n",
       "      <td>Arm</td>\n",
       "    </tr>\n",
       "    <tr>\n",
       "      <th>2</th>\n",
       "      <td>JUMP</td>\n",
       "      <td>1.556</td>\n",
       "      <td>0.000</td>\n",
       "      <td>1.389</td>\n",
       "      <td>2.833</td>\n",
       "      <td>0.000</td>\n",
       "      <td>3.944</td>\n",
       "      <td>4.850</td>\n",
       "      <td>1.700</td>\n",
       "      <td>1.300</td>\n",
       "      <td>0.300</td>\n",
       "      <td>2.550</td>\n",
       "      <td>Leg</td>\n",
       "    </tr>\n",
       "    <tr>\n",
       "      <th>3</th>\n",
       "      <td>KICK</td>\n",
       "      <td>0.895</td>\n",
       "      <td>0.211</td>\n",
       "      <td>3.526</td>\n",
       "      <td>1.842</td>\n",
       "      <td>0.158</td>\n",
       "      <td>3.632</td>\n",
       "      <td>4.750</td>\n",
       "      <td>0.150</td>\n",
       "      <td>0.550</td>\n",
       "      <td>0.000</td>\n",
       "      <td>0.650</td>\n",
       "      <td>Leg</td>\n",
       "    </tr>\n",
       "    <tr>\n",
       "      <th>4</th>\n",
       "      <td>PLUG</td>\n",
       "      <td>1.000</td>\n",
       "      <td>0.250</td>\n",
       "      <td>1.900</td>\n",
       "      <td>0.900</td>\n",
       "      <td>0.400</td>\n",
       "      <td>3.000</td>\n",
       "      <td>0.300</td>\n",
       "      <td>2.750</td>\n",
       "      <td>0.800</td>\n",
       "      <td>0.050</td>\n",
       "      <td>0.100</td>\n",
       "      <td>Arm</td>\n",
       "    </tr>\n",
       "    <tr>\n",
       "      <th>5</th>\n",
       "      <td>SIT</td>\n",
       "      <td>0.611</td>\n",
       "      <td>0.194</td>\n",
       "      <td>2.306</td>\n",
       "      <td>1.417</td>\n",
       "      <td>0.222</td>\n",
       "      <td>3.194</td>\n",
       "      <td>4.211</td>\n",
       "      <td>1.263</td>\n",
       "      <td>1.368</td>\n",
       "      <td>0.263</td>\n",
       "      <td>3.684</td>\n",
       "      <td>Leg</td>\n",
       "    </tr>\n",
       "    <tr>\n",
       "      <th>6</th>\n",
       "      <td>STEP</td>\n",
       "      <td>1.300</td>\n",
       "      <td>0.000</td>\n",
       "      <td>2.450</td>\n",
       "      <td>1.600</td>\n",
       "      <td>0.050</td>\n",
       "      <td>3.050</td>\n",
       "      <td>4.619</td>\n",
       "      <td>0.905</td>\n",
       "      <td>0.952</td>\n",
       "      <td>0.238</td>\n",
       "      <td>0.952</td>\n",
       "      <td>Leg</td>\n",
       "    </tr>\n",
       "    <tr>\n",
       "      <th>7</th>\n",
       "      <td>THROW</td>\n",
       "      <td>1.059</td>\n",
       "      <td>0.000</td>\n",
       "      <td>3.000</td>\n",
       "      <td>0.882</td>\n",
       "      <td>0.000</td>\n",
       "      <td>4.000</td>\n",
       "      <td>0.864</td>\n",
       "      <td>4.591</td>\n",
       "      <td>1.545</td>\n",
       "      <td>0.227</td>\n",
       "      <td>1.409</td>\n",
       "      <td>Arm</td>\n",
       "    </tr>\n",
       "    <tr>\n",
       "      <th>8</th>\n",
       "      <td>WALK</td>\n",
       "      <td>0.765</td>\n",
       "      <td>0.000</td>\n",
       "      <td>1.588</td>\n",
       "      <td>2.529</td>\n",
       "      <td>0.176</td>\n",
       "      <td>3.118</td>\n",
       "      <td>4.947</td>\n",
       "      <td>1.368</td>\n",
       "      <td>1.105</td>\n",
       "      <td>0.526</td>\n",
       "      <td>1.263</td>\n",
       "      <td>Leg</td>\n",
       "    </tr>\n",
       "    <tr>\n",
       "      <th>9</th>\n",
       "      <td>WRITE</td>\n",
       "      <td>1.116</td>\n",
       "      <td>0.279</td>\n",
       "      <td>3.163</td>\n",
       "      <td>1.186</td>\n",
       "      <td>0.256</td>\n",
       "      <td>3.651</td>\n",
       "      <td>0.227</td>\n",
       "      <td>4.727</td>\n",
       "      <td>2.364</td>\n",
       "      <td>0.273</td>\n",
       "      <td>0.409</td>\n",
       "      <td>Arm</td>\n",
       "    </tr>\n",
       "  </tbody>\n",
       "</table>\n",
       "</div>"
      ],
      "text/plain": [
       "    Word  Auditory.mean  Gustatory.mean  Haptic.mean  Interoceptive.mean  \\\n",
       "0   CLAP          4.625           0.000        2.833               0.625   \n",
       "1    CUT          0.950           0.050        3.450               2.150   \n",
       "2   JUMP          1.556           0.000        1.389               2.833   \n",
       "3   KICK          0.895           0.211        3.526               1.842   \n",
       "4   PLUG          1.000           0.250        1.900               0.900   \n",
       "5    SIT          0.611           0.194        2.306               1.417   \n",
       "6   STEP          1.300           0.000        2.450               1.600   \n",
       "7  THROW          1.059           0.000        3.000               0.882   \n",
       "8   WALK          0.765           0.000        1.588               2.529   \n",
       "9  WRITE          1.116           0.279        3.163               1.186   \n",
       "\n",
       "   Olfactory.mean  Visual.mean  Foot_leg.mean  Hand_arm.mean  Head.mean  \\\n",
       "0           0.000        3.750          0.300          4.550      1.500   \n",
       "1           0.100        3.250          1.263          4.211      1.842   \n",
       "2           0.000        3.944          4.850          1.700      1.300   \n",
       "3           0.158        3.632          4.750          0.150      0.550   \n",
       "4           0.400        3.000          0.300          2.750      0.800   \n",
       "5           0.222        3.194          4.211          1.263      1.368   \n",
       "6           0.050        3.050          4.619          0.905      0.952   \n",
       "7           0.000        4.000          0.864          4.591      1.545   \n",
       "8           0.176        3.118          4.947          1.368      1.105   \n",
       "9           0.256        3.651          0.227          4.727      2.364   \n",
       "\n",
       "   Mouth.mean  Torso.mean   AW  \n",
       "0       0.250       0.550  Arm  \n",
       "1       1.053       1.316  Arm  \n",
       "2       0.300       2.550  Leg  \n",
       "3       0.000       0.650  Leg  \n",
       "4       0.050       0.100  Arm  \n",
       "5       0.263       3.684  Leg  \n",
       "6       0.238       0.952  Leg  \n",
       "7       0.227       1.409  Arm  \n",
       "8       0.526       1.263  Leg  \n",
       "9       0.273       0.409  Arm  "
      ]
     },
     "execution_count": 48,
     "metadata": {},
     "output_type": "execute_result"
    }
   ],
   "source": [
    "df_sensor"
   ]
  },
  {
   "cell_type": "code",
   "execution_count": null,
   "metadata": {},
   "outputs": [
    {
     "data": {
      "application/vnd.plotly.v1+json": {
       "config": {
        "plotlyServerURL": "https://plot.ly"
       },
       "data": [
        {
         "marker": {
          "color": [
           "#613828",
           "#613828",
           "#613828",
           "#613828",
           "#613828"
          ]
         },
         "name": "Leg",
         "opacity": 0.5,
         "r": [
          4.6754,
          1.0772,
          1.0550000000000002,
          0.26539999999999997,
          1.8198
         ],
         "subplot": "polar",
         "theta": [
          36,
          108,
          180,
          252,
          324
         ],
         "type": "barpolar",
         "width": [
          72,
          72,
          72,
          72,
          72
         ]
        },
        {
         "marker": {
          "color": [
           "#ef8a62",
           "#ef8a62",
           "#ef8a62",
           "#ef8a62",
           "#ef8a62"
          ]
         },
         "name": "Arm",
         "opacity": 0.5,
         "r": [
          0.5908,
          4.1658,
          1.6102,
          0.37060000000000004,
          0.7567999999999999
         ],
         "subplot": "polar",
         "theta": [
          35.99,
          107.99,
          179.99,
          251.99,
          323.99
         ],
         "type": "barpolar",
         "width": [
          72,
          72,
          72,
          72,
          72
         ]
        },
        {
         "marker": {
          "color": [
           "#613828",
           "#613828",
           "#613828",
           "#613828",
           "#613828",
           "#613828"
          ]
         },
         "name": "Leg",
         "opacity": 0.5,
         "r": [
          1.0253999999999999,
          0.081,
          2.2518000000000002,
          2.0442,
          0.1212,
          3.3876
         ],
         "subplot": "polar2",
         "theta": [
          30,
          90,
          150,
          210,
          270,
          330
         ],
         "type": "barpolar",
         "width": [
          60,
          60,
          60,
          60,
          60,
          60
         ]
        },
        {
         "marker": {
          "color": [
           "#ef8a62",
           "#ef8a62",
           "#ef8a62",
           "#ef8a62",
           "#ef8a62",
           "#ef8a62"
          ]
         },
         "name": "Arm",
         "opacity": 0.5,
         "r": [
          1.75,
          0.11579999999999999,
          2.8692,
          1.1485999999999998,
          0.1512,
          3.5302
         ],
         "subplot": "polar2",
         "theta": [
          29.99,
          89.99,
          149.99,
          209.99,
          269.99,
          329.99
         ],
         "type": "barpolar",
         "width": [
          60,
          60,
          60,
          60,
          60,
          60
         ]
        },
        {
         "marker": {
          "color": [
           "#613828",
           "#613828",
           "#613828",
           "#613828",
           "#613828",
           "#613828",
           "#613828",
           "#613828",
           "#613828",
           "#613828",
           "#613828"
          ]
         },
         "name": "Leg",
         "opacity": 0.5,
         "r": [
          1.0253999999999999,
          0.081,
          2.2518000000000002,
          2.0442,
          0.1212,
          3.3876,
          4.6754,
          1.0772,
          1.0550000000000002,
          0.26539999999999997,
          1.8198
         ],
         "subplot": "polar3",
         "theta": [
          16.363636363636363,
          49.09090909090909,
          81.81818181818181,
          114.54545454545455,
          147.27272727272725,
          180,
          212.72727272727275,
          245.45454545454544,
          278.1818181818182,
          310.9090909090909,
          343.6363636363636
         ],
         "type": "barpolar",
         "width": [
          32.72727272727273,
          32.72727272727273,
          32.72727272727273,
          32.72727272727273,
          32.72727272727273,
          32.72727272727273,
          32.72727272727273,
          32.72727272727273,
          32.72727272727273,
          32.72727272727273,
          32.72727272727273
         ]
        },
        {
         "marker": {
          "color": [
           "#ef8a62",
           "#ef8a62",
           "#ef8a62",
           "#ef8a62",
           "#ef8a62",
           "#ef8a62",
           "#ef8a62",
           "#ef8a62",
           "#ef8a62",
           "#ef8a62",
           "#ef8a62"
          ]
         },
         "name": "Arm",
         "opacity": 0.5,
         "r": [
          1.75,
          0.11579999999999999,
          2.8692,
          1.1485999999999998,
          0.1512,
          3.5302,
          0.5908,
          4.1658,
          1.6102,
          0.37060000000000004,
          0.7567999999999999
         ],
         "subplot": "polar3",
         "theta": [
          16.35363636363636,
          49.080909090909095,
          81.80818181818181,
          114.53545454545454,
          147.26272727272726,
          179.99,
          212.71727272727276,
          245.44454545454545,
          278.1718181818182,
          310.8990909090909,
          343.62636363636364
         ],
         "type": "barpolar",
         "width": [
          32.72727272727273,
          32.72727272727273,
          32.72727272727273,
          32.72727272727273,
          32.72727272727273,
          32.72727272727273,
          32.72727272727273,
          32.72727272727273,
          32.72727272727273,
          32.72727272727273,
          32.72727272727273
         ]
        }
       ],
       "layout": {
        "height": 400,
        "polar": {
         "angularaxis": {
          "ticktext": [
           "Foot",
           "Hand",
           "Head",
           "Mouth",
           "Torso"
          ],
          "tickvals": [
           72,
           144,
           216,
           288,
           360
          ]
         },
         "domain": {
          "x": [
           0,
           0.26666666666666666
          ],
          "y": [
           0,
           1
          ]
         },
         "radialaxis": {
          "range": [
           0,
           5
          ]
         }
        },
        "polar2": {
         "angularaxis": {
          "ticktext": [
           "Auditory",
           "Gustatory",
           "Haptic",
           "Interoceptive",
           "Olfactory",
           "Visual"
          ],
          "tickvals": [
           60,
           120,
           180,
           240,
           300,
           360
          ]
         },
         "domain": {
          "x": [
           0.3666666666666667,
           0.6333333333333333
          ],
          "y": [
           0,
           1
          ]
         },
         "radialaxis": {
          "range": [
           0,
           5
          ]
         }
        },
        "polar3": {
         "angularaxis": {
          "ticktext": [
           "Auditory",
           "Gustatory",
           "Haptic",
           "Interoceptive",
           "Olfactory",
           "Visual",
           "Foot",
           "Hand",
           "Head",
           "Mouth",
           "Torso"
          ],
          "tickvals": [
           32.72727272727273,
           65.45454545454545,
           98.18181818181819,
           130.9090909090909,
           163.63636363636363,
           196.36363636363637,
           229.0909090909091,
           261.8181818181818,
           294.54545454545456,
           327.27272727272725,
           360
          ]
         },
         "domain": {
          "x": [
           0.7333333333333334,
           1
          ],
          "y": [
           0,
           1
          ]
         },
         "radialaxis": {
          "range": [
           0,
           5
          ]
         }
        },
        "showlegend": false,
        "template": {},
        "width": 1200
       }
      }
     },
     "metadata": {},
     "output_type": "display_data"
    }
   ],
   "source": [
    "action_categories = [i.split('_')[0].split('.')[0] for i in df_action.columns[1:-1]]\n",
    "perceptual_categories = [i.split('_')[0].split('.')[0] for i in df_perceptual.columns[1:-1]]\n",
    "sensorimotor_categories = [i.split('_')[0].split('.')[0] for i in df_sensor.columns[1:-1]]\n",
    "action_W =360/len(action_categories)\n",
    "fig = make_subplots(rows=1, cols=3,\n",
    "                    horizontal_spacing=0.1,\n",
    "                    shared_xaxes=True,\n",
    "                    shared_yaxes=True,\n",
    "                    specs=[\n",
    "        [{\"type\": \"polar\"}, {\"type\": \"polar\"}, {\"type\": \"polar\"}]]\n",
    ")\n",
    "colors={\n",
    "'Arm': '#ef8a62',\n",
    "'Leg': '#613828'\n",
    "}\n",
    "\n",
    "num_categories_action = len(action_categories)\n",
    "width_a = 360 / num_categories_action\n",
    "theta_action = [(i * width_a + (i + 1) * width_a) / 2 for i in range(num_categories_action)]\n",
    "\n",
    "num_categories_perceptual = len(perceptual_categories)\n",
    "width_p = 360 / num_categories_perceptual\n",
    "theta_perceptual = [(i * width_p + (i + 1) * width_p) / 2 for i in range(num_categories_perceptual)]\n",
    "\n",
    "num_categories_sensorimotor = len(sensorimotor_categories)\n",
    "width_s = 360 / num_categories_sensorimotor\n",
    "theta_sensorimotor = [(i * width_s + (i + 1) * width_s) / 2 for i in range(num_categories_sensorimotor)]\n",
    "\n",
    "fig.add_trace(go.Barpolar(\n",
    "      r=df_action[df_action.AW=='Leg'].iloc[:,1:-1].mean(axis=0).to_list(),\n",
    "      theta=theta_action,  \n",
    "      width=[width_a]* num_categories_action,\n",
    "      marker_color = [colors['Leg']]*num_categories_action,\n",
    "      opacity=0.5,\n",
    "      name='Leg'), 1,1)\n",
    "fig.add_trace(go.Barpolar(\n",
    "      r=df_action[df_action.AW=='Arm'].iloc[:,1:-1].mean(axis=0).to_list(),\n",
    "      theta=[i-0.01 for i in theta_action],  \n",
    "      width=[width_a]* num_categories_action,\n",
    "      marker_color = [colors['Arm']]*num_categories_action,\n",
    "      opacity=0.5,\n",
    "      name='Arm'), 1,1)\n",
    "\n",
    "fig.add_trace(go.Barpolar(\n",
    "      r=df_perceptual[df_perceptual.AW=='Leg'].iloc[:,1:-1].mean(axis=0).to_list(),\n",
    "      theta=theta_perceptual,  \n",
    "      width=[width_p]* num_categories_perceptual,\n",
    "      marker_color = [colors['Leg']]*num_categories_perceptual,\n",
    "      opacity=0.5,\n",
    "      name='Leg'), 1,2)\n",
    "fig.add_trace(go.Barpolar(\n",
    "      r=df_perceptual[df_perceptual.AW=='Arm'].iloc[:,1:-1].mean(axis=0).to_list(),\n",
    "      theta=[i-0.01 for i in theta_perceptual],\n",
    "      width=[width_p]* num_categories_perceptual,\n",
    "      marker_color = [colors['Arm']]*num_categories_perceptual,\n",
    "      opacity=0.5,\n",
    "      name='Arm'), 1,2)\n",
    "\n",
    "fig.add_trace(go.Barpolar(\n",
    "      r=df_sensor[df_sensor.AW=='Leg'].iloc[:,1:-1].mean(axis=0).to_list(),\n",
    "      theta=theta_sensorimotor,  \n",
    "      width=[width_s]* num_categories_sensorimotor,\n",
    "      marker_color = [colors['Leg']]*num_categories_sensorimotor,\n",
    "      opacity=0.5,\n",
    "      name='Leg'), 1,3)\n",
    "fig.add_trace(go.Barpolar(\n",
    "      r=df_sensor[df_sensor.AW=='Arm'].iloc[:,1:-1].mean(axis=0).to_list(),\n",
    "      theta=[i-0.01 for i in theta_sensorimotor],\n",
    "      width=[width_s]* num_categories_sensorimotor,\n",
    "      marker_color = [colors['Arm']]*num_categories_sensorimotor,\n",
    "      opacity=0.5,\n",
    "      name='Arm'), 1,3)\n",
    "\n",
    "\n",
    "fig.update_layout(\n",
    "    template=None,\n",
    "    polar=dict(radialaxis=dict(range=[0, 5]),\n",
    "               angularaxis=dict(tickvals=[i*width_a for i in range(1,len(action_categories)+1)],\n",
    "                                ticktext=action_categories)),\n",
    "    polar2=dict(radialaxis=dict(range=[0, 5]),\n",
    "               angularaxis=dict(tickvals=[i*width_p for i in range(1,len(perceptual_categories)+1)],\n",
    "                                ticktext=perceptual_categories)),\n",
    "    polar3=dict(radialaxis=dict(range=[0, 5]),\n",
    "               angularaxis=dict(tickvals=[i*width_s for i in range(1,len(sensorimotor_categories)+1)],\n",
    "                                ticktext=sensorimotor_categories)),\n",
    "                                showlegend=False,\n",
    "                  width=1200,\n",
    "                  height=400,\n",
    ")\n",
    "\n",
    "fig.show()"
   ]
  }
 ],
 "metadata": {
  "kernelspec": {
   "display_name": "Python 3",
   "language": "python",
   "name": "python3"
  },
  "language_info": {
   "codemirror_mode": {
    "name": "ipython",
    "version": 3
   },
   "file_extension": ".py",
   "mimetype": "text/x-python",
   "name": "python",
   "nbconvert_exporter": "python",
   "pygments_lexer": "ipython3",
   "version": "3.11.7"
  }
 },
 "nbformat": 4,
 "nbformat_minor": 2
}
