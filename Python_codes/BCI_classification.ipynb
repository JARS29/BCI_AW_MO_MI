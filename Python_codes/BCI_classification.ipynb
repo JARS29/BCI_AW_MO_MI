{
 "cells": [
  {
   "cell_type": "code",
   "execution_count": 10,
   "metadata": {},
   "outputs": [],
   "source": [
    "import mne\n",
    "from mne.decoding import CSP\n",
    "from sklearn.svm import SVC\n",
    "from sklearn.discriminant_analysis import LinearDiscriminantAnalysis as LDA\n",
    "from sklearn.ensemble import RandomForestClassifier\n",
    "from sklearn.model_selection import train_test_split, cross_val_score, StratifiedKFold\n",
    "from sklearn.metrics import accuracy_score, f1_score, roc_curve, auc, confusion_matrix\n",
    "import os\n",
    "from mne import Epochs, pick_types, __main__\n",
    "from mne import Epochs, create_info, events_from_annotations\n",
    "import numpy as np\n",
    "from sklearn.preprocessing import LabelEncoder\n",
    "from sklearn.metrics import f1_score, confusion_matrix, roc_curve\n",
    "from sklearn.model_selection import train_test_split, cross_val_score, cross_val_predict\n",
    "from sklearn.multiclass import OneVsRestClassifier\n",
    "from sklearn.preprocessing import label_binarize\n",
    "from sklearn.preprocessing import StandardScaler\n",
    "from sklearn.pipeline import make_pipeline\n",
    "from sklearn.model_selection import LeaveOneGroupOut\n",
    "from sklearn.preprocessing import StandardScaler, label_binarize\n",
    "import joblib\n",
    "from pyriemann.classification import MDM, TSclassifier\n",
    "from pyriemann.estimation import Covariances\n",
    "le = LabelEncoder()\n",
    "import pickle\n",
    "import plotly.graph_objects as go\n",
    "import pandas as pd\n",
    "import glob\n",
    "from mrmr import mrmr_classif\n",
    "import mrmr\n",
    "\n",
    "import pandas as pd\n",
    "random_state=42\n",
    "mne.set_log_level('CRITICAL')\n",
    "#WEIRD = Westernized, Educated, Industrialized, Rich, and Democratic\n"
   ]
  },
  {
   "cell_type": "code",
   "execution_count": 11,
   "metadata": {},
   "outputs": [],
   "source": [
    "colors = {\n",
    "    'AW': '#ef8a62',\n",
    "    'MO': '#67a9cf',\n",
    "    'MI': '#999999',\n",
    "    'AW_2': '#613828'\n",
    "}\n",
    "\n",
    "#data_folder = \"raw_data\"\n",
    "data_folder = \"cleaned_dataset\"\n",
    "ERP_channels =  ['Fz', 'C3', 'Cz', 'C4', 'Pz', 'Oz'] # Updated channel list\n",
    "FBCSP_channels = ['C3', 'Cz', 'C4', 'PO7', 'Pz', 'PO8'] # Updated channel list"
   ]
  },
  {
   "cell_type": "code",
   "execution_count": 12,
   "metadata": {},
   "outputs": [],
   "source": [
    "def AW_annotations_online(raw, AW_labels):\n",
    "    #new_annotations = raw.annotations.description\n",
    "    new_annotations=[]\n",
    "    for annotation in raw.annotations:\n",
    "        if '%' not in annotation['description']:\n",
    "            new_annotations.append(annotation)\n",
    "    for j in new_annotations:\n",
    "        if j['description']=='Start_cue_Arm':\n",
    "            filename = 'conditions_male.xlsx'\n",
    "            break\n",
    "        if j['description']=='Start_cue_Leg':\n",
    "            filename = 'conditions_female.xlsx'\n",
    "            break   \n",
    "    df_condition = pd.read_excel(filename)\n",
    "    n=0\n",
    "    for j in new_annotations:\n",
    "        if j['description'] =='Start_cue_Arm' or j['description']=='Start_cue_Leg':\n",
    "            if df_condition.loc[n, 'Cue'] == 'AW':\n",
    "                if AW_labels == 'New_labels':\n",
    "                    if df_condition.loc[n, 'Visual_Cue']=='APLAUDIR':\n",
    "                        j['description']='AW_APLAUDIR'\n",
    "                    elif df_condition.loc[n, 'Visual_Cue']=='PATEAR':\n",
    "                        j['description']='AW_PATEAR'\n",
    "                    elif df_condition.loc[n,'Condition']=='Leg':\n",
    "                        j['description']='AW_Leg'\n",
    "                    elif df_condition.loc[n,'Condition']=='Arm':\n",
    "                        j['description']='AW_Arm'\n",
    "                else:\n",
    "                    j['description']='_'.join(df_condition.values[n][1:-1])\n",
    "            else:\n",
    "                j['description']='_'.join(df_condition.values[n][1:-1])\n",
    "            n=n+1\n",
    "    \n",
    "    annotations = mne.Annotations(\n",
    "        onset=[a['onset'] for a in new_annotations],\n",
    "        duration=[a['duration'] for a in new_annotations],\n",
    "        description=[a['description'] for a in new_annotations]\n",
    "    )\n",
    "    raw.set_annotations(annotations)     "
   ]
  },
  {
   "cell_type": "code",
   "execution_count": 13,
   "metadata": {},
   "outputs": [],
   "source": [
    "def create_offline_epochs(raw, events, event_id, channels, tmin_tmax, baseline, clean_data=True):\n",
    "    \n",
    "    if clean_data:\n",
    "        raw.filter(l_freq=1.0, h_freq=None,  verbose=False)\n",
    "        raw.filter(l_freq=None, h_freq=40.0,  verbose=False)\n",
    "    picks = pick_types(raw.info, meg=False, eeg=True, stim=False, eog=False)\n",
    "    epochs = Epochs(\n",
    "            raw,\n",
    "            events,\n",
    "            event_id,\n",
    "            tmin=tmin_tmax[0],\n",
    "            tmax=tmin_tmax[1],\n",
    "            proj=False,\n",
    "            picks=picks,\n",
    "            baseline=baseline,\n",
    "            preload=True,\n",
    "         verbose=False)\n",
    "    \n",
    "    return epochs.pick_channels(channels) "
   ]
  },
  {
   "cell_type": "code",
   "execution_count": 14,
   "metadata": {},
   "outputs": [],
   "source": [
    "def create_online_epochs(filename, condition, aw_labels, channels, tmin_tmax, baseline, clean_data = True):\n",
    "   \n",
    "   raw = mne.io.read_raw_eeglab(filename, preload=True)\n",
    "   #\n",
    "   if clean_data:\n",
    "      raw.filter(l_freq=1.0, h_freq=None,  verbose=False)\n",
    "      raw.filter(l_freq=None, h_freq=40.0,  verbose=False)\n",
    "      \n",
    "   picks = pick_types(raw.info, meg=False, eeg=True, stim=False, eog=False)\n",
    "    #Start_cue_leg_TRETEN  Start_cue_Arm_KLATSCHEN\n",
    "   AW_annotations_online(raw, aw_labels)\n",
    "   events, events_id = events_from_annotations(raw, verbose=False)\n",
    "\n",
    "   if condition == 'AW':\n",
    "      events, events_id = events_from_annotations(raw, verbose=False)\n",
    "      if aw_labels == 'New_labels':\n",
    "         event_id= {'AW_Arm': events_id['AW_Arm'], 'AW_Leg': events_id['AW_Leg'], \n",
    "                   'AW_APLAUDIR': events_id['AW_APLAUDIR'], 'AW_PATEAR': events_id['AW_PATEAR']}\n",
    "      else:\n",
    "         event_id= {'AW_Arm': events_id['AW_Arm'], 'AW_Leg': events_id['AW_Leg']}\n",
    "   elif condition == 'MI':\n",
    "      event_id={'MI_Arm': events_id['MI_Arm'], 'MI_Leg': events_id['MI_Leg']}\n",
    "   elif condition == 'MO':\n",
    "      event_id={'MO_Arm': events_id['MO_Arm'], 'MO_Leg': events_id['MO_Leg']}\n",
    "\n",
    "        \n",
    "   epochs = Epochs(\n",
    "    raw,\n",
    "    events,\n",
    "    event_id=event_id,\n",
    "    tmin=tmin_tmax[0],\n",
    "    tmax=tmin_tmax[1],\n",
    "    proj=True,\n",
    "    picks=picks,\n",
    "    baseline=baseline,\n",
    "    preload=True,\n",
    "    detrend=0)\n",
    "\n",
    "   return epochs.pick_channels(channels)   "
   ]
  },
  {
   "cell_type": "code",
   "execution_count": 15,
   "metadata": {},
   "outputs": [],
   "source": [
    "def select_discriminative_band(X, y, channels, sfreq, f_range=(5, 35), threshold=0.05):\n",
    "    from scipy.signal import welch\n",
    "    from scipy.stats import pearsonr\n",
    "    \"\"\"\n",
    "    Selects a discriminative frequency band from EEG data.\n",
    "\n",
    "    Args:\n",
    "        X (numpy.ndarray): EEG data of shape (n_trials, n_channels, n_samples).\n",
    "        y (numpy.ndarray): Trial labels of shape (n_trials,).\n",
    "        channels (list): List of channel names.\n",
    "        sfreq (int): Sampling frequency of the EEG data.\n",
    "        f_range (tuple): Frequency range to consider (default: 5-35 Hz).\n",
    "        threshold (float): Threshold for band expansion (default: 0.05).\n",
    "\n",
    "    Returns:\n",
    "        tuple: Selected frequency band [f0, f1].\n",
    "    \"\"\"\n",
    "    n_trials, n_channels, n_samples = X.shape\n",
    "    f_start, f_end = f_range\n",
    "    \n",
    "    scores = {}\n",
    "    for f in range(f_start, f_end + 1):\n",
    "        scores[f] = np.zeros(n_channels)\n",
    "        for c_idx, c in enumerate(channels):\n",
    "            band_power = []\n",
    "            for i in range(n_trials):\n",
    "                # Compute power spectral density using Welch's method\n",
    "                f_welch, psd = welch(X[i, c_idx, :], sfreq, window='hamming', nfft=n_samples)\n",
    "                # Find the power at frequency f\n",
    "                f_idx = np.argmin(np.abs(f_welch - f))\n",
    "                band_power.append(np.log(psd[f_idx]))\n",
    "            \n",
    "            # Calculate correlation between band power and labels\n",
    "            correlation, _ = pearsonr(band_power, y)\n",
    "            scores[f][c_idx] = correlation if not np.isnan(correlation) else 0.0  # Handle NaN\n",
    "\n",
    "    # Find the channel with the maximum correlation for each frequency\n",
    "    f_max_channels = {f: channels[np.argmax(np.abs(scores[f]))] for f in scores}\n",
    "\n",
    "    # Find the frequency with the maximum absolute correlation across all channels\n",
    "    f_max = max(scores, key=lambda f: np.max(np.abs(scores[f])))\n",
    "    f_score_max = np.max(np.abs(scores[f_max]))\n",
    "\n",
    "    # Initialize frequency band\n",
    "    f0 = f_max\n",
    "    f1 = f_max\n",
    "\n",
    "    # Expand lower bound\n",
    "    while f0 - 1 >= f_start and np.max(np.abs(scores[f0 - 1])) >= f_score_max * (1 - threshold):\n",
    "        f0 -= 1\n",
    "\n",
    "    # Expand upper bound\n",
    "    while f1 + 1 <= f_end and np.max(np.abs(scores[f1 + 1])) >= f_score_max * (1 - threshold):\n",
    "        f1 += 1\n",
    "\n",
    "    return f0-3, f1+3"
   ]
  },
  {
   "cell_type": "code",
   "execution_count": 16,
   "metadata": {},
   "outputs": [],
   "source": [
    "def perform_mrmr_feature_selection(features, labels, num_features=10):\n",
    "    # Convert the scaled features to a pandas DataFrame\n",
    "    df = pd.DataFrame(features)\n",
    "\n",
    "    # Add target variable to the DataFrame\n",
    "    df['target'] = labels\n",
    "\n",
    "    # Convert target to integer type (required by mRMR)\n",
    "    df['target'] = df['target'].astype(int)\n",
    "\n",
    "    # Perform MRMR feature selection\n",
    "    # Note: The features argument here is already scaled by the calling function\n",
    "    selected_features = mrmr_classif(df.drop(columns='target'), df['target'], num_features, show_progress=False)\n",
    "\n",
    "    # Create datasets with selected features\n",
    "    X_selected = features[:, selected_features]\n",
    "    return X_selected, selected_features\n"
   ]
  },
  {
   "cell_type": "code",
   "execution_count": 17,
   "metadata": {},
   "outputs": [],
   "source": [
    "def extract_fbcsp_features_for_cv(epochs, filtered_bands=None):\n",
    "    if filtered_bands is None:\n",
    "        filtered_bands = [(8, 12), (12, 16), (16, 20), (20, 24), (24, 28), (13, 30)]\n",
    "    filtered_epochs_list = []\n",
    "    for l_freq, h_freq in filtered_bands:\n",
    "        epochs_filtered = epochs.copy().filter(l_freq=l_freq, h_freq=h_freq,\n",
    "                                               fir_design='firwin', verbose=False)\n",
    "        filtered_epochs_list.append(epochs_filtered)\n",
    "    return filtered_epochs_list"
   ]
  },
  {
   "cell_type": "code",
   "execution_count": 18,
   "metadata": {},
   "outputs": [],
   "source": [
    "def extract_fbcsp_features_and_model(epochs, labels, random_state=42):\n",
    "    clf = SVC(kernel='linear', random_state=random_state)\n",
    "\n",
    "    #clf = RandomForestClassifier(n_estimators=100, random_state=random_state, n_jobs=-1)\n",
    "    skf = StratifiedKFold(n_splits=10, shuffle=True, random_state=random_state)\n",
    "    accuracies = []\n",
    "\n",
    "    filtered_epochs_list = extract_fbcsp_features_for_cv(epochs)\n",
    "\n",
    "    for train_index, test_index in skf.split(epochs, labels):\n",
    "        csp_features_list_train = []\n",
    "        csp_features_list_test = []\n",
    "        n_components = 4\n",
    "        csp = CSP(n_components=n_components, reg='ledoit_wolf', log=True, norm_trace=False)\n",
    "        y_train = labels[train_index]\n",
    "        y_test = labels[test_index]\n",
    "\n",
    "        for epochs_filtered in filtered_epochs_list:\n",
    "            epochs_data = epochs_filtered.get_data(copy=False) * 1e6\n",
    "            X_train_fold = epochs_data[train_index]\n",
    "            X_test_fold = epochs_data[test_index]\n",
    "\n",
    "            csp.fit(X_train_fold, y_train)\n",
    "            csp_features_train = csp.transform(X_train_fold)\n",
    "            csp_features_test = csp.transform(X_test_fold)\n",
    "\n",
    "            csp_features_list_train.append(csp_features_train)\n",
    "            csp_features_list_test.append(csp_features_test)\n",
    "\n",
    "        fbcsp_features_train = np.concatenate(csp_features_list_train, axis=1)\n",
    "        fbcsp_features_test = np.concatenate(csp_features_list_test, axis=1)\n",
    "        \n",
    "        # Instantiate and fit scaler for this fold\n",
    "        scaler = StandardScaler()\n",
    "        fbcsp_features_train_scaled = scaler.fit_transform(fbcsp_features_train)\n",
    "        fbcsp_features_test_scaled = scaler.transform(fbcsp_features_test)\n",
    "        \n",
    "        mrmr_fbcsp_features_train, selected_features = perform_mrmr_feature_selection(fbcsp_features_train_scaled, y_train, num_features=10)\n",
    "        mrmr_fbcsp_features_test = fbcsp_features_test_scaled[:, selected_features]\n",
    "\n",
    "        clf.fit(mrmr_fbcsp_features_train, y_train)\n",
    "        y_pred = clf.predict(mrmr_fbcsp_features_test)\n",
    "        accuracy = accuracy_score(y_test, y_pred)\n",
    "        accuracies.append(accuracy)\n",
    "\n",
    "    final_csp_features_list = []\n",
    "    final_csp = CSP(n_components=4, reg='ledoit_wolf', log=True, norm_trace=False)\n",
    "    for epochs_filtered in filtered_epochs_list:\n",
    "        epochs_data = epochs_filtered.get_data(copy=False) * 1e6\n",
    "        final_csp.fit(epochs_data, labels)\n",
    "        final_csp_features_list.append(final_csp.transform(epochs_data))\n",
    "    final_fbcsp_features = np.concatenate(final_csp_features_list, axis=1)\n",
    "\n",
    "    final_scaler = StandardScaler()\n",
    "    final_fbcsp_features_scaled = final_scaler.fit_transform(final_fbcsp_features)\n",
    "\n",
    "    mrmr_final_fbcsp_features, selected_features = perform_mrmr_feature_selection(final_fbcsp_features_scaled, labels, num_features=10)\n",
    "    \n",
    "    final_clf = SVC(kernel='linear', random_state=random_state)\n",
    "    #final_clf = RandomForestClassifier(n_estimators=100, random_state=random_state, n_jobs=-1)\n",
    "    final_clf.fit(mrmr_final_fbcsp_features, labels)\n",
    "    \n",
    "    return {'average_accuracy': np.mean(accuracies), 'selected_features': selected_features}, final_clf, final_csp, final_scaler, mrmr_final_fbcsp_features"
   ]
  },
  {
   "cell_type": "code",
   "execution_count": 19,
   "metadata": {},
   "outputs": [],
   "source": [
    "def offline_combined_classification(fbcsp_features, erp_features, labels):\n",
    "    \"\"\"\n",
    "    Performs classification on a combined feature set (FBCSP and ERP).\n",
    "    \"\"\"\n",
    "    clf = SVC(kernel='linear', random_state=random_state)\n",
    "\n",
    "    #clf = RandomForestClassifier(n_estimators=100, random_state=random_state, n_jobs=-1)\n",
    "    skf = StratifiedKFold(n_splits=10, shuffle=True, random_state=random_state)\n",
    "    accuracies = []\n",
    "\n",
    "    combined_features = np.concatenate([fbcsp_features, erp_features], axis=1)\n",
    "    \n",
    "    for train_index, test_index in skf.split(combined_features, labels):\n",
    "        X_train, X_test = combined_features[train_index], combined_features[test_index]\n",
    "        y_train, y_test = labels[train_index], labels[test_index]\n",
    "        \n",
    "        clf.fit(X_train, y_train)\n",
    "        y_pred = clf.predict(X_test)\n",
    "        accuracy = accuracy_score(y_test, y_pred)\n",
    "        accuracies.append(accuracy)\n",
    "    \n",
    "    final_clf = SVC(kernel='linear', random_state=random_state)\n",
    "\n",
    "    #final_clf = RandomForestClassifier(n_estimators=100, random_state=random_state, n_jobs=-1)\n",
    "    final_clf.fit(combined_features, labels)\n",
    "    \n",
    "    return {'average_accuracy': np.mean(accuracies)}, final_clf, combined_features\n"
   ]
  },
  {
   "cell_type": "code",
   "execution_count": 20,
   "metadata": {},
   "outputs": [],
   "source": [
    "def extract_erp_features_and_model(epochs, labels, random_state=42):\n",
    "    clf = SVC(kernel='linear', random_state=random_state)\n",
    "    #clf = RandomForestClassifier(n_estimators=100, random_state=random_state, n_jobs=-1)\n",
    "    skf = StratifiedKFold(n_splits=10, shuffle=True, random_state=random_state)\n",
    "    accuracies = []\n",
    "\n",
    "    window_duration_s = 0.5\n",
    "    step_size_s = 0.5\n",
    "    sfreq = epochs.info['sfreq']\n",
    "    window_samples = int(window_duration_s * sfreq)\n",
    "    step_samples = int(step_size_s * sfreq)\n",
    "    start_time_s = 0.0\n",
    "    end_time_s = epochs.tmax\n",
    "    start_time_sample = epochs.time_as_index(start_time_s)[0]\n",
    "    end_time_sample = epochs.time_as_index(end_time_s)[0]\n",
    "\n",
    "    all_erp_features = []\n",
    "    for epoch_data in epochs.get_data():\n",
    "        trial_features = []\n",
    "        for start_idx in np.arange(start_time_sample, end_time_sample - window_samples + 1, step_samples):\n",
    "            end_idx = start_idx + window_samples\n",
    "            window_data = epoch_data[:, start_idx:end_idx]\n",
    "            window_features = np.mean(window_data, axis=1)\n",
    "            trial_features.append(window_features)\n",
    "        all_erp_features.append(np.concatenate(trial_features))\n",
    "    final_erp_features = np.array(all_erp_features)\n",
    "\n",
    "    for train_index, test_index in skf.split(final_erp_features, labels):\n",
    "        X_train, X_test = final_erp_features[train_index], final_erp_features[test_index]\n",
    "        y_train, y_test = labels[train_index], labels[test_index]\n",
    "\n",
    "        scaler = StandardScaler()\n",
    "        X_train_scaled = scaler.fit_transform(X_train)\n",
    "        X_test_scaled = scaler.transform(X_test)\n",
    "        \n",
    "        mrmr_train_features, selected_features = perform_mrmr_feature_selection(X_train_scaled, y_train, num_features=10)\n",
    "        mrmr_test_features = X_test_scaled[:, selected_features]\n",
    "\n",
    "        clf.fit(mrmr_train_features, y_train)\n",
    "        y_pred = clf.predict(mrmr_test_features)\n",
    "        accuracy = accuracy_score(y_test, y_pred)\n",
    "        accuracies.append(accuracy)\n",
    "\n",
    "    final_scaler = StandardScaler()\n",
    "    final_erp_features_scaled = final_scaler.fit_transform(final_erp_features)\n",
    "    mrmr_final_erp_features, selected_features = perform_mrmr_feature_selection(final_erp_features_scaled, labels, num_features=10)\n",
    "    final_erp_features_selected = final_erp_features_scaled[:, selected_features]\n",
    "\n",
    "    #final_clf = RandomForestClassifier(n_estimators=100, random_state=random_state, n_jobs=-1)\n",
    "    final_clf = SVC(kernel='linear', random_state=random_state)\n",
    "\n",
    "    final_clf.fit(final_erp_features_selected, labels)\n",
    "\n",
    "    return {'average_accuracy': np.mean(accuracies), 'selected_features': selected_features}, final_clf, final_scaler, final_erp_features_selected"
   ]
  },
  {
   "cell_type": "code",
   "execution_count": 21,
   "metadata": {},
   "outputs": [],
   "source": [
    "def align_epochs_and_labels(fbcsp_epochs, erp_epochs, arm_label='Start_cue_Arm', leg_label='Start_cue_Leg'):\n",
    "\n",
    "    fbcsp_events = fbcsp_epochs.events\n",
    "    erp_events = erp_epochs.events\n",
    "\n",
    "            # Find common events\n",
    "    common_event_ids_fbcsp = set(tuple(row) for row in fbcsp_events)\n",
    "    common_event_ids_erp = set(tuple(row) for row in erp_events)\n",
    "    common_events = list(common_event_ids_fbcsp.intersection(common_event_ids_erp))\n",
    "\n",
    "            # Get indices for alignment\n",
    "    fbcsp_indices = [np.where((fbcsp_events == common_event).all(axis=1))[0][0] for common_event in common_events]\n",
    "    erp_indices = [np.where((erp_events == common_event).all(axis=1))[0][0] for common_event in common_events]\n",
    "\n",
    "            # Align epochs\n",
    "    fbcsp_aligned = fbcsp_epochs[fbcsp_indices]\n",
    "    erp_aligned = erp_epochs[erp_indices]\n",
    "\n",
    "            # Create label mapping and labels\n",
    "    mapping_offline = {\n",
    "    fbcsp_aligned[arm_label].events[:, -1][0]: 0,\n",
    "    fbcsp_aligned[leg_label].events[:, -1][0]: 1}\n",
    "    labels_offline = np.vectorize(mapping_offline.get)(fbcsp_aligned.events[:, -1])\n",
    "    return fbcsp_aligned, erp_aligned, labels_offline"
   ]
  },
  {
   "cell_type": "code",
   "execution_count": 22,
   "metadata": {},
   "outputs": [],
   "source": [
    "epochs_AW_FBCSP=[]\n",
    "epochs_MI_FBCSP=[]\n",
    "epochs_MO_FBCSP=[]\n",
    "epochs_AW_ERP=[]\n",
    "epochs_MI_ERP=[]\n",
    "epochs_MO_ERP =[]\n",
    "subjects = [str(i) for i in range(1,30)]\n",
    "\n",
    "for subject in subjects:\n",
    "    set_files = glob.glob(os.path.join(data_folder, subject, '*.set'))\n",
    "    for file in set_files:\n",
    "        filename = file\n",
    "        raw = mne.io.read_raw_eeglab(filename, preload=True, verbose=False)  # Load data\n",
    "        event_id = {'Start_cue_Arm': 3, 'Start_cue_Leg': 4}\n",
    "        events, _ = events_from_annotations(raw, event_id, verbose=False)\n",
    "        if 'AW' in file:\n",
    "            epochs_AW_FBCSP.append(create_offline_epochs(raw, events, event_id, FBCSP_channels, [0.5, 3.0], None, clean_data=False))\n",
    "            epochs_AW_ERP.append(create_offline_epochs(raw, events, event_id, ERP_channels, [-0.5, 2.5], [-0.5, 0], clean_data=False))\n",
    "        elif 'MI' in file:\n",
    "            epochs_MI_FBCSP.append(create_offline_epochs(raw, events, event_id, FBCSP_channels, [0.5, 3.0], None, clean_data=False))\n",
    "            epochs_MI_ERP.append(create_offline_epochs(raw, events, event_id, ERP_channels, [-0.5, 2.5], [-0.5, 0], clean_data=False))\n",
    "        elif 'MO' in file:\n",
    "            epochs_MO_FBCSP.append(create_offline_epochs(raw, events, event_id, FBCSP_channels, [0.5, 3.0], None, clean_data=False))\n",
    "            epochs_MO_ERP.append(create_offline_epochs(raw, events, event_id, ERP_channels, [-0.5, 2.5], [-0.5, 0], clean_data=False))"
   ]
  },
  {
   "cell_type": "code",
   "execution_count": 23,
   "metadata": {},
   "outputs": [
    {
     "name": "stdout",
     "output_type": "stream",
     "text": [
      "--- Processing Subject 1 ---\n",
      "FBCSP-only accuracy: 0.3533\n",
      "ERP-only accuracy: 0.4967\n",
      "Combined accuracy: 0.6267\n",
      "--- Processing Subject 2 ---\n",
      "FBCSP-only accuracy: 0.4929\n",
      "ERP-only accuracy: 0.4071\n",
      "Combined accuracy: 0.6589\n",
      "--- Processing Subject 3 ---\n",
      "FBCSP-only accuracy: 0.4786\n",
      "ERP-only accuracy: 0.4679\n",
      "Combined accuracy: 0.6732\n",
      "--- Processing Subject 4 ---\n",
      "FBCSP-only accuracy: 0.5661\n",
      "ERP-only accuracy: 0.4696\n",
      "Combined accuracy: 0.7304\n",
      "--- Processing Subject 5 ---\n",
      "FBCSP-only accuracy: 0.5196\n",
      "ERP-only accuracy: 0.5750\n",
      "Combined accuracy: 0.6696\n",
      "--- Processing Subject 6 ---\n",
      "FBCSP-only accuracy: 0.3250\n",
      "ERP-only accuracy: 0.5250\n",
      "Combined accuracy: 0.7000\n",
      "--- Processing Subject 7 ---\n",
      "FBCSP-only accuracy: 0.4375\n",
      "ERP-only accuracy: 0.4625\n",
      "Combined accuracy: 0.6196\n",
      "--- Processing Subject 8 ---\n",
      "FBCSP-only accuracy: 0.5857\n",
      "ERP-only accuracy: 0.5286\n",
      "Combined accuracy: 0.7179\n",
      "--- Processing Subject 9 ---\n",
      "FBCSP-only accuracy: 0.4643\n",
      "ERP-only accuracy: 0.4946\n",
      "Combined accuracy: 0.5946\n",
      "--- Processing Subject 10 ---\n",
      "FBCSP-only accuracy: 0.4300\n",
      "ERP-only accuracy: 0.6050\n",
      "Combined accuracy: 0.5250\n",
      "--- Processing Subject 11 ---\n",
      "FBCSP-only accuracy: 0.3733\n",
      "ERP-only accuracy: 0.6333\n",
      "Combined accuracy: 0.6700\n",
      "--- Processing Subject 12 ---\n",
      "FBCSP-only accuracy: 0.4800\n",
      "ERP-only accuracy: 0.5600\n",
      "Combined accuracy: 0.7200\n",
      "--- Processing Subject 13 ---\n",
      "FBCSP-only accuracy: 0.5571\n",
      "ERP-only accuracy: 0.5286\n",
      "Combined accuracy: 0.6429\n",
      "--- Processing Subject 14 ---\n",
      "FBCSP-only accuracy: 0.4500\n",
      "ERP-only accuracy: 0.7125\n",
      "Combined accuracy: 0.6625\n",
      "--- Processing Subject 15 ---\n",
      "FBCSP-only accuracy: 0.5054\n",
      "ERP-only accuracy: 0.5446\n",
      "Combined accuracy: 0.5214\n",
      "--- Processing Subject 16 ---\n",
      "FBCSP-only accuracy: 0.4571\n",
      "ERP-only accuracy: 0.4429\n",
      "Combined accuracy: 0.5661\n",
      "--- Processing Subject 17 ---\n",
      "FBCSP-only accuracy: 0.4536\n",
      "ERP-only accuracy: 0.5411\n",
      "Combined accuracy: 0.5768\n",
      "--- Processing Subject 18 ---\n",
      "FBCSP-only accuracy: 0.4696\n",
      "ERP-only accuracy: 0.5500\n",
      "Combined accuracy: 0.6839\n",
      "--- Processing Subject 19 ---\n",
      "FBCSP-only accuracy: 0.5696\n",
      "ERP-only accuracy: 0.5304\n",
      "Combined accuracy: 0.6393\n",
      "--- Processing Subject 20 ---\n",
      "FBCSP-only accuracy: 0.3268\n",
      "ERP-only accuracy: 0.5268\n",
      "Combined accuracy: 0.6964\n",
      "--- Processing Subject 21 ---\n",
      "FBCSP-only accuracy: 0.5446\n",
      "ERP-only accuracy: 0.5571\n",
      "Combined accuracy: 0.5839\n",
      "--- Processing Subject 22 ---\n",
      "FBCSP-only accuracy: 0.4333\n",
      "ERP-only accuracy: 0.5048\n",
      "Combined accuracy: 0.5714\n",
      "--- Processing Subject 23 ---\n",
      "FBCSP-only accuracy: 0.5933\n",
      "ERP-only accuracy: 0.7300\n",
      "Combined accuracy: 0.7500\n",
      "--- Processing Subject 24 ---\n",
      "FBCSP-only accuracy: 0.5929\n",
      "ERP-only accuracy: 0.4732\n",
      "Combined accuracy: 0.6875\n",
      "--- Processing Subject 25 ---\n",
      "FBCSP-only accuracy: 0.4107\n",
      "ERP-only accuracy: 0.4500\n",
      "Combined accuracy: 0.5232\n",
      "--- Processing Subject 26 ---\n",
      "FBCSP-only accuracy: 0.5786\n",
      "ERP-only accuracy: 0.4321\n",
      "Combined accuracy: 0.6036\n",
      "--- Processing Subject 27 ---\n",
      "FBCSP-only accuracy: 0.5857\n",
      "ERP-only accuracy: 0.4036\n",
      "Combined accuracy: 0.6714\n",
      "--- Processing Subject 28 ---\n",
      "FBCSP-only accuracy: 0.4500\n",
      "ERP-only accuracy: 0.5881\n",
      "Combined accuracy: 0.5690\n",
      "--- Processing Subject 29 ---\n",
      "FBCSP-only accuracy: 0.5482\n",
      "ERP-only accuracy: 0.3536\n",
      "Combined accuracy: 0.6125\n"
     ]
    }
   ],
   "source": [
    "\n",
    "AW_results = {'FBCSP': {}, 'ERP': {}, 'Combined': {}}\n",
    "    \n",
    "for n, subject in enumerate(subjects):\n",
    "    AW_FBCSP = epochs_AW_FBCSP[n]\n",
    "    AW_ERP = epochs_AW_ERP[n]\n",
    "        \n",
    "    AW_FBCSP_aligned, AW_ERP_aligned, labels_offline = align_epochs_and_labels(AW_FBCSP, AW_ERP)\n",
    "        \n",
    "    print(f\"--- Processing Subject {subject} ---\")\n",
    "\n",
    "        # 1. FBCSP-only Classification\n",
    "    fbcsp_results, fbcsp_clf, fbcsp_csp, fbcsp_scaler, fbcsp_features = extract_fbcsp_features_and_model(AW_FBCSP_aligned, labels_offline)\n",
    "    AW_results['FBCSP'][subject] = fbcsp_results\n",
    "    joblib.dump(fbcsp_clf, os.path.join('classifiers', f'AW_FBCSP_clf_subject_{n}.pkl'))\n",
    "    joblib.dump(fbcsp_csp, os.path.join('features_extractors', f'AW_FBCSP_csp_subject_{n}.pkl'))\n",
    "    joblib.dump(fbcsp_scaler, os.path.join('features_extractors', f'AW_FBCSP_csp_scaler_subject_{n}.pkl'))\n",
    "\n",
    "    print(f\"FBCSP-only accuracy: {fbcsp_results['average_accuracy']:.4f}\")\n",
    "\n",
    "    # 2. ERP-only Classification\n",
    "    erp_results, erp_clf, erp_scaler, erp_features = extract_erp_features_and_model(AW_ERP_aligned, labels_offline)\n",
    "    AW_results['ERP'][subject] = erp_results\n",
    "    joblib.dump(erp_clf, os.path.join('classifiers', f'AW_ERP_clf_subject_{n}.pkl'))\n",
    "    joblib.dump(erp_scaler, os.path.join('features_extractors', f'AW_ERP_scaler_subject_{n}.pkl'))\n",
    "\n",
    "    print(f\"ERP-only accuracy: {erp_results['average_accuracy']:.4f}\")\n",
    "\n",
    "        # 3. FBCSP + ERP Combined Classification\n",
    "    combined_results, combined_clf, combined_features = offline_combined_classification(fbcsp_features, erp_features, labels_offline)\n",
    "    AW_results['Combined'][subject] = combined_results\n",
    "    joblib.dump(combined_clf, os.path.join('classifiers', f'AW_Combined_clf_subject_{n}.pkl'))\n",
    "    print(f\"Combined accuracy: {combined_results['average_accuracy']:.4f}\")\n",
    "\n"
   ]
  },
  {
   "cell_type": "code",
   "execution_count": 24,
   "metadata": {},
   "outputs": [
    {
     "name": "stdout",
     "output_type": "stream",
     "text": [
      "--- Processing Subject 1 ---\n",
      "FBCSP-only accuracy: 0.6036\n",
      "ERP-only accuracy: 0.6089\n",
      "Combined accuracy: 0.7268\n",
      "--- Processing Subject 2 ---\n",
      "FBCSP-only accuracy: 0.4714\n",
      "ERP-only accuracy: 0.3911\n",
      "Combined accuracy: 0.5839\n",
      "--- Processing Subject 3 ---\n",
      "FBCSP-only accuracy: 0.5071\n",
      "ERP-only accuracy: 0.5571\n",
      "Combined accuracy: 0.6196\n",
      "--- Processing Subject 4 ---\n",
      "FBCSP-only accuracy: 0.6125\n",
      "ERP-only accuracy: 0.4625\n",
      "Combined accuracy: 0.6875\n",
      "--- Processing Subject 5 ---\n",
      "FBCSP-only accuracy: 0.5500\n",
      "ERP-only accuracy: 0.5000\n",
      "Combined accuracy: 0.6250\n",
      "--- Processing Subject 6 ---\n",
      "FBCSP-only accuracy: 0.4696\n",
      "ERP-only accuracy: 0.4161\n",
      "Combined accuracy: 0.5071\n",
      "--- Processing Subject 7 ---\n",
      "FBCSP-only accuracy: 0.5750\n",
      "ERP-only accuracy: 0.5250\n",
      "Combined accuracy: 0.5750\n",
      "--- Processing Subject 8 ---\n",
      "FBCSP-only accuracy: 0.5411\n",
      "ERP-only accuracy: 0.4179\n",
      "Combined accuracy: 0.6375\n",
      "--- Processing Subject 9 ---\n",
      "FBCSP-only accuracy: 0.4625\n",
      "ERP-only accuracy: 0.5054\n",
      "Combined accuracy: 0.6304\n",
      "--- Processing Subject 10 ---\n",
      "FBCSP-only accuracy: 0.4933\n",
      "ERP-only accuracy: 0.6133\n",
      "Combined accuracy: 0.6633\n",
      "--- Processing Subject 11 ---\n",
      "FBCSP-only accuracy: 0.5000\n",
      "ERP-only accuracy: 0.4286\n",
      "Combined accuracy: 0.7714\n",
      "--- Processing Subject 12 ---\n",
      "FBCSP-only accuracy: 0.5500\n",
      "ERP-only accuracy: 0.5000\n",
      "Combined accuracy: 0.5125\n",
      "--- Processing Subject 13 ---\n",
      "FBCSP-only accuracy: 0.4929\n",
      "ERP-only accuracy: 0.4911\n",
      "Combined accuracy: 0.6250\n",
      "--- Processing Subject 14 ---\n",
      "FBCSP-only accuracy: 0.4733\n",
      "ERP-only accuracy: 0.6733\n",
      "Combined accuracy: 0.6567\n",
      "--- Processing Subject 15 ---\n",
      "FBCSP-only accuracy: 0.5048\n",
      "ERP-only accuracy: 0.4048\n",
      "Combined accuracy: 0.5810\n",
      "--- Processing Subject 16 ---\n",
      "FBCSP-only accuracy: 0.4967\n",
      "ERP-only accuracy: 0.5967\n",
      "Combined accuracy: 0.7533\n",
      "--- Processing Subject 17 ---\n",
      "FBCSP-only accuracy: 0.5190\n",
      "ERP-only accuracy: 0.4738\n",
      "Combined accuracy: 0.4357\n",
      "--- Processing Subject 18 ---\n",
      "FBCSP-only accuracy: 0.5857\n",
      "ERP-only accuracy: 0.4429\n",
      "Combined accuracy: 0.6000\n",
      "--- Processing Subject 19 ---\n",
      "FBCSP-only accuracy: 0.5125\n",
      "ERP-only accuracy: 0.5750\n",
      "Combined accuracy: 0.6625\n",
      "--- Processing Subject 20 ---\n",
      "FBCSP-only accuracy: 0.6000\n",
      "ERP-only accuracy: 0.5500\n",
      "Combined accuracy: 0.7750\n",
      "--- Processing Subject 21 ---\n",
      "FBCSP-only accuracy: 0.5100\n",
      "ERP-only accuracy: 0.5233\n",
      "Combined accuracy: 0.5133\n",
      "--- Processing Subject 22 ---\n",
      "FBCSP-only accuracy: 0.5911\n",
      "ERP-only accuracy: 0.5036\n",
      "Combined accuracy: 0.5161\n",
      "--- Processing Subject 23 ---\n",
      "FBCSP-only accuracy: 0.4533\n",
      "ERP-only accuracy: 0.4267\n",
      "Combined accuracy: 0.7400\n",
      "--- Processing Subject 24 ---\n",
      "FBCSP-only accuracy: 0.5411\n",
      "ERP-only accuracy: 0.4714\n",
      "Combined accuracy: 0.6411\n",
      "--- Processing Subject 25 ---\n",
      "FBCSP-only accuracy: 0.4857\n",
      "ERP-only accuracy: 0.5125\n",
      "Combined accuracy: 0.5982\n",
      "--- Processing Subject 26 ---\n",
      "FBCSP-only accuracy: 0.5500\n",
      "ERP-only accuracy: 0.4625\n",
      "Combined accuracy: 0.6375\n",
      "--- Processing Subject 27 ---\n",
      "FBCSP-only accuracy: 0.4750\n",
      "ERP-only accuracy: 0.5250\n",
      "Combined accuracy: 0.6625\n",
      "--- Processing Subject 28 ---\n",
      "FBCSP-only accuracy: 0.5048\n",
      "ERP-only accuracy: 0.5690\n",
      "Combined accuracy: 0.6667\n",
      "--- Processing Subject 29 ---\n",
      "FBCSP-only accuracy: 0.5393\n",
      "ERP-only accuracy: 0.4964\n",
      "Combined accuracy: 0.5446\n"
     ]
    }
   ],
   "source": [
    "MI_results = {'FBCSP': {}, 'ERP': {}, 'Combined': {}}\n",
    "    \n",
    "for n, subject in enumerate(subjects):\n",
    "    MI_FBCSP = epochs_MI_FBCSP[n]\n",
    "    MI_ERP = epochs_MI_ERP[n]\n",
    "        \n",
    "    MI_FBCSP_aligned, MI_ERP_aligned, labels_offline = align_epochs_and_labels(MI_FBCSP, MI_ERP)\n",
    "        \n",
    "    print(f\"--- Processing Subject {subject} ---\")\n",
    "\n",
    "    # 1. FBCSP-only Classification\n",
    "    fbcsp_results, fbcsp_clf, fbcsp_csp, fbcsp_scaler, fbcsp_features = extract_fbcsp_features_and_model(MI_FBCSP_aligned, labels_offline)\n",
    "    MI_results['FBCSP'][subject] = fbcsp_results\n",
    "    joblib.dump(fbcsp_clf, os.path.join('classifiers', f'MI_FBCSP_clf_subject_{n}.pkl'))\n",
    "    joblib.dump(fbcsp_csp, os.path.join('features_extractors', f'MI_FBCSP_csp_subject_{n}.pkl'))\n",
    "    joblib.dump(fbcsp_scaler, os.path.join('features_extractors', f'MI_FBCSP_csp_scaler_subject_{n}.pkl'))\n",
    "\n",
    "    print(f\"FBCSP-only accuracy: {fbcsp_results['average_accuracy']:.4f}\")\n",
    "\n",
    "    # 2. ERP-only Classification\n",
    "    erp_results, erp_clf, erp_scaler, erp_features = extract_erp_features_and_model(MI_ERP_aligned, labels_offline)\n",
    "    MI_results['ERP'][subject] = erp_results\n",
    "    joblib.dump(erp_clf, os.path.join('classifiers', f'MI_ERP_clf_subject_{n}.pkl'))\n",
    "    joblib.dump(erp_scaler, os.path.join('features_extractors', f'MI_ERP_scaler_subject_{n}.pkl'))\n",
    "\n",
    "    print(f\"ERP-only accuracy: {erp_results['average_accuracy']:.4f}\")\n",
    "\n",
    "    # 3. FBCSP + ERP Combined Classification\n",
    "    combined_results, combined_clf, combined_features = offline_combined_classification(fbcsp_features, erp_features, labels_offline)\n",
    "    MI_results['Combined'][subject] = combined_results\n",
    "    joblib.dump(combined_clf, os.path.join('classifiers', f'MI_Combined_clf_subject_{n}.pkl'))\n",
    "    print(f\"Combined accuracy: {combined_results['average_accuracy']:.4f}\")\n"
   ]
  },
  {
   "cell_type": "code",
   "execution_count": 25,
   "metadata": {},
   "outputs": [
    {
     "name": "stdout",
     "output_type": "stream",
     "text": [
      "--- Processing Subject 1 ---\n",
      "FBCSP-only accuracy: 0.5250\n",
      "ERP-only accuracy: 0.6018\n",
      "Combined accuracy: 0.8054\n",
      "--- Processing Subject 2 ---\n",
      "FBCSP-only accuracy: 0.6375\n",
      "ERP-only accuracy: 0.4375\n",
      "Combined accuracy: 0.6500\n",
      "--- Processing Subject 3 ---\n",
      "FBCSP-only accuracy: 0.4304\n",
      "ERP-only accuracy: 0.4643\n",
      "Combined accuracy: 0.5821\n",
      "--- Processing Subject 4 ---\n",
      "FBCSP-only accuracy: 0.6125\n",
      "ERP-only accuracy: 0.5500\n",
      "Combined accuracy: 0.6000\n",
      "--- Processing Subject 5 ---\n",
      "FBCSP-only accuracy: 0.4821\n",
      "ERP-only accuracy: 0.5607\n",
      "Combined accuracy: 0.6714\n",
      "--- Processing Subject 6 ---\n",
      "FBCSP-only accuracy: 0.4518\n",
      "ERP-only accuracy: 0.5821\n",
      "Combined accuracy: 0.6339\n",
      "--- Processing Subject 7 ---\n",
      "FBCSP-only accuracy: 0.5321\n",
      "ERP-only accuracy: 0.4661\n",
      "Combined accuracy: 0.6375\n",
      "--- Processing Subject 8 ---\n",
      "FBCSP-only accuracy: 0.4786\n",
      "ERP-only accuracy: 0.4310\n",
      "Combined accuracy: 0.7000\n",
      "--- Processing Subject 9 ---\n",
      "FBCSP-only accuracy: 0.4946\n",
      "ERP-only accuracy: 0.4054\n",
      "Combined accuracy: 0.4696\n",
      "--- Processing Subject 10 ---\n",
      "FBCSP-only accuracy: 0.5533\n",
      "ERP-only accuracy: 0.4667\n",
      "Combined accuracy: 0.6200\n",
      "--- Processing Subject 11 ---\n",
      "FBCSP-only accuracy: 0.4500\n",
      "ERP-only accuracy: 0.4952\n",
      "Combined accuracy: 0.5833\n",
      "--- Processing Subject 12 ---\n",
      "FBCSP-only accuracy: 0.5125\n",
      "ERP-only accuracy: 0.5625\n",
      "Combined accuracy: 0.6500\n",
      "--- Processing Subject 13 ---\n",
      "FBCSP-only accuracy: 0.4667\n",
      "ERP-only accuracy: 0.5167\n",
      "Combined accuracy: 0.5929\n",
      "--- Processing Subject 14 ---\n",
      "FBCSP-only accuracy: 0.4196\n",
      "ERP-only accuracy: 0.3179\n",
      "Combined accuracy: 0.4982\n",
      "--- Processing Subject 15 ---\n",
      "FBCSP-only accuracy: 0.5286\n",
      "ERP-only accuracy: 0.4857\n",
      "Combined accuracy: 0.5429\n",
      "--- Processing Subject 16 ---\n",
      "FBCSP-only accuracy: 0.5232\n",
      "ERP-only accuracy: 0.4589\n",
      "Combined accuracy: 0.5893\n",
      "--- Processing Subject 17 ---\n",
      "FBCSP-only accuracy: 0.4333\n",
      "ERP-only accuracy: 0.5000\n",
      "Combined accuracy: 0.7000\n",
      "--- Processing Subject 18 ---\n",
      "FBCSP-only accuracy: 0.4643\n",
      "ERP-only accuracy: 0.4768\n",
      "Combined accuracy: 0.5732\n",
      "--- Processing Subject 19 ---\n",
      "FBCSP-only accuracy: 0.4857\n",
      "ERP-only accuracy: 0.4125\n",
      "Combined accuracy: 0.4482\n",
      "--- Processing Subject 20 ---\n",
      "FBCSP-only accuracy: 0.4375\n",
      "ERP-only accuracy: 0.4375\n",
      "Combined accuracy: 0.7000\n",
      "--- Processing Subject 21 ---\n",
      "FBCSP-only accuracy: 0.6000\n",
      "ERP-only accuracy: 0.5339\n",
      "Combined accuracy: 0.7214\n",
      "--- Processing Subject 22 ---\n",
      "FBCSP-only accuracy: 0.5839\n",
      "ERP-only accuracy: 0.5714\n",
      "Combined accuracy: 0.7839\n",
      "--- Processing Subject 23 ---\n",
      "FBCSP-only accuracy: 0.5286\n",
      "ERP-only accuracy: 0.5000\n",
      "Combined accuracy: 0.6714\n",
      "--- Processing Subject 24 ---\n",
      "FBCSP-only accuracy: 0.4750\n",
      "ERP-only accuracy: 0.5732\n",
      "Combined accuracy: 0.6464\n",
      "--- Processing Subject 25 ---\n",
      "FBCSP-only accuracy: 0.6250\n",
      "ERP-only accuracy: 0.4450\n",
      "Combined accuracy: 0.6050\n",
      "--- Processing Subject 26 ---\n",
      "FBCSP-only accuracy: 0.5464\n",
      "ERP-only accuracy: 0.5571\n",
      "Combined accuracy: 0.6875\n",
      "--- Processing Subject 27 ---\n",
      "FBCSP-only accuracy: 0.5304\n",
      "ERP-only accuracy: 0.5929\n",
      "Combined accuracy: 0.6821\n",
      "--- Processing Subject 28 ---\n",
      "FBCSP-only accuracy: 0.3518\n",
      "ERP-only accuracy: 0.5571\n",
      "Combined accuracy: 0.7036\n",
      "--- Processing Subject 29 ---\n",
      "FBCSP-only accuracy: 0.4571\n",
      "ERP-only accuracy: 0.6262\n",
      "Combined accuracy: 0.5929\n"
     ]
    }
   ],
   "source": [
    "MO_results = {'FBCSP': {}, 'ERP': {}, 'Combined': {}}\n",
    "    \n",
    "for n, subject in enumerate(subjects):\n",
    "    MO_FBCSP = epochs_MO_FBCSP[n]\n",
    "    MO_ERP = epochs_MO_ERP[n]\n",
    "        \n",
    "    MO_FBCSP_aligned, MO_ERP_aligned, labels_offline = align_epochs_and_labels(MO_FBCSP, MO_ERP)\n",
    "        \n",
    "    print(f\"--- Processing Subject {subject} ---\")\n",
    "\n",
    "    # 1. FBCSP-only Classification\n",
    "    fbcsp_results, fbcsp_clf, fbcsp_csp, fbcsp_scaler, fbcsp_features = extract_fbcsp_features_and_model(MO_FBCSP_aligned, labels_offline)\n",
    "    MO_results['FBCSP'][subject] = fbcsp_results\n",
    "    joblib.dump(fbcsp_clf, os.path.join('classifiers', f'MO_FBCSP_clf_subject_{n}.pkl'))\n",
    "    joblib.dump(fbcsp_csp, os.path.join('features_extractors', f'MO_FBCSP_csp_subject_{n}.pkl'))\n",
    "    joblib.dump(fbcsp_scaler, os.path.join('features_extractors', f'MO_FBCSP_csp_scaler_subject_{n}.pkl'))\n",
    "\n",
    "    print(f\"FBCSP-only accuracy: {fbcsp_results['average_accuracy']:.4f}\")\n",
    "\n",
    "    # 2. ERP-only Classification\n",
    "    erp_results, erp_clf, erp_scaler, erp_features = extract_erp_features_and_model(MO_ERP_aligned, labels_offline)\n",
    "    MO_results['ERP'][subject] = erp_results\n",
    "    joblib.dump(erp_clf, os.path.join('classifiers', f'MO_ERP_clf_subject_{n}.pkl'))\n",
    "    joblib.dump(erp_scaler, os.path.join('features_extractors', f'MO_ERP_scaler_subject_{n}.pkl'))\n",
    "\n",
    "    print(f\"ERP-only accuracy: {erp_results['average_accuracy']:.4f}\")\n",
    "\n",
    "    # 3. FBCSP + ERP Combined Classification\n",
    "    combined_results, combined_clf, combined_features = offline_combined_classification(fbcsp_features, erp_features, labels_offline)\n",
    "    MO_results['Combined'][subject] = combined_results\n",
    "    joblib.dump(combined_clf, os.path.join('classifiers', f'MO_Combined_clf_subject_{n}.pkl'))\n",
    "    print(f\"Combined accuracy: {combined_results['average_accuracy']:.4f}\")\n"
   ]
  },
  {
   "cell_type": "code",
   "execution_count": 26,
   "metadata": {},
   "outputs": [
    {
     "name": "stdout",
     "output_type": "stream",
     "text": [
      "1 0.4966666666666666 0.6089285714285715 0.6017857142857144\n",
      "2 0.40714285714285714 0.39107142857142857 0.4375\n",
      "3 0.46785714285714286 0.5571428571428572 0.4642857142857143\n",
      "4 0.4696428571428572 0.4625 0.55\n",
      "5 0.575 0.5 0.5607142857142857\n",
      "6 0.525 0.41607142857142854 0.5821428571428572\n",
      "7 0.4624999999999999 0.525 0.4660714285714286\n",
      "8 0.5285714285714286 0.4178571428571428 0.4309523809523809\n",
      "9 0.4946428571428571 0.5053571428571428 0.40535714285714286\n",
      "10 0.605 0.6133333333333333 0.4666666666666667\n",
      "11 0.6333333333333333 0.42857142857142855 0.49523809523809514\n",
      "12 0.56 0.5 0.5625\n",
      "13 0.5285714285714286 0.49107142857142855 0.5166666666666667\n",
      "14 0.7125 0.6733333333333333 0.31785714285714284\n",
      "15 0.5446428571428571 0.40476190476190477 0.48571428571428565\n",
      "16 0.4428571428571428 0.5966666666666667 0.45892857142857146\n",
      "17 0.5410714285714285 0.4738095238095238 0.4999999999999999\n",
      "18 0.5499999999999999 0.4428571428571429 0.4767857142857143\n",
      "19 0.5303571428571427 0.575 0.4125\n",
      "20 0.5267857142857142 0.55 0.4375\n",
      "21 0.5571428571428572 0.5233333333333332 0.5339285714285714\n",
      "22 0.5047619047619047 0.5035714285714286 0.5714285714285714\n",
      "23 0.73 0.42666666666666664 0.5\n",
      "24 0.4732142857142857 0.4714285714285714 0.5732142857142857\n",
      "25 0.45 0.5125 0.445\n",
      "26 0.4321428571428571 0.4625 0.5571428571428572\n",
      "27 0.4035714285714286 0.525 0.5928571428571429\n",
      "28 0.588095238095238 0.569047619047619 0.5571428571428572\n",
      "29 0.35357142857142854 0.49642857142857144 0.6261904761904763\n"
     ]
    }
   ],
   "source": [
    "for subject in subjects:\n",
    "    print(subject, AW_results['ERP'][subject]['average_accuracy'], MI_results['ERP'][subject]['average_accuracy'], MO_results['ERP'][subject]['average_accuracy'])\n"
   ]
  },
  {
   "cell_type": "code",
   "execution_count": 27,
   "metadata": {},
   "outputs": [
    {
     "name": "stdout",
     "output_type": "stream",
     "text": [
      "1 0.35333333333333333 0.6035714285714284 0.525\n",
      "2 0.4928571428571429 0.4714285714285714 0.6375\n",
      "3 0.47857142857142854 0.5071428571428571 0.4303571428571429\n",
      "4 0.5660714285714286 0.6125 0.6125\n",
      "5 0.5196428571428572 0.55 0.4821428571428572\n",
      "6 0.325 0.46964285714285714 0.45178571428571423\n",
      "7 0.4375 0.575 0.5321428571428571\n",
      "8 0.5857142857142856 0.5410714285714285 0.47857142857142854\n",
      "9 0.4642857142857143 0.4625 0.4946428571428571\n",
      "10 0.43000000000000005 0.4933333333333333 0.5533333333333333\n",
      "11 0.37333333333333335 0.4999999999999999 0.45\n",
      "12 0.48 0.55 0.5125\n",
      "13 0.5571428571428572 0.4928571428571429 0.4666666666666666\n",
      "14 0.45 0.47333333333333333 0.4196428571428572\n",
      "15 0.5053571428571428 0.5047619047619047 0.5285714285714285\n",
      "16 0.45714285714285713 0.4966666666666666 0.5232142857142856\n",
      "17 0.45357142857142857 0.5190476190476191 0.4333333333333333\n",
      "18 0.46964285714285714 0.5857142857142856 0.46428571428571425\n",
      "19 0.5696428571428571 0.5125 0.48571428571428577\n",
      "20 0.3267857142857143 0.6 0.4375\n",
      "21 0.5446428571428571 0.51 0.6\n",
      "22 0.4333333333333333 0.5910714285714286 0.5839285714285714\n",
      "23 0.5933333333333334 0.4533333333333333 0.5285714285714286\n",
      "24 0.5928571428571427 0.5410714285714285 0.475\n",
      "25 0.4107142857142857 0.48571428571428577 0.625\n",
      "26 0.5785714285714285 0.55 0.5464285714285715\n",
      "27 0.5857142857142856 0.475 0.5303571428571429\n",
      "28 0.45 0.5047619047619047 0.35178571428571426\n",
      "29 0.5482142857142858 0.5392857142857143 0.45714285714285713\n"
     ]
    }
   ],
   "source": [
    "for subject in subjects:\n",
    "    print(subject, AW_results['FBCSP'][subject]['average_accuracy'], MI_results['FBCSP'][subject]['average_accuracy'], MO_results['FBCSP'][subject]['average_accuracy'])"
   ]
  },
  {
   "cell_type": "code",
   "execution_count": 28,
   "metadata": {},
   "outputs": [
    {
     "name": "stdout",
     "output_type": "stream",
     "text": [
      "1 0.6266666666666667 0.7267857142857143 0.8053571428571429\n",
      "2 0.6589285714285714 0.5839285714285715 0.65\n",
      "3 0.6732142857142857 0.6196428571428572 0.5821428571428571\n",
      "4 0.7303571428571428 0.6875 0.6\n",
      "5 0.6696428571428571 0.625 0.6714285714285715\n",
      "6 0.7 0.5071428571428571 0.6339285714285714\n",
      "7 0.6196428571428572 0.575 0.6375\n",
      "8 0.7178571428571429 0.6375 0.7000000000000001\n",
      "9 0.5946428571428571 0.6303571428571428 0.46964285714285714\n",
      "10 0.525 0.6633333333333333 0.6199999999999999\n",
      "11 0.6699999999999999 0.7714285714285714 0.5833333333333333\n",
      "12 0.7200000000000001 0.5125 0.65\n",
      "13 0.6428571428571428 0.625 0.5928571428571427\n",
      "14 0.6625 0.6566666666666666 0.49821428571428567\n",
      "15 0.5214285714285716 0.580952380952381 0.5428571428571428\n",
      "16 0.5660714285714287 0.7533333333333333 0.5892857142857142\n",
      "17 0.5767857142857142 0.43571428571428567 0.7\n",
      "18 0.6839285714285714 0.5999999999999999 0.5732142857142858\n",
      "19 0.6392857142857142 0.6625 0.4482142857142857\n",
      "20 0.6964285714285714 0.775 0.7\n",
      "21 0.5839285714285715 0.5133333333333333 0.7214285714285713\n",
      "22 0.5714285714285714 0.5160714285714285 0.7839285714285713\n",
      "23 0.7499999999999999 0.7400000000000001 0.6714285714285714\n",
      "24 0.6875 0.6410714285714285 0.6464285714285715\n",
      "25 0.5232142857142857 0.5982142857142857 0.605\n",
      "26 0.6035714285714285 0.6375 0.6875\n",
      "27 0.6714285714285715 0.6625 0.6821428571428572\n",
      "28 0.569047619047619 0.6666666666666666 0.7035714285714286\n",
      "29 0.6125 0.5446428571428571 0.5928571428571427\n"
     ]
    }
   ],
   "source": [
    "for subject in subjects:\n",
    "    print(subject, AW_results['Combined'][subject]['average_accuracy'], MI_results['Combined'][subject]['average_accuracy'], MO_results['Combined'][subject]['average_accuracy'])"
   ]
  },
  {
   "cell_type": "code",
   "execution_count": 29,
   "metadata": {},
   "outputs": [
    {
     "name": "stdout",
     "output_type": "stream",
     "text": [
      "           Accuracy          \n",
      "               mean       std\n",
      "Condition                    \n",
      "AW         0.636823  0.064405\n",
      "MI         0.625837  0.083702\n",
      "MO         0.632492  0.082547\n"
     ]
    },
    {
     "data": {
      "application/vnd.plotly.v1+json": {
       "config": {
        "plotlyServerURL": "https://plot.ly"
       },
       "data": [
        {
         "error_y": {
          "array": [
           0.06440496705055124,
           0.06440496705055124,
           0.06440496705055124,
           0.06440496705055124,
           0.06440496705055124,
           0.06440496705055124,
           0.06440496705055124,
           0.06440496705055124,
           0.06440496705055124,
           0.06440496705055124,
           0.06440496705055124,
           0.06440496705055124,
           0.06440496705055124,
           0.06440496705055124,
           0.06440496705055124,
           0.06440496705055124,
           0.06440496705055124,
           0.06440496705055124,
           0.06440496705055124,
           0.06440496705055124,
           0.06440496705055124,
           0.06440496705055124,
           0.06440496705055124,
           0.06440496705055124,
           0.06440496705055124,
           0.06440496705055124,
           0.06440496705055124,
           0.06440496705055124,
           0.06440496705055124
          ],
          "type": "data",
          "visible": true
         },
         "marker": {
          "color": "#ef8a62"
         },
         "name": "AW",
         "type": "bar",
         "x": [
          "1",
          "2",
          "3",
          "4",
          "5",
          "6",
          "7",
          "8",
          "9",
          "10",
          "11",
          "12",
          "13",
          "14",
          "15",
          "16",
          "17",
          "18",
          "19",
          "20",
          "21",
          "22",
          "23",
          "24",
          "25",
          "26",
          "27",
          "28",
          "29"
         ],
         "y": [
          0.6266666666666667,
          0.6589285714285714,
          0.6732142857142857,
          0.7303571428571428,
          0.6696428571428571,
          0.7,
          0.6196428571428572,
          0.7178571428571429,
          0.5946428571428571,
          0.525,
          0.6699999999999999,
          0.7200000000000001,
          0.6428571428571428,
          0.6625,
          0.5214285714285716,
          0.5660714285714287,
          0.5767857142857142,
          0.6839285714285714,
          0.6392857142857142,
          0.6964285714285714,
          0.5839285714285715,
          0.5714285714285714,
          0.7499999999999999,
          0.6875,
          0.5232142857142857,
          0.6035714285714285,
          0.6714285714285715,
          0.569047619047619,
          0.6125
         ]
        },
        {
         "error_y": {
          "array": [
           0.08254689606546697,
           0.08254689606546697,
           0.08254689606546697,
           0.08254689606546697,
           0.08254689606546697,
           0.08254689606546697,
           0.08254689606546697,
           0.08254689606546697,
           0.08254689606546697,
           0.08254689606546697,
           0.08254689606546697,
           0.08254689606546697,
           0.08254689606546697,
           0.08254689606546697,
           0.08254689606546697,
           0.08254689606546697,
           0.08254689606546697,
           0.08254689606546697,
           0.08254689606546697,
           0.08254689606546697,
           0.08254689606546697,
           0.08254689606546697,
           0.08254689606546697,
           0.08254689606546697,
           0.08254689606546697,
           0.08254689606546697,
           0.08254689606546697,
           0.08254689606546697,
           0.08254689606546697
          ],
          "type": "data",
          "visible": true
         },
         "marker": {
          "color": "#67a9cf"
         },
         "name": "MO",
         "type": "bar",
         "x": [
          "1",
          "2",
          "3",
          "4",
          "5",
          "6",
          "7",
          "8",
          "9",
          "10",
          "11",
          "12",
          "13",
          "14",
          "15",
          "16",
          "17",
          "18",
          "19",
          "20",
          "21",
          "22",
          "23",
          "24",
          "25",
          "26",
          "27",
          "28",
          "29"
         ],
         "y": [
          0.8053571428571429,
          0.65,
          0.5821428571428571,
          0.6,
          0.6714285714285715,
          0.6339285714285714,
          0.6375,
          0.7000000000000001,
          0.46964285714285714,
          0.6199999999999999,
          0.5833333333333333,
          0.65,
          0.5928571428571427,
          0.49821428571428567,
          0.5428571428571428,
          0.5892857142857142,
          0.7,
          0.5732142857142858,
          0.4482142857142857,
          0.7,
          0.7214285714285713,
          0.7839285714285713,
          0.6714285714285714,
          0.6464285714285715,
          0.605,
          0.6875,
          0.6821428571428572,
          0.7035714285714286,
          0.5928571428571427
         ]
        },
        {
         "error_y": {
          "array": [
           0.08370192707414251,
           0.08370192707414251,
           0.08370192707414251,
           0.08370192707414251,
           0.08370192707414251,
           0.08370192707414251,
           0.08370192707414251,
           0.08370192707414251,
           0.08370192707414251,
           0.08370192707414251,
           0.08370192707414251,
           0.08370192707414251,
           0.08370192707414251,
           0.08370192707414251,
           0.08370192707414251,
           0.08370192707414251,
           0.08370192707414251,
           0.08370192707414251,
           0.08370192707414251,
           0.08370192707414251,
           0.08370192707414251,
           0.08370192707414251,
           0.08370192707414251,
           0.08370192707414251,
           0.08370192707414251,
           0.08370192707414251,
           0.08370192707414251,
           0.08370192707414251,
           0.08370192707414251
          ],
          "type": "data",
          "visible": true
         },
         "marker": {
          "color": "#999999"
         },
         "name": "MI",
         "type": "bar",
         "x": [
          "1",
          "2",
          "3",
          "4",
          "5",
          "6",
          "7",
          "8",
          "9",
          "10",
          "11",
          "12",
          "13",
          "14",
          "15",
          "16",
          "17",
          "18",
          "19",
          "20",
          "21",
          "22",
          "23",
          "24",
          "25",
          "26",
          "27",
          "28",
          "29"
         ],
         "y": [
          0.7267857142857143,
          0.5839285714285715,
          0.6196428571428572,
          0.6875,
          0.625,
          0.5071428571428571,
          0.575,
          0.6375,
          0.6303571428571428,
          0.6633333333333333,
          0.7714285714285714,
          0.5125,
          0.625,
          0.6566666666666666,
          0.580952380952381,
          0.7533333333333333,
          0.43571428571428567,
          0.5999999999999999,
          0.6625,
          0.775,
          0.5133333333333333,
          0.5160714285714285,
          0.7400000000000001,
          0.6410714285714285,
          0.5982142857142857,
          0.6375,
          0.6625,
          0.6666666666666666,
          0.5446428571428571
         ]
        }
       ],
       "layout": {
        "barmode": "group",
        "legend": {
         "title": {
          "text": "Condition"
         }
        },
        "shapes": [
         {
          "line": {
           "color": "gray",
           "width": 1
          },
          "type": "line",
          "x0": 0,
          "x1": 1,
          "xref": "x domain",
          "y0": 0.5,
          "y1": 0.5,
          "yref": "y"
         }
        ],
        "template": {
         "data": {
          "bar": [
           {
            "error_x": {
             "color": "#2a3f5f"
            },
            "error_y": {
             "color": "#2a3f5f"
            },
            "marker": {
             "line": {
              "color": "#E5ECF6",
              "width": 0.5
             },
             "pattern": {
              "fillmode": "overlay",
              "size": 10,
              "solidity": 0.2
             }
            },
            "type": "bar"
           }
          ],
          "barpolar": [
           {
            "marker": {
             "line": {
              "color": "#E5ECF6",
              "width": 0.5
             },
             "pattern": {
              "fillmode": "overlay",
              "size": 10,
              "solidity": 0.2
             }
            },
            "type": "barpolar"
           }
          ],
          "carpet": [
           {
            "aaxis": {
             "endlinecolor": "#2a3f5f",
             "gridcolor": "white",
             "linecolor": "white",
             "minorgridcolor": "white",
             "startlinecolor": "#2a3f5f"
            },
            "baxis": {
             "endlinecolor": "#2a3f5f",
             "gridcolor": "white",
             "linecolor": "white",
             "minorgridcolor": "white",
             "startlinecolor": "#2a3f5f"
            },
            "type": "carpet"
           }
          ],
          "choropleth": [
           {
            "colorbar": {
             "outlinewidth": 0,
             "ticks": ""
            },
            "type": "choropleth"
           }
          ],
          "contour": [
           {
            "colorbar": {
             "outlinewidth": 0,
             "ticks": ""
            },
            "colorscale": [
             [
              0,
              "#0d0887"
             ],
             [
              0.1111111111111111,
              "#46039f"
             ],
             [
              0.2222222222222222,
              "#7201a8"
             ],
             [
              0.3333333333333333,
              "#9c179e"
             ],
             [
              0.4444444444444444,
              "#bd3786"
             ],
             [
              0.5555555555555556,
              "#d8576b"
             ],
             [
              0.6666666666666666,
              "#ed7953"
             ],
             [
              0.7777777777777778,
              "#fb9f3a"
             ],
             [
              0.8888888888888888,
              "#fdca26"
             ],
             [
              1,
              "#f0f921"
             ]
            ],
            "type": "contour"
           }
          ],
          "contourcarpet": [
           {
            "colorbar": {
             "outlinewidth": 0,
             "ticks": ""
            },
            "type": "contourcarpet"
           }
          ],
          "heatmap": [
           {
            "colorbar": {
             "outlinewidth": 0,
             "ticks": ""
            },
            "colorscale": [
             [
              0,
              "#0d0887"
             ],
             [
              0.1111111111111111,
              "#46039f"
             ],
             [
              0.2222222222222222,
              "#7201a8"
             ],
             [
              0.3333333333333333,
              "#9c179e"
             ],
             [
              0.4444444444444444,
              "#bd3786"
             ],
             [
              0.5555555555555556,
              "#d8576b"
             ],
             [
              0.6666666666666666,
              "#ed7953"
             ],
             [
              0.7777777777777778,
              "#fb9f3a"
             ],
             [
              0.8888888888888888,
              "#fdca26"
             ],
             [
              1,
              "#f0f921"
             ]
            ],
            "type": "heatmap"
           }
          ],
          "heatmapgl": [
           {
            "colorbar": {
             "outlinewidth": 0,
             "ticks": ""
            },
            "colorscale": [
             [
              0,
              "#0d0887"
             ],
             [
              0.1111111111111111,
              "#46039f"
             ],
             [
              0.2222222222222222,
              "#7201a8"
             ],
             [
              0.3333333333333333,
              "#9c179e"
             ],
             [
              0.4444444444444444,
              "#bd3786"
             ],
             [
              0.5555555555555556,
              "#d8576b"
             ],
             [
              0.6666666666666666,
              "#ed7953"
             ],
             [
              0.7777777777777778,
              "#fb9f3a"
             ],
             [
              0.8888888888888888,
              "#fdca26"
             ],
             [
              1,
              "#f0f921"
             ]
            ],
            "type": "heatmapgl"
           }
          ],
          "histogram": [
           {
            "marker": {
             "pattern": {
              "fillmode": "overlay",
              "size": 10,
              "solidity": 0.2
             }
            },
            "type": "histogram"
           }
          ],
          "histogram2d": [
           {
            "colorbar": {
             "outlinewidth": 0,
             "ticks": ""
            },
            "colorscale": [
             [
              0,
              "#0d0887"
             ],
             [
              0.1111111111111111,
              "#46039f"
             ],
             [
              0.2222222222222222,
              "#7201a8"
             ],
             [
              0.3333333333333333,
              "#9c179e"
             ],
             [
              0.4444444444444444,
              "#bd3786"
             ],
             [
              0.5555555555555556,
              "#d8576b"
             ],
             [
              0.6666666666666666,
              "#ed7953"
             ],
             [
              0.7777777777777778,
              "#fb9f3a"
             ],
             [
              0.8888888888888888,
              "#fdca26"
             ],
             [
              1,
              "#f0f921"
             ]
            ],
            "type": "histogram2d"
           }
          ],
          "histogram2dcontour": [
           {
            "colorbar": {
             "outlinewidth": 0,
             "ticks": ""
            },
            "colorscale": [
             [
              0,
              "#0d0887"
             ],
             [
              0.1111111111111111,
              "#46039f"
             ],
             [
              0.2222222222222222,
              "#7201a8"
             ],
             [
              0.3333333333333333,
              "#9c179e"
             ],
             [
              0.4444444444444444,
              "#bd3786"
             ],
             [
              0.5555555555555556,
              "#d8576b"
             ],
             [
              0.6666666666666666,
              "#ed7953"
             ],
             [
              0.7777777777777778,
              "#fb9f3a"
             ],
             [
              0.8888888888888888,
              "#fdca26"
             ],
             [
              1,
              "#f0f921"
             ]
            ],
            "type": "histogram2dcontour"
           }
          ],
          "mesh3d": [
           {
            "colorbar": {
             "outlinewidth": 0,
             "ticks": ""
            },
            "type": "mesh3d"
           }
          ],
          "parcoords": [
           {
            "line": {
             "colorbar": {
              "outlinewidth": 0,
              "ticks": ""
             }
            },
            "type": "parcoords"
           }
          ],
          "pie": [
           {
            "automargin": true,
            "type": "pie"
           }
          ],
          "scatter": [
           {
            "fillpattern": {
             "fillmode": "overlay",
             "size": 10,
             "solidity": 0.2
            },
            "type": "scatter"
           }
          ],
          "scatter3d": [
           {
            "line": {
             "colorbar": {
              "outlinewidth": 0,
              "ticks": ""
             }
            },
            "marker": {
             "colorbar": {
              "outlinewidth": 0,
              "ticks": ""
             }
            },
            "type": "scatter3d"
           }
          ],
          "scattercarpet": [
           {
            "marker": {
             "colorbar": {
              "outlinewidth": 0,
              "ticks": ""
             }
            },
            "type": "scattercarpet"
           }
          ],
          "scattergeo": [
           {
            "marker": {
             "colorbar": {
              "outlinewidth": 0,
              "ticks": ""
             }
            },
            "type": "scattergeo"
           }
          ],
          "scattergl": [
           {
            "marker": {
             "colorbar": {
              "outlinewidth": 0,
              "ticks": ""
             }
            },
            "type": "scattergl"
           }
          ],
          "scattermapbox": [
           {
            "marker": {
             "colorbar": {
              "outlinewidth": 0,
              "ticks": ""
             }
            },
            "type": "scattermapbox"
           }
          ],
          "scatterpolar": [
           {
            "marker": {
             "colorbar": {
              "outlinewidth": 0,
              "ticks": ""
             }
            },
            "type": "scatterpolar"
           }
          ],
          "scatterpolargl": [
           {
            "marker": {
             "colorbar": {
              "outlinewidth": 0,
              "ticks": ""
             }
            },
            "type": "scatterpolargl"
           }
          ],
          "scatterternary": [
           {
            "marker": {
             "colorbar": {
              "outlinewidth": 0,
              "ticks": ""
             }
            },
            "type": "scatterternary"
           }
          ],
          "surface": [
           {
            "colorbar": {
             "outlinewidth": 0,
             "ticks": ""
            },
            "colorscale": [
             [
              0,
              "#0d0887"
             ],
             [
              0.1111111111111111,
              "#46039f"
             ],
             [
              0.2222222222222222,
              "#7201a8"
             ],
             [
              0.3333333333333333,
              "#9c179e"
             ],
             [
              0.4444444444444444,
              "#bd3786"
             ],
             [
              0.5555555555555556,
              "#d8576b"
             ],
             [
              0.6666666666666666,
              "#ed7953"
             ],
             [
              0.7777777777777778,
              "#fb9f3a"
             ],
             [
              0.8888888888888888,
              "#fdca26"
             ],
             [
              1,
              "#f0f921"
             ]
            ],
            "type": "surface"
           }
          ],
          "table": [
           {
            "cells": {
             "fill": {
              "color": "#EBF0F8"
             },
             "line": {
              "color": "white"
             }
            },
            "header": {
             "fill": {
              "color": "#C8D4E3"
             },
             "line": {
              "color": "white"
             }
            },
            "type": "table"
           }
          ]
         },
         "layout": {
          "annotationdefaults": {
           "arrowcolor": "#2a3f5f",
           "arrowhead": 0,
           "arrowwidth": 1
          },
          "autotypenumbers": "strict",
          "coloraxis": {
           "colorbar": {
            "outlinewidth": 0,
            "ticks": ""
           }
          },
          "colorscale": {
           "diverging": [
            [
             0,
             "#8e0152"
            ],
            [
             0.1,
             "#c51b7d"
            ],
            [
             0.2,
             "#de77ae"
            ],
            [
             0.3,
             "#f1b6da"
            ],
            [
             0.4,
             "#fde0ef"
            ],
            [
             0.5,
             "#f7f7f7"
            ],
            [
             0.6,
             "#e6f5d0"
            ],
            [
             0.7,
             "#b8e186"
            ],
            [
             0.8,
             "#7fbc41"
            ],
            [
             0.9,
             "#4d9221"
            ],
            [
             1,
             "#276419"
            ]
           ],
           "sequential": [
            [
             0,
             "#0d0887"
            ],
            [
             0.1111111111111111,
             "#46039f"
            ],
            [
             0.2222222222222222,
             "#7201a8"
            ],
            [
             0.3333333333333333,
             "#9c179e"
            ],
            [
             0.4444444444444444,
             "#bd3786"
            ],
            [
             0.5555555555555556,
             "#d8576b"
            ],
            [
             0.6666666666666666,
             "#ed7953"
            ],
            [
             0.7777777777777778,
             "#fb9f3a"
            ],
            [
             0.8888888888888888,
             "#fdca26"
            ],
            [
             1,
             "#f0f921"
            ]
           ],
           "sequentialminus": [
            [
             0,
             "#0d0887"
            ],
            [
             0.1111111111111111,
             "#46039f"
            ],
            [
             0.2222222222222222,
             "#7201a8"
            ],
            [
             0.3333333333333333,
             "#9c179e"
            ],
            [
             0.4444444444444444,
             "#bd3786"
            ],
            [
             0.5555555555555556,
             "#d8576b"
            ],
            [
             0.6666666666666666,
             "#ed7953"
            ],
            [
             0.7777777777777778,
             "#fb9f3a"
            ],
            [
             0.8888888888888888,
             "#fdca26"
            ],
            [
             1,
             "#f0f921"
            ]
           ]
          },
          "colorway": [
           "#636efa",
           "#EF553B",
           "#00cc96",
           "#ab63fa",
           "#FFA15A",
           "#19d3f3",
           "#FF6692",
           "#B6E880",
           "#FF97FF",
           "#FECB52"
          ],
          "font": {
           "color": "#2a3f5f"
          },
          "geo": {
           "bgcolor": "white",
           "lakecolor": "white",
           "landcolor": "#E5ECF6",
           "showlakes": true,
           "showland": true,
           "subunitcolor": "white"
          },
          "hoverlabel": {
           "align": "left"
          },
          "hovermode": "closest",
          "mapbox": {
           "style": "light"
          },
          "paper_bgcolor": "white",
          "plot_bgcolor": "#E5ECF6",
          "polar": {
           "angularaxis": {
            "gridcolor": "white",
            "linecolor": "white",
            "ticks": ""
           },
           "bgcolor": "#E5ECF6",
           "radialaxis": {
            "gridcolor": "white",
            "linecolor": "white",
            "ticks": ""
           }
          },
          "scene": {
           "xaxis": {
            "backgroundcolor": "#E5ECF6",
            "gridcolor": "white",
            "gridwidth": 2,
            "linecolor": "white",
            "showbackground": true,
            "ticks": "",
            "zerolinecolor": "white"
           },
           "yaxis": {
            "backgroundcolor": "#E5ECF6",
            "gridcolor": "white",
            "gridwidth": 2,
            "linecolor": "white",
            "showbackground": true,
            "ticks": "",
            "zerolinecolor": "white"
           },
           "zaxis": {
            "backgroundcolor": "#E5ECF6",
            "gridcolor": "white",
            "gridwidth": 2,
            "linecolor": "white",
            "showbackground": true,
            "ticks": "",
            "zerolinecolor": "white"
           }
          },
          "shapedefaults": {
           "line": {
            "color": "#2a3f5f"
           }
          },
          "ternary": {
           "aaxis": {
            "gridcolor": "white",
            "linecolor": "white",
            "ticks": ""
           },
           "baxis": {
            "gridcolor": "white",
            "linecolor": "white",
            "ticks": ""
           },
           "bgcolor": "#E5ECF6",
           "caxis": {
            "gridcolor": "white",
            "linecolor": "white",
            "ticks": ""
           }
          },
          "title": {
           "x": 0.05
          },
          "xaxis": {
           "automargin": true,
           "gridcolor": "white",
           "linecolor": "white",
           "ticks": "",
           "title": {
            "standoff": 15
           },
           "zerolinecolor": "white",
           "zerolinewidth": 2
          },
          "yaxis": {
           "automargin": true,
           "gridcolor": "white",
           "linecolor": "white",
           "ticks": "",
           "title": {
            "standoff": 15
           },
           "zerolinecolor": "white",
           "zerolinewidth": 2
          }
         }
        },
        "title": {
         "text": "Accuracy per Subject and Condition  - Combined FBCSP and ERP"
        },
        "xaxis": {
         "tickmode": "array",
         "ticktext": [
          "1",
          "2",
          "3",
          "4",
          "5",
          "6",
          "7",
          "8",
          "9",
          "10",
          "11",
          "12",
          "13",
          "14",
          "15",
          "16",
          "17",
          "18",
          "19",
          "20",
          "21",
          "22",
          "23",
          "24",
          "25",
          "26",
          "27",
          "28",
          "29"
         ],
         "tickvals": [
          "1",
          "2",
          "3",
          "4",
          "5",
          "6",
          "7",
          "8",
          "9",
          "10",
          "11",
          "12",
          "13",
          "14",
          "15",
          "16",
          "17",
          "18",
          "19",
          "20",
          "21",
          "22",
          "23",
          "24",
          "25",
          "26",
          "27",
          "28",
          "29"
         ],
         "title": {
          "text": "Subject"
         }
        },
        "yaxis": {
         "dtick": 0.1,
         "range": [
          0.3,
          1
         ],
         "tick0": 0.4,
         "title": {
          "text": "Accuracy"
         }
        }
       }
      }
     },
     "metadata": {},
     "output_type": "display_data"
    }
   ],
   "source": [
    "# Create a DataFrame to organize the data\n",
    "data = []\n",
    "for subject_id, scores in AW_results['Combined'].items():\n",
    "    data.append({\n",
    "        'Subject': subject_id,\n",
    "        'Condition': 'AW',\n",
    "        'Accuracy': scores['average_accuracy']\n",
    "    })\n",
    "for subject_id, scores in MO_results['Combined'].items():\n",
    "    data.append({\n",
    "        'Subject': subject_id,\n",
    "        'Condition': 'MO',\n",
    "        'Accuracy': scores['average_accuracy']\n",
    "    })\n",
    "for subject_id, scores in MI_results['Combined'].items():\n",
    "    data.append({\n",
    "        'Subject': subject_id,\n",
    "        'Condition': 'MI',\n",
    "        'Accuracy': scores['average_accuracy']\n",
    "    })\n",
    "\n",
    "df = pd.DataFrame(data)\n",
    "df_grouped = df.iloc[:,1:].groupby('Condition').agg(['mean', 'std'])\n",
    "print(df_grouped)\n",
    "\n",
    "# Calculate means and stds for error bars\n",
    "means = df.groupby('Condition')['Accuracy'].mean()\n",
    "stds = df.groupby('Condition')['Accuracy'].std()\n",
    "\n",
    "# Create Plotly grouped bar chart with error bars\n",
    "fig = go.Figure()\n",
    "\n",
    "for condition in df['Condition'].unique():\n",
    "    cond_df = df[df['Condition'] == condition]\n",
    "    fig.add_trace(go.Bar(\n",
    "        x=cond_df['Subject'],\n",
    "        y=cond_df['Accuracy'],\n",
    "        name=condition,\n",
    "        marker_color=colors[condition],\n",
    "        error_y=dict(\n",
    "            type='data',\n",
    "            array=[stds[condition]] * len(cond_df),  # same std for all bars in this condition\n",
    "            visible=True\n",
    "        )\n",
    "    ))\n",
    "\n",
    "# Add chance level line\n",
    "fig.add_hline(y=0.5, line_width=1, line_color=\"gray\")\n",
    "\n",
    "# Update layout to show subject IDs on x-axis ticks\n",
    "fig.update_layout(\n",
    "    barmode='group',\n",
    "    xaxis_title='Subject',\n",
    "    yaxis_title='Accuracy',\n",
    "    title='Accuracy per Subject and Condition  - Combined FBCSP and ERP',\n",
    "    legend_title_text='Condition',\n",
    "    xaxis=dict(\n",
    "        tickmode='array',\n",
    "        tickvals=df['Subject'].unique(),\n",
    "        ticktext=df['Subject'].unique()\n",
    "    ),\n",
    "    yaxis=dict(range=[0.3, 1.0], tick0=0.4, dtick=0.1),\n",
    ")\n",
    "\n",
    "fig.show()\n"
   ]
  },
  {
   "cell_type": "code",
   "execution_count": 30,
   "metadata": {},
   "outputs": [
    {
     "name": "stdout",
     "output_type": "stream",
     "text": [
      "           Accuracy          \n",
      "               mean       std\n",
      "Condition                    \n",
      "AW         0.483896  0.080044\n",
      "MI         0.523149  0.045985\n",
      "MO         0.504056  0.067074\n"
     ]
    },
    {
     "data": {
      "application/vnd.plotly.v1+json": {
       "config": {
        "plotlyServerURL": "https://plot.ly"
       },
       "data": [
        {
         "error_y": {
          "array": [
           0.08004437049364589,
           0.08004437049364589,
           0.08004437049364589,
           0.08004437049364589,
           0.08004437049364589,
           0.08004437049364589,
           0.08004437049364589,
           0.08004437049364589,
           0.08004437049364589,
           0.08004437049364589,
           0.08004437049364589,
           0.08004437049364589,
           0.08004437049364589,
           0.08004437049364589,
           0.08004437049364589,
           0.08004437049364589,
           0.08004437049364589,
           0.08004437049364589,
           0.08004437049364589,
           0.08004437049364589,
           0.08004437049364589,
           0.08004437049364589,
           0.08004437049364589,
           0.08004437049364589,
           0.08004437049364589,
           0.08004437049364589,
           0.08004437049364589,
           0.08004437049364589,
           0.08004437049364589
          ],
          "type": "data",
          "visible": true
         },
         "marker": {
          "color": "#ef8a62"
         },
         "name": "AW",
         "type": "bar",
         "x": [
          "1",
          "2",
          "3",
          "4",
          "5",
          "6",
          "7",
          "8",
          "9",
          "10",
          "11",
          "12",
          "13",
          "14",
          "15",
          "16",
          "17",
          "18",
          "19",
          "20",
          "21",
          "22",
          "23",
          "24",
          "25",
          "26",
          "27",
          "28",
          "29"
         ],
         "y": [
          0.35333333333333333,
          0.4928571428571429,
          0.47857142857142854,
          0.5660714285714286,
          0.5196428571428572,
          0.325,
          0.4375,
          0.5857142857142856,
          0.4642857142857143,
          0.43000000000000005,
          0.37333333333333335,
          0.48,
          0.5571428571428572,
          0.45,
          0.5053571428571428,
          0.45714285714285713,
          0.45357142857142857,
          0.46964285714285714,
          0.5696428571428571,
          0.3267857142857143,
          0.5446428571428571,
          0.4333333333333333,
          0.5933333333333334,
          0.5928571428571427,
          0.4107142857142857,
          0.5785714285714285,
          0.5857142857142856,
          0.45,
          0.5482142857142858
         ]
        },
        {
         "error_y": {
          "array": [
           0.06707443269996603,
           0.06707443269996603,
           0.06707443269996603,
           0.06707443269996603,
           0.06707443269996603,
           0.06707443269996603,
           0.06707443269996603,
           0.06707443269996603,
           0.06707443269996603,
           0.06707443269996603,
           0.06707443269996603,
           0.06707443269996603,
           0.06707443269996603,
           0.06707443269996603,
           0.06707443269996603,
           0.06707443269996603,
           0.06707443269996603,
           0.06707443269996603,
           0.06707443269996603,
           0.06707443269996603,
           0.06707443269996603,
           0.06707443269996603,
           0.06707443269996603,
           0.06707443269996603,
           0.06707443269996603,
           0.06707443269996603,
           0.06707443269996603,
           0.06707443269996603,
           0.06707443269996603
          ],
          "type": "data",
          "visible": true
         },
         "marker": {
          "color": "#67a9cf"
         },
         "name": "MO",
         "type": "bar",
         "x": [
          "1",
          "2",
          "3",
          "4",
          "5",
          "6",
          "7",
          "8",
          "9",
          "10",
          "11",
          "12",
          "13",
          "14",
          "15",
          "16",
          "17",
          "18",
          "19",
          "20",
          "21",
          "22",
          "23",
          "24",
          "25",
          "26",
          "27",
          "28",
          "29"
         ],
         "y": [
          0.525,
          0.6375,
          0.4303571428571429,
          0.6125,
          0.4821428571428572,
          0.45178571428571423,
          0.5321428571428571,
          0.47857142857142854,
          0.4946428571428571,
          0.5533333333333333,
          0.45,
          0.5125,
          0.4666666666666666,
          0.4196428571428572,
          0.5285714285714285,
          0.5232142857142856,
          0.4333333333333333,
          0.46428571428571425,
          0.48571428571428577,
          0.4375,
          0.6,
          0.5839285714285714,
          0.5285714285714286,
          0.475,
          0.625,
          0.5464285714285715,
          0.5303571428571429,
          0.35178571428571426,
          0.45714285714285713
         ]
        },
        {
         "error_y": {
          "array": [
           0.04598546386535361,
           0.04598546386535361,
           0.04598546386535361,
           0.04598546386535361,
           0.04598546386535361,
           0.04598546386535361,
           0.04598546386535361,
           0.04598546386535361,
           0.04598546386535361,
           0.04598546386535361,
           0.04598546386535361,
           0.04598546386535361,
           0.04598546386535361,
           0.04598546386535361,
           0.04598546386535361,
           0.04598546386535361,
           0.04598546386535361,
           0.04598546386535361,
           0.04598546386535361,
           0.04598546386535361,
           0.04598546386535361,
           0.04598546386535361,
           0.04598546386535361,
           0.04598546386535361,
           0.04598546386535361,
           0.04598546386535361,
           0.04598546386535361,
           0.04598546386535361,
           0.04598546386535361
          ],
          "type": "data",
          "visible": true
         },
         "marker": {
          "color": "#999999"
         },
         "name": "MI",
         "type": "bar",
         "x": [
          "1",
          "2",
          "3",
          "4",
          "5",
          "6",
          "7",
          "8",
          "9",
          "10",
          "11",
          "12",
          "13",
          "14",
          "15",
          "16",
          "17",
          "18",
          "19",
          "20",
          "21",
          "22",
          "23",
          "24",
          "25",
          "26",
          "27",
          "28",
          "29"
         ],
         "y": [
          0.6035714285714284,
          0.4714285714285714,
          0.5071428571428571,
          0.6125,
          0.55,
          0.46964285714285714,
          0.575,
          0.5410714285714285,
          0.4625,
          0.4933333333333333,
          0.4999999999999999,
          0.55,
          0.4928571428571429,
          0.47333333333333333,
          0.5047619047619047,
          0.4966666666666666,
          0.5190476190476191,
          0.5857142857142856,
          0.5125,
          0.6,
          0.51,
          0.5910714285714286,
          0.4533333333333333,
          0.5410714285714285,
          0.48571428571428577,
          0.55,
          0.475,
          0.5047619047619047,
          0.5392857142857143
         ]
        }
       ],
       "layout": {
        "barmode": "group",
        "legend": {
         "title": {
          "text": "Condition"
         }
        },
        "shapes": [
         {
          "line": {
           "color": "gray",
           "width": 1
          },
          "type": "line",
          "x0": 0,
          "x1": 1,
          "xref": "x domain",
          "y0": 0.5,
          "y1": 0.5,
          "yref": "y"
         }
        ],
        "template": {
         "data": {
          "bar": [
           {
            "error_x": {
             "color": "#2a3f5f"
            },
            "error_y": {
             "color": "#2a3f5f"
            },
            "marker": {
             "line": {
              "color": "#E5ECF6",
              "width": 0.5
             },
             "pattern": {
              "fillmode": "overlay",
              "size": 10,
              "solidity": 0.2
             }
            },
            "type": "bar"
           }
          ],
          "barpolar": [
           {
            "marker": {
             "line": {
              "color": "#E5ECF6",
              "width": 0.5
             },
             "pattern": {
              "fillmode": "overlay",
              "size": 10,
              "solidity": 0.2
             }
            },
            "type": "barpolar"
           }
          ],
          "carpet": [
           {
            "aaxis": {
             "endlinecolor": "#2a3f5f",
             "gridcolor": "white",
             "linecolor": "white",
             "minorgridcolor": "white",
             "startlinecolor": "#2a3f5f"
            },
            "baxis": {
             "endlinecolor": "#2a3f5f",
             "gridcolor": "white",
             "linecolor": "white",
             "minorgridcolor": "white",
             "startlinecolor": "#2a3f5f"
            },
            "type": "carpet"
           }
          ],
          "choropleth": [
           {
            "colorbar": {
             "outlinewidth": 0,
             "ticks": ""
            },
            "type": "choropleth"
           }
          ],
          "contour": [
           {
            "colorbar": {
             "outlinewidth": 0,
             "ticks": ""
            },
            "colorscale": [
             [
              0,
              "#0d0887"
             ],
             [
              0.1111111111111111,
              "#46039f"
             ],
             [
              0.2222222222222222,
              "#7201a8"
             ],
             [
              0.3333333333333333,
              "#9c179e"
             ],
             [
              0.4444444444444444,
              "#bd3786"
             ],
             [
              0.5555555555555556,
              "#d8576b"
             ],
             [
              0.6666666666666666,
              "#ed7953"
             ],
             [
              0.7777777777777778,
              "#fb9f3a"
             ],
             [
              0.8888888888888888,
              "#fdca26"
             ],
             [
              1,
              "#f0f921"
             ]
            ],
            "type": "contour"
           }
          ],
          "contourcarpet": [
           {
            "colorbar": {
             "outlinewidth": 0,
             "ticks": ""
            },
            "type": "contourcarpet"
           }
          ],
          "heatmap": [
           {
            "colorbar": {
             "outlinewidth": 0,
             "ticks": ""
            },
            "colorscale": [
             [
              0,
              "#0d0887"
             ],
             [
              0.1111111111111111,
              "#46039f"
             ],
             [
              0.2222222222222222,
              "#7201a8"
             ],
             [
              0.3333333333333333,
              "#9c179e"
             ],
             [
              0.4444444444444444,
              "#bd3786"
             ],
             [
              0.5555555555555556,
              "#d8576b"
             ],
             [
              0.6666666666666666,
              "#ed7953"
             ],
             [
              0.7777777777777778,
              "#fb9f3a"
             ],
             [
              0.8888888888888888,
              "#fdca26"
             ],
             [
              1,
              "#f0f921"
             ]
            ],
            "type": "heatmap"
           }
          ],
          "heatmapgl": [
           {
            "colorbar": {
             "outlinewidth": 0,
             "ticks": ""
            },
            "colorscale": [
             [
              0,
              "#0d0887"
             ],
             [
              0.1111111111111111,
              "#46039f"
             ],
             [
              0.2222222222222222,
              "#7201a8"
             ],
             [
              0.3333333333333333,
              "#9c179e"
             ],
             [
              0.4444444444444444,
              "#bd3786"
             ],
             [
              0.5555555555555556,
              "#d8576b"
             ],
             [
              0.6666666666666666,
              "#ed7953"
             ],
             [
              0.7777777777777778,
              "#fb9f3a"
             ],
             [
              0.8888888888888888,
              "#fdca26"
             ],
             [
              1,
              "#f0f921"
             ]
            ],
            "type": "heatmapgl"
           }
          ],
          "histogram": [
           {
            "marker": {
             "pattern": {
              "fillmode": "overlay",
              "size": 10,
              "solidity": 0.2
             }
            },
            "type": "histogram"
           }
          ],
          "histogram2d": [
           {
            "colorbar": {
             "outlinewidth": 0,
             "ticks": ""
            },
            "colorscale": [
             [
              0,
              "#0d0887"
             ],
             [
              0.1111111111111111,
              "#46039f"
             ],
             [
              0.2222222222222222,
              "#7201a8"
             ],
             [
              0.3333333333333333,
              "#9c179e"
             ],
             [
              0.4444444444444444,
              "#bd3786"
             ],
             [
              0.5555555555555556,
              "#d8576b"
             ],
             [
              0.6666666666666666,
              "#ed7953"
             ],
             [
              0.7777777777777778,
              "#fb9f3a"
             ],
             [
              0.8888888888888888,
              "#fdca26"
             ],
             [
              1,
              "#f0f921"
             ]
            ],
            "type": "histogram2d"
           }
          ],
          "histogram2dcontour": [
           {
            "colorbar": {
             "outlinewidth": 0,
             "ticks": ""
            },
            "colorscale": [
             [
              0,
              "#0d0887"
             ],
             [
              0.1111111111111111,
              "#46039f"
             ],
             [
              0.2222222222222222,
              "#7201a8"
             ],
             [
              0.3333333333333333,
              "#9c179e"
             ],
             [
              0.4444444444444444,
              "#bd3786"
             ],
             [
              0.5555555555555556,
              "#d8576b"
             ],
             [
              0.6666666666666666,
              "#ed7953"
             ],
             [
              0.7777777777777778,
              "#fb9f3a"
             ],
             [
              0.8888888888888888,
              "#fdca26"
             ],
             [
              1,
              "#f0f921"
             ]
            ],
            "type": "histogram2dcontour"
           }
          ],
          "mesh3d": [
           {
            "colorbar": {
             "outlinewidth": 0,
             "ticks": ""
            },
            "type": "mesh3d"
           }
          ],
          "parcoords": [
           {
            "line": {
             "colorbar": {
              "outlinewidth": 0,
              "ticks": ""
             }
            },
            "type": "parcoords"
           }
          ],
          "pie": [
           {
            "automargin": true,
            "type": "pie"
           }
          ],
          "scatter": [
           {
            "fillpattern": {
             "fillmode": "overlay",
             "size": 10,
             "solidity": 0.2
            },
            "type": "scatter"
           }
          ],
          "scatter3d": [
           {
            "line": {
             "colorbar": {
              "outlinewidth": 0,
              "ticks": ""
             }
            },
            "marker": {
             "colorbar": {
              "outlinewidth": 0,
              "ticks": ""
             }
            },
            "type": "scatter3d"
           }
          ],
          "scattercarpet": [
           {
            "marker": {
             "colorbar": {
              "outlinewidth": 0,
              "ticks": ""
             }
            },
            "type": "scattercarpet"
           }
          ],
          "scattergeo": [
           {
            "marker": {
             "colorbar": {
              "outlinewidth": 0,
              "ticks": ""
             }
            },
            "type": "scattergeo"
           }
          ],
          "scattergl": [
           {
            "marker": {
             "colorbar": {
              "outlinewidth": 0,
              "ticks": ""
             }
            },
            "type": "scattergl"
           }
          ],
          "scattermapbox": [
           {
            "marker": {
             "colorbar": {
              "outlinewidth": 0,
              "ticks": ""
             }
            },
            "type": "scattermapbox"
           }
          ],
          "scatterpolar": [
           {
            "marker": {
             "colorbar": {
              "outlinewidth": 0,
              "ticks": ""
             }
            },
            "type": "scatterpolar"
           }
          ],
          "scatterpolargl": [
           {
            "marker": {
             "colorbar": {
              "outlinewidth": 0,
              "ticks": ""
             }
            },
            "type": "scatterpolargl"
           }
          ],
          "scatterternary": [
           {
            "marker": {
             "colorbar": {
              "outlinewidth": 0,
              "ticks": ""
             }
            },
            "type": "scatterternary"
           }
          ],
          "surface": [
           {
            "colorbar": {
             "outlinewidth": 0,
             "ticks": ""
            },
            "colorscale": [
             [
              0,
              "#0d0887"
             ],
             [
              0.1111111111111111,
              "#46039f"
             ],
             [
              0.2222222222222222,
              "#7201a8"
             ],
             [
              0.3333333333333333,
              "#9c179e"
             ],
             [
              0.4444444444444444,
              "#bd3786"
             ],
             [
              0.5555555555555556,
              "#d8576b"
             ],
             [
              0.6666666666666666,
              "#ed7953"
             ],
             [
              0.7777777777777778,
              "#fb9f3a"
             ],
             [
              0.8888888888888888,
              "#fdca26"
             ],
             [
              1,
              "#f0f921"
             ]
            ],
            "type": "surface"
           }
          ],
          "table": [
           {
            "cells": {
             "fill": {
              "color": "#EBF0F8"
             },
             "line": {
              "color": "white"
             }
            },
            "header": {
             "fill": {
              "color": "#C8D4E3"
             },
             "line": {
              "color": "white"
             }
            },
            "type": "table"
           }
          ]
         },
         "layout": {
          "annotationdefaults": {
           "arrowcolor": "#2a3f5f",
           "arrowhead": 0,
           "arrowwidth": 1
          },
          "autotypenumbers": "strict",
          "coloraxis": {
           "colorbar": {
            "outlinewidth": 0,
            "ticks": ""
           }
          },
          "colorscale": {
           "diverging": [
            [
             0,
             "#8e0152"
            ],
            [
             0.1,
             "#c51b7d"
            ],
            [
             0.2,
             "#de77ae"
            ],
            [
             0.3,
             "#f1b6da"
            ],
            [
             0.4,
             "#fde0ef"
            ],
            [
             0.5,
             "#f7f7f7"
            ],
            [
             0.6,
             "#e6f5d0"
            ],
            [
             0.7,
             "#b8e186"
            ],
            [
             0.8,
             "#7fbc41"
            ],
            [
             0.9,
             "#4d9221"
            ],
            [
             1,
             "#276419"
            ]
           ],
           "sequential": [
            [
             0,
             "#0d0887"
            ],
            [
             0.1111111111111111,
             "#46039f"
            ],
            [
             0.2222222222222222,
             "#7201a8"
            ],
            [
             0.3333333333333333,
             "#9c179e"
            ],
            [
             0.4444444444444444,
             "#bd3786"
            ],
            [
             0.5555555555555556,
             "#d8576b"
            ],
            [
             0.6666666666666666,
             "#ed7953"
            ],
            [
             0.7777777777777778,
             "#fb9f3a"
            ],
            [
             0.8888888888888888,
             "#fdca26"
            ],
            [
             1,
             "#f0f921"
            ]
           ],
           "sequentialminus": [
            [
             0,
             "#0d0887"
            ],
            [
             0.1111111111111111,
             "#46039f"
            ],
            [
             0.2222222222222222,
             "#7201a8"
            ],
            [
             0.3333333333333333,
             "#9c179e"
            ],
            [
             0.4444444444444444,
             "#bd3786"
            ],
            [
             0.5555555555555556,
             "#d8576b"
            ],
            [
             0.6666666666666666,
             "#ed7953"
            ],
            [
             0.7777777777777778,
             "#fb9f3a"
            ],
            [
             0.8888888888888888,
             "#fdca26"
            ],
            [
             1,
             "#f0f921"
            ]
           ]
          },
          "colorway": [
           "#636efa",
           "#EF553B",
           "#00cc96",
           "#ab63fa",
           "#FFA15A",
           "#19d3f3",
           "#FF6692",
           "#B6E880",
           "#FF97FF",
           "#FECB52"
          ],
          "font": {
           "color": "#2a3f5f"
          },
          "geo": {
           "bgcolor": "white",
           "lakecolor": "white",
           "landcolor": "#E5ECF6",
           "showlakes": true,
           "showland": true,
           "subunitcolor": "white"
          },
          "hoverlabel": {
           "align": "left"
          },
          "hovermode": "closest",
          "mapbox": {
           "style": "light"
          },
          "paper_bgcolor": "white",
          "plot_bgcolor": "#E5ECF6",
          "polar": {
           "angularaxis": {
            "gridcolor": "white",
            "linecolor": "white",
            "ticks": ""
           },
           "bgcolor": "#E5ECF6",
           "radialaxis": {
            "gridcolor": "white",
            "linecolor": "white",
            "ticks": ""
           }
          },
          "scene": {
           "xaxis": {
            "backgroundcolor": "#E5ECF6",
            "gridcolor": "white",
            "gridwidth": 2,
            "linecolor": "white",
            "showbackground": true,
            "ticks": "",
            "zerolinecolor": "white"
           },
           "yaxis": {
            "backgroundcolor": "#E5ECF6",
            "gridcolor": "white",
            "gridwidth": 2,
            "linecolor": "white",
            "showbackground": true,
            "ticks": "",
            "zerolinecolor": "white"
           },
           "zaxis": {
            "backgroundcolor": "#E5ECF6",
            "gridcolor": "white",
            "gridwidth": 2,
            "linecolor": "white",
            "showbackground": true,
            "ticks": "",
            "zerolinecolor": "white"
           }
          },
          "shapedefaults": {
           "line": {
            "color": "#2a3f5f"
           }
          },
          "ternary": {
           "aaxis": {
            "gridcolor": "white",
            "linecolor": "white",
            "ticks": ""
           },
           "baxis": {
            "gridcolor": "white",
            "linecolor": "white",
            "ticks": ""
           },
           "bgcolor": "#E5ECF6",
           "caxis": {
            "gridcolor": "white",
            "linecolor": "white",
            "ticks": ""
           }
          },
          "title": {
           "x": 0.05
          },
          "xaxis": {
           "automargin": true,
           "gridcolor": "white",
           "linecolor": "white",
           "ticks": "",
           "title": {
            "standoff": 15
           },
           "zerolinecolor": "white",
           "zerolinewidth": 2
          },
          "yaxis": {
           "automargin": true,
           "gridcolor": "white",
           "linecolor": "white",
           "ticks": "",
           "title": {
            "standoff": 15
           },
           "zerolinecolor": "white",
           "zerolinewidth": 2
          }
         }
        },
        "title": {
         "text": "Accuracy per Subject and Condition  -  FBCSP"
        },
        "xaxis": {
         "tickmode": "array",
         "ticktext": [
          "1",
          "2",
          "3",
          "4",
          "5",
          "6",
          "7",
          "8",
          "9",
          "10",
          "11",
          "12",
          "13",
          "14",
          "15",
          "16",
          "17",
          "18",
          "19",
          "20",
          "21",
          "22",
          "23",
          "24",
          "25",
          "26",
          "27",
          "28",
          "29"
         ],
         "tickvals": [
          "1",
          "2",
          "3",
          "4",
          "5",
          "6",
          "7",
          "8",
          "9",
          "10",
          "11",
          "12",
          "13",
          "14",
          "15",
          "16",
          "17",
          "18",
          "19",
          "20",
          "21",
          "22",
          "23",
          "24",
          "25",
          "26",
          "27",
          "28",
          "29"
         ],
         "title": {
          "text": "Subject"
         }
        },
        "yaxis": {
         "dtick": 0.1,
         "range": [
          0,
          1
         ],
         "tick0": 0.4,
         "title": {
          "text": "Accuracy"
         }
        }
       }
      }
     },
     "metadata": {},
     "output_type": "display_data"
    }
   ],
   "source": [
    "# Create a DataFrame to organize the data\n",
    "data = []\n",
    "for subject_id, scores in AW_results['FBCSP'].items():\n",
    "    data.append({\n",
    "        'Subject': subject_id,\n",
    "        'Condition': 'AW',\n",
    "        'Accuracy': scores['average_accuracy']\n",
    "    })\n",
    "for subject_id, scores in MO_results['FBCSP'].items():\n",
    "    data.append({\n",
    "        'Subject': subject_id,\n",
    "        'Condition': 'MO',\n",
    "        'Accuracy': scores['average_accuracy']\n",
    "    })\n",
    "for subject_id, scores in MI_results['FBCSP'].items():\n",
    "    data.append({\n",
    "        'Subject': subject_id,\n",
    "        'Condition': 'MI',\n",
    "        'Accuracy': scores['average_accuracy']\n",
    "    })\n",
    "\n",
    "df = pd.DataFrame(data)\n",
    "df_grouped = df.iloc[:,1:].groupby('Condition').agg(['mean', 'std'])\n",
    "print(df_grouped)\n",
    "\n",
    "# Calculate means and stds for error bars\n",
    "means = df.groupby('Condition')['Accuracy'].mean()\n",
    "stds = df.groupby('Condition')['Accuracy'].std()\n",
    "\n",
    "# Create Plotly grouped bar chart with error bars\n",
    "fig = go.Figure()\n",
    "\n",
    "for condition in df['Condition'].unique():\n",
    "    cond_df = df[df['Condition'] == condition]\n",
    "    fig.add_trace(go.Bar(\n",
    "        x=cond_df['Subject'],\n",
    "        y=cond_df['Accuracy'],\n",
    "        name=condition,\n",
    "        marker_color=colors[condition],\n",
    "        error_y=dict(\n",
    "            type='data',\n",
    "            array=[stds[condition]] * len(cond_df),  # same std for all bars in this condition\n",
    "            visible=True\n",
    "        )\n",
    "    ))\n",
    "\n",
    "# Add chance level line\n",
    "fig.add_hline(y=0.5, line_width=1, line_color=\"gray\")\n",
    "\n",
    "# Update layout to show subject IDs on x-axis ticks\n",
    "fig.update_layout(\n",
    "    barmode='group',\n",
    "    xaxis_title='Subject',\n",
    "    yaxis_title='Accuracy',\n",
    "    title='Accuracy per Subject and Condition  -  FBCSP',\n",
    "    legend_title_text='Condition',\n",
    "    xaxis=dict(\n",
    "        tickmode='array',\n",
    "        tickvals=df['Subject'].unique(),\n",
    "        ticktext=df['Subject'].unique()\n",
    "    ),\n",
    "    yaxis=dict(range=[0.0, 1.0], tick0=0.4, dtick=0.1),\n",
    ")\n",
    "\n",
    "fig.show()\n"
   ]
  },
  {
   "cell_type": "code",
   "execution_count": 31,
   "metadata": {},
   "outputs": [
    {
     "name": "stdout",
     "output_type": "stream",
     "text": [
      "           Accuracy          \n",
      "               mean       std\n",
      "Condition                    \n",
      "AW         0.520505  0.084276\n",
      "MI         0.504269  0.069334\n",
      "MO         0.502968  0.071038\n"
     ]
    },
    {
     "data": {
      "application/vnd.plotly.v1+json": {
       "config": {
        "plotlyServerURL": "https://plot.ly"
       },
       "data": [
        {
         "error_y": {
          "array": [
           0.08427561081765754,
           0.08427561081765754,
           0.08427561081765754,
           0.08427561081765754,
           0.08427561081765754,
           0.08427561081765754,
           0.08427561081765754,
           0.08427561081765754,
           0.08427561081765754,
           0.08427561081765754,
           0.08427561081765754,
           0.08427561081765754,
           0.08427561081765754,
           0.08427561081765754,
           0.08427561081765754,
           0.08427561081765754,
           0.08427561081765754,
           0.08427561081765754,
           0.08427561081765754,
           0.08427561081765754,
           0.08427561081765754,
           0.08427561081765754,
           0.08427561081765754,
           0.08427561081765754,
           0.08427561081765754,
           0.08427561081765754,
           0.08427561081765754,
           0.08427561081765754,
           0.08427561081765754
          ],
          "type": "data",
          "visible": true
         },
         "marker": {
          "color": "#ef8a62"
         },
         "name": "AW",
         "type": "bar",
         "x": [
          "1",
          "2",
          "3",
          "4",
          "5",
          "6",
          "7",
          "8",
          "9",
          "10",
          "11",
          "12",
          "13",
          "14",
          "15",
          "16",
          "17",
          "18",
          "19",
          "20",
          "21",
          "22",
          "23",
          "24",
          "25",
          "26",
          "27",
          "28",
          "29"
         ],
         "y": [
          0.4966666666666666,
          0.40714285714285714,
          0.46785714285714286,
          0.4696428571428572,
          0.575,
          0.525,
          0.4624999999999999,
          0.5285714285714286,
          0.4946428571428571,
          0.605,
          0.6333333333333333,
          0.56,
          0.5285714285714286,
          0.7125,
          0.5446428571428571,
          0.4428571428571428,
          0.5410714285714285,
          0.5499999999999999,
          0.5303571428571427,
          0.5267857142857142,
          0.5571428571428572,
          0.5047619047619047,
          0.73,
          0.4732142857142857,
          0.45,
          0.4321428571428571,
          0.4035714285714286,
          0.588095238095238,
          0.35357142857142854
         ]
        },
        {
         "error_y": {
          "array": [
           0.07103774121454853,
           0.07103774121454853,
           0.07103774121454853,
           0.07103774121454853,
           0.07103774121454853,
           0.07103774121454853,
           0.07103774121454853,
           0.07103774121454853,
           0.07103774121454853,
           0.07103774121454853,
           0.07103774121454853,
           0.07103774121454853,
           0.07103774121454853,
           0.07103774121454853,
           0.07103774121454853,
           0.07103774121454853,
           0.07103774121454853,
           0.07103774121454853,
           0.07103774121454853,
           0.07103774121454853,
           0.07103774121454853,
           0.07103774121454853,
           0.07103774121454853,
           0.07103774121454853,
           0.07103774121454853,
           0.07103774121454853,
           0.07103774121454853,
           0.07103774121454853,
           0.07103774121454853
          ],
          "type": "data",
          "visible": true
         },
         "marker": {
          "color": "#67a9cf"
         },
         "name": "MO",
         "type": "bar",
         "x": [
          "1",
          "2",
          "3",
          "4",
          "5",
          "6",
          "7",
          "8",
          "9",
          "10",
          "11",
          "12",
          "13",
          "14",
          "15",
          "16",
          "17",
          "18",
          "19",
          "20",
          "21",
          "22",
          "23",
          "24",
          "25",
          "26",
          "27",
          "28",
          "29"
         ],
         "y": [
          0.6017857142857144,
          0.4375,
          0.4642857142857143,
          0.55,
          0.5607142857142857,
          0.5821428571428572,
          0.4660714285714286,
          0.4309523809523809,
          0.40535714285714286,
          0.4666666666666667,
          0.49523809523809514,
          0.5625,
          0.5166666666666667,
          0.31785714285714284,
          0.48571428571428565,
          0.45892857142857146,
          0.4999999999999999,
          0.4767857142857143,
          0.4125,
          0.4375,
          0.5339285714285714,
          0.5714285714285714,
          0.5,
          0.5732142857142857,
          0.445,
          0.5571428571428572,
          0.5928571428571429,
          0.5571428571428572,
          0.6261904761904763
         ]
        },
        {
         "error_y": {
          "array": [
           0.06933350185449694,
           0.06933350185449694,
           0.06933350185449694,
           0.06933350185449694,
           0.06933350185449694,
           0.06933350185449694,
           0.06933350185449694,
           0.06933350185449694,
           0.06933350185449694,
           0.06933350185449694,
           0.06933350185449694,
           0.06933350185449694,
           0.06933350185449694,
           0.06933350185449694,
           0.06933350185449694,
           0.06933350185449694,
           0.06933350185449694,
           0.06933350185449694,
           0.06933350185449694,
           0.06933350185449694,
           0.06933350185449694,
           0.06933350185449694,
           0.06933350185449694,
           0.06933350185449694,
           0.06933350185449694,
           0.06933350185449694,
           0.06933350185449694,
           0.06933350185449694,
           0.06933350185449694
          ],
          "type": "data",
          "visible": true
         },
         "marker": {
          "color": "#999999"
         },
         "name": "MI",
         "type": "bar",
         "x": [
          "1",
          "2",
          "3",
          "4",
          "5",
          "6",
          "7",
          "8",
          "9",
          "10",
          "11",
          "12",
          "13",
          "14",
          "15",
          "16",
          "17",
          "18",
          "19",
          "20",
          "21",
          "22",
          "23",
          "24",
          "25",
          "26",
          "27",
          "28",
          "29"
         ],
         "y": [
          0.6089285714285715,
          0.39107142857142857,
          0.5571428571428572,
          0.4625,
          0.5,
          0.41607142857142854,
          0.525,
          0.4178571428571428,
          0.5053571428571428,
          0.6133333333333333,
          0.42857142857142855,
          0.5,
          0.49107142857142855,
          0.6733333333333333,
          0.40476190476190477,
          0.5966666666666667,
          0.4738095238095238,
          0.4428571428571429,
          0.575,
          0.55,
          0.5233333333333332,
          0.5035714285714286,
          0.42666666666666664,
          0.4714285714285714,
          0.5125,
          0.4625,
          0.525,
          0.569047619047619,
          0.49642857142857144
         ]
        }
       ],
       "layout": {
        "barmode": "group",
        "legend": {
         "title": {
          "text": "Condition"
         }
        },
        "shapes": [
         {
          "line": {
           "color": "gray",
           "width": 1
          },
          "type": "line",
          "x0": 0,
          "x1": 1,
          "xref": "x domain",
          "y0": 0.5,
          "y1": 0.5,
          "yref": "y"
         }
        ],
        "template": {
         "data": {
          "bar": [
           {
            "error_x": {
             "color": "#2a3f5f"
            },
            "error_y": {
             "color": "#2a3f5f"
            },
            "marker": {
             "line": {
              "color": "#E5ECF6",
              "width": 0.5
             },
             "pattern": {
              "fillmode": "overlay",
              "size": 10,
              "solidity": 0.2
             }
            },
            "type": "bar"
           }
          ],
          "barpolar": [
           {
            "marker": {
             "line": {
              "color": "#E5ECF6",
              "width": 0.5
             },
             "pattern": {
              "fillmode": "overlay",
              "size": 10,
              "solidity": 0.2
             }
            },
            "type": "barpolar"
           }
          ],
          "carpet": [
           {
            "aaxis": {
             "endlinecolor": "#2a3f5f",
             "gridcolor": "white",
             "linecolor": "white",
             "minorgridcolor": "white",
             "startlinecolor": "#2a3f5f"
            },
            "baxis": {
             "endlinecolor": "#2a3f5f",
             "gridcolor": "white",
             "linecolor": "white",
             "minorgridcolor": "white",
             "startlinecolor": "#2a3f5f"
            },
            "type": "carpet"
           }
          ],
          "choropleth": [
           {
            "colorbar": {
             "outlinewidth": 0,
             "ticks": ""
            },
            "type": "choropleth"
           }
          ],
          "contour": [
           {
            "colorbar": {
             "outlinewidth": 0,
             "ticks": ""
            },
            "colorscale": [
             [
              0,
              "#0d0887"
             ],
             [
              0.1111111111111111,
              "#46039f"
             ],
             [
              0.2222222222222222,
              "#7201a8"
             ],
             [
              0.3333333333333333,
              "#9c179e"
             ],
             [
              0.4444444444444444,
              "#bd3786"
             ],
             [
              0.5555555555555556,
              "#d8576b"
             ],
             [
              0.6666666666666666,
              "#ed7953"
             ],
             [
              0.7777777777777778,
              "#fb9f3a"
             ],
             [
              0.8888888888888888,
              "#fdca26"
             ],
             [
              1,
              "#f0f921"
             ]
            ],
            "type": "contour"
           }
          ],
          "contourcarpet": [
           {
            "colorbar": {
             "outlinewidth": 0,
             "ticks": ""
            },
            "type": "contourcarpet"
           }
          ],
          "heatmap": [
           {
            "colorbar": {
             "outlinewidth": 0,
             "ticks": ""
            },
            "colorscale": [
             [
              0,
              "#0d0887"
             ],
             [
              0.1111111111111111,
              "#46039f"
             ],
             [
              0.2222222222222222,
              "#7201a8"
             ],
             [
              0.3333333333333333,
              "#9c179e"
             ],
             [
              0.4444444444444444,
              "#bd3786"
             ],
             [
              0.5555555555555556,
              "#d8576b"
             ],
             [
              0.6666666666666666,
              "#ed7953"
             ],
             [
              0.7777777777777778,
              "#fb9f3a"
             ],
             [
              0.8888888888888888,
              "#fdca26"
             ],
             [
              1,
              "#f0f921"
             ]
            ],
            "type": "heatmap"
           }
          ],
          "heatmapgl": [
           {
            "colorbar": {
             "outlinewidth": 0,
             "ticks": ""
            },
            "colorscale": [
             [
              0,
              "#0d0887"
             ],
             [
              0.1111111111111111,
              "#46039f"
             ],
             [
              0.2222222222222222,
              "#7201a8"
             ],
             [
              0.3333333333333333,
              "#9c179e"
             ],
             [
              0.4444444444444444,
              "#bd3786"
             ],
             [
              0.5555555555555556,
              "#d8576b"
             ],
             [
              0.6666666666666666,
              "#ed7953"
             ],
             [
              0.7777777777777778,
              "#fb9f3a"
             ],
             [
              0.8888888888888888,
              "#fdca26"
             ],
             [
              1,
              "#f0f921"
             ]
            ],
            "type": "heatmapgl"
           }
          ],
          "histogram": [
           {
            "marker": {
             "pattern": {
              "fillmode": "overlay",
              "size": 10,
              "solidity": 0.2
             }
            },
            "type": "histogram"
           }
          ],
          "histogram2d": [
           {
            "colorbar": {
             "outlinewidth": 0,
             "ticks": ""
            },
            "colorscale": [
             [
              0,
              "#0d0887"
             ],
             [
              0.1111111111111111,
              "#46039f"
             ],
             [
              0.2222222222222222,
              "#7201a8"
             ],
             [
              0.3333333333333333,
              "#9c179e"
             ],
             [
              0.4444444444444444,
              "#bd3786"
             ],
             [
              0.5555555555555556,
              "#d8576b"
             ],
             [
              0.6666666666666666,
              "#ed7953"
             ],
             [
              0.7777777777777778,
              "#fb9f3a"
             ],
             [
              0.8888888888888888,
              "#fdca26"
             ],
             [
              1,
              "#f0f921"
             ]
            ],
            "type": "histogram2d"
           }
          ],
          "histogram2dcontour": [
           {
            "colorbar": {
             "outlinewidth": 0,
             "ticks": ""
            },
            "colorscale": [
             [
              0,
              "#0d0887"
             ],
             [
              0.1111111111111111,
              "#46039f"
             ],
             [
              0.2222222222222222,
              "#7201a8"
             ],
             [
              0.3333333333333333,
              "#9c179e"
             ],
             [
              0.4444444444444444,
              "#bd3786"
             ],
             [
              0.5555555555555556,
              "#d8576b"
             ],
             [
              0.6666666666666666,
              "#ed7953"
             ],
             [
              0.7777777777777778,
              "#fb9f3a"
             ],
             [
              0.8888888888888888,
              "#fdca26"
             ],
             [
              1,
              "#f0f921"
             ]
            ],
            "type": "histogram2dcontour"
           }
          ],
          "mesh3d": [
           {
            "colorbar": {
             "outlinewidth": 0,
             "ticks": ""
            },
            "type": "mesh3d"
           }
          ],
          "parcoords": [
           {
            "line": {
             "colorbar": {
              "outlinewidth": 0,
              "ticks": ""
             }
            },
            "type": "parcoords"
           }
          ],
          "pie": [
           {
            "automargin": true,
            "type": "pie"
           }
          ],
          "scatter": [
           {
            "fillpattern": {
             "fillmode": "overlay",
             "size": 10,
             "solidity": 0.2
            },
            "type": "scatter"
           }
          ],
          "scatter3d": [
           {
            "line": {
             "colorbar": {
              "outlinewidth": 0,
              "ticks": ""
             }
            },
            "marker": {
             "colorbar": {
              "outlinewidth": 0,
              "ticks": ""
             }
            },
            "type": "scatter3d"
           }
          ],
          "scattercarpet": [
           {
            "marker": {
             "colorbar": {
              "outlinewidth": 0,
              "ticks": ""
             }
            },
            "type": "scattercarpet"
           }
          ],
          "scattergeo": [
           {
            "marker": {
             "colorbar": {
              "outlinewidth": 0,
              "ticks": ""
             }
            },
            "type": "scattergeo"
           }
          ],
          "scattergl": [
           {
            "marker": {
             "colorbar": {
              "outlinewidth": 0,
              "ticks": ""
             }
            },
            "type": "scattergl"
           }
          ],
          "scattermapbox": [
           {
            "marker": {
             "colorbar": {
              "outlinewidth": 0,
              "ticks": ""
             }
            },
            "type": "scattermapbox"
           }
          ],
          "scatterpolar": [
           {
            "marker": {
             "colorbar": {
              "outlinewidth": 0,
              "ticks": ""
             }
            },
            "type": "scatterpolar"
           }
          ],
          "scatterpolargl": [
           {
            "marker": {
             "colorbar": {
              "outlinewidth": 0,
              "ticks": ""
             }
            },
            "type": "scatterpolargl"
           }
          ],
          "scatterternary": [
           {
            "marker": {
             "colorbar": {
              "outlinewidth": 0,
              "ticks": ""
             }
            },
            "type": "scatterternary"
           }
          ],
          "surface": [
           {
            "colorbar": {
             "outlinewidth": 0,
             "ticks": ""
            },
            "colorscale": [
             [
              0,
              "#0d0887"
             ],
             [
              0.1111111111111111,
              "#46039f"
             ],
             [
              0.2222222222222222,
              "#7201a8"
             ],
             [
              0.3333333333333333,
              "#9c179e"
             ],
             [
              0.4444444444444444,
              "#bd3786"
             ],
             [
              0.5555555555555556,
              "#d8576b"
             ],
             [
              0.6666666666666666,
              "#ed7953"
             ],
             [
              0.7777777777777778,
              "#fb9f3a"
             ],
             [
              0.8888888888888888,
              "#fdca26"
             ],
             [
              1,
              "#f0f921"
             ]
            ],
            "type": "surface"
           }
          ],
          "table": [
           {
            "cells": {
             "fill": {
              "color": "#EBF0F8"
             },
             "line": {
              "color": "white"
             }
            },
            "header": {
             "fill": {
              "color": "#C8D4E3"
             },
             "line": {
              "color": "white"
             }
            },
            "type": "table"
           }
          ]
         },
         "layout": {
          "annotationdefaults": {
           "arrowcolor": "#2a3f5f",
           "arrowhead": 0,
           "arrowwidth": 1
          },
          "autotypenumbers": "strict",
          "coloraxis": {
           "colorbar": {
            "outlinewidth": 0,
            "ticks": ""
           }
          },
          "colorscale": {
           "diverging": [
            [
             0,
             "#8e0152"
            ],
            [
             0.1,
             "#c51b7d"
            ],
            [
             0.2,
             "#de77ae"
            ],
            [
             0.3,
             "#f1b6da"
            ],
            [
             0.4,
             "#fde0ef"
            ],
            [
             0.5,
             "#f7f7f7"
            ],
            [
             0.6,
             "#e6f5d0"
            ],
            [
             0.7,
             "#b8e186"
            ],
            [
             0.8,
             "#7fbc41"
            ],
            [
             0.9,
             "#4d9221"
            ],
            [
             1,
             "#276419"
            ]
           ],
           "sequential": [
            [
             0,
             "#0d0887"
            ],
            [
             0.1111111111111111,
             "#46039f"
            ],
            [
             0.2222222222222222,
             "#7201a8"
            ],
            [
             0.3333333333333333,
             "#9c179e"
            ],
            [
             0.4444444444444444,
             "#bd3786"
            ],
            [
             0.5555555555555556,
             "#d8576b"
            ],
            [
             0.6666666666666666,
             "#ed7953"
            ],
            [
             0.7777777777777778,
             "#fb9f3a"
            ],
            [
             0.8888888888888888,
             "#fdca26"
            ],
            [
             1,
             "#f0f921"
            ]
           ],
           "sequentialminus": [
            [
             0,
             "#0d0887"
            ],
            [
             0.1111111111111111,
             "#46039f"
            ],
            [
             0.2222222222222222,
             "#7201a8"
            ],
            [
             0.3333333333333333,
             "#9c179e"
            ],
            [
             0.4444444444444444,
             "#bd3786"
            ],
            [
             0.5555555555555556,
             "#d8576b"
            ],
            [
             0.6666666666666666,
             "#ed7953"
            ],
            [
             0.7777777777777778,
             "#fb9f3a"
            ],
            [
             0.8888888888888888,
             "#fdca26"
            ],
            [
             1,
             "#f0f921"
            ]
           ]
          },
          "colorway": [
           "#636efa",
           "#EF553B",
           "#00cc96",
           "#ab63fa",
           "#FFA15A",
           "#19d3f3",
           "#FF6692",
           "#B6E880",
           "#FF97FF",
           "#FECB52"
          ],
          "font": {
           "color": "#2a3f5f"
          },
          "geo": {
           "bgcolor": "white",
           "lakecolor": "white",
           "landcolor": "#E5ECF6",
           "showlakes": true,
           "showland": true,
           "subunitcolor": "white"
          },
          "hoverlabel": {
           "align": "left"
          },
          "hovermode": "closest",
          "mapbox": {
           "style": "light"
          },
          "paper_bgcolor": "white",
          "plot_bgcolor": "#E5ECF6",
          "polar": {
           "angularaxis": {
            "gridcolor": "white",
            "linecolor": "white",
            "ticks": ""
           },
           "bgcolor": "#E5ECF6",
           "radialaxis": {
            "gridcolor": "white",
            "linecolor": "white",
            "ticks": ""
           }
          },
          "scene": {
           "xaxis": {
            "backgroundcolor": "#E5ECF6",
            "gridcolor": "white",
            "gridwidth": 2,
            "linecolor": "white",
            "showbackground": true,
            "ticks": "",
            "zerolinecolor": "white"
           },
           "yaxis": {
            "backgroundcolor": "#E5ECF6",
            "gridcolor": "white",
            "gridwidth": 2,
            "linecolor": "white",
            "showbackground": true,
            "ticks": "",
            "zerolinecolor": "white"
           },
           "zaxis": {
            "backgroundcolor": "#E5ECF6",
            "gridcolor": "white",
            "gridwidth": 2,
            "linecolor": "white",
            "showbackground": true,
            "ticks": "",
            "zerolinecolor": "white"
           }
          },
          "shapedefaults": {
           "line": {
            "color": "#2a3f5f"
           }
          },
          "ternary": {
           "aaxis": {
            "gridcolor": "white",
            "linecolor": "white",
            "ticks": ""
           },
           "baxis": {
            "gridcolor": "white",
            "linecolor": "white",
            "ticks": ""
           },
           "bgcolor": "#E5ECF6",
           "caxis": {
            "gridcolor": "white",
            "linecolor": "white",
            "ticks": ""
           }
          },
          "title": {
           "x": 0.05
          },
          "xaxis": {
           "automargin": true,
           "gridcolor": "white",
           "linecolor": "white",
           "ticks": "",
           "title": {
            "standoff": 15
           },
           "zerolinecolor": "white",
           "zerolinewidth": 2
          },
          "yaxis": {
           "automargin": true,
           "gridcolor": "white",
           "linecolor": "white",
           "ticks": "",
           "title": {
            "standoff": 15
           },
           "zerolinecolor": "white",
           "zerolinewidth": 2
          }
         }
        },
        "title": {
         "text": "Accuracy per Subject and Condition  - ERP"
        },
        "xaxis": {
         "tickmode": "array",
         "ticktext": [
          "1",
          "2",
          "3",
          "4",
          "5",
          "6",
          "7",
          "8",
          "9",
          "10",
          "11",
          "12",
          "13",
          "14",
          "15",
          "16",
          "17",
          "18",
          "19",
          "20",
          "21",
          "22",
          "23",
          "24",
          "25",
          "26",
          "27",
          "28",
          "29"
         ],
         "tickvals": [
          "1",
          "2",
          "3",
          "4",
          "5",
          "6",
          "7",
          "8",
          "9",
          "10",
          "11",
          "12",
          "13",
          "14",
          "15",
          "16",
          "17",
          "18",
          "19",
          "20",
          "21",
          "22",
          "23",
          "24",
          "25",
          "26",
          "27",
          "28",
          "29"
         ],
         "title": {
          "text": "Subject"
         }
        },
        "yaxis": {
         "dtick": 0.1,
         "range": [
          0.3,
          1
         ],
         "tick0": 0.4,
         "title": {
          "text": "Accuracy"
         }
        }
       }
      }
     },
     "metadata": {},
     "output_type": "display_data"
    }
   ],
   "source": [
    "# Create a DataFrame to organize the data\n",
    "data = []\n",
    "for subject_id, scores in AW_results['ERP'].items():\n",
    "    data.append({\n",
    "        'Subject': subject_id,\n",
    "        'Condition': 'AW',\n",
    "        'Accuracy': scores['average_accuracy']\n",
    "    })\n",
    "for subject_id, scores in MO_results['ERP'].items():\n",
    "    data.append({\n",
    "        'Subject': subject_id,\n",
    "        'Condition': 'MO',\n",
    "        'Accuracy': scores['average_accuracy']\n",
    "    })\n",
    "for subject_id, scores in MI_results['ERP'].items():\n",
    "    data.append({\n",
    "        'Subject': subject_id,\n",
    "        'Condition': 'MI',\n",
    "        'Accuracy': scores['average_accuracy']\n",
    "    })\n",
    "\n",
    "df = pd.DataFrame(data)\n",
    "df_grouped = df.iloc[:,1:].groupby('Condition').agg(['mean', 'std'])\n",
    "print(df_grouped)\n",
    "\n",
    "# Calculate means and stds for error bars\n",
    "means = df.groupby('Condition')['Accuracy'].mean()\n",
    "stds = df.groupby('Condition')['Accuracy'].std()\n",
    "\n",
    "# Create Plotly grouped bar chart with error bars\n",
    "fig = go.Figure()\n",
    "\n",
    "for condition in df['Condition'].unique():\n",
    "    cond_df = df[df['Condition'] == condition]\n",
    "    fig.add_trace(go.Bar(\n",
    "        x=cond_df['Subject'],\n",
    "        y=cond_df['Accuracy'],\n",
    "        name=condition,\n",
    "        marker_color=colors[condition],\n",
    "        error_y=dict(\n",
    "            type='data',\n",
    "            array=[stds[condition]] * len(cond_df),  # same std for all bars in this condition\n",
    "            visible=True\n",
    "        )\n",
    "    ))\n",
    "\n",
    "# Add chance level line\n",
    "fig.add_hline(y=0.5, line_width=1, line_color=\"gray\")\n",
    "\n",
    "# Update layout to show subject IDs on x-axis ticks\n",
    "fig.update_layout(\n",
    "    barmode='group',\n",
    "    xaxis_title='Subject',\n",
    "    yaxis_title='Accuracy',\n",
    "    title='Accuracy per Subject and Condition  - ERP',\n",
    "    legend_title_text='Condition',\n",
    "    xaxis=dict(\n",
    "        tickmode='array',\n",
    "        tickvals=df['Subject'].unique(),\n",
    "        ticktext=df['Subject'].unique()\n",
    "    ),\n",
    "    yaxis=dict(range=[0.3, 1.0], tick0=0.4, dtick=0.1),\n",
    ")\n",
    "\n",
    "fig.show()\n"
   ]
  },
  {
   "cell_type": "code",
   "execution_count": 32,
   "metadata": {},
   "outputs": [],
   "source": [
    "def online_overtime_classification_from_whole_epochs(epochs_fbcsp, epochs_erp, labels,\n",
    "                                   models_and_selectors):\n",
    "    \"\"\"\n",
    "    Performs classification over time using a sliding window on unseen data.\n",
    "\n",
    "    Args:\n",
    "        epochs_fbcsp (mne.Epochs): FBCSP epochs (aligned and preprocessed).\n",
    "        epochs_erp (mne.Epochs): ERP epochs (aligned and preprocessed).\n",
    "        labels (np.ndarray): The true labels for the epochs.\n",
    "        models_and_selectors (dict): A dictionary containing all pre-trained models\n",
    "                                     and selected feature indices.\n",
    "\n",
    "    Returns:\n",
    "        dict: A dictionary with accuracies for each classification method over time.\n",
    "    \"\"\"\n",
    "\n",
    "    # Load pre-trained models and selectors from the dictionary\n",
    "    fbcsp_clf = models_and_selectors['fbcsp_clf']\n",
    "    fbcsp_csp = models_and_selectors['fbcsp_csp']\n",
    "    fbcsp_selected_features = models_and_selectors['fbcsp_selected_features']\n",
    "    fbcsp_scaler = models_and_selectors['fbcsp_scaler']\n",
    "    erp_clf = models_and_selectors['erp_clf']\n",
    "    erp_selected_features = models_and_selectors['erp_selected_features']\n",
    "    erp_scaler = models_and_selectors['erp_scaler']\n",
    "    combined_clf = models_and_selectors['combined_clf']\n",
    "\n",
    "    all_fbcsp_preds = []\n",
    "    all_erp_preds = []\n",
    "    all_combined_preds = []\n",
    "\n",
    "    # Define online window parameters. This is the main sliding window.\n",
    "    window_duration_s = 2.5\n",
    "    step_size_s = 0.25\n",
    "\n",
    "    sfreq = epochs_fbcsp.info['sfreq']\n",
    "    \n",
    "    window_samples = int(window_duration_s * sfreq)\n",
    "    step_samples = int(step_size_s * sfreq)\n",
    "\n",
    "    # Determine the time range for the sliding window\n",
    "    # The online epoch for FBCSP should go up to 5s, so we slide the 2.5s window over this period.\n",
    "    start_time_online = 0.0\n",
    "    end_time_online = 5.0\n",
    "    \n",
    "    try:\n",
    "        start_sample_idx = epochs_fbcsp.time_as_index(start_time_online)[0]\n",
    "        end_sample_idx_loop = epochs_fbcsp.time_as_index(end_time_online)[0]\n",
    "    except IndexError:\n",
    "        print(\"Warning: The online epochs do not contain the full time range for the sliding window. \"\n",
    "              \"Please create the online epochs with a wider time window.\")\n",
    "        return None\n",
    "\n",
    "    start_times = np.arange(start_sample_idx, end_sample_idx_loop - window_samples + 1, step_samples)\n",
    "    \n",
    "    # List to store the center time of each window\n",
    "    window_labels = []\n",
    "\n",
    "    for start_sample in start_times:\n",
    "        end_sample = start_sample + window_samples\n",
    "\n",
    "        # --- FBCSP Feature Extraction for the 2.5s window ---\n",
    "        # The FBCSP offline training used a [0.5, 3.0] window, which has a duration of 2.5s.\n",
    "        # We need to crop to that window. The start time of the online window is `epochs_fbcsp.times[start_sample]`.\n",
    "        # So we crop from that start time to a duration of 2.5s.\n",
    "        fbcsp_window_epochs = epochs_fbcsp.copy().crop(tmin=epochs_fbcsp.times[start_sample],\n",
    "                                                       tmax=epochs_fbcsp.times[start_sample + window_samples - 1],\n",
    "                                                       include_tmax=True)\n",
    "        \n",
    "        fbcsp_features_list = []\n",
    "        filtered_bands = [(8, 12), (12, 16), (16, 20), (20, 24), (24, 28), (13, 30)]\n",
    "        \n",
    "        for l_freq, h_freq in filtered_bands:\n",
    "            temp_filtered_epochs = fbcsp_window_epochs.copy().filter(l_freq, h_freq, verbose=False)\n",
    "            epochs_data = temp_filtered_epochs.get_data(copy=False) * 1e6\n",
    "            csp_features = fbcsp_csp.transform(epochs_data)\n",
    "            fbcsp_features_list.append(csp_features)\n",
    "        \n",
    "        fbcsp_features = np.concatenate(fbcsp_features_list, axis=1)\n",
    "        \n",
    "        # Apply pre-trained scaler before mRMR feature selection\n",
    "        fbcsp_features = fbcsp_scaler.transform(fbcsp_features)\n",
    "        \n",
    "        # Apply mRMR feature selection with the pre-trained indices\n",
    "        fbcsp_features_mrmr = fbcsp_features[:, fbcsp_selected_features]\n",
    "\n",
    "        # --- ERP Feature Extraction for the 2.5s window with nested sliding windows ---\n",
    "        # The ERP offline training used a [-0.5, 2.5] window. We need to crop the online data\n",
    "        # to a 2.5s window starting from the same relative point.\n",
    "        erp_window_epochs = epochs_erp.copy().crop(tmin=epochs_erp.times[start_sample],\n",
    "                                                   tmax=epochs_erp.times[start_sample + window_samples - 1],\n",
    "                                                   include_tmax=True)\n",
    "\n",
    "        # Define nested ERP window parameters from your offline code\n",
    "        erp_window_duration_s = 0.5\n",
    "        erp_step_size_s = 0.5\n",
    "        erp_window_samples = int(erp_window_duration_s * sfreq)\n",
    "        erp_step_samples = int(erp_step_size_s * sfreq)\n",
    "\n",
    "        all_erp_features_window = []\n",
    "        for trial_data in erp_window_epochs.get_data():\n",
    "            trial_features = []\n",
    "            for start_idx in np.arange(0, trial_data.shape[-1] - erp_window_samples + 1, erp_step_samples):\n",
    "                end_idx = start_idx + erp_window_samples\n",
    "                window_data = trial_data[:, start_idx:end_idx]\n",
    "                window_features = np.mean(window_data, axis=1)\n",
    "                trial_features.append(window_features)\n",
    "            \n",
    "            all_erp_features_window.append(np.concatenate(trial_features))\n",
    "\n",
    "        erp_features = np.array(all_erp_features_window)\n",
    "        \n",
    "        # Apply pre-trained scaler before mRMR feature selection\n",
    "        erp_features = erp_scaler.transform(erp_features)\n",
    "        \n",
    "        # Apply mRMR feature selection with the pre-trained indices\n",
    "        erp_features_mrmr = erp_features[:, erp_selected_features]\n",
    "\n",
    "        # --- Classification for all epochs in the current window ---\n",
    "        fbcsp_preds = fbcsp_clf.predict(fbcsp_features_mrmr)\n",
    "        erp_preds = erp_clf.predict(erp_features_mrmr)\n",
    "        \n",
    "        combined_features = np.concatenate([fbcsp_features_mrmr, erp_features_mrmr], axis=1)\n",
    "        combined_preds = combined_clf.predict(combined_features)\n",
    "        \n",
    "        all_fbcsp_preds.append(fbcsp_preds)\n",
    "        all_erp_preds.append(erp_preds)\n",
    "        all_combined_preds.append(combined_preds)\n",
    "        \n",
    "        window_labels.append(epochs_fbcsp.times[start_sample + window_samples // 2])\n",
    "\n",
    "    # Calculate the accuracy for each time window\n",
    "    fbcsp_accuracies = [accuracy_score(labels, preds) for preds in all_fbcsp_preds]\n",
    "    erp_accuracies = [accuracy_score(labels, preds) for preds in all_erp_preds]\n",
    "    combined_accuracies = [accuracy_score(labels, preds) for preds in all_combined_preds]\n",
    "\n",
    "    return {\n",
    "        'times': window_labels,\n",
    "        'fbcsp_accuracies': fbcsp_accuracies,\n",
    "        'erp_accuracies': erp_accuracies,\n",
    "        'combined_accuracies': combined_accuracies\n",
    "    }\n"
   ]
  },
  {
   "cell_type": "code",
   "execution_count": 33,
   "metadata": {},
   "outputs": [
    {
     "name": "stdout",
     "output_type": "stream",
     "text": [
      "Online file found: cleaned_dataset\\1\\1_cleaned_online.set\n",
      "Online file not found: cleaned_dataset\\2\\2_cleaned_online.set\n",
      "Online file found: cleaned_dataset\\3\\3_cleaned_online.set\n",
      "Online file found: cleaned_dataset\\4\\4_cleaned_online.set\n",
      "Online file found: cleaned_dataset\\5\\5_cleaned_online.set\n",
      "Online file found: cleaned_dataset\\6\\6_cleaned_online.set\n",
      "Online file found: cleaned_dataset\\7\\7_cleaned_online.set\n",
      "Online file found: cleaned_dataset\\8\\8_cleaned_online.set\n",
      "Online file found: cleaned_dataset\\9\\9_cleaned_online.set\n",
      "Online file found: cleaned_dataset\\10\\10_cleaned_online.set\n",
      "Online file found: cleaned_dataset\\11\\11_cleaned_online.set\n",
      "Online file found: cleaned_dataset\\12\\12_cleaned_online.set\n",
      "Online file found: cleaned_dataset\\13\\13_cleaned_online.set\n",
      "Online file found: cleaned_dataset\\14\\14_cleaned_online.set\n",
      "Online file found: cleaned_dataset\\15\\15_cleaned_online.set\n",
      "Online file found: cleaned_dataset\\16\\16_cleaned_online.set\n",
      "Online file found: cleaned_dataset\\17\\17_cleaned_online.set\n",
      "Online file found: cleaned_dataset\\18\\18_cleaned_online.set\n",
      "Online file found: cleaned_dataset\\19\\19_cleaned_online.set\n",
      "Online file found: cleaned_dataset\\20\\20_cleaned_online.set\n",
      "Online file found: cleaned_dataset\\21\\21_cleaned_online.set\n",
      "Online file found: cleaned_dataset\\22\\22_cleaned_online.set\n",
      "Online file not found: cleaned_dataset\\23\\23_cleaned_online.set\n",
      "Online file found: cleaned_dataset\\24\\24_cleaned_online.set\n",
      "Online file found: cleaned_dataset\\25\\25_cleaned_online.set\n",
      "Online file not found: cleaned_dataset\\26\\26_cleaned_online.set\n",
      "Online file not found: cleaned_dataset\\27\\27_cleaned_online.set\n",
      "Online file found: cleaned_dataset\\28\\28_cleaned_online.set\n",
      "Online file found: cleaned_dataset\\29\\29_cleaned_online.set\n"
     ]
    }
   ],
   "source": [
    "\n",
    "all_online_AW_results = {}\n",
    "for n, subject in enumerate(subjects):\n",
    "    online_file = os.path.join(data_folder, str(subject), f'{subject}_cleaned_online.set')\n",
    "    if os.path.exists(online_file):\n",
    "        print(f\"Online file found: {online_file}\")\n",
    "    else:\n",
    "        print(f\"Online file not found: {online_file}\")\n",
    "        continue\n",
    "    all_online_AW_results[subject] = {}\n",
    "\n",
    "    AW_FBCSP_csp= joblib.load(os.path.join('features_extractors', 'AW_FBCSP_csp_subject_'+str(n)+'.pkl'))\n",
    "    AW_FBCSP_scaler = joblib.load(os.path.join('features_extractors', 'AW_FBCSP_csp_scaler_subject_'+str(n)+'.pkl'))\n",
    "    AW_FBCSP_clf = joblib.load(os.path.join('classifiers', 'AW_FBCSP_clf_subject_'+str(n)+'.pkl'))\n",
    "    AW_ERP_clf = joblib.load(os.path.join('classifiers', 'AW_ERP_clf_subject_'+str(n)+'.pkl'))\n",
    "    AW_ERP_scaler = joblib.load(os.path.join('features_extractors', 'AW_ERP_scaler_subject_'+str(n)+'.pkl'))\n",
    "    AW_combined_clf = joblib.load(os.path.join('classifiers', 'AW_Combined_clf_subject_'+str(n)+'.pkl'))\n",
    "    epochs_online_AW_FBCSP = create_online_epochs(online_file, 'AW', None, FBCSP_channels, [-0.5, 5.0], None, clean_data=False)\n",
    "    epochs_online_AW_ERP = create_online_epochs(online_file, 'AW', None, ERP_channels, [-0.5, 5.0], [-0.5, 0], clean_data=False)\n",
    "\n",
    "    AW_FBCSP_online_aligned, AW_ERP_online_aligned, labels_online_AW = align_epochs_and_labels(epochs_online_AW_FBCSP, epochs_online_AW_ERP,'AW_Arm', 'AW_Leg')\n",
    "\n",
    "    models_and_selectors = {'fbcsp_clf':AW_FBCSP_clf,'fbcsp_csp': AW_FBCSP_csp, 'fbcsp_selected_features': AW_results['FBCSP'][subject]['selected_features'], 'fbcsp_scaler': AW_FBCSP_scaler,\n",
    "                            'erp_clf': AW_ERP_clf, 'erp_selected_features': AW_results['ERP'][subject]['selected_features'], 'erp_scaler': AW_ERP_scaler,\n",
    "                            'combined_clf': AW_combined_clf}\n",
    "    \n",
    "    results = online_overtime_classification_from_whole_epochs(AW_FBCSP_online_aligned, AW_ERP_online_aligned, labels_online_AW, models_and_selectors) \n",
    "    all_online_AW_results[subject] = results"
   ]
  },
  {
   "cell_type": "code",
   "execution_count": 34,
   "metadata": {},
   "outputs": [
    {
     "name": "stdout",
     "output_type": "stream",
     "text": [
      "Online file found: cleaned_dataset\\1\\1_cleaned_online.set\n",
      "Online file not found: cleaned_dataset\\2\\2_cleaned_online.set\n",
      "Online file found: cleaned_dataset\\3\\3_cleaned_online.set\n",
      "Online file found: cleaned_dataset\\4\\4_cleaned_online.set\n",
      "Online file found: cleaned_dataset\\5\\5_cleaned_online.set\n",
      "Online file found: cleaned_dataset\\6\\6_cleaned_online.set\n",
      "Online file found: cleaned_dataset\\7\\7_cleaned_online.set\n",
      "Online file found: cleaned_dataset\\8\\8_cleaned_online.set\n",
      "Online file found: cleaned_dataset\\9\\9_cleaned_online.set\n",
      "Online file found: cleaned_dataset\\10\\10_cleaned_online.set\n",
      "Online file found: cleaned_dataset\\11\\11_cleaned_online.set\n",
      "Online file found: cleaned_dataset\\12\\12_cleaned_online.set\n",
      "Online file found: cleaned_dataset\\13\\13_cleaned_online.set\n",
      "Online file found: cleaned_dataset\\14\\14_cleaned_online.set\n",
      "Online file found: cleaned_dataset\\15\\15_cleaned_online.set\n",
      "Online file found: cleaned_dataset\\16\\16_cleaned_online.set\n",
      "Online file found: cleaned_dataset\\17\\17_cleaned_online.set\n",
      "Online file found: cleaned_dataset\\18\\18_cleaned_online.set\n",
      "Online file found: cleaned_dataset\\19\\19_cleaned_online.set\n",
      "Online file found: cleaned_dataset\\20\\20_cleaned_online.set\n",
      "Online file found: cleaned_dataset\\21\\21_cleaned_online.set\n",
      "Online file found: cleaned_dataset\\22\\22_cleaned_online.set\n",
      "Online file not found: cleaned_dataset\\23\\23_cleaned_online.set\n",
      "Online file found: cleaned_dataset\\24\\24_cleaned_online.set\n",
      "Online file found: cleaned_dataset\\25\\25_cleaned_online.set\n",
      "Online file not found: cleaned_dataset\\26\\26_cleaned_online.set\n",
      "Online file not found: cleaned_dataset\\27\\27_cleaned_online.set\n",
      "Online file found: cleaned_dataset\\28\\28_cleaned_online.set\n",
      "Online file found: cleaned_dataset\\29\\29_cleaned_online.set\n"
     ]
    }
   ],
   "source": [
    "all_online_MI_results = {}\n",
    "for n, subject in enumerate(subjects):\n",
    "    online_file = os.path.join(data_folder, str(subject), f'{subject}_cleaned_online.set')\n",
    "    if os.path.exists(online_file):\n",
    "        print(f\"Online file found: {online_file}\")\n",
    "    else:\n",
    "        print(f\"Online file not found: {online_file}\")\n",
    "        continue\n",
    "    all_online_MI_results[subject] = {}\n",
    "\n",
    "    MI_FBCSP_csp = joblib.load(os.path.join('features_extractors', f'MI_FBCSP_csp_subject_{n}.pkl'))\n",
    "    MI_FBCSP_scaler = joblib.load(os.path.join('features_extractors', f'MI_FBCSP_csp_scaler_subject_{n}.pkl'))\n",
    "    MI_FBCSP_clf = joblib.load(os.path.join('classifiers', f'MI_FBCSP_clf_subject_{n}.pkl'))\n",
    "    MI_ERP_clf = joblib.load(os.path.join('classifiers', f'MI_ERP_clf_subject_{n}.pkl'))\n",
    "    MI_ERP_scaler = joblib.load(os.path.join('features_extractors', f'MI_ERP_scaler_subject_{n}.pkl'))\n",
    "    MI_combined_clf = joblib.load(os.path.join('classifiers', f'MI_Combined_clf_subject_{n}.pkl'))\n",
    "    epochs_online_MI_FBCSP = create_online_epochs(online_file, 'MI', None, FBCSP_channels, [-0.5, 5.0], None, clean_data=False)\n",
    "    epochs_online_MI_ERP = create_online_epochs(online_file, 'MI', None, ERP_channels, [-0.5, 5.0], [-0.5, 0], clean_data=False)\n",
    "\n",
    "    MI_FBCSP_online_aligned, MI_ERP_online_aligned, labels_online_MI = align_epochs_and_labels(\n",
    "        epochs_online_MI_FBCSP, epochs_online_MI_ERP, 'MI_Arm', 'MI_Leg'\n",
    "    )\n",
    "\n",
    "    models_and_selectors = {\n",
    "        'fbcsp_clf': MI_FBCSP_clf,\n",
    "        'fbcsp_csp': MI_FBCSP_csp,\n",
    "        'fbcsp_selected_features': MI_results['FBCSP'][subject]['selected_features'],\n",
    "        'fbcsp_scaler': MI_FBCSP_scaler,\n",
    "        'erp_clf': MI_ERP_clf,\n",
    "        'erp_selected_features': MI_results['ERP'][subject]['selected_features'],\n",
    "        'erp_scaler': MI_ERP_scaler,\n",
    "        'combined_clf': MI_combined_clf\n",
    "    }\n",
    "\n",
    "    results = online_overtime_classification_from_whole_epochs(\n",
    "        MI_FBCSP_online_aligned, MI_ERP_online_aligned, labels_online_MI, models_and_selectors\n",
    "    )\n",
    "    all_online_MI_results[subject] = results"
   ]
  },
  {
   "cell_type": "code",
   "execution_count": 35,
   "metadata": {},
   "outputs": [
    {
     "name": "stdout",
     "output_type": "stream",
     "text": [
      "Online file found: cleaned_dataset\\1\\1_cleaned_online.set\n",
      "Online file not found: cleaned_dataset\\2\\2_cleaned_online.set\n",
      "Online file found: cleaned_dataset\\3\\3_cleaned_online.set\n",
      "Online file found: cleaned_dataset\\4\\4_cleaned_online.set\n",
      "Online file found: cleaned_dataset\\5\\5_cleaned_online.set\n",
      "Online file found: cleaned_dataset\\6\\6_cleaned_online.set\n",
      "Online file found: cleaned_dataset\\7\\7_cleaned_online.set\n",
      "Online file found: cleaned_dataset\\8\\8_cleaned_online.set\n",
      "Online file found: cleaned_dataset\\9\\9_cleaned_online.set\n",
      "Online file found: cleaned_dataset\\10\\10_cleaned_online.set\n",
      "Online file found: cleaned_dataset\\11\\11_cleaned_online.set\n",
      "Online file found: cleaned_dataset\\12\\12_cleaned_online.set\n",
      "Online file found: cleaned_dataset\\13\\13_cleaned_online.set\n",
      "Online file found: cleaned_dataset\\14\\14_cleaned_online.set\n",
      "Online file found: cleaned_dataset\\15\\15_cleaned_online.set\n",
      "Online file found: cleaned_dataset\\16\\16_cleaned_online.set\n",
      "Online file found: cleaned_dataset\\17\\17_cleaned_online.set\n",
      "Online file found: cleaned_dataset\\18\\18_cleaned_online.set\n",
      "Online file found: cleaned_dataset\\19\\19_cleaned_online.set\n",
      "Online file found: cleaned_dataset\\20\\20_cleaned_online.set\n",
      "Online file found: cleaned_dataset\\21\\21_cleaned_online.set\n",
      "Online file found: cleaned_dataset\\22\\22_cleaned_online.set\n",
      "Online file not found: cleaned_dataset\\23\\23_cleaned_online.set\n",
      "Online file found: cleaned_dataset\\24\\24_cleaned_online.set\n",
      "Online file found: cleaned_dataset\\25\\25_cleaned_online.set\n",
      "Online file not found: cleaned_dataset\\26\\26_cleaned_online.set\n",
      "Online file not found: cleaned_dataset\\27\\27_cleaned_online.set\n",
      "Online file found: cleaned_dataset\\28\\28_cleaned_online.set\n",
      "Online file found: cleaned_dataset\\29\\29_cleaned_online.set\n"
     ]
    }
   ],
   "source": [
    "all_online_MO_results = {}\n",
    "for n, subject in enumerate(subjects):\n",
    "    online_file = os.path.join(data_folder, str(subject), f'{subject}_cleaned_online.set')\n",
    "    if os.path.exists(online_file):\n",
    "        print(f\"Online file found: {online_file}\")\n",
    "    else:\n",
    "        print(f\"Online file not found: {online_file}\")\n",
    "        continue\n",
    "    all_online_MO_results[subject] = {}\n",
    "\n",
    "    MO_FBCSP_csp = joblib.load(os.path.join('features_extractors', f'MO_FBCSP_csp_subject_{n}.pkl'))\n",
    "    MO_FBCSP_scaler = joblib.load(os.path.join('features_extractors', f'MO_FBCSP_csp_scaler_subject_{n}.pkl'))\n",
    "    MO_FBCSP_clf = joblib.load(os.path.join('classifiers', f'MO_FBCSP_clf_subject_{n}.pkl'))\n",
    "    MO_ERP_clf = joblib.load(os.path.join('classifiers', f'MO_ERP_clf_subject_{n}.pkl'))\n",
    "    MO_ERP_scaler = joblib.load(os.path.join('features_extractors', f'MO_ERP_scaler_subject_{n}.pkl'))\n",
    "    MO_combined_clf = joblib.load(os.path.join('classifiers', f'MO_Combined_clf_subject_{n}.pkl'))\n",
    "    epochs_online_MO_FBCSP = create_online_epochs(online_file, 'MO', None, FBCSP_channels, [-0.5, 5.0], None, clean_data=False)\n",
    "    epochs_online_MO_ERP = create_online_epochs(online_file, 'MO', None, ERP_channels, [-0.5, 5.0], [-0.5, 0], clean_data=False)\n",
    "\n",
    "    MO_FBCSP_online_aligned, MO_ERP_online_aligned, labels_online_MO = align_epochs_and_labels(\n",
    "        epochs_online_MO_FBCSP, epochs_online_MO_ERP, 'MO_Arm', 'MO_Leg'\n",
    "    )\n",
    "\n",
    "    models_and_selectors = {\n",
    "        'fbcsp_clf': MO_FBCSP_clf,\n",
    "        'fbcsp_csp': MO_FBCSP_csp,\n",
    "        'fbcsp_selected_features': MO_results['FBCSP'][subject]['selected_features'],\n",
    "        'fbcsp_scaler': MO_FBCSP_scaler,\n",
    "        'erp_clf': MO_ERP_clf,\n",
    "        'erp_selected_features': MO_results['ERP'][subject]['selected_features'],\n",
    "        'erp_scaler': MO_ERP_scaler,\n",
    "        'combined_clf': MO_combined_clf\n",
    "    }\n",
    "\n",
    "    results = online_overtime_classification_from_whole_epochs(\n",
    "        MO_FBCSP_online_aligned, MO_ERP_online_aligned, labels_online_MO, models_and_selectors\n",
    "    )\n",
    "    all_online_MO_results[subject] = results"
   ]
  },
  {
   "cell_type": "code",
   "execution_count": 36,
   "metadata": {},
   "outputs": [
    {
     "data": {
      "application/vnd.plotly.v1+json": {
       "config": {
        "plotlyServerURL": "https://plot.ly"
       },
       "data": [
        {
         "colorbar": {
          "title": {
           "text": "Accuracy"
          }
         },
         "colorscale": [
          [
           0,
           "red"
          ],
          [
           0.5,
           "white"
          ],
          [
           1,
           "blue"
          ]
         ],
         "type": "heatmap",
         "x": [
          1.248,
          1.496,
          1.744,
          1.992,
          2.24,
          2.488,
          2.736,
          2.984,
          3.232,
          3.48,
          3.728
         ],
         "y": [
          "Subject 1: ERP",
          "Subject 3: ERP",
          "Subject 4: Combined",
          "Subject 5: FBCSP",
          "Subject 6: FBCSP",
          "Subject 7: FBCSP",
          "Subject 8: FBCSP",
          "Subject 9: FBCSP",
          "Subject 10: ERP",
          "Subject 11: FBCSP",
          "Subject 12: Combined",
          "Subject 13: ERP",
          "Subject 14: FBCSP",
          "Subject 15: ERP",
          "Subject 16: ERP",
          "Subject 17: Combined",
          "Subject 18: Combined",
          "Subject 19: ERP",
          "Subject 20: FBCSP",
          "Subject 21: FBCSP",
          "Subject 22: FBCSP",
          "Subject 24: FBCSP",
          "Subject 25: ERP",
          "Subject 28: ERP",
          "Subject 29: ERP"
         ],
         "z": [
          [
           0.65,
           0.6,
           0.55,
           0.5,
           0.65,
           0.45,
           0.65,
           0.5,
           0.55,
           0.65,
           0.5
          ],
          [
           0.5,
           0.6,
           0.5,
           0.6,
           0.4,
           0.4,
           0.6,
           0.45,
           0.55,
           0.5,
           0.45
          ],
          [
           0.5,
           0.5,
           0.55,
           0.45,
           0.45,
           0.5,
           0.5,
           0.5,
           0.55,
           0.55,
           0.65
          ],
          [
           0.5555555555555556,
           0.5555555555555556,
           0.6111111111111112,
           0.5555555555555556,
           0.6111111111111112,
           0.6111111111111112,
           0.5555555555555556,
           0.5,
           0.5,
           0.4444444444444444,
           0.5
          ],
          [
           0.5789473684210527,
           0.5789473684210527,
           0.47368421052631576,
           0.5789473684210527,
           0.5263157894736842,
           0.5789473684210527,
           0.5789473684210527,
           0.631578947368421,
           0.5789473684210527,
           0.631578947368421,
           0.631578947368421
          ],
          [
           0.5555555555555556,
           0.5555555555555556,
           0.5,
           0.6666666666666666,
           0.5555555555555556,
           0.5555555555555556,
           0.6111111111111112,
           0.5555555555555556,
           0.5555555555555556,
           0.3888888888888889,
           0.4444444444444444
          ],
          [
           0.47368421052631576,
           0.47368421052631576,
           0.47368421052631576,
           0.47368421052631576,
           0.47368421052631576,
           0.47368421052631576,
           0.47368421052631576,
           0.47368421052631576,
           0.47368421052631576,
           0.47368421052631576,
           0.47368421052631576
          ],
          [
           0.5,
           0.5,
           0.5,
           0.5,
           0.5,
           0.5,
           0.5,
           0.5555555555555556,
           0.5555555555555556,
           0.5555555555555556,
           0.5555555555555556
          ],
          [
           0.2857142857142857,
           0.42857142857142855,
           0.35714285714285715,
           0.42857142857142855,
           0.5,
           0.35714285714285715,
           0.42857142857142855,
           0.21428571428571427,
           0.35714285714285715,
           0.5,
           0.35714285714285715
          ],
          [
           0.45,
           0.55,
           0.55,
           0.45,
           0.5,
           0.35,
           0.6,
           0.45,
           0.55,
           0.5,
           0.5
          ],
          [
           0.6,
           0.65,
           0.6,
           0.6,
           0.6,
           0.7,
           0.6,
           0.55,
           0.6,
           0.7,
           0.7
          ],
          [
           0.6,
           0.55,
           0.55,
           0.7,
           0.6,
           0.45,
           0.4,
           0.55,
           0.65,
           0.6,
           0.55
          ],
          [
           0.65,
           0.65,
           0.6,
           0.55,
           0.55,
           0.55,
           0.5,
           0.55,
           0.45,
           0.5,
           0.55
          ],
          [
           0.4444444444444444,
           0.3888888888888889,
           0.5,
           0.5,
           0.5555555555555556,
           0.5555555555555556,
           0.4444444444444444,
           0.4444444444444444,
           0.5,
           0.5,
           0.6111111111111112
          ],
          [
           0.375,
           0.5625,
           0.375,
           0.5,
           0.5,
           0.5,
           0.4375,
           0.5,
           0.5625,
           0.375,
           0.4375
          ],
          [
           0.5333333333333333,
           0.6,
           0.6,
           0.4666666666666667,
           0.5333333333333333,
           0.3333333333333333,
           0.3333333333333333,
           0.5333333333333333,
           0.7333333333333333,
           0.5333333333333333,
           0.5333333333333333
          ],
          [
           0.5,
           0.55,
           0.4,
           0.45,
           0.7,
           0.45,
           0.45,
           0.6,
           0.55,
           0.6,
           0.4
          ],
          [
           0.6111111111111112,
           0.6111111111111112,
           0.6111111111111112,
           0.5555555555555556,
           0.5,
           0.5555555555555556,
           0.6111111111111112,
           0.6666666666666666,
           0.5,
           0.5555555555555556,
           0.3888888888888889
          ],
          [
           0.5,
           0.5,
           0.5,
           0.5,
           0.5,
           0.5,
           0.5,
           0.5,
           0.5,
           0.5,
           0.5
          ],
          [
           0.47368421052631576,
           0.47368421052631576,
           0.47368421052631576,
           0.47368421052631576,
           0.47368421052631576,
           0.47368421052631576,
           0.47368421052631576,
           0.47368421052631576,
           0.47368421052631576,
           0.47368421052631576,
           0.47368421052631576
          ],
          [
           0.5555555555555556,
           0.6111111111111112,
           0.6111111111111112,
           0.6111111111111112,
           0.6111111111111112,
           0.6666666666666666,
           0.6666666666666666,
           0.6666666666666666,
           0.6666666666666666,
           0.5555555555555556,
           0.3888888888888889
          ],
          [
           0.47368421052631576,
           0.47368421052631576,
           0.47368421052631576,
           0.47368421052631576,
           0.47368421052631576,
           0.47368421052631576,
           0.47368421052631576,
           0.47368421052631576,
           0.47368421052631576,
           0.47368421052631576,
           0.47368421052631576
          ],
          [
           0.4444444444444444,
           0.5,
           0.6111111111111112,
           0.6111111111111112,
           0.3333333333333333,
           0.6111111111111112,
           0.6666666666666666,
           0.6111111111111112,
           0.6111111111111112,
           0.5555555555555556,
           0.5
          ],
          [
           0.47368421052631576,
           0.47368421052631576,
           0.5789473684210527,
           0.6842105263157895,
           0.47368421052631576,
           0.47368421052631576,
           0.5789473684210527,
           0.42105263157894735,
           0.5789473684210527,
           0.631578947368421,
           0.5789473684210527
          ],
          [
           0.5789473684210527,
           0.5263157894736842,
           0.5789473684210527,
           0.5789473684210527,
           0.631578947368421,
           0.3684210526315789,
           0.42105263157894735,
           0.5789473684210527,
           0.47368421052631576,
           0.5263157894736842,
           0.5789473684210527
          ]
         ],
         "zmax": 1,
         "zmin": 0
        }
       ],
       "layout": {
        "height": 800,
        "template": {
         "data": {
          "bar": [
           {
            "error_x": {
             "color": "#2a3f5f"
            },
            "error_y": {
             "color": "#2a3f5f"
            },
            "marker": {
             "line": {
              "color": "#E5ECF6",
              "width": 0.5
             },
             "pattern": {
              "fillmode": "overlay",
              "size": 10,
              "solidity": 0.2
             }
            },
            "type": "bar"
           }
          ],
          "barpolar": [
           {
            "marker": {
             "line": {
              "color": "#E5ECF6",
              "width": 0.5
             },
             "pattern": {
              "fillmode": "overlay",
              "size": 10,
              "solidity": 0.2
             }
            },
            "type": "barpolar"
           }
          ],
          "carpet": [
           {
            "aaxis": {
             "endlinecolor": "#2a3f5f",
             "gridcolor": "white",
             "linecolor": "white",
             "minorgridcolor": "white",
             "startlinecolor": "#2a3f5f"
            },
            "baxis": {
             "endlinecolor": "#2a3f5f",
             "gridcolor": "white",
             "linecolor": "white",
             "minorgridcolor": "white",
             "startlinecolor": "#2a3f5f"
            },
            "type": "carpet"
           }
          ],
          "choropleth": [
           {
            "colorbar": {
             "outlinewidth": 0,
             "ticks": ""
            },
            "type": "choropleth"
           }
          ],
          "contour": [
           {
            "colorbar": {
             "outlinewidth": 0,
             "ticks": ""
            },
            "colorscale": [
             [
              0,
              "#0d0887"
             ],
             [
              0.1111111111111111,
              "#46039f"
             ],
             [
              0.2222222222222222,
              "#7201a8"
             ],
             [
              0.3333333333333333,
              "#9c179e"
             ],
             [
              0.4444444444444444,
              "#bd3786"
             ],
             [
              0.5555555555555556,
              "#d8576b"
             ],
             [
              0.6666666666666666,
              "#ed7953"
             ],
             [
              0.7777777777777778,
              "#fb9f3a"
             ],
             [
              0.8888888888888888,
              "#fdca26"
             ],
             [
              1,
              "#f0f921"
             ]
            ],
            "type": "contour"
           }
          ],
          "contourcarpet": [
           {
            "colorbar": {
             "outlinewidth": 0,
             "ticks": ""
            },
            "type": "contourcarpet"
           }
          ],
          "heatmap": [
           {
            "colorbar": {
             "outlinewidth": 0,
             "ticks": ""
            },
            "colorscale": [
             [
              0,
              "#0d0887"
             ],
             [
              0.1111111111111111,
              "#46039f"
             ],
             [
              0.2222222222222222,
              "#7201a8"
             ],
             [
              0.3333333333333333,
              "#9c179e"
             ],
             [
              0.4444444444444444,
              "#bd3786"
             ],
             [
              0.5555555555555556,
              "#d8576b"
             ],
             [
              0.6666666666666666,
              "#ed7953"
             ],
             [
              0.7777777777777778,
              "#fb9f3a"
             ],
             [
              0.8888888888888888,
              "#fdca26"
             ],
             [
              1,
              "#f0f921"
             ]
            ],
            "type": "heatmap"
           }
          ],
          "heatmapgl": [
           {
            "colorbar": {
             "outlinewidth": 0,
             "ticks": ""
            },
            "colorscale": [
             [
              0,
              "#0d0887"
             ],
             [
              0.1111111111111111,
              "#46039f"
             ],
             [
              0.2222222222222222,
              "#7201a8"
             ],
             [
              0.3333333333333333,
              "#9c179e"
             ],
             [
              0.4444444444444444,
              "#bd3786"
             ],
             [
              0.5555555555555556,
              "#d8576b"
             ],
             [
              0.6666666666666666,
              "#ed7953"
             ],
             [
              0.7777777777777778,
              "#fb9f3a"
             ],
             [
              0.8888888888888888,
              "#fdca26"
             ],
             [
              1,
              "#f0f921"
             ]
            ],
            "type": "heatmapgl"
           }
          ],
          "histogram": [
           {
            "marker": {
             "pattern": {
              "fillmode": "overlay",
              "size": 10,
              "solidity": 0.2
             }
            },
            "type": "histogram"
           }
          ],
          "histogram2d": [
           {
            "colorbar": {
             "outlinewidth": 0,
             "ticks": ""
            },
            "colorscale": [
             [
              0,
              "#0d0887"
             ],
             [
              0.1111111111111111,
              "#46039f"
             ],
             [
              0.2222222222222222,
              "#7201a8"
             ],
             [
              0.3333333333333333,
              "#9c179e"
             ],
             [
              0.4444444444444444,
              "#bd3786"
             ],
             [
              0.5555555555555556,
              "#d8576b"
             ],
             [
              0.6666666666666666,
              "#ed7953"
             ],
             [
              0.7777777777777778,
              "#fb9f3a"
             ],
             [
              0.8888888888888888,
              "#fdca26"
             ],
             [
              1,
              "#f0f921"
             ]
            ],
            "type": "histogram2d"
           }
          ],
          "histogram2dcontour": [
           {
            "colorbar": {
             "outlinewidth": 0,
             "ticks": ""
            },
            "colorscale": [
             [
              0,
              "#0d0887"
             ],
             [
              0.1111111111111111,
              "#46039f"
             ],
             [
              0.2222222222222222,
              "#7201a8"
             ],
             [
              0.3333333333333333,
              "#9c179e"
             ],
             [
              0.4444444444444444,
              "#bd3786"
             ],
             [
              0.5555555555555556,
              "#d8576b"
             ],
             [
              0.6666666666666666,
              "#ed7953"
             ],
             [
              0.7777777777777778,
              "#fb9f3a"
             ],
             [
              0.8888888888888888,
              "#fdca26"
             ],
             [
              1,
              "#f0f921"
             ]
            ],
            "type": "histogram2dcontour"
           }
          ],
          "mesh3d": [
           {
            "colorbar": {
             "outlinewidth": 0,
             "ticks": ""
            },
            "type": "mesh3d"
           }
          ],
          "parcoords": [
           {
            "line": {
             "colorbar": {
              "outlinewidth": 0,
              "ticks": ""
             }
            },
            "type": "parcoords"
           }
          ],
          "pie": [
           {
            "automargin": true,
            "type": "pie"
           }
          ],
          "scatter": [
           {
            "fillpattern": {
             "fillmode": "overlay",
             "size": 10,
             "solidity": 0.2
            },
            "type": "scatter"
           }
          ],
          "scatter3d": [
           {
            "line": {
             "colorbar": {
              "outlinewidth": 0,
              "ticks": ""
             }
            },
            "marker": {
             "colorbar": {
              "outlinewidth": 0,
              "ticks": ""
             }
            },
            "type": "scatter3d"
           }
          ],
          "scattercarpet": [
           {
            "marker": {
             "colorbar": {
              "outlinewidth": 0,
              "ticks": ""
             }
            },
            "type": "scattercarpet"
           }
          ],
          "scattergeo": [
           {
            "marker": {
             "colorbar": {
              "outlinewidth": 0,
              "ticks": ""
             }
            },
            "type": "scattergeo"
           }
          ],
          "scattergl": [
           {
            "marker": {
             "colorbar": {
              "outlinewidth": 0,
              "ticks": ""
             }
            },
            "type": "scattergl"
           }
          ],
          "scattermapbox": [
           {
            "marker": {
             "colorbar": {
              "outlinewidth": 0,
              "ticks": ""
             }
            },
            "type": "scattermapbox"
           }
          ],
          "scatterpolar": [
           {
            "marker": {
             "colorbar": {
              "outlinewidth": 0,
              "ticks": ""
             }
            },
            "type": "scatterpolar"
           }
          ],
          "scatterpolargl": [
           {
            "marker": {
             "colorbar": {
              "outlinewidth": 0,
              "ticks": ""
             }
            },
            "type": "scatterpolargl"
           }
          ],
          "scatterternary": [
           {
            "marker": {
             "colorbar": {
              "outlinewidth": 0,
              "ticks": ""
             }
            },
            "type": "scatterternary"
           }
          ],
          "surface": [
           {
            "colorbar": {
             "outlinewidth": 0,
             "ticks": ""
            },
            "colorscale": [
             [
              0,
              "#0d0887"
             ],
             [
              0.1111111111111111,
              "#46039f"
             ],
             [
              0.2222222222222222,
              "#7201a8"
             ],
             [
              0.3333333333333333,
              "#9c179e"
             ],
             [
              0.4444444444444444,
              "#bd3786"
             ],
             [
              0.5555555555555556,
              "#d8576b"
             ],
             [
              0.6666666666666666,
              "#ed7953"
             ],
             [
              0.7777777777777778,
              "#fb9f3a"
             ],
             [
              0.8888888888888888,
              "#fdca26"
             ],
             [
              1,
              "#f0f921"
             ]
            ],
            "type": "surface"
           }
          ],
          "table": [
           {
            "cells": {
             "fill": {
              "color": "#EBF0F8"
             },
             "line": {
              "color": "white"
             }
            },
            "header": {
             "fill": {
              "color": "#C8D4E3"
             },
             "line": {
              "color": "white"
             }
            },
            "type": "table"
           }
          ]
         },
         "layout": {
          "annotationdefaults": {
           "arrowcolor": "#2a3f5f",
           "arrowhead": 0,
           "arrowwidth": 1
          },
          "autotypenumbers": "strict",
          "coloraxis": {
           "colorbar": {
            "outlinewidth": 0,
            "ticks": ""
           }
          },
          "colorscale": {
           "diverging": [
            [
             0,
             "#8e0152"
            ],
            [
             0.1,
             "#c51b7d"
            ],
            [
             0.2,
             "#de77ae"
            ],
            [
             0.3,
             "#f1b6da"
            ],
            [
             0.4,
             "#fde0ef"
            ],
            [
             0.5,
             "#f7f7f7"
            ],
            [
             0.6,
             "#e6f5d0"
            ],
            [
             0.7,
             "#b8e186"
            ],
            [
             0.8,
             "#7fbc41"
            ],
            [
             0.9,
             "#4d9221"
            ],
            [
             1,
             "#276419"
            ]
           ],
           "sequential": [
            [
             0,
             "#0d0887"
            ],
            [
             0.1111111111111111,
             "#46039f"
            ],
            [
             0.2222222222222222,
             "#7201a8"
            ],
            [
             0.3333333333333333,
             "#9c179e"
            ],
            [
             0.4444444444444444,
             "#bd3786"
            ],
            [
             0.5555555555555556,
             "#d8576b"
            ],
            [
             0.6666666666666666,
             "#ed7953"
            ],
            [
             0.7777777777777778,
             "#fb9f3a"
            ],
            [
             0.8888888888888888,
             "#fdca26"
            ],
            [
             1,
             "#f0f921"
            ]
           ],
           "sequentialminus": [
            [
             0,
             "#0d0887"
            ],
            [
             0.1111111111111111,
             "#46039f"
            ],
            [
             0.2222222222222222,
             "#7201a8"
            ],
            [
             0.3333333333333333,
             "#9c179e"
            ],
            [
             0.4444444444444444,
             "#bd3786"
            ],
            [
             0.5555555555555556,
             "#d8576b"
            ],
            [
             0.6666666666666666,
             "#ed7953"
            ],
            [
             0.7777777777777778,
             "#fb9f3a"
            ],
            [
             0.8888888888888888,
             "#fdca26"
            ],
            [
             1,
             "#f0f921"
            ]
           ]
          },
          "colorway": [
           "#636efa",
           "#EF553B",
           "#00cc96",
           "#ab63fa",
           "#FFA15A",
           "#19d3f3",
           "#FF6692",
           "#B6E880",
           "#FF97FF",
           "#FECB52"
          ],
          "font": {
           "color": "#2a3f5f"
          },
          "geo": {
           "bgcolor": "white",
           "lakecolor": "white",
           "landcolor": "#E5ECF6",
           "showlakes": true,
           "showland": true,
           "subunitcolor": "white"
          },
          "hoverlabel": {
           "align": "left"
          },
          "hovermode": "closest",
          "mapbox": {
           "style": "light"
          },
          "paper_bgcolor": "white",
          "plot_bgcolor": "#E5ECF6",
          "polar": {
           "angularaxis": {
            "gridcolor": "white",
            "linecolor": "white",
            "ticks": ""
           },
           "bgcolor": "#E5ECF6",
           "radialaxis": {
            "gridcolor": "white",
            "linecolor": "white",
            "ticks": ""
           }
          },
          "scene": {
           "xaxis": {
            "backgroundcolor": "#E5ECF6",
            "gridcolor": "white",
            "gridwidth": 2,
            "linecolor": "white",
            "showbackground": true,
            "ticks": "",
            "zerolinecolor": "white"
           },
           "yaxis": {
            "backgroundcolor": "#E5ECF6",
            "gridcolor": "white",
            "gridwidth": 2,
            "linecolor": "white",
            "showbackground": true,
            "ticks": "",
            "zerolinecolor": "white"
           },
           "zaxis": {
            "backgroundcolor": "#E5ECF6",
            "gridcolor": "white",
            "gridwidth": 2,
            "linecolor": "white",
            "showbackground": true,
            "ticks": "",
            "zerolinecolor": "white"
           }
          },
          "shapedefaults": {
           "line": {
            "color": "#2a3f5f"
           }
          },
          "ternary": {
           "aaxis": {
            "gridcolor": "white",
            "linecolor": "white",
            "ticks": ""
           },
           "baxis": {
            "gridcolor": "white",
            "linecolor": "white",
            "ticks": ""
           },
           "bgcolor": "#E5ECF6",
           "caxis": {
            "gridcolor": "white",
            "linecolor": "white",
            "ticks": ""
           }
          },
          "title": {
           "x": 0.05
          },
          "xaxis": {
           "automargin": true,
           "gridcolor": "white",
           "linecolor": "white",
           "ticks": "",
           "title": {
            "standoff": 15
           },
           "zerolinecolor": "white",
           "zerolinewidth": 2
          },
          "yaxis": {
           "automargin": true,
           "gridcolor": "white",
           "linecolor": "white",
           "ticks": "",
           "title": {
            "standoff": 15
           },
           "zerolinecolor": "white",
           "zerolinewidth": 2
          }
         }
        },
        "title": {
         "text": "Best Model Accuracy Over Time for Each Subject"
        },
        "width": 1200,
        "xaxis": {
         "dtick": 0.5,
         "tickmode": "linear",
         "title": {
          "text": "Time (s)"
         }
        },
        "yaxis": {
         "autorange": "reversed",
         "title": {
          "text": "Subject and Best Model"
         }
        }
       }
      }
     },
     "metadata": {},
     "output_type": "display_data"
    }
   ],
   "source": [
    "import pandas as pd\n",
    "import plotly.graph_objects as go\n",
    "import numpy as np\n",
    "import warnings\n",
    "\n",
    "# Suppress the UserWarning from Plotly\n",
    "warnings.filterwarnings('ignore', category=UserWarning, module='plotly.graph_objects')\n",
    "\n",
    "# Prepare data for plotting\n",
    "plot_data = {}\n",
    "for subject, results in all_online_AW_results.items():\n",
    "    if not results:\n",
    "        continue\n",
    "    \n",
    "    # Calculate mean accuracy for each model across all time points\n",
    "    fbcsp_mean = np.mean(results['fbcsp_accuracies'])\n",
    "    erp_mean = np.mean(results['erp_accuracies'])\n",
    "    combined_mean = np.mean(results['combined_accuracies'])\n",
    "    \n",
    "    # Find the best model based on mean accuracy\n",
    "    means = {'FBCSP': fbcsp_mean, 'ERP': erp_mean, 'Combined': combined_mean}\n",
    "    best_model_name = max(means, key=means.get)\n",
    "    \n",
    "    # Store the accuracies of the best model and the model name\n",
    "    plot_data[subject] = {\n",
    "        'model_name': best_model_name,\n",
    "        'accuracies': results[f'{best_model_name.lower()}_accuracies']\n",
    "    }\n",
    "\n",
    "# Create a DataFrame for easy plotting\n",
    "x_times = all_online_AW_results['1']['times']\n",
    "y_subjects = []\n",
    "z_accuracies = []\n",
    "custom_data = []\n",
    "\n",
    "for subject, data in plot_data.items():\n",
    "    y_subjects.append(f\"Subject {subject}: {data['model_name']}\")\n",
    "    z_accuracies.append(data['accuracies'])\n",
    "\n",
    "# Create the heatmap\n",
    "fig = go.Figure(data=go.Heatmap(\n",
    "    x=x_times,\n",
    "    y=y_subjects,\n",
    "    z=z_accuracies,\n",
    "    colorscale=[[0.0, 'red'], [0.5, 'white'], [1.0, 'blue']],\n",
    "    zmin=0,\n",
    "    zmax=1,\n",
    "    colorbar=dict(title=\"Accuracy\")\n",
    "))\n",
    "\n",
    "# Set layout titles and labels\n",
    "fig.update_layout(\n",
    "    height=800,\n",
    "    width=1200,\n",
    "    title='Best Model Accuracy Over Time for Each Subject',\n",
    "    xaxis_title='Time (s)',\n",
    "    yaxis_title='Subject and Best Model',\n",
    "    yaxis_autorange='reversed',\n",
    "    xaxis_tickmode='linear',\n",
    "    xaxis_dtick=0.5\n",
    ")\n",
    "\n",
    "fig.show()"
   ]
  },
  {
   "cell_type": "code",
   "execution_count": 37,
   "metadata": {},
   "outputs": [
    {
     "data": {
      "application/vnd.plotly.v1+json": {
       "config": {
        "plotlyServerURL": "https://plot.ly"
       },
       "data": [
        {
         "colorbar": {
          "title": {
           "text": "Accuracy"
          }
         },
         "colorscale": [
          [
           0,
           "red"
          ],
          [
           0.5,
           "white"
          ],
          [
           1,
           "blue"
          ]
         ],
         "type": "heatmap",
         "x": [
          1.248,
          1.496,
          1.744,
          1.992,
          2.24,
          2.488,
          2.736,
          2.984,
          3.232,
          3.48,
          3.728
         ],
         "y": [
          "Subject 1: FBCSP",
          "Subject 3: FBCSP",
          "Subject 4: FBCSP",
          "Subject 5: FBCSP",
          "Subject 6: ERP",
          "Subject 7: ERP",
          "Subject 8: Combined",
          "Subject 9: Combined",
          "Subject 10: Combined",
          "Subject 11: Combined",
          "Subject 12: FBCSP",
          "Subject 13: ERP",
          "Subject 14: FBCSP",
          "Subject 15: FBCSP",
          "Subject 16: FBCSP",
          "Subject 17: FBCSP",
          "Subject 18: FBCSP",
          "Subject 19: ERP",
          "Subject 20: ERP",
          "Subject 21: ERP",
          "Subject 22: FBCSP",
          "Subject 24: FBCSP",
          "Subject 25: Combined",
          "Subject 28: Combined",
          "Subject 29: ERP"
         ],
         "z": [
          [
           0.47368421052631576,
           0.47368421052631576,
           0.47368421052631576,
           0.47368421052631576,
           0.47368421052631576,
           0.47368421052631576,
           0.47368421052631576,
           0.47368421052631576,
           0.47368421052631576,
           0.47368421052631576,
           0.47368421052631576
          ],
          [
           0.5263157894736842,
           0.5263157894736842,
           0.5263157894736842,
           0.5263157894736842,
           0.5263157894736842,
           0.5263157894736842,
           0.5263157894736842,
           0.5263157894736842,
           0.5789473684210527,
           0.5789473684210527,
           0.5789473684210527
          ],
          [
           0.5263157894736842,
           0.5263157894736842,
           0.5263157894736842,
           0.5263157894736842,
           0.5263157894736842,
           0.5263157894736842,
           0.5263157894736842,
           0.5263157894736842,
           0.5263157894736842,
           0.5263157894736842,
           0.5263157894736842
          ],
          [
           0.6470588235294118,
           0.5294117647058824,
           0.5882352941176471,
           0.5882352941176471,
           0.5294117647058824,
           0.5882352941176471,
           0.47058823529411764,
           0.5882352941176471,
           0.5294117647058824,
           0.5294117647058824,
           0.47058823529411764
          ],
          [
           0.3684210526315789,
           0.5789473684210527,
           0.5789473684210527,
           0.3157894736842105,
           0.5263157894736842,
           0.5789473684210527,
           0.3684210526315789,
           0.631578947368421,
           0.5789473684210527,
           0.3684210526315789,
           0.42105263157894735
          ],
          [
           0.5555555555555556,
           0.5555555555555556,
           0.6111111111111112,
           0.5555555555555556,
           0.6666666666666666,
           0.6111111111111112,
           0.6666666666666666,
           0.5555555555555556,
           0.4444444444444444,
           0.5,
           0.4444444444444444
          ],
          [
           0.5,
           0.7222222222222222,
           0.5555555555555556,
           0.5555555555555556,
           0.5,
           0.6111111111111112,
           0.5,
           0.4444444444444444,
           0.5,
           0.5,
           0.3888888888888889
          ],
          [
           0.4375,
           0.4375,
           0.375,
           0.5625,
           0.625,
           0.5,
           0.625,
           0.625,
           0.4375,
           0.625,
           0.5
          ],
          [
           0.5454545454545454,
           0.6363636363636364,
           0.45454545454545453,
           0.45454545454545453,
           0.6363636363636364,
           0.6363636363636364,
           0.7272727272727273,
           0.5454545454545454,
           0.5454545454545454,
           0.5454545454545454,
           0.5454545454545454
          ],
          [
           0.6111111111111112,
           0.5,
           0.5,
           0.5,
           0.5555555555555556,
           0.5555555555555556,
           0.6111111111111112,
           0.5,
           0.5555555555555556,
           0.6666666666666666,
           0.5555555555555556
          ],
          [
           0.47368421052631576,
           0.47368421052631576,
           0.5263157894736842,
           0.5789473684210527,
           0.631578947368421,
           0.631578947368421,
           0.5789473684210527,
           0.5263157894736842,
           0.5263157894736842,
           0.5263157894736842,
           0.5789473684210527
          ],
          [
           0.5263157894736842,
           0.3684210526315789,
           0.2631578947368421,
           0.42105263157894735,
           0.42105263157894735,
           0.631578947368421,
           0.42105263157894735,
           0.3157894736842105,
           0.5789473684210527,
           0.5789473684210527,
           0.3684210526315789
          ],
          [
           0.5882352941176471,
           0.47058823529411764,
           0.4117647058823529,
           0.7058823529411765,
           0.7058823529411765,
           0.7647058823529411,
           0.7647058823529411,
           0.7647058823529411,
           0.5294117647058824,
           0.6470588235294118,
           0.5294117647058824
          ],
          [
           0.42857142857142855,
           0.42857142857142855,
           0.42857142857142855,
           0.42857142857142855,
           0.42857142857142855,
           0.42857142857142855,
           0.42857142857142855,
           0.42857142857142855,
           0.42857142857142855,
           0.42857142857142855,
           0.42857142857142855
          ],
          [
           0.5714285714285714,
           0.5714285714285714,
           0.5714285714285714,
           0.5714285714285714,
           0.5,
           0.5,
           0.5,
           0.5,
           0.5,
           0.5,
           0.42857142857142855
          ],
          [
           0.4166666666666667,
           0.4166666666666667,
           0.5,
           0.4166666666666667,
           0.4166666666666667,
           0.5,
           0.5,
           0.6666666666666666,
           0.5833333333333334,
           0.5833333333333334,
           0.75
          ],
          [
           0.47368421052631576,
           0.5789473684210527,
           0.5789473684210527,
           0.5263157894736842,
           0.5789473684210527,
           0.47368421052631576,
           0.47368421052631576,
           0.5789473684210527,
           0.5263157894736842,
           0.47368421052631576,
           0.47368421052631576
          ],
          [
           0.6111111111111112,
           0.5555555555555556,
           0.6111111111111112,
           0.7222222222222222,
           0.6666666666666666,
           0.6111111111111112,
           0.5,
           0.6111111111111112,
           0.6111111111111112,
           0.5555555555555556,
           0.5555555555555556
          ],
          [
           0.47368421052631576,
           0.47368421052631576,
           0.5789473684210527,
           0.42105263157894735,
           0.5789473684210527,
           0.47368421052631576,
           0.631578947368421,
           0.42105263157894735,
           0.5789473684210527,
           0.5263157894736842,
           0.47368421052631576
          ],
          [
           0.4666666666666667,
           0.6666666666666666,
           0.4666666666666667,
           0.4666666666666667,
           0.4666666666666667,
           0.5333333333333333,
           0.5333333333333333,
           0.6,
           0.4666666666666667,
           0.4666666666666667,
           0.5333333333333333
          ],
          [
           0.47058823529411764,
           0.47058823529411764,
           0.47058823529411764,
           0.47058823529411764,
           0.47058823529411764,
           0.47058823529411764,
           0.47058823529411764,
           0.47058823529411764,
           0.47058823529411764,
           0.47058823529411764,
           0.47058823529411764
          ],
          [
           0.5789473684210527,
           0.5263157894736842,
           0.5263157894736842,
           0.5263157894736842,
           0.5263157894736842,
           0.5263157894736842,
           0.5263157894736842,
           0.5263157894736842,
           0.5789473684210527,
           0.5789473684210527,
           0.5789473684210527
          ],
          [
           0.5294117647058824,
           0.5294117647058824,
           0.5882352941176471,
           0.5882352941176471,
           0.5882352941176471,
           0.5294117647058824,
           0.5294117647058824,
           0.5294117647058824,
           0.5294117647058824,
           0.5294117647058824,
           0.5294117647058824
          ],
          [
           0.6111111111111112,
           0.5555555555555556,
           0.5555555555555556,
           0.5555555555555556,
           0.5555555555555556,
           0.6111111111111112,
           0.5555555555555556,
           0.5,
           0.5,
           0.6111111111111112,
           0.5
          ],
          [
           0.42857142857142855,
           0.5714285714285714,
           0.6428571428571429,
           0.6428571428571429,
           0.7142857142857143,
           0.42857142857142855,
           0.6428571428571429,
           0.6428571428571429,
           0.5714285714285714,
           0.7142857142857143,
           0.7857142857142857
          ]
         ],
         "zmax": 1,
         "zmin": 0
        }
       ],
       "layout": {
        "height": 800,
        "template": {
         "data": {
          "bar": [
           {
            "error_x": {
             "color": "#2a3f5f"
            },
            "error_y": {
             "color": "#2a3f5f"
            },
            "marker": {
             "line": {
              "color": "#E5ECF6",
              "width": 0.5
             },
             "pattern": {
              "fillmode": "overlay",
              "size": 10,
              "solidity": 0.2
             }
            },
            "type": "bar"
           }
          ],
          "barpolar": [
           {
            "marker": {
             "line": {
              "color": "#E5ECF6",
              "width": 0.5
             },
             "pattern": {
              "fillmode": "overlay",
              "size": 10,
              "solidity": 0.2
             }
            },
            "type": "barpolar"
           }
          ],
          "carpet": [
           {
            "aaxis": {
             "endlinecolor": "#2a3f5f",
             "gridcolor": "white",
             "linecolor": "white",
             "minorgridcolor": "white",
             "startlinecolor": "#2a3f5f"
            },
            "baxis": {
             "endlinecolor": "#2a3f5f",
             "gridcolor": "white",
             "linecolor": "white",
             "minorgridcolor": "white",
             "startlinecolor": "#2a3f5f"
            },
            "type": "carpet"
           }
          ],
          "choropleth": [
           {
            "colorbar": {
             "outlinewidth": 0,
             "ticks": ""
            },
            "type": "choropleth"
           }
          ],
          "contour": [
           {
            "colorbar": {
             "outlinewidth": 0,
             "ticks": ""
            },
            "colorscale": [
             [
              0,
              "#0d0887"
             ],
             [
              0.1111111111111111,
              "#46039f"
             ],
             [
              0.2222222222222222,
              "#7201a8"
             ],
             [
              0.3333333333333333,
              "#9c179e"
             ],
             [
              0.4444444444444444,
              "#bd3786"
             ],
             [
              0.5555555555555556,
              "#d8576b"
             ],
             [
              0.6666666666666666,
              "#ed7953"
             ],
             [
              0.7777777777777778,
              "#fb9f3a"
             ],
             [
              0.8888888888888888,
              "#fdca26"
             ],
             [
              1,
              "#f0f921"
             ]
            ],
            "type": "contour"
           }
          ],
          "contourcarpet": [
           {
            "colorbar": {
             "outlinewidth": 0,
             "ticks": ""
            },
            "type": "contourcarpet"
           }
          ],
          "heatmap": [
           {
            "colorbar": {
             "outlinewidth": 0,
             "ticks": ""
            },
            "colorscale": [
             [
              0,
              "#0d0887"
             ],
             [
              0.1111111111111111,
              "#46039f"
             ],
             [
              0.2222222222222222,
              "#7201a8"
             ],
             [
              0.3333333333333333,
              "#9c179e"
             ],
             [
              0.4444444444444444,
              "#bd3786"
             ],
             [
              0.5555555555555556,
              "#d8576b"
             ],
             [
              0.6666666666666666,
              "#ed7953"
             ],
             [
              0.7777777777777778,
              "#fb9f3a"
             ],
             [
              0.8888888888888888,
              "#fdca26"
             ],
             [
              1,
              "#f0f921"
             ]
            ],
            "type": "heatmap"
           }
          ],
          "heatmapgl": [
           {
            "colorbar": {
             "outlinewidth": 0,
             "ticks": ""
            },
            "colorscale": [
             [
              0,
              "#0d0887"
             ],
             [
              0.1111111111111111,
              "#46039f"
             ],
             [
              0.2222222222222222,
              "#7201a8"
             ],
             [
              0.3333333333333333,
              "#9c179e"
             ],
             [
              0.4444444444444444,
              "#bd3786"
             ],
             [
              0.5555555555555556,
              "#d8576b"
             ],
             [
              0.6666666666666666,
              "#ed7953"
             ],
             [
              0.7777777777777778,
              "#fb9f3a"
             ],
             [
              0.8888888888888888,
              "#fdca26"
             ],
             [
              1,
              "#f0f921"
             ]
            ],
            "type": "heatmapgl"
           }
          ],
          "histogram": [
           {
            "marker": {
             "pattern": {
              "fillmode": "overlay",
              "size": 10,
              "solidity": 0.2
             }
            },
            "type": "histogram"
           }
          ],
          "histogram2d": [
           {
            "colorbar": {
             "outlinewidth": 0,
             "ticks": ""
            },
            "colorscale": [
             [
              0,
              "#0d0887"
             ],
             [
              0.1111111111111111,
              "#46039f"
             ],
             [
              0.2222222222222222,
              "#7201a8"
             ],
             [
              0.3333333333333333,
              "#9c179e"
             ],
             [
              0.4444444444444444,
              "#bd3786"
             ],
             [
              0.5555555555555556,
              "#d8576b"
             ],
             [
              0.6666666666666666,
              "#ed7953"
             ],
             [
              0.7777777777777778,
              "#fb9f3a"
             ],
             [
              0.8888888888888888,
              "#fdca26"
             ],
             [
              1,
              "#f0f921"
             ]
            ],
            "type": "histogram2d"
           }
          ],
          "histogram2dcontour": [
           {
            "colorbar": {
             "outlinewidth": 0,
             "ticks": ""
            },
            "colorscale": [
             [
              0,
              "#0d0887"
             ],
             [
              0.1111111111111111,
              "#46039f"
             ],
             [
              0.2222222222222222,
              "#7201a8"
             ],
             [
              0.3333333333333333,
              "#9c179e"
             ],
             [
              0.4444444444444444,
              "#bd3786"
             ],
             [
              0.5555555555555556,
              "#d8576b"
             ],
             [
              0.6666666666666666,
              "#ed7953"
             ],
             [
              0.7777777777777778,
              "#fb9f3a"
             ],
             [
              0.8888888888888888,
              "#fdca26"
             ],
             [
              1,
              "#f0f921"
             ]
            ],
            "type": "histogram2dcontour"
           }
          ],
          "mesh3d": [
           {
            "colorbar": {
             "outlinewidth": 0,
             "ticks": ""
            },
            "type": "mesh3d"
           }
          ],
          "parcoords": [
           {
            "line": {
             "colorbar": {
              "outlinewidth": 0,
              "ticks": ""
             }
            },
            "type": "parcoords"
           }
          ],
          "pie": [
           {
            "automargin": true,
            "type": "pie"
           }
          ],
          "scatter": [
           {
            "fillpattern": {
             "fillmode": "overlay",
             "size": 10,
             "solidity": 0.2
            },
            "type": "scatter"
           }
          ],
          "scatter3d": [
           {
            "line": {
             "colorbar": {
              "outlinewidth": 0,
              "ticks": ""
             }
            },
            "marker": {
             "colorbar": {
              "outlinewidth": 0,
              "ticks": ""
             }
            },
            "type": "scatter3d"
           }
          ],
          "scattercarpet": [
           {
            "marker": {
             "colorbar": {
              "outlinewidth": 0,
              "ticks": ""
             }
            },
            "type": "scattercarpet"
           }
          ],
          "scattergeo": [
           {
            "marker": {
             "colorbar": {
              "outlinewidth": 0,
              "ticks": ""
             }
            },
            "type": "scattergeo"
           }
          ],
          "scattergl": [
           {
            "marker": {
             "colorbar": {
              "outlinewidth": 0,
              "ticks": ""
             }
            },
            "type": "scattergl"
           }
          ],
          "scattermapbox": [
           {
            "marker": {
             "colorbar": {
              "outlinewidth": 0,
              "ticks": ""
             }
            },
            "type": "scattermapbox"
           }
          ],
          "scatterpolar": [
           {
            "marker": {
             "colorbar": {
              "outlinewidth": 0,
              "ticks": ""
             }
            },
            "type": "scatterpolar"
           }
          ],
          "scatterpolargl": [
           {
            "marker": {
             "colorbar": {
              "outlinewidth": 0,
              "ticks": ""
             }
            },
            "type": "scatterpolargl"
           }
          ],
          "scatterternary": [
           {
            "marker": {
             "colorbar": {
              "outlinewidth": 0,
              "ticks": ""
             }
            },
            "type": "scatterternary"
           }
          ],
          "surface": [
           {
            "colorbar": {
             "outlinewidth": 0,
             "ticks": ""
            },
            "colorscale": [
             [
              0,
              "#0d0887"
             ],
             [
              0.1111111111111111,
              "#46039f"
             ],
             [
              0.2222222222222222,
              "#7201a8"
             ],
             [
              0.3333333333333333,
              "#9c179e"
             ],
             [
              0.4444444444444444,
              "#bd3786"
             ],
             [
              0.5555555555555556,
              "#d8576b"
             ],
             [
              0.6666666666666666,
              "#ed7953"
             ],
             [
              0.7777777777777778,
              "#fb9f3a"
             ],
             [
              0.8888888888888888,
              "#fdca26"
             ],
             [
              1,
              "#f0f921"
             ]
            ],
            "type": "surface"
           }
          ],
          "table": [
           {
            "cells": {
             "fill": {
              "color": "#EBF0F8"
             },
             "line": {
              "color": "white"
             }
            },
            "header": {
             "fill": {
              "color": "#C8D4E3"
             },
             "line": {
              "color": "white"
             }
            },
            "type": "table"
           }
          ]
         },
         "layout": {
          "annotationdefaults": {
           "arrowcolor": "#2a3f5f",
           "arrowhead": 0,
           "arrowwidth": 1
          },
          "autotypenumbers": "strict",
          "coloraxis": {
           "colorbar": {
            "outlinewidth": 0,
            "ticks": ""
           }
          },
          "colorscale": {
           "diverging": [
            [
             0,
             "#8e0152"
            ],
            [
             0.1,
             "#c51b7d"
            ],
            [
             0.2,
             "#de77ae"
            ],
            [
             0.3,
             "#f1b6da"
            ],
            [
             0.4,
             "#fde0ef"
            ],
            [
             0.5,
             "#f7f7f7"
            ],
            [
             0.6,
             "#e6f5d0"
            ],
            [
             0.7,
             "#b8e186"
            ],
            [
             0.8,
             "#7fbc41"
            ],
            [
             0.9,
             "#4d9221"
            ],
            [
             1,
             "#276419"
            ]
           ],
           "sequential": [
            [
             0,
             "#0d0887"
            ],
            [
             0.1111111111111111,
             "#46039f"
            ],
            [
             0.2222222222222222,
             "#7201a8"
            ],
            [
             0.3333333333333333,
             "#9c179e"
            ],
            [
             0.4444444444444444,
             "#bd3786"
            ],
            [
             0.5555555555555556,
             "#d8576b"
            ],
            [
             0.6666666666666666,
             "#ed7953"
            ],
            [
             0.7777777777777778,
             "#fb9f3a"
            ],
            [
             0.8888888888888888,
             "#fdca26"
            ],
            [
             1,
             "#f0f921"
            ]
           ],
           "sequentialminus": [
            [
             0,
             "#0d0887"
            ],
            [
             0.1111111111111111,
             "#46039f"
            ],
            [
             0.2222222222222222,
             "#7201a8"
            ],
            [
             0.3333333333333333,
             "#9c179e"
            ],
            [
             0.4444444444444444,
             "#bd3786"
            ],
            [
             0.5555555555555556,
             "#d8576b"
            ],
            [
             0.6666666666666666,
             "#ed7953"
            ],
            [
             0.7777777777777778,
             "#fb9f3a"
            ],
            [
             0.8888888888888888,
             "#fdca26"
            ],
            [
             1,
             "#f0f921"
            ]
           ]
          },
          "colorway": [
           "#636efa",
           "#EF553B",
           "#00cc96",
           "#ab63fa",
           "#FFA15A",
           "#19d3f3",
           "#FF6692",
           "#B6E880",
           "#FF97FF",
           "#FECB52"
          ],
          "font": {
           "color": "#2a3f5f"
          },
          "geo": {
           "bgcolor": "white",
           "lakecolor": "white",
           "landcolor": "#E5ECF6",
           "showlakes": true,
           "showland": true,
           "subunitcolor": "white"
          },
          "hoverlabel": {
           "align": "left"
          },
          "hovermode": "closest",
          "mapbox": {
           "style": "light"
          },
          "paper_bgcolor": "white",
          "plot_bgcolor": "#E5ECF6",
          "polar": {
           "angularaxis": {
            "gridcolor": "white",
            "linecolor": "white",
            "ticks": ""
           },
           "bgcolor": "#E5ECF6",
           "radialaxis": {
            "gridcolor": "white",
            "linecolor": "white",
            "ticks": ""
           }
          },
          "scene": {
           "xaxis": {
            "backgroundcolor": "#E5ECF6",
            "gridcolor": "white",
            "gridwidth": 2,
            "linecolor": "white",
            "showbackground": true,
            "ticks": "",
            "zerolinecolor": "white"
           },
           "yaxis": {
            "backgroundcolor": "#E5ECF6",
            "gridcolor": "white",
            "gridwidth": 2,
            "linecolor": "white",
            "showbackground": true,
            "ticks": "",
            "zerolinecolor": "white"
           },
           "zaxis": {
            "backgroundcolor": "#E5ECF6",
            "gridcolor": "white",
            "gridwidth": 2,
            "linecolor": "white",
            "showbackground": true,
            "ticks": "",
            "zerolinecolor": "white"
           }
          },
          "shapedefaults": {
           "line": {
            "color": "#2a3f5f"
           }
          },
          "ternary": {
           "aaxis": {
            "gridcolor": "white",
            "linecolor": "white",
            "ticks": ""
           },
           "baxis": {
            "gridcolor": "white",
            "linecolor": "white",
            "ticks": ""
           },
           "bgcolor": "#E5ECF6",
           "caxis": {
            "gridcolor": "white",
            "linecolor": "white",
            "ticks": ""
           }
          },
          "title": {
           "x": 0.05
          },
          "xaxis": {
           "automargin": true,
           "gridcolor": "white",
           "linecolor": "white",
           "ticks": "",
           "title": {
            "standoff": 15
           },
           "zerolinecolor": "white",
           "zerolinewidth": 2
          },
          "yaxis": {
           "automargin": true,
           "gridcolor": "white",
           "linecolor": "white",
           "ticks": "",
           "title": {
            "standoff": 15
           },
           "zerolinecolor": "white",
           "zerolinewidth": 2
          }
         }
        },
        "title": {
         "text": "Best Model Accuracy Over Time for Each Subject"
        },
        "width": 1200,
        "xaxis": {
         "dtick": 0.5,
         "tickmode": "linear",
         "title": {
          "text": "Time (s)"
         }
        },
        "yaxis": {
         "autorange": "reversed",
         "title": {
          "text": "Subject and Best Model"
         }
        }
       }
      }
     },
     "metadata": {},
     "output_type": "display_data"
    }
   ],
   "source": [
    "import pandas as pd\n",
    "import plotly.graph_objects as go\n",
    "import numpy as np\n",
    "import warnings\n",
    "\n",
    "# Suppress the UserWarning from Plotly\n",
    "warnings.filterwarnings('ignore', category=UserWarning, module='plotly.graph_objects')\n",
    "\n",
    "# Prepare data for plotting\n",
    "plot_data = {}\n",
    "for subject, results in all_online_MI_results.items():\n",
    "    if not results:\n",
    "        continue\n",
    "    \n",
    "    # Calculate mean accuracy for each model across all time points\n",
    "    fbcsp_mean = np.mean(results['fbcsp_accuracies'])\n",
    "    erp_mean = np.mean(results['erp_accuracies'])\n",
    "    combined_mean = np.mean(results['combined_accuracies'])\n",
    "    \n",
    "    # Find the best model based on mean accuracy\n",
    "    means = {'FBCSP': fbcsp_mean, 'ERP': erp_mean, 'Combined': combined_mean}\n",
    "    best_model_name = max(means, key=means.get)\n",
    "    \n",
    "    # Store the accuracies of the best model and the model name\n",
    "    plot_data[subject] = {\n",
    "        'model_name': best_model_name,\n",
    "        'accuracies': results[f'{best_model_name.lower()}_accuracies']\n",
    "    }\n",
    "\n",
    "# Create a DataFrame for easy plotting\n",
    "x_times = all_online_MI_results['1']['times']\n",
    "y_subjects = []\n",
    "z_accuracies = []\n",
    "custom_data = []\n",
    "\n",
    "for subject, data in plot_data.items():\n",
    "    y_subjects.append(f\"Subject {subject}: {data['model_name']}\")\n",
    "    z_accuracies.append(data['accuracies'])\n",
    "\n",
    "# Create the heatmap\n",
    "fig = go.Figure(data=go.Heatmap(\n",
    "    x=x_times,\n",
    "    y=y_subjects,\n",
    "    z=z_accuracies,\n",
    "    colorscale=[[0.0, 'red'], [0.5, 'white'], [1.0, 'blue']],\n",
    "    zmin=0,\n",
    "    zmax=1,\n",
    "    colorbar=dict(title=\"Accuracy\")\n",
    "))\n",
    "\n",
    "# Set layout titles and labels\n",
    "fig.update_layout(\n",
    "    height=800,\n",
    "    width=1200,\n",
    "    title='Best Model Accuracy Over Time for Each Subject',\n",
    "    xaxis_title='Time (s)',\n",
    "    yaxis_title='Subject and Best Model',\n",
    "    yaxis_autorange='reversed',\n",
    "    xaxis_tickmode='linear',\n",
    "    xaxis_dtick=0.5\n",
    ")\n",
    "\n",
    "fig.show()"
   ]
  },
  {
   "cell_type": "code",
   "execution_count": 38,
   "metadata": {},
   "outputs": [
    {
     "data": {
      "application/vnd.plotly.v1+json": {
       "config": {
        "plotlyServerURL": "https://plot.ly"
       },
       "data": [
        {
         "colorbar": {
          "title": {
           "text": "Accuracy"
          }
         },
         "colorscale": [
          [
           0,
           "red"
          ],
          [
           0.5,
           "white"
          ],
          [
           1,
           "blue"
          ]
         ],
         "type": "heatmap",
         "x": [
          1.248,
          1.496,
          1.744,
          1.992,
          2.24,
          2.488,
          2.736,
          2.984,
          3.232,
          3.48,
          3.728
         ],
         "y": [
          "Subject 1: FBCSP",
          "Subject 3: ERP",
          "Subject 4: FBCSP",
          "Subject 5: ERP",
          "Subject 6: ERP",
          "Subject 7: ERP",
          "Subject 8: Combined",
          "Subject 9: ERP",
          "Subject 10: ERP",
          "Subject 11: FBCSP",
          "Subject 12: FBCSP",
          "Subject 13: FBCSP",
          "Subject 14: ERP",
          "Subject 15: ERP",
          "Subject 16: ERP",
          "Subject 17: Combined",
          "Subject 18: Combined",
          "Subject 19: FBCSP",
          "Subject 20: Combined",
          "Subject 21: ERP",
          "Subject 22: ERP",
          "Subject 24: FBCSP",
          "Subject 25: ERP",
          "Subject 28: FBCSP",
          "Subject 29: Combined"
         ],
         "z": [
          [
           0.5555555555555556,
           0.5555555555555556,
           0.5555555555555556,
           0.5555555555555556,
           0.5555555555555556,
           0.5555555555555556,
           0.5,
           0.5,
           0.5,
           0.5,
           0.5
          ],
          [
           0.55,
           0.65,
           0.6,
           0.6,
           0.7,
           0.65,
           0.55,
           0.5,
           0.55,
           0.65,
           0.6
          ],
          [
           0.6,
           0.6,
           0.55,
           0.6,
           0.55,
           0.55,
           0.55,
           0.55,
           0.55,
           0.55,
           0.6
          ],
          [
           0.6470588235294118,
           0.5882352941176471,
           0.5294117647058824,
           0.5294117647058824,
           0.5294117647058824,
           0.5294117647058824,
           0.6470588235294118,
           0.5294117647058824,
           0.6470588235294118,
           0.5882352941176471,
           0.4117647058823529
          ],
          [
           0.55,
           0.6,
           0.55,
           0.5,
           0.65,
           0.65,
           0.65,
           0.55,
           0.6,
           0.5,
           0.7
          ],
          [
           0.6842105263157895,
           0.5263157894736842,
           0.5263157894736842,
           0.47368421052631576,
           0.3157894736842105,
           0.5263157894736842,
           0.7894736842105263,
           0.3684210526315789,
           0.42105263157894735,
           0.7368421052631579,
           0.5263157894736842
          ],
          [
           0.5,
           0.5,
           0.45,
           0.5,
           0.5,
           0.5,
           0.5,
           0.5,
           0.45,
           0.5,
           0.5
          ],
          [
           0.47058823529411764,
           0.47058823529411764,
           0.5294117647058824,
           0.4117647058823529,
           0.5882352941176471,
           0.47058823529411764,
           0.35294117647058826,
           0.5882352941176471,
           0.47058823529411764,
           0.4117647058823529,
           0.5294117647058824
          ],
          [
           0.6923076923076923,
           0.6923076923076923,
           0.46153846153846156,
           0.3076923076923077,
           0.6923076923076923,
           0.7692307692307693,
           0.5384615384615384,
           0.6153846153846154,
           0.5384615384615384,
           0.5384615384615384,
           0.5384615384615384
          ],
          [
           0.5294117647058824,
           0.5294117647058824,
           0.5294117647058824,
           0.5294117647058824,
           0.5294117647058824,
           0.5294117647058824,
           0.5882352941176471,
           0.5882352941176471,
           0.5882352941176471,
           0.5882352941176471,
           0.5882352941176471
          ],
          [
           0.65,
           0.65,
           0.65,
           0.65,
           0.6,
           0.75,
           0.75,
           0.75,
           0.7,
           0.7,
           0.7
          ],
          [
           0.5,
           0.5,
           0.5,
           0.5,
           0.5,
           0.5,
           0.5,
           0.5,
           0.5,
           0.5,
           0.5
          ],
          [
           0.7058823529411765,
           0.7647058823529411,
           0.4117647058823529,
           0.5294117647058824,
           0.7058823529411765,
           0.5882352941176471,
           0.6470588235294118,
           0.6470588235294118,
           0.4117647058823529,
           0.5294117647058824,
           0.5882352941176471
          ],
          [
           0.6,
           0.6,
           0.4,
           0.4666666666666667,
           0.6,
           0.7333333333333333,
           0.6,
           0.4,
           0.6,
           0.5333333333333333,
           0.4666666666666667
          ],
          [
           0.5,
           0.5,
           0.5714285714285714,
           0.5,
           0.5,
           0.6428571428571429,
           0.7142857142857143,
           0.5,
           0.5,
           0.6428571428571429,
           0.7857142857142857
          ],
          [
           0.5384615384615384,
           0.6153846153846154,
           0.6153846153846154,
           0.5384615384615384,
           0.5384615384615384,
           0.5384615384615384,
           0.6153846153846154,
           0.5384615384615384,
           0.46153846153846156,
           0.46153846153846156,
           0.46153846153846156
          ],
          [
           0.5,
           0.55,
           0.45,
           0.6,
           0.65,
           0.7,
           0.65,
           0.65,
           0.65,
           0.45,
           0.65
          ],
          [
           0.5,
           0.5,
           0.5,
           0.5,
           0.5,
           0.5,
           0.5,
           0.5,
           0.5,
           0.5,
           0.4444444444444444
          ],
          [
           0.6111111111111112,
           0.6111111111111112,
           0.6666666666666666,
           0.5,
           0.5555555555555556,
           0.6111111111111112,
           0.5555555555555556,
           0.5555555555555556,
           0.7222222222222222,
           0.5555555555555556,
           0.4444444444444444
          ],
          [
           0.5,
           0.5,
           0.4375,
           0.5,
           0.375,
           0.5,
           0.5,
           0.5625,
           0.4375,
           0.5,
           0.5
          ],
          [
           0.3888888888888889,
           0.4444444444444444,
           0.5,
           0.6111111111111112,
           0.3333333333333333,
           0.6666666666666666,
           0.6111111111111112,
           0.5,
           0.3333333333333333,
           0.5,
           0.6111111111111112
          ],
          [
           0.6,
           0.55,
           0.65,
           0.6,
           0.6,
           0.45,
           0.55,
           0.4,
           0.4,
           0.45,
           0.45
          ],
          [
           0.7222222222222222,
           0.7222222222222222,
           0.5555555555555556,
           0.5,
           0.5,
           0.5,
           0.6666666666666666,
           0.6666666666666666,
           0.5555555555555556,
           0.5555555555555556,
           0.6111111111111112
          ],
          [
           0.5263157894736842,
           0.5263157894736842,
           0.5789473684210527,
           0.5263157894736842,
           0.5263157894736842,
           0.5263157894736842,
           0.47368421052631576,
           0.5263157894736842,
           0.5263157894736842,
           0.5263157894736842,
           0.47368421052631576
          ],
          [
           0.6,
           0.7333333333333333,
           0.4,
           0.5333333333333333,
           0.6,
           0.5333333333333333,
           0.4,
           0.4666666666666667,
           0.5333333333333333,
           0.4,
           0.4
          ]
         ],
         "zmax": 1,
         "zmin": 0
        }
       ],
       "layout": {
        "height": 800,
        "template": {
         "data": {
          "bar": [
           {
            "error_x": {
             "color": "#2a3f5f"
            },
            "error_y": {
             "color": "#2a3f5f"
            },
            "marker": {
             "line": {
              "color": "#E5ECF6",
              "width": 0.5
             },
             "pattern": {
              "fillmode": "overlay",
              "size": 10,
              "solidity": 0.2
             }
            },
            "type": "bar"
           }
          ],
          "barpolar": [
           {
            "marker": {
             "line": {
              "color": "#E5ECF6",
              "width": 0.5
             },
             "pattern": {
              "fillmode": "overlay",
              "size": 10,
              "solidity": 0.2
             }
            },
            "type": "barpolar"
           }
          ],
          "carpet": [
           {
            "aaxis": {
             "endlinecolor": "#2a3f5f",
             "gridcolor": "white",
             "linecolor": "white",
             "minorgridcolor": "white",
             "startlinecolor": "#2a3f5f"
            },
            "baxis": {
             "endlinecolor": "#2a3f5f",
             "gridcolor": "white",
             "linecolor": "white",
             "minorgridcolor": "white",
             "startlinecolor": "#2a3f5f"
            },
            "type": "carpet"
           }
          ],
          "choropleth": [
           {
            "colorbar": {
             "outlinewidth": 0,
             "ticks": ""
            },
            "type": "choropleth"
           }
          ],
          "contour": [
           {
            "colorbar": {
             "outlinewidth": 0,
             "ticks": ""
            },
            "colorscale": [
             [
              0,
              "#0d0887"
             ],
             [
              0.1111111111111111,
              "#46039f"
             ],
             [
              0.2222222222222222,
              "#7201a8"
             ],
             [
              0.3333333333333333,
              "#9c179e"
             ],
             [
              0.4444444444444444,
              "#bd3786"
             ],
             [
              0.5555555555555556,
              "#d8576b"
             ],
             [
              0.6666666666666666,
              "#ed7953"
             ],
             [
              0.7777777777777778,
              "#fb9f3a"
             ],
             [
              0.8888888888888888,
              "#fdca26"
             ],
             [
              1,
              "#f0f921"
             ]
            ],
            "type": "contour"
           }
          ],
          "contourcarpet": [
           {
            "colorbar": {
             "outlinewidth": 0,
             "ticks": ""
            },
            "type": "contourcarpet"
           }
          ],
          "heatmap": [
           {
            "colorbar": {
             "outlinewidth": 0,
             "ticks": ""
            },
            "colorscale": [
             [
              0,
              "#0d0887"
             ],
             [
              0.1111111111111111,
              "#46039f"
             ],
             [
              0.2222222222222222,
              "#7201a8"
             ],
             [
              0.3333333333333333,
              "#9c179e"
             ],
             [
              0.4444444444444444,
              "#bd3786"
             ],
             [
              0.5555555555555556,
              "#d8576b"
             ],
             [
              0.6666666666666666,
              "#ed7953"
             ],
             [
              0.7777777777777778,
              "#fb9f3a"
             ],
             [
              0.8888888888888888,
              "#fdca26"
             ],
             [
              1,
              "#f0f921"
             ]
            ],
            "type": "heatmap"
           }
          ],
          "heatmapgl": [
           {
            "colorbar": {
             "outlinewidth": 0,
             "ticks": ""
            },
            "colorscale": [
             [
              0,
              "#0d0887"
             ],
             [
              0.1111111111111111,
              "#46039f"
             ],
             [
              0.2222222222222222,
              "#7201a8"
             ],
             [
              0.3333333333333333,
              "#9c179e"
             ],
             [
              0.4444444444444444,
              "#bd3786"
             ],
             [
              0.5555555555555556,
              "#d8576b"
             ],
             [
              0.6666666666666666,
              "#ed7953"
             ],
             [
              0.7777777777777778,
              "#fb9f3a"
             ],
             [
              0.8888888888888888,
              "#fdca26"
             ],
             [
              1,
              "#f0f921"
             ]
            ],
            "type": "heatmapgl"
           }
          ],
          "histogram": [
           {
            "marker": {
             "pattern": {
              "fillmode": "overlay",
              "size": 10,
              "solidity": 0.2
             }
            },
            "type": "histogram"
           }
          ],
          "histogram2d": [
           {
            "colorbar": {
             "outlinewidth": 0,
             "ticks": ""
            },
            "colorscale": [
             [
              0,
              "#0d0887"
             ],
             [
              0.1111111111111111,
              "#46039f"
             ],
             [
              0.2222222222222222,
              "#7201a8"
             ],
             [
              0.3333333333333333,
              "#9c179e"
             ],
             [
              0.4444444444444444,
              "#bd3786"
             ],
             [
              0.5555555555555556,
              "#d8576b"
             ],
             [
              0.6666666666666666,
              "#ed7953"
             ],
             [
              0.7777777777777778,
              "#fb9f3a"
             ],
             [
              0.8888888888888888,
              "#fdca26"
             ],
             [
              1,
              "#f0f921"
             ]
            ],
            "type": "histogram2d"
           }
          ],
          "histogram2dcontour": [
           {
            "colorbar": {
             "outlinewidth": 0,
             "ticks": ""
            },
            "colorscale": [
             [
              0,
              "#0d0887"
             ],
             [
              0.1111111111111111,
              "#46039f"
             ],
             [
              0.2222222222222222,
              "#7201a8"
             ],
             [
              0.3333333333333333,
              "#9c179e"
             ],
             [
              0.4444444444444444,
              "#bd3786"
             ],
             [
              0.5555555555555556,
              "#d8576b"
             ],
             [
              0.6666666666666666,
              "#ed7953"
             ],
             [
              0.7777777777777778,
              "#fb9f3a"
             ],
             [
              0.8888888888888888,
              "#fdca26"
             ],
             [
              1,
              "#f0f921"
             ]
            ],
            "type": "histogram2dcontour"
           }
          ],
          "mesh3d": [
           {
            "colorbar": {
             "outlinewidth": 0,
             "ticks": ""
            },
            "type": "mesh3d"
           }
          ],
          "parcoords": [
           {
            "line": {
             "colorbar": {
              "outlinewidth": 0,
              "ticks": ""
             }
            },
            "type": "parcoords"
           }
          ],
          "pie": [
           {
            "automargin": true,
            "type": "pie"
           }
          ],
          "scatter": [
           {
            "fillpattern": {
             "fillmode": "overlay",
             "size": 10,
             "solidity": 0.2
            },
            "type": "scatter"
           }
          ],
          "scatter3d": [
           {
            "line": {
             "colorbar": {
              "outlinewidth": 0,
              "ticks": ""
             }
            },
            "marker": {
             "colorbar": {
              "outlinewidth": 0,
              "ticks": ""
             }
            },
            "type": "scatter3d"
           }
          ],
          "scattercarpet": [
           {
            "marker": {
             "colorbar": {
              "outlinewidth": 0,
              "ticks": ""
             }
            },
            "type": "scattercarpet"
           }
          ],
          "scattergeo": [
           {
            "marker": {
             "colorbar": {
              "outlinewidth": 0,
              "ticks": ""
             }
            },
            "type": "scattergeo"
           }
          ],
          "scattergl": [
           {
            "marker": {
             "colorbar": {
              "outlinewidth": 0,
              "ticks": ""
             }
            },
            "type": "scattergl"
           }
          ],
          "scattermapbox": [
           {
            "marker": {
             "colorbar": {
              "outlinewidth": 0,
              "ticks": ""
             }
            },
            "type": "scattermapbox"
           }
          ],
          "scatterpolar": [
           {
            "marker": {
             "colorbar": {
              "outlinewidth": 0,
              "ticks": ""
             }
            },
            "type": "scatterpolar"
           }
          ],
          "scatterpolargl": [
           {
            "marker": {
             "colorbar": {
              "outlinewidth": 0,
              "ticks": ""
             }
            },
            "type": "scatterpolargl"
           }
          ],
          "scatterternary": [
           {
            "marker": {
             "colorbar": {
              "outlinewidth": 0,
              "ticks": ""
             }
            },
            "type": "scatterternary"
           }
          ],
          "surface": [
           {
            "colorbar": {
             "outlinewidth": 0,
             "ticks": ""
            },
            "colorscale": [
             [
              0,
              "#0d0887"
             ],
             [
              0.1111111111111111,
              "#46039f"
             ],
             [
              0.2222222222222222,
              "#7201a8"
             ],
             [
              0.3333333333333333,
              "#9c179e"
             ],
             [
              0.4444444444444444,
              "#bd3786"
             ],
             [
              0.5555555555555556,
              "#d8576b"
             ],
             [
              0.6666666666666666,
              "#ed7953"
             ],
             [
              0.7777777777777778,
              "#fb9f3a"
             ],
             [
              0.8888888888888888,
              "#fdca26"
             ],
             [
              1,
              "#f0f921"
             ]
            ],
            "type": "surface"
           }
          ],
          "table": [
           {
            "cells": {
             "fill": {
              "color": "#EBF0F8"
             },
             "line": {
              "color": "white"
             }
            },
            "header": {
             "fill": {
              "color": "#C8D4E3"
             },
             "line": {
              "color": "white"
             }
            },
            "type": "table"
           }
          ]
         },
         "layout": {
          "annotationdefaults": {
           "arrowcolor": "#2a3f5f",
           "arrowhead": 0,
           "arrowwidth": 1
          },
          "autotypenumbers": "strict",
          "coloraxis": {
           "colorbar": {
            "outlinewidth": 0,
            "ticks": ""
           }
          },
          "colorscale": {
           "diverging": [
            [
             0,
             "#8e0152"
            ],
            [
             0.1,
             "#c51b7d"
            ],
            [
             0.2,
             "#de77ae"
            ],
            [
             0.3,
             "#f1b6da"
            ],
            [
             0.4,
             "#fde0ef"
            ],
            [
             0.5,
             "#f7f7f7"
            ],
            [
             0.6,
             "#e6f5d0"
            ],
            [
             0.7,
             "#b8e186"
            ],
            [
             0.8,
             "#7fbc41"
            ],
            [
             0.9,
             "#4d9221"
            ],
            [
             1,
             "#276419"
            ]
           ],
           "sequential": [
            [
             0,
             "#0d0887"
            ],
            [
             0.1111111111111111,
             "#46039f"
            ],
            [
             0.2222222222222222,
             "#7201a8"
            ],
            [
             0.3333333333333333,
             "#9c179e"
            ],
            [
             0.4444444444444444,
             "#bd3786"
            ],
            [
             0.5555555555555556,
             "#d8576b"
            ],
            [
             0.6666666666666666,
             "#ed7953"
            ],
            [
             0.7777777777777778,
             "#fb9f3a"
            ],
            [
             0.8888888888888888,
             "#fdca26"
            ],
            [
             1,
             "#f0f921"
            ]
           ],
           "sequentialminus": [
            [
             0,
             "#0d0887"
            ],
            [
             0.1111111111111111,
             "#46039f"
            ],
            [
             0.2222222222222222,
             "#7201a8"
            ],
            [
             0.3333333333333333,
             "#9c179e"
            ],
            [
             0.4444444444444444,
             "#bd3786"
            ],
            [
             0.5555555555555556,
             "#d8576b"
            ],
            [
             0.6666666666666666,
             "#ed7953"
            ],
            [
             0.7777777777777778,
             "#fb9f3a"
            ],
            [
             0.8888888888888888,
             "#fdca26"
            ],
            [
             1,
             "#f0f921"
            ]
           ]
          },
          "colorway": [
           "#636efa",
           "#EF553B",
           "#00cc96",
           "#ab63fa",
           "#FFA15A",
           "#19d3f3",
           "#FF6692",
           "#B6E880",
           "#FF97FF",
           "#FECB52"
          ],
          "font": {
           "color": "#2a3f5f"
          },
          "geo": {
           "bgcolor": "white",
           "lakecolor": "white",
           "landcolor": "#E5ECF6",
           "showlakes": true,
           "showland": true,
           "subunitcolor": "white"
          },
          "hoverlabel": {
           "align": "left"
          },
          "hovermode": "closest",
          "mapbox": {
           "style": "light"
          },
          "paper_bgcolor": "white",
          "plot_bgcolor": "#E5ECF6",
          "polar": {
           "angularaxis": {
            "gridcolor": "white",
            "linecolor": "white",
            "ticks": ""
           },
           "bgcolor": "#E5ECF6",
           "radialaxis": {
            "gridcolor": "white",
            "linecolor": "white",
            "ticks": ""
           }
          },
          "scene": {
           "xaxis": {
            "backgroundcolor": "#E5ECF6",
            "gridcolor": "white",
            "gridwidth": 2,
            "linecolor": "white",
            "showbackground": true,
            "ticks": "",
            "zerolinecolor": "white"
           },
           "yaxis": {
            "backgroundcolor": "#E5ECF6",
            "gridcolor": "white",
            "gridwidth": 2,
            "linecolor": "white",
            "showbackground": true,
            "ticks": "",
            "zerolinecolor": "white"
           },
           "zaxis": {
            "backgroundcolor": "#E5ECF6",
            "gridcolor": "white",
            "gridwidth": 2,
            "linecolor": "white",
            "showbackground": true,
            "ticks": "",
            "zerolinecolor": "white"
           }
          },
          "shapedefaults": {
           "line": {
            "color": "#2a3f5f"
           }
          },
          "ternary": {
           "aaxis": {
            "gridcolor": "white",
            "linecolor": "white",
            "ticks": ""
           },
           "baxis": {
            "gridcolor": "white",
            "linecolor": "white",
            "ticks": ""
           },
           "bgcolor": "#E5ECF6",
           "caxis": {
            "gridcolor": "white",
            "linecolor": "white",
            "ticks": ""
           }
          },
          "title": {
           "x": 0.05
          },
          "xaxis": {
           "automargin": true,
           "gridcolor": "white",
           "linecolor": "white",
           "ticks": "",
           "title": {
            "standoff": 15
           },
           "zerolinecolor": "white",
           "zerolinewidth": 2
          },
          "yaxis": {
           "automargin": true,
           "gridcolor": "white",
           "linecolor": "white",
           "ticks": "",
           "title": {
            "standoff": 15
           },
           "zerolinecolor": "white",
           "zerolinewidth": 2
          }
         }
        },
        "title": {
         "text": "Best Model Accuracy Over Time for Each Subject"
        },
        "width": 1200,
        "xaxis": {
         "dtick": 0.5,
         "tickmode": "linear",
         "title": {
          "text": "Time (s)"
         }
        },
        "yaxis": {
         "autorange": "reversed",
         "title": {
          "text": "Subject and Best Model"
         }
        }
       }
      }
     },
     "metadata": {},
     "output_type": "display_data"
    }
   ],
   "source": [
    "import pandas as pd\n",
    "import plotly.graph_objects as go\n",
    "import numpy as np\n",
    "import warnings\n",
    "\n",
    "# Suppress the UserWarning from Plotly\n",
    "warnings.filterwarnings('ignore', category=UserWarning, module='plotly.graph_objects')\n",
    "\n",
    "# Prepare data for plotting\n",
    "plot_data = {}\n",
    "for subject, results in all_online_MO_results.items():\n",
    "    if not results:\n",
    "        continue\n",
    "    \n",
    "    # Calculate mean accuracy for each model across all time points\n",
    "    fbcsp_mean = np.mean(results['fbcsp_accuracies'])\n",
    "    erp_mean = np.mean(results['erp_accuracies'])\n",
    "    combined_mean = np.mean(results['combined_accuracies'])\n",
    "    \n",
    "    # Find the best model based on mean accuracy\n",
    "    means = {'FBCSP': fbcsp_mean, 'ERP': erp_mean, 'Combined': combined_mean}\n",
    "    best_model_name = max(means, key=means.get)\n",
    "    \n",
    "    # Store the accuracies of the best model and the model name\n",
    "    plot_data[subject] = {\n",
    "        'model_name': best_model_name,\n",
    "        'accuracies': results[f'{best_model_name.lower()}_accuracies']\n",
    "    }\n",
    "\n",
    "# Create a DataFrame for easy plotting\n",
    "x_times = all_online_MO_results['1']['times']\n",
    "y_subjects = []\n",
    "z_accuracies = []\n",
    "custom_data = []\n",
    "\n",
    "for subject, data in plot_data.items():\n",
    "    y_subjects.append(f\"Subject {subject}: {data['model_name']}\")\n",
    "    z_accuracies.append(data['accuracies'])\n",
    "\n",
    "# Create the heatmap\n",
    "fig = go.Figure(data=go.Heatmap(\n",
    "    x=x_times,\n",
    "    y=y_subjects,\n",
    "    z=z_accuracies,\n",
    "    colorscale=[[0.0, 'red'], [0.5, 'white'], [1.0, 'blue']],\n",
    "    zmin=0,\n",
    "    zmax=1,\n",
    "    colorbar=dict(title=\"Accuracy\")\n",
    "))\n",
    "\n",
    "# Set layout titles and labels\n",
    "fig.update_layout(\n",
    "    height=800,\n",
    "    width=1200,\n",
    "    title='Best Model Accuracy Over Time for Each Subject',\n",
    "    xaxis_title='Time (s)',\n",
    "    yaxis_title='Subject and Best Model',\n",
    "    yaxis_autorange='reversed',\n",
    "    xaxis_tickmode='linear',\n",
    "    xaxis_dtick=0.5\n",
    ")\n",
    "\n",
    "fig.show()"
   ]
  },
  {
   "cell_type": "code",
   "execution_count": 39,
   "metadata": {},
   "outputs": [],
   "source": [
    "def online_whole_data_classification(epochs_fbcsp, epochs_erp, labels,\n",
    "                                     fbcsp_clf, fbcsp_csp, erp_clf, combined_clf,\n",
    "                                     fbcsp_selected_features, erp_selected_features,\n",
    "                                     fbcsp_scaler, erp_scaler):\n",
    "    \"\"\"\n",
    "    Performs classification on the entire, unseen epochs and returns the accuracy.\n",
    "\n",
    "    Args:\n",
    "        epochs_fbcsp (mne.Epochs): FBCSP epochs (aligned and preprocessed).\n",
    "        epochs_erp (mne.Epochs): ERP epochs (aligned and preprocessed).\n",
    "        labels (np.ndarray): The true labels for the epochs.\n",
    "        fbcsp_clf, fbcsp_csp, erp_clf, combined_clf: Pre-trained models.\n",
    "        fbcsp_selected_features (np.ndarray): mRMR indices for FBCSP.\n",
    "        erp_selected_features (np.ndarray): mRMR indices for ERP.\n",
    "        fbcsp_scaler (StandardScaler): Pre-trained scaler for FBCSP features.\n",
    "        erp_scaler (StandardScaler): Pre-trained scaler for ERP features.\n",
    "\n",
    "    Returns:\n",
    "        dict: A dictionary with the overall accuracy for each classification method.\n",
    "    \"\"\"\n",
    "\n",
    "    # --- FBCSP Feature Extraction on the whole epoch ---\n",
    "    fbcsp_features_list = []\n",
    "    # FBCSP bands from your offline code\n",
    "    filtered_bands = [(8, 12), (12, 16), (16, 20), (20, 24), (24, 28), (13, 30)]\n",
    "\n",
    "    for l_freq, h_freq in filtered_bands:\n",
    "        temp_filtered_epochs = epochs_fbcsp.copy().filter(l_freq, h_freq, verbose=False)\n",
    "        epochs_data = temp_filtered_epochs.get_data(copy=False) * 1e6\n",
    "        csp_features = fbcsp_csp.transform(epochs_data)\n",
    "        fbcsp_features_list.append(csp_features)\n",
    "\n",
    "    final_fbcsp_features = np.concatenate(fbcsp_features_list, axis=1)\n",
    "\n",
    "    # Apply pre-trained scaler before mRMR feature selection\n",
    "    final_fbcsp_features = fbcsp_scaler.transform(final_fbcsp_features)\n",
    "\n",
    "    # Apply mRMR feature selection with the pre-trained indices\n",
    "    final_fbcsp_features = final_fbcsp_features[:, fbcsp_selected_features]\n",
    "\n",
    "    # --- ERP Feature Extraction on the whole epoch with sliding window ---\n",
    "    # The time window for online whole data classification must match offline training\n",
    "    window_duration_s = 0.5\n",
    "    step_size_s = 0.5\n",
    "    sfreq = epochs_erp.info['sfreq']\n",
    "\n",
    "    window_samples = int(window_duration_s * sfreq)\n",
    "    step_samples = int(step_size_s * sfreq)\n",
    "\n",
    "    # Define the time range for the sliding window to match offline training.\n",
    "    start_time_s = 0.0\n",
    "    end_time_s = 2.5\n",
    "    \n",
    "    # Correctly crop the online epochs to match the offline training window\n",
    "    epochs_erp_cropped = epochs_erp.copy().crop(tmin=start_time_s, tmax=end_time_s, include_tmax=False)\n",
    "\n",
    "    all_erp_features = []\n",
    "    for epoch_data in epochs_erp_cropped.get_data():\n",
    "        trial_features = []\n",
    "        for start_idx in np.arange(0, epoch_data.shape[-1] - window_samples + 1, step_samples):\n",
    "            end_idx = start_idx + window_samples\n",
    "            window_data = epoch_data[:, start_idx:end_idx]\n",
    "            window_features = np.mean(window_data, axis=1)\n",
    "            trial_features.append(window_features)\n",
    "\n",
    "        all_erp_features.append(np.concatenate(trial_features))\n",
    "\n",
    "    final_erp_features = np.array(all_erp_features)\n",
    "\n",
    "    # Apply pre-trained scaler before mRMR feature selection\n",
    "    final_erp_features = erp_scaler.transform(final_erp_features)\n",
    "\n",
    "    # Apply mRMR feature selection with the pre-trained indices\n",
    "    final_erp_features = final_erp_features[:, erp_selected_features]\n",
    "\n",
    "    # --- Classification and Accuracy Calculation ---\n",
    "\n",
    "    fbcsp_preds = fbcsp_clf.predict(final_fbcsp_features)\n",
    "    fbcsp_accuracy = accuracy_score(labels, fbcsp_preds)\n",
    "\n",
    "    erp_preds = erp_clf.predict(final_erp_features)\n",
    "    erp_accuracy = accuracy_score(labels, erp_preds)\n",
    "\n",
    "    combined_features = np.concatenate([final_fbcsp_features, final_erp_features], axis=1)\n",
    "    combined_preds = combined_clf.predict(combined_features)\n",
    "    combined_accuracy = accuracy_score(labels, combined_preds)\n",
    "\n",
    "    return {\n",
    "        'fbcsp_accuracy': fbcsp_accuracy,\n",
    "        'erp_accuracy': erp_accuracy,\n",
    "        'combined_accuracy': combined_accuracy\n",
    "    }"
   ]
  },
  {
   "cell_type": "code",
   "execution_count": 40,
   "metadata": {},
   "outputs": [
    {
     "name": "stdout",
     "output_type": "stream",
     "text": [
      "Online file found: cleaned_dataset\\1\\1_cleaned_online.set\n",
      "Whole-data classification results for Subject 1:\n",
      "{'fbcsp_accuracy': 0.5, 'erp_accuracy': 0.65, 'combined_accuracy': 0.5}\n",
      "Online file not found: cleaned_dataset\\2\\2_cleaned_online.set\n",
      "Online file found: cleaned_dataset\\3\\3_cleaned_online.set\n",
      "Whole-data classification results for Subject 3:\n",
      "{'fbcsp_accuracy': 0.5, 'erp_accuracy': 0.5, 'combined_accuracy': 0.5}\n",
      "Online file found: cleaned_dataset\\4\\4_cleaned_online.set\n",
      "Whole-data classification results for Subject 4:\n",
      "{'fbcsp_accuracy': 0.5, 'erp_accuracy': 0.45, 'combined_accuracy': 0.5}\n",
      "Online file found: cleaned_dataset\\5\\5_cleaned_online.set\n",
      "Whole-data classification results for Subject 5:\n",
      "{'fbcsp_accuracy': 0.5, 'erp_accuracy': 0.3888888888888889, 'combined_accuracy': 0.5}\n",
      "Online file found: cleaned_dataset\\6\\6_cleaned_online.set\n",
      "Whole-data classification results for Subject 6:\n",
      "{'fbcsp_accuracy': 0.631578947368421, 'erp_accuracy': 0.3684210526315789, 'combined_accuracy': 0.47368421052631576}\n",
      "Online file found: cleaned_dataset\\7\\7_cleaned_online.set\n",
      "Whole-data classification results for Subject 7:\n",
      "{'fbcsp_accuracy': 0.5, 'erp_accuracy': 0.5, 'combined_accuracy': 0.5}\n",
      "Online file found: cleaned_dataset\\8\\8_cleaned_online.set\n",
      "Whole-data classification results for Subject 8:\n",
      "{'fbcsp_accuracy': 0.47368421052631576, 'erp_accuracy': 0.2631578947368421, 'combined_accuracy': 0.47368421052631576}\n",
      "Online file found: cleaned_dataset\\9\\9_cleaned_online.set\n",
      "Whole-data classification results for Subject 9:\n",
      "{'fbcsp_accuracy': 0.5555555555555556, 'erp_accuracy': 0.5, 'combined_accuracy': 0.5555555555555556}\n",
      "Online file found: cleaned_dataset\\10\\10_cleaned_online.set\n",
      "Whole-data classification results for Subject 10:\n",
      "{'fbcsp_accuracy': 0.2857142857142857, 'erp_accuracy': 0.2857142857142857, 'combined_accuracy': 0.35714285714285715}\n",
      "Online file found: cleaned_dataset\\11\\11_cleaned_online.set\n",
      "Whole-data classification results for Subject 11:\n",
      "{'fbcsp_accuracy': 0.45, 'erp_accuracy': 0.6, 'combined_accuracy': 0.55}\n",
      "Online file found: cleaned_dataset\\12\\12_cleaned_online.set\n",
      "Whole-data classification results for Subject 12:\n",
      "{'fbcsp_accuracy': 0.4, 'erp_accuracy': 0.6, 'combined_accuracy': 0.55}\n",
      "Online file found: cleaned_dataset\\13\\13_cleaned_online.set\n",
      "Whole-data classification results for Subject 13:\n",
      "{'fbcsp_accuracy': 0.5, 'erp_accuracy': 0.6, 'combined_accuracy': 0.5}\n",
      "Online file found: cleaned_dataset\\14\\14_cleaned_online.set\n",
      "Whole-data classification results for Subject 14:\n",
      "{'fbcsp_accuracy': 0.55, 'erp_accuracy': 0.45, 'combined_accuracy': 0.35}\n",
      "Online file found: cleaned_dataset\\15\\15_cleaned_online.set\n",
      "Whole-data classification results for Subject 15:\n",
      "{'fbcsp_accuracy': 0.4444444444444444, 'erp_accuracy': 0.4444444444444444, 'combined_accuracy': 0.5555555555555556}\n",
      "Online file found: cleaned_dataset\\16\\16_cleaned_online.set\n",
      "Whole-data classification results for Subject 16:\n",
      "{'fbcsp_accuracy': 0.4375, 'erp_accuracy': 0.375, 'combined_accuracy': 0.3125}\n",
      "Online file found: cleaned_dataset\\17\\17_cleaned_online.set\n",
      "Whole-data classification results for Subject 17:\n",
      "{'fbcsp_accuracy': 0.6, 'erp_accuracy': 0.5333333333333333, 'combined_accuracy': 0.6}\n",
      "Online file found: cleaned_dataset\\18\\18_cleaned_online.set\n",
      "Whole-data classification results for Subject 18:\n",
      "{'fbcsp_accuracy': 0.5, 'erp_accuracy': 0.45, 'combined_accuracy': 0.55}\n",
      "Online file found: cleaned_dataset\\19\\19_cleaned_online.set\n",
      "Whole-data classification results for Subject 19:\n",
      "{'fbcsp_accuracy': 0.5, 'erp_accuracy': 0.6111111111111112, 'combined_accuracy': 0.5}\n",
      "Online file found: cleaned_dataset\\20\\20_cleaned_online.set\n",
      "Whole-data classification results for Subject 20:\n",
      "{'fbcsp_accuracy': 0.5, 'erp_accuracy': 0.55, 'combined_accuracy': 0.45}\n",
      "Online file found: cleaned_dataset\\21\\21_cleaned_online.set\n",
      "Whole-data classification results for Subject 21:\n",
      "{'fbcsp_accuracy': 0.47368421052631576, 'erp_accuracy': 0.3684210526315789, 'combined_accuracy': 0.47368421052631576}\n",
      "Online file found: cleaned_dataset\\22\\22_cleaned_online.set\n",
      "Whole-data classification results for Subject 22:\n",
      "{'fbcsp_accuracy': 0.4444444444444444, 'erp_accuracy': 0.6111111111111112, 'combined_accuracy': 0.4444444444444444}\n",
      "Online file not found: cleaned_dataset\\23\\23_cleaned_online.set\n",
      "Online file found: cleaned_dataset\\24\\24_cleaned_online.set\n",
      "Whole-data classification results for Subject 24:\n",
      "{'fbcsp_accuracy': 0.47368421052631576, 'erp_accuracy': 0.631578947368421, 'combined_accuracy': 0.47368421052631576}\n",
      "Online file found: cleaned_dataset\\25\\25_cleaned_online.set\n",
      "Whole-data classification results for Subject 25:\n",
      "{'fbcsp_accuracy': 0.5, 'erp_accuracy': 0.4444444444444444, 'combined_accuracy': 0.5}\n",
      "Online file not found: cleaned_dataset\\26\\26_cleaned_online.set\n",
      "Online file not found: cleaned_dataset\\27\\27_cleaned_online.set\n",
      "Online file found: cleaned_dataset\\28\\28_cleaned_online.set\n",
      "Whole-data classification results for Subject 28:\n",
      "{'fbcsp_accuracy': 0.47368421052631576, 'erp_accuracy': 0.47368421052631576, 'combined_accuracy': 0.47368421052631576}\n",
      "Online file found: cleaned_dataset\\29\\29_cleaned_online.set\n",
      "Whole-data classification results for Subject 29:\n",
      "{'fbcsp_accuracy': 0.3157894736842105, 'erp_accuracy': 0.5789473684210527, 'combined_accuracy': 0.3684210526315789}\n"
     ]
    }
   ],
   "source": [
    "whole_epochs_results_AW = {}\n",
    "for n, subject in enumerate(subjects):\n",
    "    online_file = os.path.join(data_folder, str(subject), f'{subject}_cleaned_online.set')\n",
    "    \n",
    "    if os.path.exists(online_file):\n",
    "        print(f\"Online file found: {online_file}\")\n",
    "    else:\n",
    "        print(f\"Online file not found: {online_file}\")\n",
    "        continue\n",
    "    whole_epochs_results_AW[subject] = {}\n",
    "\n",
    "    # Load pre-trained models\n",
    "    fbcsp_clf = joblib.load(os.path.join('classifiers', f'AW_FBCSP_clf_subject_{n}.pkl'))\n",
    "    fbcsp_csp = joblib.load(os.path.join('features_extractors', f'AW_FBCSP_csp_subject_{n}.pkl'))\n",
    "    fbcsp_scaler = joblib.load(os.path.join('features_extractors', f'AW_FBCSP_csp_scaler_subject_{n}.pkl'))\n",
    "    erp_clf = joblib.load(os.path.join('classifiers', f'AW_ERP_clf_subject_{n}.pkl'))\n",
    "    erp_scaler = joblib.load(os.path.join('features_extractors', f'AW_ERP_scaler_subject_{n}.pkl'))\n",
    "    combined_clf = joblib.load(os.path.join('classifiers', f'AW_Combined_clf_subject_{n}.pkl'))\n",
    "\n",
    "    # Create aligned epochs (this part is the same as before)\n",
    "    epochs_online_AW_FBCSP = create_online_epochs(online_file, 'AW', None, FBCSP_channels, [-0.5, 5.0], None, clean_data=False)\n",
    "    epochs_online_AW_ERP = create_online_epochs(online_file, 'AW', None, ERP_channels, [-0.5, 5.0], [-0.5, 0], clean_data=False)\n",
    "\n",
    "    AW_FBCSP_online_aligned, AW_ERP_online_aligned, labels_online_AW = align_epochs_and_labels(epochs_online_AW_FBCSP, epochs_online_AW_ERP,'AW_Arm', 'AW_Leg')\n",
    "\n",
    "    # Run the new whole-data classification method\n",
    "    whole_data_results = online_whole_data_classification(AW_FBCSP_online_aligned, AW_ERP_online_aligned, labels_online_AW,\n",
    "                                                          fbcsp_clf, fbcsp_csp, erp_clf, combined_clf, \n",
    "                                                          AW_results['FBCSP'][subject]['selected_features'], AW_results['ERP'][subject]['selected_features'],\n",
    "                                                          fbcsp_scaler, erp_scaler)\n",
    "    whole_epochs_results_AW[subject] = whole_data_results\n",
    "    print(f\"Whole-data classification results for Subject {subject}:\")\n",
    "    print(whole_data_results)"
   ]
  },
  {
   "cell_type": "code",
   "execution_count": 41,
   "metadata": {},
   "outputs": [
    {
     "name": "stdout",
     "output_type": "stream",
     "text": [
      "Online file found: cleaned_dataset\\1\\1_cleaned_online.set\n",
      "Whole-data classification results for Subject 1:\n",
      "{'fbcsp_accuracy': 0.47368421052631576, 'erp_accuracy': 0.3157894736842105, 'combined_accuracy': 0.47368421052631576}\n",
      "Online file not found: cleaned_dataset\\2\\2_cleaned_online.set\n",
      "Online file found: cleaned_dataset\\3\\3_cleaned_online.set\n",
      "Whole-data classification results for Subject 3:\n",
      "{'fbcsp_accuracy': 0.5263157894736842, 'erp_accuracy': 0.42105263157894735, 'combined_accuracy': 0.5263157894736842}\n",
      "Online file found: cleaned_dataset\\4\\4_cleaned_online.set\n",
      "Whole-data classification results for Subject 4:\n",
      "{'fbcsp_accuracy': 0.5263157894736842, 'erp_accuracy': 0.5789473684210527, 'combined_accuracy': 0.5263157894736842}\n",
      "Online file found: cleaned_dataset\\5\\5_cleaned_online.set\n",
      "Whole-data classification results for Subject 5:\n",
      "{'fbcsp_accuracy': 0.6470588235294118, 'erp_accuracy': 0.4117647058823529, 'combined_accuracy': 0.47058823529411764}\n",
      "Online file found: cleaned_dataset\\6\\6_cleaned_online.set\n",
      "Whole-data classification results for Subject 6:\n",
      "{'fbcsp_accuracy': 0.2631578947368421, 'erp_accuracy': 0.3684210526315789, 'combined_accuracy': 0.47368421052631576}\n",
      "Online file found: cleaned_dataset\\7\\7_cleaned_online.set\n",
      "Whole-data classification results for Subject 7:\n",
      "{'fbcsp_accuracy': 0.4444444444444444, 'erp_accuracy': 0.5555555555555556, 'combined_accuracy': 0.4444444444444444}\n",
      "Online file found: cleaned_dataset\\8\\8_cleaned_online.set\n",
      "Whole-data classification results for Subject 8:\n",
      "{'fbcsp_accuracy': 0.4444444444444444, 'erp_accuracy': 0.4444444444444444, 'combined_accuracy': 0.4444444444444444}\n",
      "Online file found: cleaned_dataset\\9\\9_cleaned_online.set\n",
      "Whole-data classification results for Subject 9:\n",
      "{'fbcsp_accuracy': 0.4375, 'erp_accuracy': 0.375, 'combined_accuracy': 0.5625}\n",
      "Online file found: cleaned_dataset\\10\\10_cleaned_online.set\n",
      "Whole-data classification results for Subject 10:\n",
      "{'fbcsp_accuracy': 0.36363636363636365, 'erp_accuracy': 0.7272727272727273, 'combined_accuracy': 0.5454545454545454}\n",
      "Online file found: cleaned_dataset\\11\\11_cleaned_online.set\n",
      "Whole-data classification results for Subject 11:\n",
      "{'fbcsp_accuracy': 0.5555555555555556, 'erp_accuracy': 0.5555555555555556, 'combined_accuracy': 0.4444444444444444}\n",
      "Online file found: cleaned_dataset\\12\\12_cleaned_online.set\n",
      "Whole-data classification results for Subject 12:\n",
      "{'fbcsp_accuracy': 0.5789473684210527, 'erp_accuracy': 0.3684210526315789, 'combined_accuracy': 0.5789473684210527}\n",
      "Online file found: cleaned_dataset\\13\\13_cleaned_online.set\n",
      "Whole-data classification results for Subject 13:\n",
      "{'fbcsp_accuracy': 0.3684210526315789, 'erp_accuracy': 0.5263157894736842, 'combined_accuracy': 0.3684210526315789}\n",
      "Online file found: cleaned_dataset\\14\\14_cleaned_online.set\n",
      "Whole-data classification results for Subject 14:\n",
      "{'fbcsp_accuracy': 0.47058823529411764, 'erp_accuracy': 0.35294117647058826, 'combined_accuracy': 0.47058823529411764}\n",
      "Online file found: cleaned_dataset\\15\\15_cleaned_online.set\n",
      "Whole-data classification results for Subject 15:\n",
      "{'fbcsp_accuracy': 0.42857142857142855, 'erp_accuracy': 0.42857142857142855, 'combined_accuracy': 0.35714285714285715}\n",
      "Online file found: cleaned_dataset\\16\\16_cleaned_online.set\n",
      "Whole-data classification results for Subject 16:\n",
      "{'fbcsp_accuracy': 0.5714285714285714, 'erp_accuracy': 0.5, 'combined_accuracy': 0.5714285714285714}\n",
      "Online file found: cleaned_dataset\\17\\17_cleaned_online.set\n",
      "Whole-data classification results for Subject 17:\n",
      "{'fbcsp_accuracy': 0.5, 'erp_accuracy': 0.25, 'combined_accuracy': 0.3333333333333333}\n",
      "Online file found: cleaned_dataset\\18\\18_cleaned_online.set\n",
      "Whole-data classification results for Subject 18:\n",
      "{'fbcsp_accuracy': 0.47368421052631576, 'erp_accuracy': 0.3684210526315789, 'combined_accuracy': 0.5263157894736842}\n",
      "Online file found: cleaned_dataset\\19\\19_cleaned_online.set\n",
      "Whole-data classification results for Subject 19:\n",
      "{'fbcsp_accuracy': 0.5555555555555556, 'erp_accuracy': 0.6111111111111112, 'combined_accuracy': 0.5555555555555556}\n",
      "Online file found: cleaned_dataset\\20\\20_cleaned_online.set\n",
      "Whole-data classification results for Subject 20:\n",
      "{'fbcsp_accuracy': 0.47368421052631576, 'erp_accuracy': 0.47368421052631576, 'combined_accuracy': 0.47368421052631576}\n",
      "Online file found: cleaned_dataset\\21\\21_cleaned_online.set\n",
      "Whole-data classification results for Subject 21:\n",
      "{'fbcsp_accuracy': 0.4, 'erp_accuracy': 0.4666666666666667, 'combined_accuracy': 0.4666666666666667}\n",
      "Online file found: cleaned_dataset\\22\\22_cleaned_online.set\n",
      "Whole-data classification results for Subject 22:\n",
      "{'fbcsp_accuracy': 0.47058823529411764, 'erp_accuracy': 0.35294117647058826, 'combined_accuracy': 0.47058823529411764}\n",
      "Online file not found: cleaned_dataset\\23\\23_cleaned_online.set\n",
      "Online file found: cleaned_dataset\\24\\24_cleaned_online.set\n",
      "Whole-data classification results for Subject 24:\n",
      "{'fbcsp_accuracy': 0.5263157894736842, 'erp_accuracy': 0.42105263157894735, 'combined_accuracy': 0.5789473684210527}\n",
      "Online file found: cleaned_dataset\\25\\25_cleaned_online.set\n",
      "Whole-data classification results for Subject 25:\n",
      "{'fbcsp_accuracy': 0.5294117647058824, 'erp_accuracy': 0.4117647058823529, 'combined_accuracy': 0.5294117647058824}\n",
      "Online file not found: cleaned_dataset\\26\\26_cleaned_online.set\n",
      "Online file not found: cleaned_dataset\\27\\27_cleaned_online.set\n",
      "Online file found: cleaned_dataset\\28\\28_cleaned_online.set\n",
      "Whole-data classification results for Subject 28:\n",
      "{'fbcsp_accuracy': 0.5, 'erp_accuracy': 0.5, 'combined_accuracy': 0.6111111111111112}\n",
      "Online file found: cleaned_dataset\\29\\29_cleaned_online.set\n",
      "Whole-data classification results for Subject 29:\n",
      "{'fbcsp_accuracy': 0.35714285714285715, 'erp_accuracy': 0.42857142857142855, 'combined_accuracy': 0.42857142857142855}\n"
     ]
    }
   ],
   "source": [
    "whole_epochs_results_MI = {}\n",
    "for n, subject in enumerate(subjects):\n",
    "    online_file = os.path.join(data_folder, str(subject), f'{subject}_cleaned_online.set')\n",
    "    \n",
    "    if os.path.exists(online_file):\n",
    "        print(f\"Online file found: {online_file}\")\n",
    "    else:\n",
    "        print(f\"Online file not found: {online_file}\")\n",
    "        continue\n",
    "    whole_epochs_results_MI[subject] = {}\n",
    "\n",
    "    # Load pre-trained models\n",
    "    fbcsp_clf = joblib.load(os.path.join('classifiers', f'MI_FBCSP_clf_subject_{n}.pkl'))\n",
    "    fbcsp_csp = joblib.load(os.path.join('features_extractors', f'MI_FBCSP_csp_subject_{n}.pkl'))\n",
    "    fbcsp_scaler = joblib.load(os.path.join('features_extractors', f'MI_FBCSP_csp_scaler_subject_{n}.pkl'))\n",
    "    erp_clf = joblib.load(os.path.join('classifiers', f'MI_ERP_clf_subject_{n}.pkl'))\n",
    "    erp_scaler = joblib.load(os.path.join('features_extractors', f'MI_ERP_scaler_subject_{n}.pkl'))\n",
    "    combined_clf = joblib.load(os.path.join('classifiers', f'MI_Combined_clf_subject_{n}.pkl'))\n",
    "\n",
    "    # Create aligned epochs\n",
    "    epochs_online_MI_FBCSP = create_online_epochs(online_file, 'MI', None, FBCSP_channels, [-0.5, 5.0], None, clean_data=False)\n",
    "    epochs_online_MI_ERP = create_online_epochs(online_file, 'MI', None, ERP_channels, [-0.5, 5.0], [-0.5, 0], clean_data=False)\n",
    "\n",
    "    MI_FBCSP_online_aligned, MI_ERP_online_aligned, labels_online_MI = align_epochs_and_labels(\n",
    "        epochs_online_MI_FBCSP, epochs_online_MI_ERP, 'MI_Arm', 'MI_Leg'\n",
    "    )\n",
    "\n",
    "    # Run the whole-data classification method\n",
    "    whole_data_results = online_whole_data_classification(\n",
    "        MI_FBCSP_online_aligned, MI_ERP_online_aligned, labels_online_MI,\n",
    "        fbcsp_clf, fbcsp_csp, erp_clf, combined_clf, MI_results['FBCSP'][subject]['selected_features'],\n",
    "        MI_results['ERP'][subject]['selected_features'],\n",
    "        fbcsp_scaler, erp_scaler\n",
    "    )\n",
    "    whole_epochs_results_MI[subject] = whole_data_results\n",
    "    print(f\"Whole-data classification results for Subject {subject}:\")\n",
    "    print(whole_data_results)"
   ]
  },
  {
   "cell_type": "code",
   "execution_count": 42,
   "metadata": {},
   "outputs": [
    {
     "name": "stdout",
     "output_type": "stream",
     "text": [
      "Online file found: cleaned_dataset\\1\\1_cleaned_online.set\n",
      "Whole-data classification results for Subject 1:\n",
      "{'fbcsp_accuracy': 0.5, 'erp_accuracy': 0.5555555555555556, 'combined_accuracy': 0.5}\n",
      "Online file not found: cleaned_dataset\\2\\2_cleaned_online.set\n",
      "Online file found: cleaned_dataset\\3\\3_cleaned_online.set\n",
      "Whole-data classification results for Subject 3:\n",
      "{'fbcsp_accuracy': 0.55, 'erp_accuracy': 0.55, 'combined_accuracy': 0.4}\n",
      "Online file found: cleaned_dataset\\4\\4_cleaned_online.set\n",
      "Whole-data classification results for Subject 4:\n",
      "{'fbcsp_accuracy': 0.5, 'erp_accuracy': 0.45, 'combined_accuracy': 0.5}\n",
      "Online file found: cleaned_dataset\\5\\5_cleaned_online.set\n",
      "Whole-data classification results for Subject 5:\n",
      "{'fbcsp_accuracy': 0.5294117647058824, 'erp_accuracy': 0.6470588235294118, 'combined_accuracy': 0.5294117647058824}\n",
      "Online file found: cleaned_dataset\\6\\6_cleaned_online.set\n",
      "Whole-data classification results for Subject 6:\n",
      "{'fbcsp_accuracy': 0.5, 'erp_accuracy': 0.55, 'combined_accuracy': 0.55}\n",
      "Online file found: cleaned_dataset\\7\\7_cleaned_online.set\n",
      "Whole-data classification results for Subject 7:\n",
      "{'fbcsp_accuracy': 0.47368421052631576, 'erp_accuracy': 0.6842105263157895, 'combined_accuracy': 0.5789473684210527}\n",
      "Online file found: cleaned_dataset\\8\\8_cleaned_online.set\n",
      "Whole-data classification results for Subject 8:\n",
      "{'fbcsp_accuracy': 0.45, 'erp_accuracy': 0.4, 'combined_accuracy': 0.5}\n",
      "Online file found: cleaned_dataset\\9\\9_cleaned_online.set\n",
      "Whole-data classification results for Subject 9:\n",
      "{'fbcsp_accuracy': 0.47058823529411764, 'erp_accuracy': 0.47058823529411764, 'combined_accuracy': 0.47058823529411764}\n",
      "Online file found: cleaned_dataset\\10\\10_cleaned_online.set\n",
      "Whole-data classification results for Subject 10:\n",
      "{'fbcsp_accuracy': 0.46153846153846156, 'erp_accuracy': 0.6923076923076923, 'combined_accuracy': 0.46153846153846156}\n",
      "Online file found: cleaned_dataset\\11\\11_cleaned_online.set\n",
      "Whole-data classification results for Subject 11:\n",
      "{'fbcsp_accuracy': 0.5294117647058824, 'erp_accuracy': 0.5294117647058824, 'combined_accuracy': 0.5294117647058824}\n",
      "Online file found: cleaned_dataset\\12\\12_cleaned_online.set\n",
      "Whole-data classification results for Subject 12:\n",
      "{'fbcsp_accuracy': 0.65, 'erp_accuracy': 0.55, 'combined_accuracy': 0.55}\n",
      "Online file found: cleaned_dataset\\13\\13_cleaned_online.set\n",
      "Whole-data classification results for Subject 13:\n",
      "{'fbcsp_accuracy': 0.5, 'erp_accuracy': 0.3333333333333333, 'combined_accuracy': 0.4444444444444444}\n",
      "Online file found: cleaned_dataset\\14\\14_cleaned_online.set\n",
      "Whole-data classification results for Subject 14:\n",
      "{'fbcsp_accuracy': 0.5294117647058824, 'erp_accuracy': 0.7058823529411765, 'combined_accuracy': 0.7058823529411765}\n",
      "Online file found: cleaned_dataset\\15\\15_cleaned_online.set\n",
      "Whole-data classification results for Subject 15:\n",
      "{'fbcsp_accuracy': 0.5333333333333333, 'erp_accuracy': 0.6, 'combined_accuracy': 0.5333333333333333}\n",
      "Online file found: cleaned_dataset\\16\\16_cleaned_online.set\n",
      "Whole-data classification results for Subject 16:\n",
      "{'fbcsp_accuracy': 0.42857142857142855, 'erp_accuracy': 0.5, 'combined_accuracy': 0.5}\n",
      "Online file found: cleaned_dataset\\17\\17_cleaned_online.set\n",
      "Whole-data classification results for Subject 17:\n",
      "{'fbcsp_accuracy': 0.6153846153846154, 'erp_accuracy': 0.38461538461538464, 'combined_accuracy': 0.5384615384615384}\n",
      "Online file found: cleaned_dataset\\18\\18_cleaned_online.set\n",
      "Whole-data classification results for Subject 18:\n",
      "{'fbcsp_accuracy': 0.5, 'erp_accuracy': 0.45, 'combined_accuracy': 0.6}\n",
      "Online file found: cleaned_dataset\\19\\19_cleaned_online.set\n",
      "Whole-data classification results for Subject 19:\n",
      "{'fbcsp_accuracy': 0.5, 'erp_accuracy': 0.5, 'combined_accuracy': 0.3333333333333333}\n",
      "Online file found: cleaned_dataset\\20\\20_cleaned_online.set\n",
      "Whole-data classification results for Subject 20:\n",
      "{'fbcsp_accuracy': 0.5, 'erp_accuracy': 0.5, 'combined_accuracy': 0.5555555555555556}\n",
      "Online file found: cleaned_dataset\\21\\21_cleaned_online.set\n",
      "Whole-data classification results for Subject 21:\n",
      "{'fbcsp_accuracy': 0.4375, 'erp_accuracy': 0.5, 'combined_accuracy': 0.4375}\n",
      "Online file found: cleaned_dataset\\22\\22_cleaned_online.set\n",
      "Whole-data classification results for Subject 22:\n",
      "{'fbcsp_accuracy': 0.5, 'erp_accuracy': 0.3888888888888889, 'combined_accuracy': 0.5}\n",
      "Online file not found: cleaned_dataset\\23\\23_cleaned_online.set\n",
      "Online file found: cleaned_dataset\\24\\24_cleaned_online.set\n",
      "Whole-data classification results for Subject 24:\n",
      "{'fbcsp_accuracy': 0.5, 'erp_accuracy': 0.5, 'combined_accuracy': 0.45}\n",
      "Online file found: cleaned_dataset\\25\\25_cleaned_online.set\n",
      "Whole-data classification results for Subject 25:\n",
      "{'fbcsp_accuracy': 0.4444444444444444, 'erp_accuracy': 0.7222222222222222, 'combined_accuracy': 0.5}\n",
      "Online file not found: cleaned_dataset\\26\\26_cleaned_online.set\n",
      "Online file not found: cleaned_dataset\\27\\27_cleaned_online.set\n",
      "Online file found: cleaned_dataset\\28\\28_cleaned_online.set\n",
      "Whole-data classification results for Subject 28:\n",
      "{'fbcsp_accuracy': 0.5263157894736842, 'erp_accuracy': 0.42105263157894735, 'combined_accuracy': 0.5263157894736842}\n",
      "Online file found: cleaned_dataset\\29\\29_cleaned_online.set\n",
      "Whole-data classification results for Subject 29:\n",
      "{'fbcsp_accuracy': 0.4666666666666667, 'erp_accuracy': 0.6, 'combined_accuracy': 0.5333333333333333}\n"
     ]
    }
   ],
   "source": [
    "whole_epochs_results_MO = {}\n",
    "for n, subject in enumerate(subjects):\n",
    "    online_file = os.path.join(data_folder, str(subject), f'{subject}_cleaned_online.set')\n",
    "    \n",
    "    if os.path.exists(online_file):\n",
    "        print(f\"Online file found: {online_file}\")\n",
    "    else:\n",
    "        print(f\"Online file not found: {online_file}\")\n",
    "        continue\n",
    "    whole_epochs_results_MO[subject] = {}\n",
    "\n",
    "    # Load pre-trained models\n",
    "    fbcsp_clf = joblib.load(os.path.join('classifiers', f'MO_FBCSP_clf_subject_{n}.pkl'))\n",
    "    fbcsp_csp = joblib.load(os.path.join('features_extractors', f'MO_FBCSP_csp_subject_{n}.pkl'))\n",
    "    fbcsp_scaler = joblib.load(os.path.join('features_extractors', f'MO_FBCSP_csp_scaler_subject_{n}.pkl'))\n",
    "    erp_clf = joblib.load(os.path.join('classifiers', f'MO_ERP_clf_subject_{n}.pkl'))\n",
    "    erp_scaler = joblib.load(os.path.join('features_extractors', f'MO_ERP_scaler_subject_{n}.pkl'))\n",
    "    combined_clf = joblib.load(os.path.join('classifiers', f'MO_Combined_clf_subject_{n}.pkl'))\n",
    "\n",
    "    # Create aligned epochs\n",
    "    epochs_online_MO_FBCSP = create_online_epochs(online_file, 'MO', None, FBCSP_channels, [-0.5, 5.0], None, clean_data=False)\n",
    "    epochs_online_MO_ERP = create_online_epochs(online_file, 'MO', None, ERP_channels, [-0.5, 5.0], [-0.5, 0], clean_data=False)\n",
    "\n",
    "    MO_FBCSP_online_aligned, MO_ERP_online_aligned, labels_online_MO = align_epochs_and_labels(\n",
    "        epochs_online_MO_FBCSP, epochs_online_MO_ERP, 'MO_Arm', 'MO_Leg'\n",
    "    )\n",
    "\n",
    "    # Run the whole-data classification method\n",
    "    whole_data_results = online_whole_data_classification(\n",
    "        MO_FBCSP_online_aligned, MO_ERP_online_aligned, labels_online_MO,\n",
    "        fbcsp_clf, fbcsp_csp, erp_clf, combined_clf, MO_results['FBCSP'][subject]['selected_features'],\n",
    "        MO_results['ERP'][subject]['selected_features'],\n",
    "        fbcsp_scaler, erp_scaler\n",
    "    )\n",
    "    whole_epochs_results_MO[subject] = whole_data_results\n",
    "    print(f\"Whole-data classification results for Subject {subject}:\")\n",
    "    print(whole_data_results)"
   ]
  },
  {
   "cell_type": "code",
   "execution_count": 43,
   "metadata": {},
   "outputs": [
    {
     "name": "stdout",
     "output_type": "stream",
     "text": [
      "           Accuracy          \n",
      "               mean       std\n",
      "Condition                    \n",
      "AW         0.480482  0.070290\n",
      "MI         0.489304  0.072082\n",
      "MO         0.509122  0.070818\n"
     ]
    },
    {
     "data": {
      "application/vnd.plotly.v1+json": {
       "config": {
        "plotlyServerURL": "https://plot.ly"
       },
       "data": [
        {
         "error_y": {
          "array": [
           0.07028961443817494,
           0.07028961443817494,
           0.07028961443817494,
           0.07028961443817494,
           0.07028961443817494,
           0.07028961443817494,
           0.07028961443817494,
           0.07028961443817494,
           0.07028961443817494,
           0.07028961443817494,
           0.07028961443817494,
           0.07028961443817494,
           0.07028961443817494,
           0.07028961443817494,
           0.07028961443817494,
           0.07028961443817494,
           0.07028961443817494,
           0.07028961443817494,
           0.07028961443817494,
           0.07028961443817494,
           0.07028961443817494,
           0.07028961443817494,
           0.07028961443817494,
           0.07028961443817494,
           0.07028961443817494
          ],
          "type": "data",
          "visible": true
         },
         "marker": {
          "color": "#ef8a62"
         },
         "name": "AW",
         "type": "bar",
         "x": [
          "1",
          "3",
          "4",
          "5",
          "6",
          "7",
          "8",
          "9",
          "10",
          "11",
          "12",
          "13",
          "14",
          "15",
          "16",
          "17",
          "18",
          "19",
          "20",
          "21",
          "22",
          "24",
          "25",
          "28",
          "29"
         ],
         "y": [
          0.5,
          0.5,
          0.5,
          0.5,
          0.47368421052631576,
          0.5,
          0.47368421052631576,
          0.5555555555555556,
          0.35714285714285715,
          0.55,
          0.55,
          0.5,
          0.35,
          0.5555555555555556,
          0.3125,
          0.6,
          0.55,
          0.5,
          0.45,
          0.47368421052631576,
          0.4444444444444444,
          0.47368421052631576,
          0.5,
          0.47368421052631576,
          0.3684210526315789
         ]
        },
        {
         "error_y": {
          "array": [
           0.07081818600852062,
           0.07081818600852062,
           0.07081818600852062,
           0.07081818600852062,
           0.07081818600852062,
           0.07081818600852062,
           0.07081818600852062,
           0.07081818600852062,
           0.07081818600852062,
           0.07081818600852062,
           0.07081818600852062,
           0.07081818600852062,
           0.07081818600852062,
           0.07081818600852062,
           0.07081818600852062,
           0.07081818600852062,
           0.07081818600852062,
           0.07081818600852062,
           0.07081818600852062,
           0.07081818600852062,
           0.07081818600852062,
           0.07081818600852062,
           0.07081818600852062,
           0.07081818600852062,
           0.07081818600852062
          ],
          "type": "data",
          "visible": true
         },
         "marker": {
          "color": "#67a9cf"
         },
         "name": "MO",
         "type": "bar",
         "x": [
          "1",
          "3",
          "4",
          "5",
          "6",
          "7",
          "8",
          "9",
          "10",
          "11",
          "12",
          "13",
          "14",
          "15",
          "16",
          "17",
          "18",
          "19",
          "20",
          "21",
          "22",
          "24",
          "25",
          "28",
          "29"
         ],
         "y": [
          0.5,
          0.4,
          0.5,
          0.5294117647058824,
          0.55,
          0.5789473684210527,
          0.5,
          0.47058823529411764,
          0.46153846153846156,
          0.5294117647058824,
          0.55,
          0.4444444444444444,
          0.7058823529411765,
          0.5333333333333333,
          0.5,
          0.5384615384615384,
          0.6,
          0.3333333333333333,
          0.5555555555555556,
          0.4375,
          0.5,
          0.45,
          0.5,
          0.5263157894736842,
          0.5333333333333333
         ]
        },
        {
         "error_y": {
          "array": [
           0.0720816237537203,
           0.0720816237537203,
           0.0720816237537203,
           0.0720816237537203,
           0.0720816237537203,
           0.0720816237537203,
           0.0720816237537203,
           0.0720816237537203,
           0.0720816237537203,
           0.0720816237537203,
           0.0720816237537203,
           0.0720816237537203,
           0.0720816237537203,
           0.0720816237537203,
           0.0720816237537203,
           0.0720816237537203,
           0.0720816237537203,
           0.0720816237537203,
           0.0720816237537203,
           0.0720816237537203,
           0.0720816237537203,
           0.0720816237537203,
           0.0720816237537203,
           0.0720816237537203,
           0.0720816237537203
          ],
          "type": "data",
          "visible": true
         },
         "marker": {
          "color": "#999999"
         },
         "name": "MI",
         "type": "bar",
         "x": [
          "1",
          "3",
          "4",
          "5",
          "6",
          "7",
          "8",
          "9",
          "10",
          "11",
          "12",
          "13",
          "14",
          "15",
          "16",
          "17",
          "18",
          "19",
          "20",
          "21",
          "22",
          "24",
          "25",
          "28",
          "29"
         ],
         "y": [
          0.47368421052631576,
          0.5263157894736842,
          0.5263157894736842,
          0.47058823529411764,
          0.47368421052631576,
          0.4444444444444444,
          0.4444444444444444,
          0.5625,
          0.5454545454545454,
          0.4444444444444444,
          0.5789473684210527,
          0.3684210526315789,
          0.47058823529411764,
          0.35714285714285715,
          0.5714285714285714,
          0.3333333333333333,
          0.5263157894736842,
          0.5555555555555556,
          0.47368421052631576,
          0.4666666666666667,
          0.47058823529411764,
          0.5789473684210527,
          0.5294117647058824,
          0.6111111111111112,
          0.42857142857142855
         ]
        }
       ],
       "layout": {
        "barmode": "group",
        "legend": {
         "title": {
          "text": "Condition"
         }
        },
        "shapes": [
         {
          "line": {
           "color": "gray",
           "width": 1
          },
          "type": "line",
          "x0": 0,
          "x1": 1,
          "xref": "x domain",
          "y0": 0.5,
          "y1": 0.5,
          "yref": "y"
         }
        ],
        "template": {
         "data": {
          "bar": [
           {
            "error_x": {
             "color": "#2a3f5f"
            },
            "error_y": {
             "color": "#2a3f5f"
            },
            "marker": {
             "line": {
              "color": "#E5ECF6",
              "width": 0.5
             },
             "pattern": {
              "fillmode": "overlay",
              "size": 10,
              "solidity": 0.2
             }
            },
            "type": "bar"
           }
          ],
          "barpolar": [
           {
            "marker": {
             "line": {
              "color": "#E5ECF6",
              "width": 0.5
             },
             "pattern": {
              "fillmode": "overlay",
              "size": 10,
              "solidity": 0.2
             }
            },
            "type": "barpolar"
           }
          ],
          "carpet": [
           {
            "aaxis": {
             "endlinecolor": "#2a3f5f",
             "gridcolor": "white",
             "linecolor": "white",
             "minorgridcolor": "white",
             "startlinecolor": "#2a3f5f"
            },
            "baxis": {
             "endlinecolor": "#2a3f5f",
             "gridcolor": "white",
             "linecolor": "white",
             "minorgridcolor": "white",
             "startlinecolor": "#2a3f5f"
            },
            "type": "carpet"
           }
          ],
          "choropleth": [
           {
            "colorbar": {
             "outlinewidth": 0,
             "ticks": ""
            },
            "type": "choropleth"
           }
          ],
          "contour": [
           {
            "colorbar": {
             "outlinewidth": 0,
             "ticks": ""
            },
            "colorscale": [
             [
              0,
              "#0d0887"
             ],
             [
              0.1111111111111111,
              "#46039f"
             ],
             [
              0.2222222222222222,
              "#7201a8"
             ],
             [
              0.3333333333333333,
              "#9c179e"
             ],
             [
              0.4444444444444444,
              "#bd3786"
             ],
             [
              0.5555555555555556,
              "#d8576b"
             ],
             [
              0.6666666666666666,
              "#ed7953"
             ],
             [
              0.7777777777777778,
              "#fb9f3a"
             ],
             [
              0.8888888888888888,
              "#fdca26"
             ],
             [
              1,
              "#f0f921"
             ]
            ],
            "type": "contour"
           }
          ],
          "contourcarpet": [
           {
            "colorbar": {
             "outlinewidth": 0,
             "ticks": ""
            },
            "type": "contourcarpet"
           }
          ],
          "heatmap": [
           {
            "colorbar": {
             "outlinewidth": 0,
             "ticks": ""
            },
            "colorscale": [
             [
              0,
              "#0d0887"
             ],
             [
              0.1111111111111111,
              "#46039f"
             ],
             [
              0.2222222222222222,
              "#7201a8"
             ],
             [
              0.3333333333333333,
              "#9c179e"
             ],
             [
              0.4444444444444444,
              "#bd3786"
             ],
             [
              0.5555555555555556,
              "#d8576b"
             ],
             [
              0.6666666666666666,
              "#ed7953"
             ],
             [
              0.7777777777777778,
              "#fb9f3a"
             ],
             [
              0.8888888888888888,
              "#fdca26"
             ],
             [
              1,
              "#f0f921"
             ]
            ],
            "type": "heatmap"
           }
          ],
          "heatmapgl": [
           {
            "colorbar": {
             "outlinewidth": 0,
             "ticks": ""
            },
            "colorscale": [
             [
              0,
              "#0d0887"
             ],
             [
              0.1111111111111111,
              "#46039f"
             ],
             [
              0.2222222222222222,
              "#7201a8"
             ],
             [
              0.3333333333333333,
              "#9c179e"
             ],
             [
              0.4444444444444444,
              "#bd3786"
             ],
             [
              0.5555555555555556,
              "#d8576b"
             ],
             [
              0.6666666666666666,
              "#ed7953"
             ],
             [
              0.7777777777777778,
              "#fb9f3a"
             ],
             [
              0.8888888888888888,
              "#fdca26"
             ],
             [
              1,
              "#f0f921"
             ]
            ],
            "type": "heatmapgl"
           }
          ],
          "histogram": [
           {
            "marker": {
             "pattern": {
              "fillmode": "overlay",
              "size": 10,
              "solidity": 0.2
             }
            },
            "type": "histogram"
           }
          ],
          "histogram2d": [
           {
            "colorbar": {
             "outlinewidth": 0,
             "ticks": ""
            },
            "colorscale": [
             [
              0,
              "#0d0887"
             ],
             [
              0.1111111111111111,
              "#46039f"
             ],
             [
              0.2222222222222222,
              "#7201a8"
             ],
             [
              0.3333333333333333,
              "#9c179e"
             ],
             [
              0.4444444444444444,
              "#bd3786"
             ],
             [
              0.5555555555555556,
              "#d8576b"
             ],
             [
              0.6666666666666666,
              "#ed7953"
             ],
             [
              0.7777777777777778,
              "#fb9f3a"
             ],
             [
              0.8888888888888888,
              "#fdca26"
             ],
             [
              1,
              "#f0f921"
             ]
            ],
            "type": "histogram2d"
           }
          ],
          "histogram2dcontour": [
           {
            "colorbar": {
             "outlinewidth": 0,
             "ticks": ""
            },
            "colorscale": [
             [
              0,
              "#0d0887"
             ],
             [
              0.1111111111111111,
              "#46039f"
             ],
             [
              0.2222222222222222,
              "#7201a8"
             ],
             [
              0.3333333333333333,
              "#9c179e"
             ],
             [
              0.4444444444444444,
              "#bd3786"
             ],
             [
              0.5555555555555556,
              "#d8576b"
             ],
             [
              0.6666666666666666,
              "#ed7953"
             ],
             [
              0.7777777777777778,
              "#fb9f3a"
             ],
             [
              0.8888888888888888,
              "#fdca26"
             ],
             [
              1,
              "#f0f921"
             ]
            ],
            "type": "histogram2dcontour"
           }
          ],
          "mesh3d": [
           {
            "colorbar": {
             "outlinewidth": 0,
             "ticks": ""
            },
            "type": "mesh3d"
           }
          ],
          "parcoords": [
           {
            "line": {
             "colorbar": {
              "outlinewidth": 0,
              "ticks": ""
             }
            },
            "type": "parcoords"
           }
          ],
          "pie": [
           {
            "automargin": true,
            "type": "pie"
           }
          ],
          "scatter": [
           {
            "fillpattern": {
             "fillmode": "overlay",
             "size": 10,
             "solidity": 0.2
            },
            "type": "scatter"
           }
          ],
          "scatter3d": [
           {
            "line": {
             "colorbar": {
              "outlinewidth": 0,
              "ticks": ""
             }
            },
            "marker": {
             "colorbar": {
              "outlinewidth": 0,
              "ticks": ""
             }
            },
            "type": "scatter3d"
           }
          ],
          "scattercarpet": [
           {
            "marker": {
             "colorbar": {
              "outlinewidth": 0,
              "ticks": ""
             }
            },
            "type": "scattercarpet"
           }
          ],
          "scattergeo": [
           {
            "marker": {
             "colorbar": {
              "outlinewidth": 0,
              "ticks": ""
             }
            },
            "type": "scattergeo"
           }
          ],
          "scattergl": [
           {
            "marker": {
             "colorbar": {
              "outlinewidth": 0,
              "ticks": ""
             }
            },
            "type": "scattergl"
           }
          ],
          "scattermapbox": [
           {
            "marker": {
             "colorbar": {
              "outlinewidth": 0,
              "ticks": ""
             }
            },
            "type": "scattermapbox"
           }
          ],
          "scatterpolar": [
           {
            "marker": {
             "colorbar": {
              "outlinewidth": 0,
              "ticks": ""
             }
            },
            "type": "scatterpolar"
           }
          ],
          "scatterpolargl": [
           {
            "marker": {
             "colorbar": {
              "outlinewidth": 0,
              "ticks": ""
             }
            },
            "type": "scatterpolargl"
           }
          ],
          "scatterternary": [
           {
            "marker": {
             "colorbar": {
              "outlinewidth": 0,
              "ticks": ""
             }
            },
            "type": "scatterternary"
           }
          ],
          "surface": [
           {
            "colorbar": {
             "outlinewidth": 0,
             "ticks": ""
            },
            "colorscale": [
             [
              0,
              "#0d0887"
             ],
             [
              0.1111111111111111,
              "#46039f"
             ],
             [
              0.2222222222222222,
              "#7201a8"
             ],
             [
              0.3333333333333333,
              "#9c179e"
             ],
             [
              0.4444444444444444,
              "#bd3786"
             ],
             [
              0.5555555555555556,
              "#d8576b"
             ],
             [
              0.6666666666666666,
              "#ed7953"
             ],
             [
              0.7777777777777778,
              "#fb9f3a"
             ],
             [
              0.8888888888888888,
              "#fdca26"
             ],
             [
              1,
              "#f0f921"
             ]
            ],
            "type": "surface"
           }
          ],
          "table": [
           {
            "cells": {
             "fill": {
              "color": "#EBF0F8"
             },
             "line": {
              "color": "white"
             }
            },
            "header": {
             "fill": {
              "color": "#C8D4E3"
             },
             "line": {
              "color": "white"
             }
            },
            "type": "table"
           }
          ]
         },
         "layout": {
          "annotationdefaults": {
           "arrowcolor": "#2a3f5f",
           "arrowhead": 0,
           "arrowwidth": 1
          },
          "autotypenumbers": "strict",
          "coloraxis": {
           "colorbar": {
            "outlinewidth": 0,
            "ticks": ""
           }
          },
          "colorscale": {
           "diverging": [
            [
             0,
             "#8e0152"
            ],
            [
             0.1,
             "#c51b7d"
            ],
            [
             0.2,
             "#de77ae"
            ],
            [
             0.3,
             "#f1b6da"
            ],
            [
             0.4,
             "#fde0ef"
            ],
            [
             0.5,
             "#f7f7f7"
            ],
            [
             0.6,
             "#e6f5d0"
            ],
            [
             0.7,
             "#b8e186"
            ],
            [
             0.8,
             "#7fbc41"
            ],
            [
             0.9,
             "#4d9221"
            ],
            [
             1,
             "#276419"
            ]
           ],
           "sequential": [
            [
             0,
             "#0d0887"
            ],
            [
             0.1111111111111111,
             "#46039f"
            ],
            [
             0.2222222222222222,
             "#7201a8"
            ],
            [
             0.3333333333333333,
             "#9c179e"
            ],
            [
             0.4444444444444444,
             "#bd3786"
            ],
            [
             0.5555555555555556,
             "#d8576b"
            ],
            [
             0.6666666666666666,
             "#ed7953"
            ],
            [
             0.7777777777777778,
             "#fb9f3a"
            ],
            [
             0.8888888888888888,
             "#fdca26"
            ],
            [
             1,
             "#f0f921"
            ]
           ],
           "sequentialminus": [
            [
             0,
             "#0d0887"
            ],
            [
             0.1111111111111111,
             "#46039f"
            ],
            [
             0.2222222222222222,
             "#7201a8"
            ],
            [
             0.3333333333333333,
             "#9c179e"
            ],
            [
             0.4444444444444444,
             "#bd3786"
            ],
            [
             0.5555555555555556,
             "#d8576b"
            ],
            [
             0.6666666666666666,
             "#ed7953"
            ],
            [
             0.7777777777777778,
             "#fb9f3a"
            ],
            [
             0.8888888888888888,
             "#fdca26"
            ],
            [
             1,
             "#f0f921"
            ]
           ]
          },
          "colorway": [
           "#636efa",
           "#EF553B",
           "#00cc96",
           "#ab63fa",
           "#FFA15A",
           "#19d3f3",
           "#FF6692",
           "#B6E880",
           "#FF97FF",
           "#FECB52"
          ],
          "font": {
           "color": "#2a3f5f"
          },
          "geo": {
           "bgcolor": "white",
           "lakecolor": "white",
           "landcolor": "#E5ECF6",
           "showlakes": true,
           "showland": true,
           "subunitcolor": "white"
          },
          "hoverlabel": {
           "align": "left"
          },
          "hovermode": "closest",
          "mapbox": {
           "style": "light"
          },
          "paper_bgcolor": "white",
          "plot_bgcolor": "#E5ECF6",
          "polar": {
           "angularaxis": {
            "gridcolor": "white",
            "linecolor": "white",
            "ticks": ""
           },
           "bgcolor": "#E5ECF6",
           "radialaxis": {
            "gridcolor": "white",
            "linecolor": "white",
            "ticks": ""
           }
          },
          "scene": {
           "xaxis": {
            "backgroundcolor": "#E5ECF6",
            "gridcolor": "white",
            "gridwidth": 2,
            "linecolor": "white",
            "showbackground": true,
            "ticks": "",
            "zerolinecolor": "white"
           },
           "yaxis": {
            "backgroundcolor": "#E5ECF6",
            "gridcolor": "white",
            "gridwidth": 2,
            "linecolor": "white",
            "showbackground": true,
            "ticks": "",
            "zerolinecolor": "white"
           },
           "zaxis": {
            "backgroundcolor": "#E5ECF6",
            "gridcolor": "white",
            "gridwidth": 2,
            "linecolor": "white",
            "showbackground": true,
            "ticks": "",
            "zerolinecolor": "white"
           }
          },
          "shapedefaults": {
           "line": {
            "color": "#2a3f5f"
           }
          },
          "ternary": {
           "aaxis": {
            "gridcolor": "white",
            "linecolor": "white",
            "ticks": ""
           },
           "baxis": {
            "gridcolor": "white",
            "linecolor": "white",
            "ticks": ""
           },
           "bgcolor": "#E5ECF6",
           "caxis": {
            "gridcolor": "white",
            "linecolor": "white",
            "ticks": ""
           }
          },
          "title": {
           "x": 0.05
          },
          "xaxis": {
           "automargin": true,
           "gridcolor": "white",
           "linecolor": "white",
           "ticks": "",
           "title": {
            "standoff": 15
           },
           "zerolinecolor": "white",
           "zerolinewidth": 2
          },
          "yaxis": {
           "automargin": true,
           "gridcolor": "white",
           "linecolor": "white",
           "ticks": "",
           "title": {
            "standoff": 15
           },
           "zerolinecolor": "white",
           "zerolinewidth": 2
          }
         }
        },
        "title": {
         "text": "Accuracy per Subject and Condition  - combined_accuracy"
        },
        "xaxis": {
         "tickmode": "array",
         "ticktext": [
          "1",
          "3",
          "4",
          "5",
          "6",
          "7",
          "8",
          "9",
          "10",
          "11",
          "12",
          "13",
          "14",
          "15",
          "16",
          "17",
          "18",
          "19",
          "20",
          "21",
          "22",
          "24",
          "25",
          "28",
          "29"
         ],
         "tickvals": [
          "1",
          "3",
          "4",
          "5",
          "6",
          "7",
          "8",
          "9",
          "10",
          "11",
          "12",
          "13",
          "14",
          "15",
          "16",
          "17",
          "18",
          "19",
          "20",
          "21",
          "22",
          "24",
          "25",
          "28",
          "29"
         ],
         "title": {
          "text": "Subject"
         }
        },
        "yaxis": {
         "dtick": 0.1,
         "range": [
          0.3,
          1
         ],
         "tick0": 0.4,
         "title": {
          "text": "Accuracy"
         }
        }
       }
      }
     },
     "metadata": {},
     "output_type": "display_data"
    }
   ],
   "source": [
    "# Create a DataFrame to organize the data\n",
    "data = []\n",
    "for subject_id, scores in whole_epochs_results_AW.items():\n",
    "    data.append({\n",
    "        'Subject': subject_id,\n",
    "        'Condition': 'AW',\n",
    "        'Accuracy': scores['combined_accuracy']\n",
    "    })\n",
    "for subject_id, scores in whole_epochs_results_MO.items():\n",
    "    data.append({\n",
    "        'Subject': subject_id,\n",
    "        'Condition': 'MO',\n",
    "        'Accuracy': scores['combined_accuracy']\n",
    "    })\n",
    "for subject_id, scores in whole_epochs_results_MI.items():\n",
    "    data.append({\n",
    "        'Subject': subject_id,\n",
    "        'Condition': 'MI',\n",
    "        'Accuracy': scores['combined_accuracy']\n",
    "    })\n",
    "\n",
    "df = pd.DataFrame(data)\n",
    "df_grouped = df.iloc[:,1:].groupby('Condition').agg(['mean', 'std'])\n",
    "print(df_grouped)\n",
    "\n",
    "# Calculate means and stds for error bars\n",
    "means = df.groupby('Condition')['Accuracy'].mean()\n",
    "stds = df.groupby('Condition')['Accuracy'].std()\n",
    "\n",
    "# Create Plotly grouped bar chart with error bars\n",
    "fig = go.Figure()\n",
    "\n",
    "for condition in df['Condition'].unique():\n",
    "    cond_df = df[df['Condition'] == condition]\n",
    "    fig.add_trace(go.Bar(\n",
    "        x=cond_df['Subject'],\n",
    "        y=cond_df['Accuracy'],\n",
    "        name=condition,\n",
    "        marker_color=colors[condition],\n",
    "        error_y=dict(\n",
    "            type='data',\n",
    "            array=[stds[condition]] * len(cond_df),  # same std for all bars in this condition\n",
    "            visible=True\n",
    "        )\n",
    "    ))\n",
    "\n",
    "# Add chance level line\n",
    "fig.add_hline(y=0.5, line_width=1, line_color=\"gray\")\n",
    "\n",
    "# Update layout to show subject IDs on x-axis ticks\n",
    "fig.update_layout(\n",
    "    barmode='group',\n",
    "    xaxis_title='Subject',\n",
    "    yaxis_title='Accuracy',\n",
    "    title='Accuracy per Subject and Condition  - combined_accuracy',\n",
    "    legend_title_text='Condition',\n",
    "    xaxis=dict(\n",
    "        tickmode='array',\n",
    "        tickvals=df['Subject'].unique(),\n",
    "        ticktext=df['Subject'].unique()\n",
    "    ),\n",
    "    yaxis=dict(range=[0.3, 1.0], tick0=0.4, dtick=0.1),\n",
    ")\n",
    "\n",
    "fig.show()\n"
   ]
  },
  {
   "cell_type": "code",
   "execution_count": 44,
   "metadata": {},
   "outputs": [
    {
     "name": "stdout",
     "output_type": "stream",
     "text": [
      "           Accuracy          \n",
      "               mean       std\n",
      "Condition                    \n",
      "AW         0.489130  0.108084\n",
      "MI         0.448571  0.104354\n",
      "MO         0.527405  0.106560\n"
     ]
    },
    {
     "data": {
      "application/vnd.plotly.v1+json": {
       "config": {
        "plotlyServerURL": "https://plot.ly"
       },
       "data": [
        {
         "error_y": {
          "array": [
           0.10808350520397586,
           0.10808350520397586,
           0.10808350520397586,
           0.10808350520397586,
           0.10808350520397586,
           0.10808350520397586,
           0.10808350520397586,
           0.10808350520397586,
           0.10808350520397586,
           0.10808350520397586,
           0.10808350520397586,
           0.10808350520397586,
           0.10808350520397586,
           0.10808350520397586,
           0.10808350520397586,
           0.10808350520397586,
           0.10808350520397586,
           0.10808350520397586,
           0.10808350520397586,
           0.10808350520397586,
           0.10808350520397586,
           0.10808350520397586,
           0.10808350520397586,
           0.10808350520397586,
           0.10808350520397586
          ],
          "type": "data",
          "visible": true
         },
         "marker": {
          "color": "#ef8a62"
         },
         "name": "AW",
         "type": "bar",
         "x": [
          "1",
          "3",
          "4",
          "5",
          "6",
          "7",
          "8",
          "9",
          "10",
          "11",
          "12",
          "13",
          "14",
          "15",
          "16",
          "17",
          "18",
          "19",
          "20",
          "21",
          "22",
          "24",
          "25",
          "28",
          "29"
         ],
         "y": [
          0.65,
          0.5,
          0.45,
          0.3888888888888889,
          0.3684210526315789,
          0.5,
          0.2631578947368421,
          0.5,
          0.2857142857142857,
          0.6,
          0.6,
          0.6,
          0.45,
          0.4444444444444444,
          0.375,
          0.5333333333333333,
          0.45,
          0.6111111111111112,
          0.55,
          0.3684210526315789,
          0.6111111111111112,
          0.631578947368421,
          0.4444444444444444,
          0.47368421052631576,
          0.5789473684210527
         ]
        },
        {
         "error_y": {
          "array": [
           0.10656035406747127,
           0.10656035406747127,
           0.10656035406747127,
           0.10656035406747127,
           0.10656035406747127,
           0.10656035406747127,
           0.10656035406747127,
           0.10656035406747127,
           0.10656035406747127,
           0.10656035406747127,
           0.10656035406747127,
           0.10656035406747127,
           0.10656035406747127,
           0.10656035406747127,
           0.10656035406747127,
           0.10656035406747127,
           0.10656035406747127,
           0.10656035406747127,
           0.10656035406747127,
           0.10656035406747127,
           0.10656035406747127,
           0.10656035406747127,
           0.10656035406747127,
           0.10656035406747127,
           0.10656035406747127
          ],
          "type": "data",
          "visible": true
         },
         "marker": {
          "color": "#67a9cf"
         },
         "name": "MO",
         "type": "bar",
         "x": [
          "1",
          "3",
          "4",
          "5",
          "6",
          "7",
          "8",
          "9",
          "10",
          "11",
          "12",
          "13",
          "14",
          "15",
          "16",
          "17",
          "18",
          "19",
          "20",
          "21",
          "22",
          "24",
          "25",
          "28",
          "29"
         ],
         "y": [
          0.5555555555555556,
          0.55,
          0.45,
          0.6470588235294118,
          0.55,
          0.6842105263157895,
          0.4,
          0.47058823529411764,
          0.6923076923076923,
          0.5294117647058824,
          0.55,
          0.3333333333333333,
          0.7058823529411765,
          0.6,
          0.5,
          0.38461538461538464,
          0.45,
          0.5,
          0.5,
          0.5,
          0.3888888888888889,
          0.5,
          0.7222222222222222,
          0.42105263157894735,
          0.6
         ]
        },
        {
         "error_y": {
          "array": [
           0.10435371525789679,
           0.10435371525789679,
           0.10435371525789679,
           0.10435371525789679,
           0.10435371525789679,
           0.10435371525789679,
           0.10435371525789679,
           0.10435371525789679,
           0.10435371525789679,
           0.10435371525789679,
           0.10435371525789679,
           0.10435371525789679,
           0.10435371525789679,
           0.10435371525789679,
           0.10435371525789679,
           0.10435371525789679,
           0.10435371525789679,
           0.10435371525789679,
           0.10435371525789679,
           0.10435371525789679,
           0.10435371525789679,
           0.10435371525789679,
           0.10435371525789679,
           0.10435371525789679,
           0.10435371525789679
          ],
          "type": "data",
          "visible": true
         },
         "marker": {
          "color": "#999999"
         },
         "name": "MI",
         "type": "bar",
         "x": [
          "1",
          "3",
          "4",
          "5",
          "6",
          "7",
          "8",
          "9",
          "10",
          "11",
          "12",
          "13",
          "14",
          "15",
          "16",
          "17",
          "18",
          "19",
          "20",
          "21",
          "22",
          "24",
          "25",
          "28",
          "29"
         ],
         "y": [
          0.3157894736842105,
          0.42105263157894735,
          0.5789473684210527,
          0.4117647058823529,
          0.3684210526315789,
          0.5555555555555556,
          0.4444444444444444,
          0.375,
          0.7272727272727273,
          0.5555555555555556,
          0.3684210526315789,
          0.5263157894736842,
          0.35294117647058826,
          0.42857142857142855,
          0.5,
          0.25,
          0.3684210526315789,
          0.6111111111111112,
          0.47368421052631576,
          0.4666666666666667,
          0.35294117647058826,
          0.42105263157894735,
          0.4117647058823529,
          0.5,
          0.42857142857142855
         ]
        }
       ],
       "layout": {
        "barmode": "group",
        "legend": {
         "title": {
          "text": "Condition"
         }
        },
        "shapes": [
         {
          "line": {
           "color": "gray",
           "width": 1
          },
          "type": "line",
          "x0": 0,
          "x1": 1,
          "xref": "x domain",
          "y0": 0.5,
          "y1": 0.5,
          "yref": "y"
         }
        ],
        "template": {
         "data": {
          "bar": [
           {
            "error_x": {
             "color": "#2a3f5f"
            },
            "error_y": {
             "color": "#2a3f5f"
            },
            "marker": {
             "line": {
              "color": "#E5ECF6",
              "width": 0.5
             },
             "pattern": {
              "fillmode": "overlay",
              "size": 10,
              "solidity": 0.2
             }
            },
            "type": "bar"
           }
          ],
          "barpolar": [
           {
            "marker": {
             "line": {
              "color": "#E5ECF6",
              "width": 0.5
             },
             "pattern": {
              "fillmode": "overlay",
              "size": 10,
              "solidity": 0.2
             }
            },
            "type": "barpolar"
           }
          ],
          "carpet": [
           {
            "aaxis": {
             "endlinecolor": "#2a3f5f",
             "gridcolor": "white",
             "linecolor": "white",
             "minorgridcolor": "white",
             "startlinecolor": "#2a3f5f"
            },
            "baxis": {
             "endlinecolor": "#2a3f5f",
             "gridcolor": "white",
             "linecolor": "white",
             "minorgridcolor": "white",
             "startlinecolor": "#2a3f5f"
            },
            "type": "carpet"
           }
          ],
          "choropleth": [
           {
            "colorbar": {
             "outlinewidth": 0,
             "ticks": ""
            },
            "type": "choropleth"
           }
          ],
          "contour": [
           {
            "colorbar": {
             "outlinewidth": 0,
             "ticks": ""
            },
            "colorscale": [
             [
              0,
              "#0d0887"
             ],
             [
              0.1111111111111111,
              "#46039f"
             ],
             [
              0.2222222222222222,
              "#7201a8"
             ],
             [
              0.3333333333333333,
              "#9c179e"
             ],
             [
              0.4444444444444444,
              "#bd3786"
             ],
             [
              0.5555555555555556,
              "#d8576b"
             ],
             [
              0.6666666666666666,
              "#ed7953"
             ],
             [
              0.7777777777777778,
              "#fb9f3a"
             ],
             [
              0.8888888888888888,
              "#fdca26"
             ],
             [
              1,
              "#f0f921"
             ]
            ],
            "type": "contour"
           }
          ],
          "contourcarpet": [
           {
            "colorbar": {
             "outlinewidth": 0,
             "ticks": ""
            },
            "type": "contourcarpet"
           }
          ],
          "heatmap": [
           {
            "colorbar": {
             "outlinewidth": 0,
             "ticks": ""
            },
            "colorscale": [
             [
              0,
              "#0d0887"
             ],
             [
              0.1111111111111111,
              "#46039f"
             ],
             [
              0.2222222222222222,
              "#7201a8"
             ],
             [
              0.3333333333333333,
              "#9c179e"
             ],
             [
              0.4444444444444444,
              "#bd3786"
             ],
             [
              0.5555555555555556,
              "#d8576b"
             ],
             [
              0.6666666666666666,
              "#ed7953"
             ],
             [
              0.7777777777777778,
              "#fb9f3a"
             ],
             [
              0.8888888888888888,
              "#fdca26"
             ],
             [
              1,
              "#f0f921"
             ]
            ],
            "type": "heatmap"
           }
          ],
          "heatmapgl": [
           {
            "colorbar": {
             "outlinewidth": 0,
             "ticks": ""
            },
            "colorscale": [
             [
              0,
              "#0d0887"
             ],
             [
              0.1111111111111111,
              "#46039f"
             ],
             [
              0.2222222222222222,
              "#7201a8"
             ],
             [
              0.3333333333333333,
              "#9c179e"
             ],
             [
              0.4444444444444444,
              "#bd3786"
             ],
             [
              0.5555555555555556,
              "#d8576b"
             ],
             [
              0.6666666666666666,
              "#ed7953"
             ],
             [
              0.7777777777777778,
              "#fb9f3a"
             ],
             [
              0.8888888888888888,
              "#fdca26"
             ],
             [
              1,
              "#f0f921"
             ]
            ],
            "type": "heatmapgl"
           }
          ],
          "histogram": [
           {
            "marker": {
             "pattern": {
              "fillmode": "overlay",
              "size": 10,
              "solidity": 0.2
             }
            },
            "type": "histogram"
           }
          ],
          "histogram2d": [
           {
            "colorbar": {
             "outlinewidth": 0,
             "ticks": ""
            },
            "colorscale": [
             [
              0,
              "#0d0887"
             ],
             [
              0.1111111111111111,
              "#46039f"
             ],
             [
              0.2222222222222222,
              "#7201a8"
             ],
             [
              0.3333333333333333,
              "#9c179e"
             ],
             [
              0.4444444444444444,
              "#bd3786"
             ],
             [
              0.5555555555555556,
              "#d8576b"
             ],
             [
              0.6666666666666666,
              "#ed7953"
             ],
             [
              0.7777777777777778,
              "#fb9f3a"
             ],
             [
              0.8888888888888888,
              "#fdca26"
             ],
             [
              1,
              "#f0f921"
             ]
            ],
            "type": "histogram2d"
           }
          ],
          "histogram2dcontour": [
           {
            "colorbar": {
             "outlinewidth": 0,
             "ticks": ""
            },
            "colorscale": [
             [
              0,
              "#0d0887"
             ],
             [
              0.1111111111111111,
              "#46039f"
             ],
             [
              0.2222222222222222,
              "#7201a8"
             ],
             [
              0.3333333333333333,
              "#9c179e"
             ],
             [
              0.4444444444444444,
              "#bd3786"
             ],
             [
              0.5555555555555556,
              "#d8576b"
             ],
             [
              0.6666666666666666,
              "#ed7953"
             ],
             [
              0.7777777777777778,
              "#fb9f3a"
             ],
             [
              0.8888888888888888,
              "#fdca26"
             ],
             [
              1,
              "#f0f921"
             ]
            ],
            "type": "histogram2dcontour"
           }
          ],
          "mesh3d": [
           {
            "colorbar": {
             "outlinewidth": 0,
             "ticks": ""
            },
            "type": "mesh3d"
           }
          ],
          "parcoords": [
           {
            "line": {
             "colorbar": {
              "outlinewidth": 0,
              "ticks": ""
             }
            },
            "type": "parcoords"
           }
          ],
          "pie": [
           {
            "automargin": true,
            "type": "pie"
           }
          ],
          "scatter": [
           {
            "fillpattern": {
             "fillmode": "overlay",
             "size": 10,
             "solidity": 0.2
            },
            "type": "scatter"
           }
          ],
          "scatter3d": [
           {
            "line": {
             "colorbar": {
              "outlinewidth": 0,
              "ticks": ""
             }
            },
            "marker": {
             "colorbar": {
              "outlinewidth": 0,
              "ticks": ""
             }
            },
            "type": "scatter3d"
           }
          ],
          "scattercarpet": [
           {
            "marker": {
             "colorbar": {
              "outlinewidth": 0,
              "ticks": ""
             }
            },
            "type": "scattercarpet"
           }
          ],
          "scattergeo": [
           {
            "marker": {
             "colorbar": {
              "outlinewidth": 0,
              "ticks": ""
             }
            },
            "type": "scattergeo"
           }
          ],
          "scattergl": [
           {
            "marker": {
             "colorbar": {
              "outlinewidth": 0,
              "ticks": ""
             }
            },
            "type": "scattergl"
           }
          ],
          "scattermapbox": [
           {
            "marker": {
             "colorbar": {
              "outlinewidth": 0,
              "ticks": ""
             }
            },
            "type": "scattermapbox"
           }
          ],
          "scatterpolar": [
           {
            "marker": {
             "colorbar": {
              "outlinewidth": 0,
              "ticks": ""
             }
            },
            "type": "scatterpolar"
           }
          ],
          "scatterpolargl": [
           {
            "marker": {
             "colorbar": {
              "outlinewidth": 0,
              "ticks": ""
             }
            },
            "type": "scatterpolargl"
           }
          ],
          "scatterternary": [
           {
            "marker": {
             "colorbar": {
              "outlinewidth": 0,
              "ticks": ""
             }
            },
            "type": "scatterternary"
           }
          ],
          "surface": [
           {
            "colorbar": {
             "outlinewidth": 0,
             "ticks": ""
            },
            "colorscale": [
             [
              0,
              "#0d0887"
             ],
             [
              0.1111111111111111,
              "#46039f"
             ],
             [
              0.2222222222222222,
              "#7201a8"
             ],
             [
              0.3333333333333333,
              "#9c179e"
             ],
             [
              0.4444444444444444,
              "#bd3786"
             ],
             [
              0.5555555555555556,
              "#d8576b"
             ],
             [
              0.6666666666666666,
              "#ed7953"
             ],
             [
              0.7777777777777778,
              "#fb9f3a"
             ],
             [
              0.8888888888888888,
              "#fdca26"
             ],
             [
              1,
              "#f0f921"
             ]
            ],
            "type": "surface"
           }
          ],
          "table": [
           {
            "cells": {
             "fill": {
              "color": "#EBF0F8"
             },
             "line": {
              "color": "white"
             }
            },
            "header": {
             "fill": {
              "color": "#C8D4E3"
             },
             "line": {
              "color": "white"
             }
            },
            "type": "table"
           }
          ]
         },
         "layout": {
          "annotationdefaults": {
           "arrowcolor": "#2a3f5f",
           "arrowhead": 0,
           "arrowwidth": 1
          },
          "autotypenumbers": "strict",
          "coloraxis": {
           "colorbar": {
            "outlinewidth": 0,
            "ticks": ""
           }
          },
          "colorscale": {
           "diverging": [
            [
             0,
             "#8e0152"
            ],
            [
             0.1,
             "#c51b7d"
            ],
            [
             0.2,
             "#de77ae"
            ],
            [
             0.3,
             "#f1b6da"
            ],
            [
             0.4,
             "#fde0ef"
            ],
            [
             0.5,
             "#f7f7f7"
            ],
            [
             0.6,
             "#e6f5d0"
            ],
            [
             0.7,
             "#b8e186"
            ],
            [
             0.8,
             "#7fbc41"
            ],
            [
             0.9,
             "#4d9221"
            ],
            [
             1,
             "#276419"
            ]
           ],
           "sequential": [
            [
             0,
             "#0d0887"
            ],
            [
             0.1111111111111111,
             "#46039f"
            ],
            [
             0.2222222222222222,
             "#7201a8"
            ],
            [
             0.3333333333333333,
             "#9c179e"
            ],
            [
             0.4444444444444444,
             "#bd3786"
            ],
            [
             0.5555555555555556,
             "#d8576b"
            ],
            [
             0.6666666666666666,
             "#ed7953"
            ],
            [
             0.7777777777777778,
             "#fb9f3a"
            ],
            [
             0.8888888888888888,
             "#fdca26"
            ],
            [
             1,
             "#f0f921"
            ]
           ],
           "sequentialminus": [
            [
             0,
             "#0d0887"
            ],
            [
             0.1111111111111111,
             "#46039f"
            ],
            [
             0.2222222222222222,
             "#7201a8"
            ],
            [
             0.3333333333333333,
             "#9c179e"
            ],
            [
             0.4444444444444444,
             "#bd3786"
            ],
            [
             0.5555555555555556,
             "#d8576b"
            ],
            [
             0.6666666666666666,
             "#ed7953"
            ],
            [
             0.7777777777777778,
             "#fb9f3a"
            ],
            [
             0.8888888888888888,
             "#fdca26"
            ],
            [
             1,
             "#f0f921"
            ]
           ]
          },
          "colorway": [
           "#636efa",
           "#EF553B",
           "#00cc96",
           "#ab63fa",
           "#FFA15A",
           "#19d3f3",
           "#FF6692",
           "#B6E880",
           "#FF97FF",
           "#FECB52"
          ],
          "font": {
           "color": "#2a3f5f"
          },
          "geo": {
           "bgcolor": "white",
           "lakecolor": "white",
           "landcolor": "#E5ECF6",
           "showlakes": true,
           "showland": true,
           "subunitcolor": "white"
          },
          "hoverlabel": {
           "align": "left"
          },
          "hovermode": "closest",
          "mapbox": {
           "style": "light"
          },
          "paper_bgcolor": "white",
          "plot_bgcolor": "#E5ECF6",
          "polar": {
           "angularaxis": {
            "gridcolor": "white",
            "linecolor": "white",
            "ticks": ""
           },
           "bgcolor": "#E5ECF6",
           "radialaxis": {
            "gridcolor": "white",
            "linecolor": "white",
            "ticks": ""
           }
          },
          "scene": {
           "xaxis": {
            "backgroundcolor": "#E5ECF6",
            "gridcolor": "white",
            "gridwidth": 2,
            "linecolor": "white",
            "showbackground": true,
            "ticks": "",
            "zerolinecolor": "white"
           },
           "yaxis": {
            "backgroundcolor": "#E5ECF6",
            "gridcolor": "white",
            "gridwidth": 2,
            "linecolor": "white",
            "showbackground": true,
            "ticks": "",
            "zerolinecolor": "white"
           },
           "zaxis": {
            "backgroundcolor": "#E5ECF6",
            "gridcolor": "white",
            "gridwidth": 2,
            "linecolor": "white",
            "showbackground": true,
            "ticks": "",
            "zerolinecolor": "white"
           }
          },
          "shapedefaults": {
           "line": {
            "color": "#2a3f5f"
           }
          },
          "ternary": {
           "aaxis": {
            "gridcolor": "white",
            "linecolor": "white",
            "ticks": ""
           },
           "baxis": {
            "gridcolor": "white",
            "linecolor": "white",
            "ticks": ""
           },
           "bgcolor": "#E5ECF6",
           "caxis": {
            "gridcolor": "white",
            "linecolor": "white",
            "ticks": ""
           }
          },
          "title": {
           "x": 0.05
          },
          "xaxis": {
           "automargin": true,
           "gridcolor": "white",
           "linecolor": "white",
           "ticks": "",
           "title": {
            "standoff": 15
           },
           "zerolinecolor": "white",
           "zerolinewidth": 2
          },
          "yaxis": {
           "automargin": true,
           "gridcolor": "white",
           "linecolor": "white",
           "ticks": "",
           "title": {
            "standoff": 15
           },
           "zerolinecolor": "white",
           "zerolinewidth": 2
          }
         }
        },
        "title": {
         "text": "Accuracy per Subject and Condition  - erp_accuracy"
        },
        "xaxis": {
         "tickmode": "array",
         "ticktext": [
          "1",
          "3",
          "4",
          "5",
          "6",
          "7",
          "8",
          "9",
          "10",
          "11",
          "12",
          "13",
          "14",
          "15",
          "16",
          "17",
          "18",
          "19",
          "20",
          "21",
          "22",
          "24",
          "25",
          "28",
          "29"
         ],
         "tickvals": [
          "1",
          "3",
          "4",
          "5",
          "6",
          "7",
          "8",
          "9",
          "10",
          "11",
          "12",
          "13",
          "14",
          "15",
          "16",
          "17",
          "18",
          "19",
          "20",
          "21",
          "22",
          "24",
          "25",
          "28",
          "29"
         ],
         "title": {
          "text": "Subject"
         }
        },
        "yaxis": {
         "dtick": 0.1,
         "range": [
          0.3,
          1
         ],
         "tick0": 0.4,
         "title": {
          "text": "Accuracy"
         }
        }
       }
      }
     },
     "metadata": {},
     "output_type": "display_data"
    }
   ],
   "source": [
    "# Create a DataFrame to organize the data\n",
    "data = []\n",
    "for subject_id, scores in whole_epochs_results_AW.items():\n",
    "    data.append({\n",
    "        'Subject': subject_id,\n",
    "        'Condition': 'AW',\n",
    "        'Accuracy': scores['erp_accuracy']\n",
    "    })\n",
    "for subject_id, scores in whole_epochs_results_MO.items():\n",
    "    data.append({\n",
    "        'Subject': subject_id,\n",
    "        'Condition': 'MO',\n",
    "        'Accuracy': scores['erp_accuracy']\n",
    "    })\n",
    "for subject_id, scores in whole_epochs_results_MI.items():\n",
    "    data.append({\n",
    "        'Subject': subject_id,\n",
    "        'Condition': 'MI',\n",
    "        'Accuracy': scores['erp_accuracy']\n",
    "    })\n",
    "\n",
    "df = pd.DataFrame(data)\n",
    "df_grouped = df.iloc[:,1:].groupby('Condition').agg(['mean', 'std'])\n",
    "print(df_grouped)\n",
    "\n",
    "# Calculate means and stds for error bars\n",
    "means = df.groupby('Condition')['Accuracy'].mean()\n",
    "stds = df.groupby('Condition')['Accuracy'].std()\n",
    "\n",
    "# Create Plotly grouped bar chart with error bars\n",
    "fig = go.Figure()\n",
    "\n",
    "for condition in df['Condition'].unique():\n",
    "    cond_df = df[df['Condition'] == condition]\n",
    "    fig.add_trace(go.Bar(\n",
    "        x=cond_df['Subject'],\n",
    "        y=cond_df['Accuracy'],\n",
    "        name=condition,\n",
    "        marker_color=colors[condition],\n",
    "        error_y=dict(\n",
    "            type='data',\n",
    "            array=[stds[condition]] * len(cond_df),  # same std for all bars in this condition\n",
    "            visible=True\n",
    "        )\n",
    "    ))\n",
    "\n",
    "# Add chance level line\n",
    "fig.add_hline(y=0.5, line_width=1, line_color=\"gray\")\n",
    "\n",
    "# Update layout to show subject IDs on x-axis ticks\n",
    "fig.update_layout(\n",
    "    barmode='group',\n",
    "    xaxis_title='Subject',\n",
    "    yaxis_title='Accuracy',\n",
    "    title='Accuracy per Subject and Condition  - erp_accuracy',\n",
    "    legend_title_text='Condition',\n",
    "    xaxis=dict(\n",
    "        tickmode='array',\n",
    "        tickvals=df['Subject'].unique(),\n",
    "        ticktext=df['Subject'].unique()\n",
    "    ),\n",
    "    yaxis=dict(range=[0.3, 1.0], tick0=0.4, dtick=0.1),\n",
    ")\n",
    "\n",
    "fig.show()\n"
   ]
  },
  {
   "cell_type": "code",
   "execution_count": 45,
   "metadata": {},
   "outputs": [
    {
     "name": "stdout",
     "output_type": "stream",
     "text": [
      "           Accuracy          \n",
      "               mean       std\n",
      "Condition                    \n",
      "AW         0.480391  0.073169\n",
      "MI         0.475458  0.083770\n",
      "MO         0.503850  0.050450\n"
     ]
    },
    {
     "data": {
      "application/vnd.plotly.v1+json": {
       "config": {
        "plotlyServerURL": "https://plot.ly"
       },
       "data": [
        {
         "error_y": {
          "array": [
           0.07316853929309901,
           0.07316853929309901,
           0.07316853929309901,
           0.07316853929309901,
           0.07316853929309901,
           0.07316853929309901,
           0.07316853929309901,
           0.07316853929309901,
           0.07316853929309901,
           0.07316853929309901,
           0.07316853929309901,
           0.07316853929309901,
           0.07316853929309901,
           0.07316853929309901,
           0.07316853929309901,
           0.07316853929309901,
           0.07316853929309901,
           0.07316853929309901,
           0.07316853929309901,
           0.07316853929309901,
           0.07316853929309901,
           0.07316853929309901,
           0.07316853929309901,
           0.07316853929309901,
           0.07316853929309901
          ],
          "type": "data",
          "visible": true
         },
         "marker": {
          "color": "#ef8a62"
         },
         "name": "AW",
         "type": "bar",
         "x": [
          "1",
          "3",
          "4",
          "5",
          "6",
          "7",
          "8",
          "9",
          "10",
          "11",
          "12",
          "13",
          "14",
          "15",
          "16",
          "17",
          "18",
          "19",
          "20",
          "21",
          "22",
          "24",
          "25",
          "28",
          "29"
         ],
         "y": [
          0.5,
          0.5,
          0.5,
          0.5,
          0.631578947368421,
          0.5,
          0.47368421052631576,
          0.5555555555555556,
          0.2857142857142857,
          0.45,
          0.4,
          0.5,
          0.55,
          0.4444444444444444,
          0.4375,
          0.6,
          0.5,
          0.5,
          0.5,
          0.47368421052631576,
          0.4444444444444444,
          0.47368421052631576,
          0.5,
          0.47368421052631576,
          0.3157894736842105
         ]
        },
        {
         "error_y": {
          "array": [
           0.05044981944400819,
           0.05044981944400819,
           0.05044981944400819,
           0.05044981944400819,
           0.05044981944400819,
           0.05044981944400819,
           0.05044981944400819,
           0.05044981944400819,
           0.05044981944400819,
           0.05044981944400819,
           0.05044981944400819,
           0.05044981944400819,
           0.05044981944400819,
           0.05044981944400819,
           0.05044981944400819,
           0.05044981944400819,
           0.05044981944400819,
           0.05044981944400819,
           0.05044981944400819,
           0.05044981944400819,
           0.05044981944400819,
           0.05044981944400819,
           0.05044981944400819,
           0.05044981944400819,
           0.05044981944400819
          ],
          "type": "data",
          "visible": true
         },
         "marker": {
          "color": "#67a9cf"
         },
         "name": "MO",
         "type": "bar",
         "x": [
          "1",
          "3",
          "4",
          "5",
          "6",
          "7",
          "8",
          "9",
          "10",
          "11",
          "12",
          "13",
          "14",
          "15",
          "16",
          "17",
          "18",
          "19",
          "20",
          "21",
          "22",
          "24",
          "25",
          "28",
          "29"
         ],
         "y": [
          0.5,
          0.55,
          0.5,
          0.5294117647058824,
          0.5,
          0.47368421052631576,
          0.45,
          0.47058823529411764,
          0.46153846153846156,
          0.5294117647058824,
          0.65,
          0.5,
          0.5294117647058824,
          0.5333333333333333,
          0.42857142857142855,
          0.6153846153846154,
          0.5,
          0.5,
          0.5,
          0.4375,
          0.5,
          0.5,
          0.4444444444444444,
          0.5263157894736842,
          0.4666666666666667
         ]
        },
        {
         "error_y": {
          "array": [
           0.08377003881216374,
           0.08377003881216374,
           0.08377003881216374,
           0.08377003881216374,
           0.08377003881216374,
           0.08377003881216374,
           0.08377003881216374,
           0.08377003881216374,
           0.08377003881216374,
           0.08377003881216374,
           0.08377003881216374,
           0.08377003881216374,
           0.08377003881216374,
           0.08377003881216374,
           0.08377003881216374,
           0.08377003881216374,
           0.08377003881216374,
           0.08377003881216374,
           0.08377003881216374,
           0.08377003881216374,
           0.08377003881216374,
           0.08377003881216374,
           0.08377003881216374,
           0.08377003881216374,
           0.08377003881216374
          ],
          "type": "data",
          "visible": true
         },
         "marker": {
          "color": "#999999"
         },
         "name": "MI",
         "type": "bar",
         "x": [
          "1",
          "3",
          "4",
          "5",
          "6",
          "7",
          "8",
          "9",
          "10",
          "11",
          "12",
          "13",
          "14",
          "15",
          "16",
          "17",
          "18",
          "19",
          "20",
          "21",
          "22",
          "24",
          "25",
          "28",
          "29"
         ],
         "y": [
          0.47368421052631576,
          0.5263157894736842,
          0.5263157894736842,
          0.6470588235294118,
          0.2631578947368421,
          0.4444444444444444,
          0.4444444444444444,
          0.4375,
          0.36363636363636365,
          0.5555555555555556,
          0.5789473684210527,
          0.3684210526315789,
          0.47058823529411764,
          0.42857142857142855,
          0.5714285714285714,
          0.5,
          0.47368421052631576,
          0.5555555555555556,
          0.47368421052631576,
          0.4,
          0.47058823529411764,
          0.5263157894736842,
          0.5294117647058824,
          0.5,
          0.35714285714285715
         ]
        }
       ],
       "layout": {
        "barmode": "group",
        "legend": {
         "title": {
          "text": "Condition"
         }
        },
        "shapes": [
         {
          "line": {
           "color": "gray",
           "width": 1
          },
          "type": "line",
          "x0": 0,
          "x1": 1,
          "xref": "x domain",
          "y0": 0.5,
          "y1": 0.5,
          "yref": "y"
         }
        ],
        "template": {
         "data": {
          "bar": [
           {
            "error_x": {
             "color": "#2a3f5f"
            },
            "error_y": {
             "color": "#2a3f5f"
            },
            "marker": {
             "line": {
              "color": "#E5ECF6",
              "width": 0.5
             },
             "pattern": {
              "fillmode": "overlay",
              "size": 10,
              "solidity": 0.2
             }
            },
            "type": "bar"
           }
          ],
          "barpolar": [
           {
            "marker": {
             "line": {
              "color": "#E5ECF6",
              "width": 0.5
             },
             "pattern": {
              "fillmode": "overlay",
              "size": 10,
              "solidity": 0.2
             }
            },
            "type": "barpolar"
           }
          ],
          "carpet": [
           {
            "aaxis": {
             "endlinecolor": "#2a3f5f",
             "gridcolor": "white",
             "linecolor": "white",
             "minorgridcolor": "white",
             "startlinecolor": "#2a3f5f"
            },
            "baxis": {
             "endlinecolor": "#2a3f5f",
             "gridcolor": "white",
             "linecolor": "white",
             "minorgridcolor": "white",
             "startlinecolor": "#2a3f5f"
            },
            "type": "carpet"
           }
          ],
          "choropleth": [
           {
            "colorbar": {
             "outlinewidth": 0,
             "ticks": ""
            },
            "type": "choropleth"
           }
          ],
          "contour": [
           {
            "colorbar": {
             "outlinewidth": 0,
             "ticks": ""
            },
            "colorscale": [
             [
              0,
              "#0d0887"
             ],
             [
              0.1111111111111111,
              "#46039f"
             ],
             [
              0.2222222222222222,
              "#7201a8"
             ],
             [
              0.3333333333333333,
              "#9c179e"
             ],
             [
              0.4444444444444444,
              "#bd3786"
             ],
             [
              0.5555555555555556,
              "#d8576b"
             ],
             [
              0.6666666666666666,
              "#ed7953"
             ],
             [
              0.7777777777777778,
              "#fb9f3a"
             ],
             [
              0.8888888888888888,
              "#fdca26"
             ],
             [
              1,
              "#f0f921"
             ]
            ],
            "type": "contour"
           }
          ],
          "contourcarpet": [
           {
            "colorbar": {
             "outlinewidth": 0,
             "ticks": ""
            },
            "type": "contourcarpet"
           }
          ],
          "heatmap": [
           {
            "colorbar": {
             "outlinewidth": 0,
             "ticks": ""
            },
            "colorscale": [
             [
              0,
              "#0d0887"
             ],
             [
              0.1111111111111111,
              "#46039f"
             ],
             [
              0.2222222222222222,
              "#7201a8"
             ],
             [
              0.3333333333333333,
              "#9c179e"
             ],
             [
              0.4444444444444444,
              "#bd3786"
             ],
             [
              0.5555555555555556,
              "#d8576b"
             ],
             [
              0.6666666666666666,
              "#ed7953"
             ],
             [
              0.7777777777777778,
              "#fb9f3a"
             ],
             [
              0.8888888888888888,
              "#fdca26"
             ],
             [
              1,
              "#f0f921"
             ]
            ],
            "type": "heatmap"
           }
          ],
          "heatmapgl": [
           {
            "colorbar": {
             "outlinewidth": 0,
             "ticks": ""
            },
            "colorscale": [
             [
              0,
              "#0d0887"
             ],
             [
              0.1111111111111111,
              "#46039f"
             ],
             [
              0.2222222222222222,
              "#7201a8"
             ],
             [
              0.3333333333333333,
              "#9c179e"
             ],
             [
              0.4444444444444444,
              "#bd3786"
             ],
             [
              0.5555555555555556,
              "#d8576b"
             ],
             [
              0.6666666666666666,
              "#ed7953"
             ],
             [
              0.7777777777777778,
              "#fb9f3a"
             ],
             [
              0.8888888888888888,
              "#fdca26"
             ],
             [
              1,
              "#f0f921"
             ]
            ],
            "type": "heatmapgl"
           }
          ],
          "histogram": [
           {
            "marker": {
             "pattern": {
              "fillmode": "overlay",
              "size": 10,
              "solidity": 0.2
             }
            },
            "type": "histogram"
           }
          ],
          "histogram2d": [
           {
            "colorbar": {
             "outlinewidth": 0,
             "ticks": ""
            },
            "colorscale": [
             [
              0,
              "#0d0887"
             ],
             [
              0.1111111111111111,
              "#46039f"
             ],
             [
              0.2222222222222222,
              "#7201a8"
             ],
             [
              0.3333333333333333,
              "#9c179e"
             ],
             [
              0.4444444444444444,
              "#bd3786"
             ],
             [
              0.5555555555555556,
              "#d8576b"
             ],
             [
              0.6666666666666666,
              "#ed7953"
             ],
             [
              0.7777777777777778,
              "#fb9f3a"
             ],
             [
              0.8888888888888888,
              "#fdca26"
             ],
             [
              1,
              "#f0f921"
             ]
            ],
            "type": "histogram2d"
           }
          ],
          "histogram2dcontour": [
           {
            "colorbar": {
             "outlinewidth": 0,
             "ticks": ""
            },
            "colorscale": [
             [
              0,
              "#0d0887"
             ],
             [
              0.1111111111111111,
              "#46039f"
             ],
             [
              0.2222222222222222,
              "#7201a8"
             ],
             [
              0.3333333333333333,
              "#9c179e"
             ],
             [
              0.4444444444444444,
              "#bd3786"
             ],
             [
              0.5555555555555556,
              "#d8576b"
             ],
             [
              0.6666666666666666,
              "#ed7953"
             ],
             [
              0.7777777777777778,
              "#fb9f3a"
             ],
             [
              0.8888888888888888,
              "#fdca26"
             ],
             [
              1,
              "#f0f921"
             ]
            ],
            "type": "histogram2dcontour"
           }
          ],
          "mesh3d": [
           {
            "colorbar": {
             "outlinewidth": 0,
             "ticks": ""
            },
            "type": "mesh3d"
           }
          ],
          "parcoords": [
           {
            "line": {
             "colorbar": {
              "outlinewidth": 0,
              "ticks": ""
             }
            },
            "type": "parcoords"
           }
          ],
          "pie": [
           {
            "automargin": true,
            "type": "pie"
           }
          ],
          "scatter": [
           {
            "fillpattern": {
             "fillmode": "overlay",
             "size": 10,
             "solidity": 0.2
            },
            "type": "scatter"
           }
          ],
          "scatter3d": [
           {
            "line": {
             "colorbar": {
              "outlinewidth": 0,
              "ticks": ""
             }
            },
            "marker": {
             "colorbar": {
              "outlinewidth": 0,
              "ticks": ""
             }
            },
            "type": "scatter3d"
           }
          ],
          "scattercarpet": [
           {
            "marker": {
             "colorbar": {
              "outlinewidth": 0,
              "ticks": ""
             }
            },
            "type": "scattercarpet"
           }
          ],
          "scattergeo": [
           {
            "marker": {
             "colorbar": {
              "outlinewidth": 0,
              "ticks": ""
             }
            },
            "type": "scattergeo"
           }
          ],
          "scattergl": [
           {
            "marker": {
             "colorbar": {
              "outlinewidth": 0,
              "ticks": ""
             }
            },
            "type": "scattergl"
           }
          ],
          "scattermapbox": [
           {
            "marker": {
             "colorbar": {
              "outlinewidth": 0,
              "ticks": ""
             }
            },
            "type": "scattermapbox"
           }
          ],
          "scatterpolar": [
           {
            "marker": {
             "colorbar": {
              "outlinewidth": 0,
              "ticks": ""
             }
            },
            "type": "scatterpolar"
           }
          ],
          "scatterpolargl": [
           {
            "marker": {
             "colorbar": {
              "outlinewidth": 0,
              "ticks": ""
             }
            },
            "type": "scatterpolargl"
           }
          ],
          "scatterternary": [
           {
            "marker": {
             "colorbar": {
              "outlinewidth": 0,
              "ticks": ""
             }
            },
            "type": "scatterternary"
           }
          ],
          "surface": [
           {
            "colorbar": {
             "outlinewidth": 0,
             "ticks": ""
            },
            "colorscale": [
             [
              0,
              "#0d0887"
             ],
             [
              0.1111111111111111,
              "#46039f"
             ],
             [
              0.2222222222222222,
              "#7201a8"
             ],
             [
              0.3333333333333333,
              "#9c179e"
             ],
             [
              0.4444444444444444,
              "#bd3786"
             ],
             [
              0.5555555555555556,
              "#d8576b"
             ],
             [
              0.6666666666666666,
              "#ed7953"
             ],
             [
              0.7777777777777778,
              "#fb9f3a"
             ],
             [
              0.8888888888888888,
              "#fdca26"
             ],
             [
              1,
              "#f0f921"
             ]
            ],
            "type": "surface"
           }
          ],
          "table": [
           {
            "cells": {
             "fill": {
              "color": "#EBF0F8"
             },
             "line": {
              "color": "white"
             }
            },
            "header": {
             "fill": {
              "color": "#C8D4E3"
             },
             "line": {
              "color": "white"
             }
            },
            "type": "table"
           }
          ]
         },
         "layout": {
          "annotationdefaults": {
           "arrowcolor": "#2a3f5f",
           "arrowhead": 0,
           "arrowwidth": 1
          },
          "autotypenumbers": "strict",
          "coloraxis": {
           "colorbar": {
            "outlinewidth": 0,
            "ticks": ""
           }
          },
          "colorscale": {
           "diverging": [
            [
             0,
             "#8e0152"
            ],
            [
             0.1,
             "#c51b7d"
            ],
            [
             0.2,
             "#de77ae"
            ],
            [
             0.3,
             "#f1b6da"
            ],
            [
             0.4,
             "#fde0ef"
            ],
            [
             0.5,
             "#f7f7f7"
            ],
            [
             0.6,
             "#e6f5d0"
            ],
            [
             0.7,
             "#b8e186"
            ],
            [
             0.8,
             "#7fbc41"
            ],
            [
             0.9,
             "#4d9221"
            ],
            [
             1,
             "#276419"
            ]
           ],
           "sequential": [
            [
             0,
             "#0d0887"
            ],
            [
             0.1111111111111111,
             "#46039f"
            ],
            [
             0.2222222222222222,
             "#7201a8"
            ],
            [
             0.3333333333333333,
             "#9c179e"
            ],
            [
             0.4444444444444444,
             "#bd3786"
            ],
            [
             0.5555555555555556,
             "#d8576b"
            ],
            [
             0.6666666666666666,
             "#ed7953"
            ],
            [
             0.7777777777777778,
             "#fb9f3a"
            ],
            [
             0.8888888888888888,
             "#fdca26"
            ],
            [
             1,
             "#f0f921"
            ]
           ],
           "sequentialminus": [
            [
             0,
             "#0d0887"
            ],
            [
             0.1111111111111111,
             "#46039f"
            ],
            [
             0.2222222222222222,
             "#7201a8"
            ],
            [
             0.3333333333333333,
             "#9c179e"
            ],
            [
             0.4444444444444444,
             "#bd3786"
            ],
            [
             0.5555555555555556,
             "#d8576b"
            ],
            [
             0.6666666666666666,
             "#ed7953"
            ],
            [
             0.7777777777777778,
             "#fb9f3a"
            ],
            [
             0.8888888888888888,
             "#fdca26"
            ],
            [
             1,
             "#f0f921"
            ]
           ]
          },
          "colorway": [
           "#636efa",
           "#EF553B",
           "#00cc96",
           "#ab63fa",
           "#FFA15A",
           "#19d3f3",
           "#FF6692",
           "#B6E880",
           "#FF97FF",
           "#FECB52"
          ],
          "font": {
           "color": "#2a3f5f"
          },
          "geo": {
           "bgcolor": "white",
           "lakecolor": "white",
           "landcolor": "#E5ECF6",
           "showlakes": true,
           "showland": true,
           "subunitcolor": "white"
          },
          "hoverlabel": {
           "align": "left"
          },
          "hovermode": "closest",
          "mapbox": {
           "style": "light"
          },
          "paper_bgcolor": "white",
          "plot_bgcolor": "#E5ECF6",
          "polar": {
           "angularaxis": {
            "gridcolor": "white",
            "linecolor": "white",
            "ticks": ""
           },
           "bgcolor": "#E5ECF6",
           "radialaxis": {
            "gridcolor": "white",
            "linecolor": "white",
            "ticks": ""
           }
          },
          "scene": {
           "xaxis": {
            "backgroundcolor": "#E5ECF6",
            "gridcolor": "white",
            "gridwidth": 2,
            "linecolor": "white",
            "showbackground": true,
            "ticks": "",
            "zerolinecolor": "white"
           },
           "yaxis": {
            "backgroundcolor": "#E5ECF6",
            "gridcolor": "white",
            "gridwidth": 2,
            "linecolor": "white",
            "showbackground": true,
            "ticks": "",
            "zerolinecolor": "white"
           },
           "zaxis": {
            "backgroundcolor": "#E5ECF6",
            "gridcolor": "white",
            "gridwidth": 2,
            "linecolor": "white",
            "showbackground": true,
            "ticks": "",
            "zerolinecolor": "white"
           }
          },
          "shapedefaults": {
           "line": {
            "color": "#2a3f5f"
           }
          },
          "ternary": {
           "aaxis": {
            "gridcolor": "white",
            "linecolor": "white",
            "ticks": ""
           },
           "baxis": {
            "gridcolor": "white",
            "linecolor": "white",
            "ticks": ""
           },
           "bgcolor": "#E5ECF6",
           "caxis": {
            "gridcolor": "white",
            "linecolor": "white",
            "ticks": ""
           }
          },
          "title": {
           "x": 0.05
          },
          "xaxis": {
           "automargin": true,
           "gridcolor": "white",
           "linecolor": "white",
           "ticks": "",
           "title": {
            "standoff": 15
           },
           "zerolinecolor": "white",
           "zerolinewidth": 2
          },
          "yaxis": {
           "automargin": true,
           "gridcolor": "white",
           "linecolor": "white",
           "ticks": "",
           "title": {
            "standoff": 15
           },
           "zerolinecolor": "white",
           "zerolinewidth": 2
          }
         }
        },
        "title": {
         "text": "Accuracy per Subject and Condition  - fbcsp_accuracy"
        },
        "xaxis": {
         "tickmode": "array",
         "ticktext": [
          "1",
          "3",
          "4",
          "5",
          "6",
          "7",
          "8",
          "9",
          "10",
          "11",
          "12",
          "13",
          "14",
          "15",
          "16",
          "17",
          "18",
          "19",
          "20",
          "21",
          "22",
          "24",
          "25",
          "28",
          "29"
         ],
         "tickvals": [
          "1",
          "3",
          "4",
          "5",
          "6",
          "7",
          "8",
          "9",
          "10",
          "11",
          "12",
          "13",
          "14",
          "15",
          "16",
          "17",
          "18",
          "19",
          "20",
          "21",
          "22",
          "24",
          "25",
          "28",
          "29"
         ],
         "title": {
          "text": "Subject"
         }
        },
        "yaxis": {
         "dtick": 0.1,
         "range": [
          0.3,
          1
         ],
         "tick0": 0.4,
         "title": {
          "text": "Accuracy"
         }
        }
       }
      }
     },
     "metadata": {},
     "output_type": "display_data"
    }
   ],
   "source": [
    "# Create a DataFrame to organize the data\n",
    "data = []\n",
    "for subject_id, scores in whole_epochs_results_AW.items():\n",
    "    data.append({\n",
    "        'Subject': subject_id,\n",
    "        'Condition': 'AW',\n",
    "        'Accuracy': scores['fbcsp_accuracy']\n",
    "    })\n",
    "for subject_id, scores in whole_epochs_results_MO.items():\n",
    "    data.append({\n",
    "        'Subject': subject_id,\n",
    "        'Condition': 'MO',\n",
    "        'Accuracy': scores['fbcsp_accuracy']\n",
    "    })\n",
    "for subject_id, scores in whole_epochs_results_MI.items():\n",
    "    data.append({\n",
    "        'Subject': subject_id,\n",
    "        'Condition': 'MI',\n",
    "        'Accuracy': scores['fbcsp_accuracy']\n",
    "    })\n",
    "\n",
    "df = pd.DataFrame(data)\n",
    "df_grouped = df.iloc[:,1:].groupby('Condition').agg(['mean', 'std'])\n",
    "print(df_grouped)\n",
    "\n",
    "# Calculate means and stds for error bars\n",
    "means = df.groupby('Condition')['Accuracy'].mean()\n",
    "stds = df.groupby('Condition')['Accuracy'].std()\n",
    "\n",
    "# Create Plotly grouped bar chart with error bars\n",
    "fig = go.Figure()\n",
    "\n",
    "for condition in df['Condition'].unique():\n",
    "    cond_df = df[df['Condition'] == condition]\n",
    "    fig.add_trace(go.Bar(\n",
    "        x=cond_df['Subject'],\n",
    "        y=cond_df['Accuracy'],\n",
    "        name=condition,\n",
    "        marker_color=colors[condition],\n",
    "        error_y=dict(\n",
    "            type='data',\n",
    "            array=[stds[condition]] * len(cond_df),  # same std for all bars in this condition\n",
    "            visible=True\n",
    "        )\n",
    "    ))\n",
    "\n",
    "# Add chance level line\n",
    "fig.add_hline(y=0.5, line_width=1, line_color=\"gray\")\n",
    "\n",
    "# Update layout to show subject IDs on x-axis ticks\n",
    "fig.update_layout(\n",
    "    barmode='group',\n",
    "    xaxis_title='Subject',\n",
    "    yaxis_title='Accuracy',\n",
    "    title='Accuracy per Subject and Condition  - fbcsp_accuracy',\n",
    "    legend_title_text='Condition',\n",
    "    xaxis=dict(\n",
    "        tickmode='array',\n",
    "        tickvals=df['Subject'].unique(),\n",
    "        ticktext=df['Subject'].unique()\n",
    "    ),\n",
    "    yaxis=dict(range=[0.3, 1.0], tick0=0.4, dtick=0.1),\n",
    ")\n",
    "\n",
    "fig.show()\n"
   ]
  },
  {
   "cell_type": "code",
   "execution_count": 46,
   "metadata": {},
   "outputs": [
    {
     "name": "stdout",
     "output_type": "stream",
     "text": [
      "Online file found: cleaned_dataset\\1\\1_cleaned_online.set\n",
      "Online file not found: cleaned_dataset\\2\\2_cleaned_online.set\n",
      "Online file found: cleaned_dataset\\3\\3_cleaned_online.set\n",
      "Online file found: cleaned_dataset\\4\\4_cleaned_online.set\n",
      "Online file found: cleaned_dataset\\5\\5_cleaned_online.set\n",
      "Online file found: cleaned_dataset\\6\\6_cleaned_online.set\n",
      "Online file found: cleaned_dataset\\7\\7_cleaned_online.set\n",
      "Online file found: cleaned_dataset\\8\\8_cleaned_online.set\n",
      "Online file found: cleaned_dataset\\9\\9_cleaned_online.set\n",
      "Online file found: cleaned_dataset\\10\\10_cleaned_online.set\n",
      "Online file found: cleaned_dataset\\11\\11_cleaned_online.set\n",
      "Online file found: cleaned_dataset\\12\\12_cleaned_online.set\n",
      "Online file found: cleaned_dataset\\13\\13_cleaned_online.set\n",
      "Online file found: cleaned_dataset\\14\\14_cleaned_online.set\n",
      "Online file found: cleaned_dataset\\15\\15_cleaned_online.set\n",
      "Online file found: cleaned_dataset\\16\\16_cleaned_online.set\n",
      "Online file found: cleaned_dataset\\17\\17_cleaned_online.set\n",
      "Online file found: cleaned_dataset\\18\\18_cleaned_online.set\n",
      "Online file found: cleaned_dataset\\19\\19_cleaned_online.set\n",
      "Online file found: cleaned_dataset\\20\\20_cleaned_online.set\n",
      "Online file found: cleaned_dataset\\21\\21_cleaned_online.set\n",
      "Online file found: cleaned_dataset\\22\\22_cleaned_online.set\n",
      "Online file not found: cleaned_dataset\\23\\23_cleaned_online.set\n",
      "Online file found: cleaned_dataset\\24\\24_cleaned_online.set\n",
      "Online file found: cleaned_dataset\\25\\25_cleaned_online.set\n",
      "Online file not found: cleaned_dataset\\26\\26_cleaned_online.set\n",
      "Online file not found: cleaned_dataset\\27\\27_cleaned_online.set\n",
      "Online file found: cleaned_dataset\\28\\28_cleaned_online.set\n",
      "Online file found: cleaned_dataset\\29\\29_cleaned_online.set\n"
     ]
    }
   ],
   "source": [
    "\n",
    "all_online_AW_results_seen = {}\n",
    "all_online_AW_results_new = {}\n",
    "for n, subject in enumerate(subjects):\n",
    "    online_file = os.path.join(data_folder, str(subject), f'{subject}_cleaned_online.set')\n",
    "    if os.path.exists(online_file):\n",
    "        print(f\"Online file found: {online_file}\")\n",
    "    else:\n",
    "        print(f\"Online file not found: {online_file}\")\n",
    "        continue\n",
    "    all_online_AW_results_seen[subject] = {}\n",
    "    all_online_AW_results_new[subject] = {}\n",
    "\n",
    "    AW_FBCSP_csp= joblib.load(os.path.join('features_extractors', 'AW_FBCSP_csp_subject_'+str(n)+'.pkl'))\n",
    "    AW_FBCSP_scaler = joblib.load(os.path.join('features_extractors', 'AW_FBCSP_csp_scaler_subject_'+str(n)+'.pkl'))\n",
    "    AW_FBCSP_clf = joblib.load(os.path.join('classifiers', 'AW_FBCSP_clf_subject_'+str(n)+'.pkl'))\n",
    "    AW_ERP_clf = joblib.load(os.path.join('classifiers', 'AW_ERP_clf_subject_'+str(n)+'.pkl'))\n",
    "    AW_ERP_scaler = joblib.load(os.path.join('features_extractors', 'AW_ERP_scaler_subject_'+str(n)+'.pkl'))\n",
    "    AW_combined_clf = joblib.load(os.path.join('classifiers', 'AW_Combined_clf_subject_'+str(n)+'.pkl'))\n",
    "\n",
    "    epochs_online_AW_FBCSP = create_online_epochs(online_file, 'AW','New_labels', FBCSP_channels, [-0.5, 5.0], None, clean_data=False)\n",
    "    seen_epochs_FBCSP = epochs_online_AW_FBCSP['AW_Arm', 'AW_Leg']\n",
    "    new_epochs_FBCSP = epochs_online_AW_FBCSP['AW_APLAUDIR', 'AW_PATEAR']\n",
    "\n",
    "    epochs_online_AW_ERP = create_online_epochs(online_file, 'AW', 'New_labels', ERP_channels, [-0.5, 5.0], [-0.5, 0], clean_data=False)\n",
    "    seen_epochs_ERP = epochs_online_AW_ERP['AW_Arm', 'AW_Leg']\n",
    "    new_epochs_ERP = epochs_online_AW_ERP['AW_APLAUDIR', 'AW_PATEAR']\n",
    "\n",
    "    # Align epochs and labels\n",
    "    \n",
    "    AW_FBCSP_online_aligned_seen, AW_ERP_online_aligned_seen, labels_online_AW_seen = align_epochs_and_labels(seen_epochs_FBCSP, seen_epochs_ERP,'AW_Arm', 'AW_Leg')\n",
    "    AW_FBCSP_online_aligned_new, AW_ERP_online_aligned_new, labels_online_AW_new = align_epochs_and_labels(new_epochs_FBCSP, new_epochs_ERP,'AW_APLAUDIR', 'AW_PATEAR')\n",
    "\n",
    "    models_and_selectors = {'fbcsp_clf':AW_FBCSP_clf,'fbcsp_csp': AW_FBCSP_csp, 'fbcsp_selected_features': AW_results['FBCSP'][subject]['selected_features'], 'fbcsp_scaler': AW_FBCSP_scaler,\n",
    "                            'erp_clf': AW_ERP_clf, 'erp_selected_features': AW_results['ERP'][subject]['selected_features'], 'erp_scaler': AW_ERP_scaler,\n",
    "                            'combined_clf': AW_combined_clf}\n",
    "    \n",
    "    results = online_overtime_classification_from_whole_epochs(AW_FBCSP_online_aligned_seen, AW_ERP_online_aligned_seen, labels_online_AW_seen, models_and_selectors) \n",
    "    all_online_AW_results_seen[subject] = results\n",
    "\n",
    "    results = online_overtime_classification_from_whole_epochs(AW_FBCSP_online_aligned_new, AW_ERP_online_aligned_new, labels_online_AW_new, models_and_selectors)\n",
    "    all_online_AW_results_new[subject] = results"
   ]
  },
  {
   "cell_type": "code",
   "execution_count": 47,
   "metadata": {},
   "outputs": [
    {
     "data": {
      "application/vnd.plotly.v1+json": {
       "config": {
        "plotlyServerURL": "https://plot.ly"
       },
       "data": [
        {
         "colorbar": {
          "title": {
           "text": "Accuracy"
          }
         },
         "colorscale": [
          [
           0,
           "red"
          ],
          [
           0.5,
           "white"
          ],
          [
           1,
           "blue"
          ]
         ],
         "type": "heatmap",
         "x": [
          1.248,
          1.496,
          1.744,
          1.992,
          2.24,
          2.488,
          2.736,
          2.984,
          3.232,
          3.48,
          3.728
         ],
         "y": [
          "Subject 1: ERP",
          "Subject 3: ERP",
          "Subject 4: ERP",
          "Subject 5: FBCSP",
          "Subject 6: FBCSP",
          "Subject 7: FBCSP",
          "Subject 8: FBCSP",
          "Subject 9: FBCSP",
          "Subject 10: ERP",
          "Subject 11: Combined",
          "Subject 12: Combined",
          "Subject 13: FBCSP",
          "Subject 14: ERP",
          "Subject 15: Combined",
          "Subject 16: ERP",
          "Subject 17: ERP",
          "Subject 18: FBCSP",
          "Subject 19: ERP",
          "Subject 20: FBCSP",
          "Subject 21: FBCSP",
          "Subject 22: FBCSP",
          "Subject 24: FBCSP",
          "Subject 25: Combined",
          "Subject 28: ERP",
          "Subject 29: ERP"
         ],
         "z": [
          [
           0.625,
           0.625,
           0.625,
           0.5,
           0.625,
           0.25,
           0.625,
           0.5,
           0.625,
           0.75,
           0.5
          ],
          [
           0.5,
           0.75,
           0.375,
           0.5,
           0.75,
           0.375,
           0.5,
           0.5,
           0.625,
           0.5,
           0.375
          ],
          [
           0.5,
           0.75,
           0.75,
           0.5,
           0.625,
           0.75,
           0.5,
           0.375,
           0.75,
           0.5,
           0.375
          ],
          [
           0.7142857142857143,
           0.7142857142857143,
           0.7142857142857143,
           0.7142857142857143,
           0.7142857142857143,
           0.7142857142857143,
           0.7142857142857143,
           0.42857142857142855,
           0.42857142857142855,
           0.42857142857142855,
           0.5714285714285714
          ],
          [
           0.625,
           0.625,
           0.5,
           0.5,
           0.5,
           0.5,
           0.5,
           0.625,
           0.625,
           0.625,
           0.625
          ],
          [
           0.42857142857142855,
           0.42857142857142855,
           0.42857142857142855,
           0.42857142857142855,
           0.5714285714285714,
           0.5714285714285714,
           0.5714285714285714,
           0.5714285714285714,
           0.42857142857142855,
           0.2857142857142857,
           0.2857142857142857
          ],
          [
           0.5,
           0.5,
           0.5,
           0.5,
           0.5,
           0.5,
           0.5,
           0.5,
           0.5,
           0.5,
           0.5
          ],
          [
           0.5714285714285714,
           0.5714285714285714,
           0.5714285714285714,
           0.5714285714285714,
           0.5714285714285714,
           0.5714285714285714,
           0.5714285714285714,
           0.5714285714285714,
           0.5714285714285714,
           0.5714285714285714,
           0.5714285714285714
          ],
          [
           0.2,
           0.2,
           0.2,
           0.6,
           0.6,
           0.2,
           0.2,
           0.2,
           0.6,
           0.4,
           0.4
          ],
          [
           0.625,
           0.5,
           0.625,
           0.5,
           0.5,
           0.5,
           0.625,
           0.625,
           0.375,
           0.75,
           0.125
          ],
          [
           0.5,
           0.625,
           0.625,
           0.625,
           0.625,
           0.625,
           0.5,
           0.625,
           0.625,
           0.625,
           0.5
          ],
          [
           0.5,
           0.5,
           0.5,
           0.5,
           0.5,
           0.5,
           0.5,
           0.5,
           0.5,
           0.5,
           0.5
          ],
          [
           0.375,
           0.625,
           0.375,
           0.625,
           0.875,
           0.5,
           0.125,
           0.375,
           0.75,
           0.5,
           0.625
          ],
          [
           0.5714285714285714,
           0.2857142857142857,
           0.42857142857142855,
           0.5714285714285714,
           0.42857142857142855,
           0.2857142857142857,
           0.5714285714285714,
           0.5714285714285714,
           0.2857142857142857,
           0.5714285714285714,
           0.7142857142857143
          ],
          [
           0.2857142857142857,
           0.7142857142857143,
           0.5714285714285714,
           0.42857142857142855,
           0.5714285714285714,
           0.5714285714285714,
           0.42857142857142855,
           0.42857142857142855,
           0.7142857142857143,
           0.5714285714285714,
           0.42857142857142855
          ],
          [
           0.4,
           0.2,
           0,
           0.8,
           0.6,
           0.4,
           0.4,
           0.8,
           0.8,
           0.4,
           0.2
          ],
          [
           0.5,
           0.5,
           0.5,
           0.5,
           0.5,
           0.5,
           0.5,
           0.5,
           0.5,
           0.5,
           0.5
          ],
          [
           0.7142857142857143,
           0.8571428571428571,
           0.8571428571428571,
           0.8571428571428571,
           0.5714285714285714,
           0.8571428571428571,
           0.42857142857142855,
           0.5714285714285714,
           0.5714285714285714,
           0.8571428571428571,
           0.7142857142857143
          ],
          [
           0.5,
           0.5,
           0.5,
           0.5,
           0.5,
           0.5,
           0.5,
           0.5,
           0.5,
           0.5,
           0.5
          ],
          [
           0.5,
           0.5,
           0.5,
           0.5,
           0.5,
           0.5,
           0.5,
           0.5,
           0.5,
           0.5,
           0.5
          ],
          [
           0.42857142857142855,
           0.42857142857142855,
           0.5714285714285714,
           0.7142857142857143,
           0.7142857142857143,
           0.7142857142857143,
           0.7142857142857143,
           0.42857142857142855,
           0.42857142857142855,
           0.2857142857142857,
           0.14285714285714285
          ],
          [
           0.5,
           0.5,
           0.5,
           0.5,
           0.5,
           0.5,
           0.5,
           0.5,
           0.5,
           0.5,
           0.5
          ],
          [
           0.42857142857142855,
           0.42857142857142855,
           0.42857142857142855,
           0.42857142857142855,
           0.42857142857142855,
           0.42857142857142855,
           0.5714285714285714,
           0.42857142857142855,
           0.42857142857142855,
           0.42857142857142855,
           0.42857142857142855
          ],
          [
           0.5,
           0.5,
           0.75,
           0.75,
           0.375,
           0.375,
           0.75,
           0.25,
           0.5,
           0.5,
           0.625
          ],
          [
           1,
           0.625,
           0.375,
           0.5,
           0.875,
           0.625,
           0.625,
           0.875,
           0.5,
           0.625,
           0.75
          ]
         ],
         "zmax": 1,
         "zmin": 0
        }
       ],
       "layout": {
        "height": 800,
        "template": {
         "data": {
          "bar": [
           {
            "error_x": {
             "color": "#2a3f5f"
            },
            "error_y": {
             "color": "#2a3f5f"
            },
            "marker": {
             "line": {
              "color": "#E5ECF6",
              "width": 0.5
             },
             "pattern": {
              "fillmode": "overlay",
              "size": 10,
              "solidity": 0.2
             }
            },
            "type": "bar"
           }
          ],
          "barpolar": [
           {
            "marker": {
             "line": {
              "color": "#E5ECF6",
              "width": 0.5
             },
             "pattern": {
              "fillmode": "overlay",
              "size": 10,
              "solidity": 0.2
             }
            },
            "type": "barpolar"
           }
          ],
          "carpet": [
           {
            "aaxis": {
             "endlinecolor": "#2a3f5f",
             "gridcolor": "white",
             "linecolor": "white",
             "minorgridcolor": "white",
             "startlinecolor": "#2a3f5f"
            },
            "baxis": {
             "endlinecolor": "#2a3f5f",
             "gridcolor": "white",
             "linecolor": "white",
             "minorgridcolor": "white",
             "startlinecolor": "#2a3f5f"
            },
            "type": "carpet"
           }
          ],
          "choropleth": [
           {
            "colorbar": {
             "outlinewidth": 0,
             "ticks": ""
            },
            "type": "choropleth"
           }
          ],
          "contour": [
           {
            "colorbar": {
             "outlinewidth": 0,
             "ticks": ""
            },
            "colorscale": [
             [
              0,
              "#0d0887"
             ],
             [
              0.1111111111111111,
              "#46039f"
             ],
             [
              0.2222222222222222,
              "#7201a8"
             ],
             [
              0.3333333333333333,
              "#9c179e"
             ],
             [
              0.4444444444444444,
              "#bd3786"
             ],
             [
              0.5555555555555556,
              "#d8576b"
             ],
             [
              0.6666666666666666,
              "#ed7953"
             ],
             [
              0.7777777777777778,
              "#fb9f3a"
             ],
             [
              0.8888888888888888,
              "#fdca26"
             ],
             [
              1,
              "#f0f921"
             ]
            ],
            "type": "contour"
           }
          ],
          "contourcarpet": [
           {
            "colorbar": {
             "outlinewidth": 0,
             "ticks": ""
            },
            "type": "contourcarpet"
           }
          ],
          "heatmap": [
           {
            "colorbar": {
             "outlinewidth": 0,
             "ticks": ""
            },
            "colorscale": [
             [
              0,
              "#0d0887"
             ],
             [
              0.1111111111111111,
              "#46039f"
             ],
             [
              0.2222222222222222,
              "#7201a8"
             ],
             [
              0.3333333333333333,
              "#9c179e"
             ],
             [
              0.4444444444444444,
              "#bd3786"
             ],
             [
              0.5555555555555556,
              "#d8576b"
             ],
             [
              0.6666666666666666,
              "#ed7953"
             ],
             [
              0.7777777777777778,
              "#fb9f3a"
             ],
             [
              0.8888888888888888,
              "#fdca26"
             ],
             [
              1,
              "#f0f921"
             ]
            ],
            "type": "heatmap"
           }
          ],
          "heatmapgl": [
           {
            "colorbar": {
             "outlinewidth": 0,
             "ticks": ""
            },
            "colorscale": [
             [
              0,
              "#0d0887"
             ],
             [
              0.1111111111111111,
              "#46039f"
             ],
             [
              0.2222222222222222,
              "#7201a8"
             ],
             [
              0.3333333333333333,
              "#9c179e"
             ],
             [
              0.4444444444444444,
              "#bd3786"
             ],
             [
              0.5555555555555556,
              "#d8576b"
             ],
             [
              0.6666666666666666,
              "#ed7953"
             ],
             [
              0.7777777777777778,
              "#fb9f3a"
             ],
             [
              0.8888888888888888,
              "#fdca26"
             ],
             [
              1,
              "#f0f921"
             ]
            ],
            "type": "heatmapgl"
           }
          ],
          "histogram": [
           {
            "marker": {
             "pattern": {
              "fillmode": "overlay",
              "size": 10,
              "solidity": 0.2
             }
            },
            "type": "histogram"
           }
          ],
          "histogram2d": [
           {
            "colorbar": {
             "outlinewidth": 0,
             "ticks": ""
            },
            "colorscale": [
             [
              0,
              "#0d0887"
             ],
             [
              0.1111111111111111,
              "#46039f"
             ],
             [
              0.2222222222222222,
              "#7201a8"
             ],
             [
              0.3333333333333333,
              "#9c179e"
             ],
             [
              0.4444444444444444,
              "#bd3786"
             ],
             [
              0.5555555555555556,
              "#d8576b"
             ],
             [
              0.6666666666666666,
              "#ed7953"
             ],
             [
              0.7777777777777778,
              "#fb9f3a"
             ],
             [
              0.8888888888888888,
              "#fdca26"
             ],
             [
              1,
              "#f0f921"
             ]
            ],
            "type": "histogram2d"
           }
          ],
          "histogram2dcontour": [
           {
            "colorbar": {
             "outlinewidth": 0,
             "ticks": ""
            },
            "colorscale": [
             [
              0,
              "#0d0887"
             ],
             [
              0.1111111111111111,
              "#46039f"
             ],
             [
              0.2222222222222222,
              "#7201a8"
             ],
             [
              0.3333333333333333,
              "#9c179e"
             ],
             [
              0.4444444444444444,
              "#bd3786"
             ],
             [
              0.5555555555555556,
              "#d8576b"
             ],
             [
              0.6666666666666666,
              "#ed7953"
             ],
             [
              0.7777777777777778,
              "#fb9f3a"
             ],
             [
              0.8888888888888888,
              "#fdca26"
             ],
             [
              1,
              "#f0f921"
             ]
            ],
            "type": "histogram2dcontour"
           }
          ],
          "mesh3d": [
           {
            "colorbar": {
             "outlinewidth": 0,
             "ticks": ""
            },
            "type": "mesh3d"
           }
          ],
          "parcoords": [
           {
            "line": {
             "colorbar": {
              "outlinewidth": 0,
              "ticks": ""
             }
            },
            "type": "parcoords"
           }
          ],
          "pie": [
           {
            "automargin": true,
            "type": "pie"
           }
          ],
          "scatter": [
           {
            "fillpattern": {
             "fillmode": "overlay",
             "size": 10,
             "solidity": 0.2
            },
            "type": "scatter"
           }
          ],
          "scatter3d": [
           {
            "line": {
             "colorbar": {
              "outlinewidth": 0,
              "ticks": ""
             }
            },
            "marker": {
             "colorbar": {
              "outlinewidth": 0,
              "ticks": ""
             }
            },
            "type": "scatter3d"
           }
          ],
          "scattercarpet": [
           {
            "marker": {
             "colorbar": {
              "outlinewidth": 0,
              "ticks": ""
             }
            },
            "type": "scattercarpet"
           }
          ],
          "scattergeo": [
           {
            "marker": {
             "colorbar": {
              "outlinewidth": 0,
              "ticks": ""
             }
            },
            "type": "scattergeo"
           }
          ],
          "scattergl": [
           {
            "marker": {
             "colorbar": {
              "outlinewidth": 0,
              "ticks": ""
             }
            },
            "type": "scattergl"
           }
          ],
          "scattermapbox": [
           {
            "marker": {
             "colorbar": {
              "outlinewidth": 0,
              "ticks": ""
             }
            },
            "type": "scattermapbox"
           }
          ],
          "scatterpolar": [
           {
            "marker": {
             "colorbar": {
              "outlinewidth": 0,
              "ticks": ""
             }
            },
            "type": "scatterpolar"
           }
          ],
          "scatterpolargl": [
           {
            "marker": {
             "colorbar": {
              "outlinewidth": 0,
              "ticks": ""
             }
            },
            "type": "scatterpolargl"
           }
          ],
          "scatterternary": [
           {
            "marker": {
             "colorbar": {
              "outlinewidth": 0,
              "ticks": ""
             }
            },
            "type": "scatterternary"
           }
          ],
          "surface": [
           {
            "colorbar": {
             "outlinewidth": 0,
             "ticks": ""
            },
            "colorscale": [
             [
              0,
              "#0d0887"
             ],
             [
              0.1111111111111111,
              "#46039f"
             ],
             [
              0.2222222222222222,
              "#7201a8"
             ],
             [
              0.3333333333333333,
              "#9c179e"
             ],
             [
              0.4444444444444444,
              "#bd3786"
             ],
             [
              0.5555555555555556,
              "#d8576b"
             ],
             [
              0.6666666666666666,
              "#ed7953"
             ],
             [
              0.7777777777777778,
              "#fb9f3a"
             ],
             [
              0.8888888888888888,
              "#fdca26"
             ],
             [
              1,
              "#f0f921"
             ]
            ],
            "type": "surface"
           }
          ],
          "table": [
           {
            "cells": {
             "fill": {
              "color": "#EBF0F8"
             },
             "line": {
              "color": "white"
             }
            },
            "header": {
             "fill": {
              "color": "#C8D4E3"
             },
             "line": {
              "color": "white"
             }
            },
            "type": "table"
           }
          ]
         },
         "layout": {
          "annotationdefaults": {
           "arrowcolor": "#2a3f5f",
           "arrowhead": 0,
           "arrowwidth": 1
          },
          "autotypenumbers": "strict",
          "coloraxis": {
           "colorbar": {
            "outlinewidth": 0,
            "ticks": ""
           }
          },
          "colorscale": {
           "diverging": [
            [
             0,
             "#8e0152"
            ],
            [
             0.1,
             "#c51b7d"
            ],
            [
             0.2,
             "#de77ae"
            ],
            [
             0.3,
             "#f1b6da"
            ],
            [
             0.4,
             "#fde0ef"
            ],
            [
             0.5,
             "#f7f7f7"
            ],
            [
             0.6,
             "#e6f5d0"
            ],
            [
             0.7,
             "#b8e186"
            ],
            [
             0.8,
             "#7fbc41"
            ],
            [
             0.9,
             "#4d9221"
            ],
            [
             1,
             "#276419"
            ]
           ],
           "sequential": [
            [
             0,
             "#0d0887"
            ],
            [
             0.1111111111111111,
             "#46039f"
            ],
            [
             0.2222222222222222,
             "#7201a8"
            ],
            [
             0.3333333333333333,
             "#9c179e"
            ],
            [
             0.4444444444444444,
             "#bd3786"
            ],
            [
             0.5555555555555556,
             "#d8576b"
            ],
            [
             0.6666666666666666,
             "#ed7953"
            ],
            [
             0.7777777777777778,
             "#fb9f3a"
            ],
            [
             0.8888888888888888,
             "#fdca26"
            ],
            [
             1,
             "#f0f921"
            ]
           ],
           "sequentialminus": [
            [
             0,
             "#0d0887"
            ],
            [
             0.1111111111111111,
             "#46039f"
            ],
            [
             0.2222222222222222,
             "#7201a8"
            ],
            [
             0.3333333333333333,
             "#9c179e"
            ],
            [
             0.4444444444444444,
             "#bd3786"
            ],
            [
             0.5555555555555556,
             "#d8576b"
            ],
            [
             0.6666666666666666,
             "#ed7953"
            ],
            [
             0.7777777777777778,
             "#fb9f3a"
            ],
            [
             0.8888888888888888,
             "#fdca26"
            ],
            [
             1,
             "#f0f921"
            ]
           ]
          },
          "colorway": [
           "#636efa",
           "#EF553B",
           "#00cc96",
           "#ab63fa",
           "#FFA15A",
           "#19d3f3",
           "#FF6692",
           "#B6E880",
           "#FF97FF",
           "#FECB52"
          ],
          "font": {
           "color": "#2a3f5f"
          },
          "geo": {
           "bgcolor": "white",
           "lakecolor": "white",
           "landcolor": "#E5ECF6",
           "showlakes": true,
           "showland": true,
           "subunitcolor": "white"
          },
          "hoverlabel": {
           "align": "left"
          },
          "hovermode": "closest",
          "mapbox": {
           "style": "light"
          },
          "paper_bgcolor": "white",
          "plot_bgcolor": "#E5ECF6",
          "polar": {
           "angularaxis": {
            "gridcolor": "white",
            "linecolor": "white",
            "ticks": ""
           },
           "bgcolor": "#E5ECF6",
           "radialaxis": {
            "gridcolor": "white",
            "linecolor": "white",
            "ticks": ""
           }
          },
          "scene": {
           "xaxis": {
            "backgroundcolor": "#E5ECF6",
            "gridcolor": "white",
            "gridwidth": 2,
            "linecolor": "white",
            "showbackground": true,
            "ticks": "",
            "zerolinecolor": "white"
           },
           "yaxis": {
            "backgroundcolor": "#E5ECF6",
            "gridcolor": "white",
            "gridwidth": 2,
            "linecolor": "white",
            "showbackground": true,
            "ticks": "",
            "zerolinecolor": "white"
           },
           "zaxis": {
            "backgroundcolor": "#E5ECF6",
            "gridcolor": "white",
            "gridwidth": 2,
            "linecolor": "white",
            "showbackground": true,
            "ticks": "",
            "zerolinecolor": "white"
           }
          },
          "shapedefaults": {
           "line": {
            "color": "#2a3f5f"
           }
          },
          "ternary": {
           "aaxis": {
            "gridcolor": "white",
            "linecolor": "white",
            "ticks": ""
           },
           "baxis": {
            "gridcolor": "white",
            "linecolor": "white",
            "ticks": ""
           },
           "bgcolor": "#E5ECF6",
           "caxis": {
            "gridcolor": "white",
            "linecolor": "white",
            "ticks": ""
           }
          },
          "title": {
           "x": 0.05
          },
          "xaxis": {
           "automargin": true,
           "gridcolor": "white",
           "linecolor": "white",
           "ticks": "",
           "title": {
            "standoff": 15
           },
           "zerolinecolor": "white",
           "zerolinewidth": 2
          },
          "yaxis": {
           "automargin": true,
           "gridcolor": "white",
           "linecolor": "white",
           "ticks": "",
           "title": {
            "standoff": 15
           },
           "zerolinecolor": "white",
           "zerolinewidth": 2
          }
         }
        },
        "title": {
         "text": "Best Model Accuracy Over Time for Each Subject"
        },
        "width": 1200,
        "xaxis": {
         "dtick": 0.5,
         "tickmode": "linear",
         "title": {
          "text": "Time (s)"
         }
        },
        "yaxis": {
         "autorange": "reversed",
         "title": {
          "text": "Subject and Best Model"
         }
        }
       }
      }
     },
     "metadata": {},
     "output_type": "display_data"
    }
   ],
   "source": [
    "import pandas as pd\n",
    "import plotly.graph_objects as go\n",
    "import numpy as np\n",
    "import warnings\n",
    "\n",
    "# Suppress the UserWarning from Plotly\n",
    "warnings.filterwarnings('ignore', category=UserWarning, module='plotly.graph_objects')\n",
    "\n",
    "# Prepare data for plotting\n",
    "plot_data = {}\n",
    "for subject, results in all_online_AW_results_seen.items():\n",
    "    if not results:\n",
    "        continue\n",
    "    \n",
    "    # Calculate mean accuracy for each model across all time points\n",
    "    fbcsp_mean = np.mean(results['fbcsp_accuracies'])\n",
    "    erp_mean = np.mean(results['erp_accuracies'])\n",
    "    combined_mean = np.mean(results['combined_accuracies'])\n",
    "    \n",
    "    # Find the best model based on mean accuracy\n",
    "    means = {'FBCSP': fbcsp_mean, 'ERP': erp_mean, 'Combined': combined_mean}\n",
    "    best_model_name = max(means, key=means.get)\n",
    "    \n",
    "    # Store the accuracies of the best model and the model name\n",
    "    plot_data[subject] = {\n",
    "        'model_name': best_model_name,\n",
    "        'accuracies': results[f'{best_model_name.lower()}_accuracies']\n",
    "    }\n",
    "\n",
    "# Create a DataFrame for easy plotting\n",
    "x_times = all_online_AW_results_seen['1']['times']\n",
    "y_subjects = []\n",
    "z_accuracies = []\n",
    "custom_data = []\n",
    "\n",
    "for subject, data in plot_data.items():\n",
    "    y_subjects.append(f\"Subject {subject}: {data['model_name']}\")\n",
    "    z_accuracies.append(data['accuracies'])\n",
    "\n",
    "# Create the heatmap\n",
    "fig = go.Figure(data=go.Heatmap(\n",
    "    x=x_times,\n",
    "    y=y_subjects,\n",
    "    z=z_accuracies,\n",
    "    colorscale=[[0.0, 'red'], [0.5, 'white'], [1.0, 'blue']],\n",
    "    zmin=0,\n",
    "    zmax=1,\n",
    "    colorbar=dict(title=\"Accuracy\")\n",
    "))\n",
    "\n",
    "# Set layout titles and labels\n",
    "fig.update_layout(\n",
    "    height=800,\n",
    "    width=1200,\n",
    "    title='Best Model Accuracy Over Time for Each Subject',\n",
    "    xaxis_title='Time (s)',\n",
    "    yaxis_title='Subject and Best Model',\n",
    "    yaxis_autorange='reversed',\n",
    "    xaxis_tickmode='linear',\n",
    "    xaxis_dtick=0.5\n",
    ")\n",
    "\n",
    "fig.show()"
   ]
  },
  {
   "cell_type": "code",
   "execution_count": 48,
   "metadata": {},
   "outputs": [
    {
     "name": "stdout",
     "output_type": "stream",
     "text": [
      "Subject 1: Best Model = ERP, Mean Accuracy = 0.568, Std = 0.123\n",
      "Subject 3: Best Model = ERP, Mean Accuracy = 0.523, Std = 0.129\n",
      "Subject 4: Best Model = ERP, Mean Accuracy = 0.580, Std = 0.144\n",
      "Subject 5: Best Model = FBCSP, Mean Accuracy = 0.623, Std = 0.126\n",
      "Subject 6: Best Model = FBCSP, Mean Accuracy = 0.568, Std = 0.062\n",
      "Subject 7: Best Model = FBCSP, Mean Accuracy = 0.455, Std = 0.102\n",
      "Subject 8: Best Model = FBCSP, Mean Accuracy = 0.500, Std = 0.000\n",
      "Subject 9: Best Model = FBCSP, Mean Accuracy = 0.571, Std = 0.000\n",
      "Subject 10: Best Model = ERP, Mean Accuracy = 0.345, Std = 0.172\n",
      "Subject 11: Best Model = Combined, Mean Accuracy = 0.523, Std = 0.158\n",
      "Subject 12: Best Model = Combined, Mean Accuracy = 0.591, Std = 0.056\n",
      "Subject 13: Best Model = FBCSP, Mean Accuracy = 0.500, Std = 0.000\n",
      "Subject 14: Best Model = ERP, Mean Accuracy = 0.523, Std = 0.198\n",
      "Subject 15: Best Model = Combined, Mean Accuracy = 0.481, Std = 0.140\n",
      "Subject 16: Best Model = ERP, Mean Accuracy = 0.519, Std = 0.126\n",
      "Subject 17: Best Model = ERP, Mean Accuracy = 0.455, Std = 0.257\n",
      "Subject 18: Best Model = FBCSP, Mean Accuracy = 0.500, Std = 0.000\n",
      "Subject 19: Best Model = ERP, Mean Accuracy = 0.714, Std = 0.149\n",
      "Subject 20: Best Model = FBCSP, Mean Accuracy = 0.500, Std = 0.000\n",
      "Subject 21: Best Model = FBCSP, Mean Accuracy = 0.500, Std = 0.000\n",
      "Subject 22: Best Model = FBCSP, Mean Accuracy = 0.506, Std = 0.186\n",
      "Subject 24: Best Model = FBCSP, Mean Accuracy = 0.500, Std = 0.000\n",
      "Subject 25: Best Model = Combined, Mean Accuracy = 0.442, Std = 0.041\n",
      "Subject 28: Best Model = ERP, Mean Accuracy = 0.534, Std = 0.161\n",
      "Subject 29: Best Model = ERP, Mean Accuracy = 0.670, Std = 0.179\n"
     ]
    }
   ],
   "source": [
    "# Calculate and print the average and standard deviation of the best model accuracy for each subject\n",
    "subject_averages = {}\n",
    "subject_stds = {}\n",
    "\n",
    "for subject, data in plot_data.items():\n",
    "    accuracies = np.array(data['accuracies'])\n",
    "    subject_averages[subject] = np.mean(accuracies)\n",
    "    subject_stds[subject] = np.std(accuracies)\n",
    "    print(f\"Subject {subject}: Best Model = {data['model_name']}, Mean Accuracy = {subject_averages[subject]:.3f}, Std = {subject_stds[subject]:.3f}\")"
   ]
  },
  {
   "cell_type": "code",
   "execution_count": 49,
   "metadata": {},
   "outputs": [
    {
     "data": {
      "application/vnd.plotly.v1+json": {
       "config": {
        "plotlyServerURL": "https://plot.ly"
       },
       "data": [
        {
         "colorbar": {
          "title": {
           "text": "Accuracy"
          }
         },
         "colorscale": [
          [
           0,
           "red"
          ],
          [
           0.5,
           "white"
          ],
          [
           1,
           "blue"
          ]
         ],
         "type": "heatmap",
         "x": [
          1.248,
          1.496,
          1.744,
          1.992,
          2.24,
          2.488,
          2.736,
          2.984,
          3.232,
          3.48,
          3.728
         ],
         "y": [
          "Subject 1: ERP",
          "Subject 3: FBCSP",
          "Subject 4: FBCSP",
          "Subject 5: FBCSP",
          "Subject 6: FBCSP",
          "Subject 7: FBCSP",
          "Subject 8: FBCSP",
          "Subject 9: ERP",
          "Subject 10: Combined",
          "Subject 11: FBCSP",
          "Subject 12: ERP",
          "Subject 13: ERP",
          "Subject 14: FBCSP",
          "Subject 15: ERP",
          "Subject 16: FBCSP",
          "Subject 17: FBCSP",
          "Subject 18: Combined",
          "Subject 19: FBCSP",
          "Subject 20: ERP",
          "Subject 21: FBCSP",
          "Subject 22: FBCSP",
          "Subject 24: FBCSP",
          "Subject 25: ERP",
          "Subject 28: ERP",
          "Subject 29: Combined"
         ],
         "z": [
          [
           0.6666666666666666,
           0.5833333333333334,
           0.5,
           0.5,
           0.6666666666666666,
           0.5833333333333334,
           0.6666666666666666,
           0.5,
           0.5,
           0.5833333333333334,
           0.5
          ],
          [
           0.5,
           0.5,
           0.5,
           0.5,
           0.5,
           0.5,
           0.5,
           0.5,
           0.5,
           0.5,
           0.5
          ],
          [
           0.5,
           0.5,
           0.5,
           0.5,
           0.5,
           0.5,
           0.5,
           0.5,
           0.5,
           0.5,
           0.5
          ],
          [
           0.45454545454545453,
           0.45454545454545453,
           0.5454545454545454,
           0.45454545454545453,
           0.5454545454545454,
           0.5454545454545454,
           0.45454545454545453,
           0.5454545454545454,
           0.5454545454545454,
           0.45454545454545453,
           0.45454545454545453
          ],
          [
           0.5454545454545454,
           0.5454545454545454,
           0.45454545454545453,
           0.6363636363636364,
           0.5454545454545454,
           0.6363636363636364,
           0.6363636363636364,
           0.6363636363636364,
           0.5454545454545454,
           0.6363636363636364,
           0.6363636363636364
          ],
          [
           0.6363636363636364,
           0.6363636363636364,
           0.5454545454545454,
           0.8181818181818182,
           0.5454545454545454,
           0.5454545454545454,
           0.6363636363636364,
           0.5454545454545454,
           0.6363636363636364,
           0.45454545454545453,
           0.5454545454545454
          ],
          [
           0.45454545454545453,
           0.45454545454545453,
           0.45454545454545453,
           0.45454545454545453,
           0.45454545454545453,
           0.45454545454545453,
           0.45454545454545453,
           0.45454545454545453,
           0.45454545454545453,
           0.45454545454545453,
           0.45454545454545453
          ],
          [
           0.6363636363636364,
           0.6363636363636364,
           0.8181818181818182,
           0.5454545454545454,
           0.45454545454545453,
           0.5454545454545454,
           0.6363636363636364,
           0.6363636363636364,
           0.5454545454545454,
           0.7272727272727273,
           0.5454545454545454
          ],
          [
           0.4444444444444444,
           0.4444444444444444,
           0.4444444444444444,
           0.4444444444444444,
           0.4444444444444444,
           0.4444444444444444,
           0.4444444444444444,
           0.4444444444444444,
           0.4444444444444444,
           0.4444444444444444,
           0.4444444444444444
          ],
          [
           0.4166666666666667,
           0.5833333333333334,
           0.5833333333333334,
           0.5,
           0.5,
           0.4166666666666667,
           0.5833333333333334,
           0.3333333333333333,
           0.5,
           0.5,
           0.5
          ],
          [
           0.75,
           0.75,
           0.6666666666666666,
           0.8333333333333334,
           0.8333333333333334,
           0.6666666666666666,
           0.75,
           0.6666666666666666,
           0.8333333333333334,
           0.4166666666666667,
           0.5833333333333334
          ],
          [
           0.5833333333333334,
           0.6666666666666666,
           0.6666666666666666,
           0.75,
           0.75,
           0.5,
           0.4166666666666667,
           0.6666666666666666,
           0.75,
           0.6666666666666666,
           0.5
          ],
          [
           0.8333333333333334,
           0.8333333333333334,
           0.75,
           0.5833333333333334,
           0.5833333333333334,
           0.5833333333333334,
           0.5,
           0.5833333333333334,
           0.4166666666666667,
           0.5,
           0.5833333333333334
          ],
          [
           0.36363636363636365,
           0.45454545454545453,
           0.5454545454545454,
           0.45454545454545453,
           0.6363636363636364,
           0.7272727272727273,
           0.36363636363636365,
           0.36363636363636365,
           0.6363636363636364,
           0.45454545454545453,
           0.6363636363636364
          ],
          [
           0.6666666666666666,
           0.6666666666666666,
           0.5555555555555556,
           0.4444444444444444,
           0.3333333333333333,
           0.4444444444444444,
           0.5555555555555556,
           0.5555555555555556,
           0.5555555555555556,
           0.5555555555555556,
           0.5555555555555556
          ],
          [
           0.8,
           0.9,
           0.8,
           0.7,
           0.5,
           0.4,
           0.6,
           0.7,
           0.6,
           0.6,
           0.6
          ],
          [
           0.5,
           0.5833333333333334,
           0.5,
           0.5,
           0.75,
           0.4166666666666667,
           0.4166666666666667,
           0.5833333333333334,
           0.5833333333333334,
           0.6666666666666666,
           0.3333333333333333
          ],
          [
           0.5454545454545454,
           0.5454545454545454,
           0.5454545454545454,
           0.5454545454545454,
           0.5454545454545454,
           0.5454545454545454,
           0.5454545454545454,
           0.5454545454545454,
           0.5454545454545454,
           0.5454545454545454,
           0.5454545454545454
          ],
          [
           0.5,
           0.3333333333333333,
           0.4166666666666667,
           0.6666666666666666,
           0.5,
           0.75,
           0.75,
           0.5,
           0.3333333333333333,
           0.6666666666666666,
           0.5
          ],
          [
           0.45454545454545453,
           0.45454545454545453,
           0.45454545454545453,
           0.45454545454545453,
           0.45454545454545453,
           0.45454545454545453,
           0.45454545454545453,
           0.45454545454545453,
           0.45454545454545453,
           0.45454545454545453,
           0.45454545454545453
          ],
          [
           0.6363636363636364,
           0.7272727272727273,
           0.6363636363636364,
           0.5454545454545454,
           0.5454545454545454,
           0.6363636363636364,
           0.6363636363636364,
           0.8181818181818182,
           0.8181818181818182,
           0.7272727272727273,
           0.5454545454545454
          ],
          [
           0.45454545454545453,
           0.45454545454545453,
           0.45454545454545453,
           0.45454545454545453,
           0.45454545454545453,
           0.45454545454545453,
           0.45454545454545453,
           0.45454545454545453,
           0.45454545454545453,
           0.45454545454545453,
           0.45454545454545453
          ],
          [
           0.5454545454545454,
           0.6363636363636364,
           0.7272727272727273,
           0.7272727272727273,
           0.36363636363636365,
           0.7272727272727273,
           0.9090909090909091,
           0.6363636363636364,
           0.5454545454545454,
           0.6363636363636364,
           0.5454545454545454
          ],
          [
           0.45454545454545453,
           0.45454545454545453,
           0.45454545454545453,
           0.6363636363636364,
           0.5454545454545454,
           0.5454545454545454,
           0.45454545454545453,
           0.5454545454545454,
           0.6363636363636364,
           0.7272727272727273,
           0.5454545454545454
          ],
          [
           0.45454545454545453,
           0.45454545454545453,
           0.45454545454545453,
           0.5454545454545454,
           0.45454545454545453,
           0.45454545454545453,
           0.45454545454545453,
           0.45454545454545453,
           0.5454545454545454,
           0.45454545454545453,
           0.45454545454545453
          ]
         ],
         "zmax": 1,
         "zmin": 0
        }
       ],
       "layout": {
        "height": 800,
        "template": {
         "data": {
          "bar": [
           {
            "error_x": {
             "color": "#2a3f5f"
            },
            "error_y": {
             "color": "#2a3f5f"
            },
            "marker": {
             "line": {
              "color": "#E5ECF6",
              "width": 0.5
             },
             "pattern": {
              "fillmode": "overlay",
              "size": 10,
              "solidity": 0.2
             }
            },
            "type": "bar"
           }
          ],
          "barpolar": [
           {
            "marker": {
             "line": {
              "color": "#E5ECF6",
              "width": 0.5
             },
             "pattern": {
              "fillmode": "overlay",
              "size": 10,
              "solidity": 0.2
             }
            },
            "type": "barpolar"
           }
          ],
          "carpet": [
           {
            "aaxis": {
             "endlinecolor": "#2a3f5f",
             "gridcolor": "white",
             "linecolor": "white",
             "minorgridcolor": "white",
             "startlinecolor": "#2a3f5f"
            },
            "baxis": {
             "endlinecolor": "#2a3f5f",
             "gridcolor": "white",
             "linecolor": "white",
             "minorgridcolor": "white",
             "startlinecolor": "#2a3f5f"
            },
            "type": "carpet"
           }
          ],
          "choropleth": [
           {
            "colorbar": {
             "outlinewidth": 0,
             "ticks": ""
            },
            "type": "choropleth"
           }
          ],
          "contour": [
           {
            "colorbar": {
             "outlinewidth": 0,
             "ticks": ""
            },
            "colorscale": [
             [
              0,
              "#0d0887"
             ],
             [
              0.1111111111111111,
              "#46039f"
             ],
             [
              0.2222222222222222,
              "#7201a8"
             ],
             [
              0.3333333333333333,
              "#9c179e"
             ],
             [
              0.4444444444444444,
              "#bd3786"
             ],
             [
              0.5555555555555556,
              "#d8576b"
             ],
             [
              0.6666666666666666,
              "#ed7953"
             ],
             [
              0.7777777777777778,
              "#fb9f3a"
             ],
             [
              0.8888888888888888,
              "#fdca26"
             ],
             [
              1,
              "#f0f921"
             ]
            ],
            "type": "contour"
           }
          ],
          "contourcarpet": [
           {
            "colorbar": {
             "outlinewidth": 0,
             "ticks": ""
            },
            "type": "contourcarpet"
           }
          ],
          "heatmap": [
           {
            "colorbar": {
             "outlinewidth": 0,
             "ticks": ""
            },
            "colorscale": [
             [
              0,
              "#0d0887"
             ],
             [
              0.1111111111111111,
              "#46039f"
             ],
             [
              0.2222222222222222,
              "#7201a8"
             ],
             [
              0.3333333333333333,
              "#9c179e"
             ],
             [
              0.4444444444444444,
              "#bd3786"
             ],
             [
              0.5555555555555556,
              "#d8576b"
             ],
             [
              0.6666666666666666,
              "#ed7953"
             ],
             [
              0.7777777777777778,
              "#fb9f3a"
             ],
             [
              0.8888888888888888,
              "#fdca26"
             ],
             [
              1,
              "#f0f921"
             ]
            ],
            "type": "heatmap"
           }
          ],
          "heatmapgl": [
           {
            "colorbar": {
             "outlinewidth": 0,
             "ticks": ""
            },
            "colorscale": [
             [
              0,
              "#0d0887"
             ],
             [
              0.1111111111111111,
              "#46039f"
             ],
             [
              0.2222222222222222,
              "#7201a8"
             ],
             [
              0.3333333333333333,
              "#9c179e"
             ],
             [
              0.4444444444444444,
              "#bd3786"
             ],
             [
              0.5555555555555556,
              "#d8576b"
             ],
             [
              0.6666666666666666,
              "#ed7953"
             ],
             [
              0.7777777777777778,
              "#fb9f3a"
             ],
             [
              0.8888888888888888,
              "#fdca26"
             ],
             [
              1,
              "#f0f921"
             ]
            ],
            "type": "heatmapgl"
           }
          ],
          "histogram": [
           {
            "marker": {
             "pattern": {
              "fillmode": "overlay",
              "size": 10,
              "solidity": 0.2
             }
            },
            "type": "histogram"
           }
          ],
          "histogram2d": [
           {
            "colorbar": {
             "outlinewidth": 0,
             "ticks": ""
            },
            "colorscale": [
             [
              0,
              "#0d0887"
             ],
             [
              0.1111111111111111,
              "#46039f"
             ],
             [
              0.2222222222222222,
              "#7201a8"
             ],
             [
              0.3333333333333333,
              "#9c179e"
             ],
             [
              0.4444444444444444,
              "#bd3786"
             ],
             [
              0.5555555555555556,
              "#d8576b"
             ],
             [
              0.6666666666666666,
              "#ed7953"
             ],
             [
              0.7777777777777778,
              "#fb9f3a"
             ],
             [
              0.8888888888888888,
              "#fdca26"
             ],
             [
              1,
              "#f0f921"
             ]
            ],
            "type": "histogram2d"
           }
          ],
          "histogram2dcontour": [
           {
            "colorbar": {
             "outlinewidth": 0,
             "ticks": ""
            },
            "colorscale": [
             [
              0,
              "#0d0887"
             ],
             [
              0.1111111111111111,
              "#46039f"
             ],
             [
              0.2222222222222222,
              "#7201a8"
             ],
             [
              0.3333333333333333,
              "#9c179e"
             ],
             [
              0.4444444444444444,
              "#bd3786"
             ],
             [
              0.5555555555555556,
              "#d8576b"
             ],
             [
              0.6666666666666666,
              "#ed7953"
             ],
             [
              0.7777777777777778,
              "#fb9f3a"
             ],
             [
              0.8888888888888888,
              "#fdca26"
             ],
             [
              1,
              "#f0f921"
             ]
            ],
            "type": "histogram2dcontour"
           }
          ],
          "mesh3d": [
           {
            "colorbar": {
             "outlinewidth": 0,
             "ticks": ""
            },
            "type": "mesh3d"
           }
          ],
          "parcoords": [
           {
            "line": {
             "colorbar": {
              "outlinewidth": 0,
              "ticks": ""
             }
            },
            "type": "parcoords"
           }
          ],
          "pie": [
           {
            "automargin": true,
            "type": "pie"
           }
          ],
          "scatter": [
           {
            "fillpattern": {
             "fillmode": "overlay",
             "size": 10,
             "solidity": 0.2
            },
            "type": "scatter"
           }
          ],
          "scatter3d": [
           {
            "line": {
             "colorbar": {
              "outlinewidth": 0,
              "ticks": ""
             }
            },
            "marker": {
             "colorbar": {
              "outlinewidth": 0,
              "ticks": ""
             }
            },
            "type": "scatter3d"
           }
          ],
          "scattercarpet": [
           {
            "marker": {
             "colorbar": {
              "outlinewidth": 0,
              "ticks": ""
             }
            },
            "type": "scattercarpet"
           }
          ],
          "scattergeo": [
           {
            "marker": {
             "colorbar": {
              "outlinewidth": 0,
              "ticks": ""
             }
            },
            "type": "scattergeo"
           }
          ],
          "scattergl": [
           {
            "marker": {
             "colorbar": {
              "outlinewidth": 0,
              "ticks": ""
             }
            },
            "type": "scattergl"
           }
          ],
          "scattermapbox": [
           {
            "marker": {
             "colorbar": {
              "outlinewidth": 0,
              "ticks": ""
             }
            },
            "type": "scattermapbox"
           }
          ],
          "scatterpolar": [
           {
            "marker": {
             "colorbar": {
              "outlinewidth": 0,
              "ticks": ""
             }
            },
            "type": "scatterpolar"
           }
          ],
          "scatterpolargl": [
           {
            "marker": {
             "colorbar": {
              "outlinewidth": 0,
              "ticks": ""
             }
            },
            "type": "scatterpolargl"
           }
          ],
          "scatterternary": [
           {
            "marker": {
             "colorbar": {
              "outlinewidth": 0,
              "ticks": ""
             }
            },
            "type": "scatterternary"
           }
          ],
          "surface": [
           {
            "colorbar": {
             "outlinewidth": 0,
             "ticks": ""
            },
            "colorscale": [
             [
              0,
              "#0d0887"
             ],
             [
              0.1111111111111111,
              "#46039f"
             ],
             [
              0.2222222222222222,
              "#7201a8"
             ],
             [
              0.3333333333333333,
              "#9c179e"
             ],
             [
              0.4444444444444444,
              "#bd3786"
             ],
             [
              0.5555555555555556,
              "#d8576b"
             ],
             [
              0.6666666666666666,
              "#ed7953"
             ],
             [
              0.7777777777777778,
              "#fb9f3a"
             ],
             [
              0.8888888888888888,
              "#fdca26"
             ],
             [
              1,
              "#f0f921"
             ]
            ],
            "type": "surface"
           }
          ],
          "table": [
           {
            "cells": {
             "fill": {
              "color": "#EBF0F8"
             },
             "line": {
              "color": "white"
             }
            },
            "header": {
             "fill": {
              "color": "#C8D4E3"
             },
             "line": {
              "color": "white"
             }
            },
            "type": "table"
           }
          ]
         },
         "layout": {
          "annotationdefaults": {
           "arrowcolor": "#2a3f5f",
           "arrowhead": 0,
           "arrowwidth": 1
          },
          "autotypenumbers": "strict",
          "coloraxis": {
           "colorbar": {
            "outlinewidth": 0,
            "ticks": ""
           }
          },
          "colorscale": {
           "diverging": [
            [
             0,
             "#8e0152"
            ],
            [
             0.1,
             "#c51b7d"
            ],
            [
             0.2,
             "#de77ae"
            ],
            [
             0.3,
             "#f1b6da"
            ],
            [
             0.4,
             "#fde0ef"
            ],
            [
             0.5,
             "#f7f7f7"
            ],
            [
             0.6,
             "#e6f5d0"
            ],
            [
             0.7,
             "#b8e186"
            ],
            [
             0.8,
             "#7fbc41"
            ],
            [
             0.9,
             "#4d9221"
            ],
            [
             1,
             "#276419"
            ]
           ],
           "sequential": [
            [
             0,
             "#0d0887"
            ],
            [
             0.1111111111111111,
             "#46039f"
            ],
            [
             0.2222222222222222,
             "#7201a8"
            ],
            [
             0.3333333333333333,
             "#9c179e"
            ],
            [
             0.4444444444444444,
             "#bd3786"
            ],
            [
             0.5555555555555556,
             "#d8576b"
            ],
            [
             0.6666666666666666,
             "#ed7953"
            ],
            [
             0.7777777777777778,
             "#fb9f3a"
            ],
            [
             0.8888888888888888,
             "#fdca26"
            ],
            [
             1,
             "#f0f921"
            ]
           ],
           "sequentialminus": [
            [
             0,
             "#0d0887"
            ],
            [
             0.1111111111111111,
             "#46039f"
            ],
            [
             0.2222222222222222,
             "#7201a8"
            ],
            [
             0.3333333333333333,
             "#9c179e"
            ],
            [
             0.4444444444444444,
             "#bd3786"
            ],
            [
             0.5555555555555556,
             "#d8576b"
            ],
            [
             0.6666666666666666,
             "#ed7953"
            ],
            [
             0.7777777777777778,
             "#fb9f3a"
            ],
            [
             0.8888888888888888,
             "#fdca26"
            ],
            [
             1,
             "#f0f921"
            ]
           ]
          },
          "colorway": [
           "#636efa",
           "#EF553B",
           "#00cc96",
           "#ab63fa",
           "#FFA15A",
           "#19d3f3",
           "#FF6692",
           "#B6E880",
           "#FF97FF",
           "#FECB52"
          ],
          "font": {
           "color": "#2a3f5f"
          },
          "geo": {
           "bgcolor": "white",
           "lakecolor": "white",
           "landcolor": "#E5ECF6",
           "showlakes": true,
           "showland": true,
           "subunitcolor": "white"
          },
          "hoverlabel": {
           "align": "left"
          },
          "hovermode": "closest",
          "mapbox": {
           "style": "light"
          },
          "paper_bgcolor": "white",
          "plot_bgcolor": "#E5ECF6",
          "polar": {
           "angularaxis": {
            "gridcolor": "white",
            "linecolor": "white",
            "ticks": ""
           },
           "bgcolor": "#E5ECF6",
           "radialaxis": {
            "gridcolor": "white",
            "linecolor": "white",
            "ticks": ""
           }
          },
          "scene": {
           "xaxis": {
            "backgroundcolor": "#E5ECF6",
            "gridcolor": "white",
            "gridwidth": 2,
            "linecolor": "white",
            "showbackground": true,
            "ticks": "",
            "zerolinecolor": "white"
           },
           "yaxis": {
            "backgroundcolor": "#E5ECF6",
            "gridcolor": "white",
            "gridwidth": 2,
            "linecolor": "white",
            "showbackground": true,
            "ticks": "",
            "zerolinecolor": "white"
           },
           "zaxis": {
            "backgroundcolor": "#E5ECF6",
            "gridcolor": "white",
            "gridwidth": 2,
            "linecolor": "white",
            "showbackground": true,
            "ticks": "",
            "zerolinecolor": "white"
           }
          },
          "shapedefaults": {
           "line": {
            "color": "#2a3f5f"
           }
          },
          "ternary": {
           "aaxis": {
            "gridcolor": "white",
            "linecolor": "white",
            "ticks": ""
           },
           "baxis": {
            "gridcolor": "white",
            "linecolor": "white",
            "ticks": ""
           },
           "bgcolor": "#E5ECF6",
           "caxis": {
            "gridcolor": "white",
            "linecolor": "white",
            "ticks": ""
           }
          },
          "title": {
           "x": 0.05
          },
          "xaxis": {
           "automargin": true,
           "gridcolor": "white",
           "linecolor": "white",
           "ticks": "",
           "title": {
            "standoff": 15
           },
           "zerolinecolor": "white",
           "zerolinewidth": 2
          },
          "yaxis": {
           "automargin": true,
           "gridcolor": "white",
           "linecolor": "white",
           "ticks": "",
           "title": {
            "standoff": 15
           },
           "zerolinecolor": "white",
           "zerolinewidth": 2
          }
         }
        },
        "title": {
         "text": "Best Model Accuracy Over Time for Each Subject"
        },
        "width": 1200,
        "xaxis": {
         "dtick": 0.5,
         "tickmode": "linear",
         "title": {
          "text": "Time (s)"
         }
        },
        "yaxis": {
         "autorange": "reversed",
         "title": {
          "text": "Subject and Best Model"
         }
        }
       }
      }
     },
     "metadata": {},
     "output_type": "display_data"
    }
   ],
   "source": [
    "import pandas as pd\n",
    "import plotly.graph_objects as go\n",
    "import numpy as np\n",
    "import warnings\n",
    "\n",
    "# Suppress the UserWarning from Plotly\n",
    "warnings.filterwarnings('ignore', category=UserWarning, module='plotly.graph_objects')\n",
    "\n",
    "# Prepare data for plotting\n",
    "plot_data = {}\n",
    "for subject, results in all_online_AW_results_new.items():\n",
    "    if not results:\n",
    "        continue\n",
    "    \n",
    "    # Calculate mean accuracy for each model across all time points\n",
    "    fbcsp_mean = np.mean(results['fbcsp_accuracies'])\n",
    "    erp_mean = np.mean(results['erp_accuracies'])\n",
    "    combined_mean = np.mean(results['combined_accuracies'])\n",
    "    \n",
    "    # Find the best model based on mean accuracy\n",
    "    means = {'FBCSP': fbcsp_mean, 'ERP': erp_mean, 'Combined': combined_mean}\n",
    "    best_model_name = max(means, key=means.get)\n",
    "    \n",
    "    # Store the accuracies of the best model and the model name\n",
    "    plot_data[subject] = {\n",
    "        'model_name': best_model_name,\n",
    "        'accuracies': results[f'{best_model_name.lower()}_accuracies']\n",
    "    }\n",
    "\n",
    "# Create a DataFrame for easy plotting\n",
    "x_times = all_online_AW_results_new['1']['times']\n",
    "y_subjects = []\n",
    "z_accuracies = []\n",
    "custom_data = []\n",
    "\n",
    "for subject, data in plot_data.items():\n",
    "    y_subjects.append(f\"Subject {subject}: {data['model_name']}\")\n",
    "    z_accuracies.append(data['accuracies'])\n",
    "\n",
    "# Create the heatmap\n",
    "fig = go.Figure(data=go.Heatmap(\n",
    "    x=x_times,\n",
    "    y=y_subjects,\n",
    "    z=z_accuracies,\n",
    "    colorscale=[[0.0, 'red'], [0.5, 'white'], [1.0, 'blue']],\n",
    "    zmin=0,\n",
    "    zmax=1,\n",
    "    colorbar=dict(title=\"Accuracy\")\n",
    "))\n",
    "\n",
    "# Set layout titles and labels\n",
    "fig.update_layout(\n",
    "    height=800,\n",
    "    width=1200,\n",
    "    title='Best Model Accuracy Over Time for Each Subject',\n",
    "    xaxis_title='Time (s)',\n",
    "    yaxis_title='Subject and Best Model',\n",
    "    yaxis_autorange='reversed',\n",
    "    xaxis_tickmode='linear',\n",
    "    xaxis_dtick=0.5\n",
    ")\n",
    "\n",
    "fig.show()\n",
    "\n"
   ]
  },
  {
   "cell_type": "code",
   "execution_count": 50,
   "metadata": {},
   "outputs": [
    {
     "name": "stdout",
     "output_type": "stream",
     "text": [
      "Subject 1: Best Model = ERP, Mean Accuracy = 0.568, Std = 0.069\n",
      "Subject 3: Best Model = FBCSP, Mean Accuracy = 0.500, Std = 0.000\n",
      "Subject 4: Best Model = FBCSP, Mean Accuracy = 0.500, Std = 0.000\n",
      "Subject 5: Best Model = FBCSP, Mean Accuracy = 0.496, Std = 0.045\n",
      "Subject 6: Best Model = FBCSP, Mean Accuracy = 0.587, Std = 0.060\n",
      "Subject 7: Best Model = FBCSP, Mean Accuracy = 0.595, Std = 0.090\n",
      "Subject 8: Best Model = FBCSP, Mean Accuracy = 0.455, Std = 0.000\n",
      "Subject 9: Best Model = ERP, Mean Accuracy = 0.612, Std = 0.096\n",
      "Subject 10: Best Model = Combined, Mean Accuracy = 0.444, Std = 0.000\n",
      "Subject 11: Best Model = FBCSP, Mean Accuracy = 0.492, Std = 0.075\n",
      "Subject 12: Best Model = ERP, Mean Accuracy = 0.705, Std = 0.120\n",
      "Subject 13: Best Model = ERP, Mean Accuracy = 0.629, Std = 0.109\n",
      "Subject 14: Best Model = FBCSP, Mean Accuracy = 0.614, Std = 0.129\n",
      "Subject 15: Best Model = ERP, Mean Accuracy = 0.512, Std = 0.124\n",
      "Subject 16: Best Model = FBCSP, Mean Accuracy = 0.535, Std = 0.093\n",
      "Subject 17: Best Model = FBCSP, Mean Accuracy = 0.655, Std = 0.137\n",
      "Subject 18: Best Model = Combined, Mean Accuracy = 0.530, Std = 0.114\n",
      "Subject 19: Best Model = FBCSP, Mean Accuracy = 0.545, Std = 0.000\n",
      "Subject 20: Best Model = ERP, Mean Accuracy = 0.538, Std = 0.144\n",
      "Subject 21: Best Model = FBCSP, Mean Accuracy = 0.455, Std = 0.000\n",
      "Subject 22: Best Model = FBCSP, Mean Accuracy = 0.661, Std = 0.096\n",
      "Subject 24: Best Model = FBCSP, Mean Accuracy = 0.455, Std = 0.000\n",
      "Subject 25: Best Model = ERP, Mean Accuracy = 0.636, Std = 0.134\n",
      "Subject 28: Best Model = ERP, Mean Accuracy = 0.545, Std = 0.087\n",
      "Subject 29: Best Model = Combined, Mean Accuracy = 0.471, Std = 0.035\n"
     ]
    }
   ],
   "source": [
    "# Calculate and print the average and standard deviation of the best model accuracy for each subject\n",
    "subject_averages = {}\n",
    "subject_stds = {}\n",
    "\n",
    "for subject, data in plot_data.items():\n",
    "    accuracies = np.array(data['accuracies'])\n",
    "    subject_averages[subject] = np.mean(accuracies)\n",
    "    subject_stds[subject] = np.std(accuracies)\n",
    "    print(f\"Subject {subject}: Best Model = {data['model_name']}, Mean Accuracy = {subject_averages[subject]:.3f}, Std = {subject_stds[subject]:.3f}\")"
   ]
  },
  {
   "cell_type": "code",
   "execution_count": 51,
   "metadata": {},
   "outputs": [
    {
     "name": "stdout",
     "output_type": "stream",
     "text": [
      "Online file found: cleaned_dataset\\1\\1_cleaned_online.set\n",
      "Whole-data classification results for Subject 1 (seen):\n",
      "{'fbcsp_accuracy': 0.625, 'erp_accuracy': 0.625, 'combined_accuracy': 0.5}\n",
      "Whole-data classification results for Subject 1 (new):\n",
      "{'fbcsp_accuracy': 0.4166666666666667, 'erp_accuracy': 0.6666666666666666, 'combined_accuracy': 0.5}\n",
      "Online file not found: cleaned_dataset\\2\\2_cleaned_online.set\n",
      "Online file found: cleaned_dataset\\3\\3_cleaned_online.set\n",
      "Whole-data classification results for Subject 3 (seen):\n",
      "{'fbcsp_accuracy': 0.5, 'erp_accuracy': 0.5, 'combined_accuracy': 0.5}\n",
      "Whole-data classification results for Subject 3 (new):\n",
      "{'fbcsp_accuracy': 0.5, 'erp_accuracy': 0.5, 'combined_accuracy': 0.5}\n",
      "Online file found: cleaned_dataset\\4\\4_cleaned_online.set\n",
      "Whole-data classification results for Subject 4 (seen):\n",
      "{'fbcsp_accuracy': 0.5, 'erp_accuracy': 0.5, 'combined_accuracy': 0.5}\n",
      "Whole-data classification results for Subject 4 (new):\n",
      "{'fbcsp_accuracy': 0.5, 'erp_accuracy': 0.4166666666666667, 'combined_accuracy': 0.5}\n",
      "Online file found: cleaned_dataset\\5\\5_cleaned_online.set\n",
      "Whole-data classification results for Subject 5 (seen):\n",
      "{'fbcsp_accuracy': 0.5714285714285714, 'erp_accuracy': 0.5714285714285714, 'combined_accuracy': 0.5714285714285714}\n",
      "Whole-data classification results for Subject 5 (new):\n",
      "{'fbcsp_accuracy': 0.45454545454545453, 'erp_accuracy': 0.2727272727272727, 'combined_accuracy': 0.45454545454545453}\n",
      "Online file found: cleaned_dataset\\6\\6_cleaned_online.set\n",
      "Whole-data classification results for Subject 6 (seen):\n",
      "{'fbcsp_accuracy': 0.625, 'erp_accuracy': 0.375, 'combined_accuracy': 0.5}\n",
      "Whole-data classification results for Subject 6 (new):\n",
      "{'fbcsp_accuracy': 0.6363636363636364, 'erp_accuracy': 0.36363636363636365, 'combined_accuracy': 0.45454545454545453}\n",
      "Online file found: cleaned_dataset\\7\\7_cleaned_online.set\n",
      "Whole-data classification results for Subject 7 (seen):\n",
      "{'fbcsp_accuracy': 0.42857142857142855, 'erp_accuracy': 0.42857142857142855, 'combined_accuracy': 0.42857142857142855}\n",
      "Whole-data classification results for Subject 7 (new):\n",
      "{'fbcsp_accuracy': 0.5454545454545454, 'erp_accuracy': 0.5454545454545454, 'combined_accuracy': 0.5454545454545454}\n",
      "Online file found: cleaned_dataset\\8\\8_cleaned_online.set\n",
      "Whole-data classification results for Subject 8 (seen):\n",
      "{'fbcsp_accuracy': 0.5, 'erp_accuracy': 0.25, 'combined_accuracy': 0.375}\n",
      "Whole-data classification results for Subject 8 (new):\n",
      "{'fbcsp_accuracy': 0.45454545454545453, 'erp_accuracy': 0.2727272727272727, 'combined_accuracy': 0.5454545454545454}\n",
      "Online file found: cleaned_dataset\\9\\9_cleaned_online.set\n",
      "Whole-data classification results for Subject 9 (seen):\n",
      "{'fbcsp_accuracy': 0.5714285714285714, 'erp_accuracy': 0.2857142857142857, 'combined_accuracy': 0.5714285714285714}\n",
      "Whole-data classification results for Subject 9 (new):\n",
      "{'fbcsp_accuracy': 0.5454545454545454, 'erp_accuracy': 0.6363636363636364, 'combined_accuracy': 0.5454545454545454}\n",
      "Online file found: cleaned_dataset\\10\\10_cleaned_online.set\n",
      "Whole-data classification results for Subject 10 (seen):\n",
      "{'fbcsp_accuracy': 0.2, 'erp_accuracy': 0.2, 'combined_accuracy': 0.2}\n",
      "Whole-data classification results for Subject 10 (new):\n",
      "{'fbcsp_accuracy': 0.3333333333333333, 'erp_accuracy': 0.3333333333333333, 'combined_accuracy': 0.4444444444444444}\n",
      "Online file found: cleaned_dataset\\11\\11_cleaned_online.set\n",
      "Whole-data classification results for Subject 11 (seen):\n",
      "{'fbcsp_accuracy': 0.375, 'erp_accuracy': 0.375, 'combined_accuracy': 0.625}\n",
      "Whole-data classification results for Subject 11 (new):\n",
      "{'fbcsp_accuracy': 0.5, 'erp_accuracy': 0.75, 'combined_accuracy': 0.5}\n",
      "Online file found: cleaned_dataset\\12\\12_cleaned_online.set\n",
      "Whole-data classification results for Subject 12 (seen):\n",
      "{'fbcsp_accuracy': 0.25, 'erp_accuracy': 0.375, 'combined_accuracy': 0.375}\n",
      "Whole-data classification results for Subject 12 (new):\n",
      "{'fbcsp_accuracy': 0.5, 'erp_accuracy': 0.75, 'combined_accuracy': 0.6666666666666666}\n",
      "Online file found: cleaned_dataset\\13\\13_cleaned_online.set\n",
      "Whole-data classification results for Subject 13 (seen):\n",
      "{'fbcsp_accuracy': 0.5, 'erp_accuracy': 0.625, 'combined_accuracy': 0.5}\n",
      "Whole-data classification results for Subject 13 (new):\n",
      "{'fbcsp_accuracy': 0.5, 'erp_accuracy': 0.5833333333333334, 'combined_accuracy': 0.5}\n",
      "Online file found: cleaned_dataset\\14\\14_cleaned_online.set\n",
      "Whole-data classification results for Subject 14 (seen):\n",
      "{'fbcsp_accuracy': 0.5, 'erp_accuracy': 0.375, 'combined_accuracy': 0.375}\n",
      "Whole-data classification results for Subject 14 (new):\n",
      "{'fbcsp_accuracy': 0.5833333333333334, 'erp_accuracy': 0.5, 'combined_accuracy': 0.3333333333333333}\n",
      "Online file found: cleaned_dataset\\15\\15_cleaned_online.set\n",
      "Whole-data classification results for Subject 15 (seen):\n",
      "{'fbcsp_accuracy': 0.42857142857142855, 'erp_accuracy': 0.5714285714285714, 'combined_accuracy': 0.7142857142857143}\n",
      "Whole-data classification results for Subject 15 (new):\n",
      "{'fbcsp_accuracy': 0.45454545454545453, 'erp_accuracy': 0.36363636363636365, 'combined_accuracy': 0.45454545454545453}\n",
      "Online file found: cleaned_dataset\\16\\16_cleaned_online.set\n",
      "Whole-data classification results for Subject 16 (seen):\n",
      "{'fbcsp_accuracy': 0.42857142857142855, 'erp_accuracy': 0.2857142857142857, 'combined_accuracy': 0.14285714285714285}\n",
      "Whole-data classification results for Subject 16 (new):\n",
      "{'fbcsp_accuracy': 0.4444444444444444, 'erp_accuracy': 0.4444444444444444, 'combined_accuracy': 0.4444444444444444}\n",
      "Online file found: cleaned_dataset\\17\\17_cleaned_online.set\n",
      "Whole-data classification results for Subject 17 (seen):\n",
      "{'fbcsp_accuracy': 0.2, 'erp_accuracy': 0.4, 'combined_accuracy': 0.4}\n",
      "Whole-data classification results for Subject 17 (new):\n",
      "{'fbcsp_accuracy': 0.8, 'erp_accuracy': 0.6, 'combined_accuracy': 0.7}\n",
      "Online file found: cleaned_dataset\\18\\18_cleaned_online.set\n",
      "Whole-data classification results for Subject 18 (seen):\n",
      "{'fbcsp_accuracy': 0.5, 'erp_accuracy': 0.25, 'combined_accuracy': 0.5}\n",
      "Whole-data classification results for Subject 18 (new):\n",
      "{'fbcsp_accuracy': 0.5, 'erp_accuracy': 0.5833333333333334, 'combined_accuracy': 0.5833333333333334}\n",
      "Online file found: cleaned_dataset\\19\\19_cleaned_online.set\n",
      "Whole-data classification results for Subject 19 (seen):\n",
      "{'fbcsp_accuracy': 0.42857142857142855, 'erp_accuracy': 0.7142857142857143, 'combined_accuracy': 0.42857142857142855}\n",
      "Whole-data classification results for Subject 19 (new):\n",
      "{'fbcsp_accuracy': 0.5454545454545454, 'erp_accuracy': 0.5454545454545454, 'combined_accuracy': 0.5454545454545454}\n",
      "Online file found: cleaned_dataset\\20\\20_cleaned_online.set\n",
      "Whole-data classification results for Subject 20 (seen):\n",
      "{'fbcsp_accuracy': 0.5, 'erp_accuracy': 0.625, 'combined_accuracy': 0.375}\n",
      "Whole-data classification results for Subject 20 (new):\n",
      "{'fbcsp_accuracy': 0.5, 'erp_accuracy': 0.5, 'combined_accuracy': 0.5}\n",
      "Online file found: cleaned_dataset\\21\\21_cleaned_online.set\n",
      "Whole-data classification results for Subject 21 (seen):\n",
      "{'fbcsp_accuracy': 0.5, 'erp_accuracy': 0.375, 'combined_accuracy': 0.5}\n",
      "Whole-data classification results for Subject 21 (new):\n",
      "{'fbcsp_accuracy': 0.45454545454545453, 'erp_accuracy': 0.36363636363636365, 'combined_accuracy': 0.45454545454545453}\n",
      "Online file found: cleaned_dataset\\22\\22_cleaned_online.set\n",
      "Whole-data classification results for Subject 22 (seen):\n",
      "{'fbcsp_accuracy': 0.2857142857142857, 'erp_accuracy': 0.7142857142857143, 'combined_accuracy': 0.2857142857142857}\n",
      "Whole-data classification results for Subject 22 (new):\n",
      "{'fbcsp_accuracy': 0.5454545454545454, 'erp_accuracy': 0.5454545454545454, 'combined_accuracy': 0.5454545454545454}\n",
      "Online file not found: cleaned_dataset\\23\\23_cleaned_online.set\n",
      "Online file found: cleaned_dataset\\24\\24_cleaned_online.set\n",
      "Whole-data classification results for Subject 24 (seen):\n",
      "{'fbcsp_accuracy': 0.5, 'erp_accuracy': 0.625, 'combined_accuracy': 0.5}\n",
      "Whole-data classification results for Subject 24 (new):\n",
      "{'fbcsp_accuracy': 0.45454545454545453, 'erp_accuracy': 0.6363636363636364, 'combined_accuracy': 0.45454545454545453}\n",
      "Online file found: cleaned_dataset\\25\\25_cleaned_online.set\n",
      "Whole-data classification results for Subject 25 (seen):\n",
      "{'fbcsp_accuracy': 0.42857142857142855, 'erp_accuracy': 0.2857142857142857, 'combined_accuracy': 0.42857142857142855}\n",
      "Whole-data classification results for Subject 25 (new):\n",
      "{'fbcsp_accuracy': 0.5454545454545454, 'erp_accuracy': 0.5454545454545454, 'combined_accuracy': 0.5454545454545454}\n",
      "Online file not found: cleaned_dataset\\26\\26_cleaned_online.set\n",
      "Online file not found: cleaned_dataset\\27\\27_cleaned_online.set\n",
      "Online file found: cleaned_dataset\\28\\28_cleaned_online.set\n",
      "Whole-data classification results for Subject 28 (seen):\n",
      "{'fbcsp_accuracy': 0.5, 'erp_accuracy': 0.5, 'combined_accuracy': 0.5}\n",
      "Whole-data classification results for Subject 28 (new):\n",
      "{'fbcsp_accuracy': 0.45454545454545453, 'erp_accuracy': 0.45454545454545453, 'combined_accuracy': 0.45454545454545453}\n",
      "Online file found: cleaned_dataset\\29\\29_cleaned_online.set\n",
      "Whole-data classification results for Subject 29 (seen):\n",
      "{'fbcsp_accuracy': 0.125, 'erp_accuracy': 1.0, 'combined_accuracy': 0.25}\n",
      "Whole-data classification results for Subject 29 (new):\n",
      "{'fbcsp_accuracy': 0.45454545454545453, 'erp_accuracy': 0.2727272727272727, 'combined_accuracy': 0.45454545454545453}\n"
     ]
    }
   ],
   "source": [
    "whole_epochs_results_AW_seen = {}\n",
    "whole_epochs_results_AW_new = {}\n",
    "for n, subject in enumerate(subjects):\n",
    "    online_file = os.path.join(data_folder, str(subject), f'{subject}_cleaned_online.set')\n",
    "    if os.path.exists(online_file):\n",
    "        print(f\"Online file found: {online_file}\")\n",
    "    else:\n",
    "        print(f\"Online file not found: {online_file}\")\n",
    "        continue\n",
    "    whole_epochs_results_AW_seen[subject] = {}\n",
    "    whole_epochs_results_AW_new[subject] = {}\n",
    "\n",
    "    # Load pre-trained models\n",
    "    fbcsp_clf = joblib.load(os.path.join('classifiers', f'AW_FBCSP_clf_subject_{n}.pkl'))\n",
    "    fbcsp_csp = joblib.load(os.path.join('features_extractors', f'AW_FBCSP_csp_subject_{n}.pkl'))\n",
    "    fbcsp_scaler = joblib.load(os.path.join('features_extractors', f'AW_FBCSP_csp_scaler_subject_{n}.pkl'))\n",
    "    erp_clf = joblib.load(os.path.join('classifiers', f'AW_ERP_clf_subject_{n}.pkl'))\n",
    "    erp_scaler = joblib.load(os.path.join('features_extractors', f'AW_ERP_scaler_subject_{n}.pkl'))\n",
    "    combined_clf = joblib.load(os.path.join('classifiers', f'AW_Combined_clf_subject_{n}.pkl'))\n",
    "\n",
    "    # Create epochs with new labels\n",
    "    epochs_online_AW_FBCSP = create_online_epochs(online_file, 'AW', 'New_labels', FBCSP_channels, [-0.5, 5.0], None, clean_data=False)\n",
    "    seen_epochs_FBCSP = epochs_online_AW_FBCSP['AW_Arm', 'AW_Leg']\n",
    "    new_epochs_FBCSP = epochs_online_AW_FBCSP['AW_APLAUDIR', 'AW_PATEAR']\n",
    "\n",
    "    epochs_online_AW_ERP = create_online_epochs(online_file, 'AW', 'New_labels', ERP_channels, [-0.5, 5.0], [-0.5, 0], clean_data=False)\n",
    "    seen_epochs_ERP = epochs_online_AW_ERP['AW_Arm', 'AW_Leg']\n",
    "    new_epochs_ERP = epochs_online_AW_ERP['AW_APLAUDIR', 'AW_PATEAR']\n",
    "\n",
    "    # Align epochs and labels\n",
    "    AW_FBCSP_online_aligned_seen, AW_ERP_online_aligned_seen, labels_online_AW_seen = align_epochs_and_labels(seen_epochs_FBCSP, seen_epochs_ERP, 'AW_Arm', 'AW_Leg')\n",
    "    AW_FBCSP_online_aligned_new, AW_ERP_online_aligned_new, labels_online_AW_new = align_epochs_and_labels(new_epochs_FBCSP, new_epochs_ERP, 'AW_APLAUDIR', 'AW_PATEAR')\n",
    "\n",
    "    # Whole-data classification for seen labels\n",
    "    results_seen = online_whole_data_classification(\n",
    "        AW_FBCSP_online_aligned_seen, AW_ERP_online_aligned_seen, labels_online_AW_seen,\n",
    "        fbcsp_clf, fbcsp_csp, erp_clf, combined_clf,\n",
    "        AW_results['FBCSP'][subject]['selected_features'], AW_results['ERP'][subject]['selected_features'],\n",
    "        fbcsp_scaler, erp_scaler\n",
    "    )\n",
    "    whole_epochs_results_AW_seen[subject] = results_seen\n",
    "    print(f\"Whole-data classification results for Subject {subject} (seen):\")\n",
    "    print(results_seen)\n",
    "\n",
    "    # Whole-data classification for new labels\n",
    "    results_new = online_whole_data_classification(\n",
    "        AW_FBCSP_online_aligned_new, AW_ERP_online_aligned_new, labels_online_AW_new,\n",
    "        fbcsp_clf, fbcsp_csp, erp_clf, combined_clf,\n",
    "        AW_results['FBCSP'][subject]['selected_features'], AW_results['ERP'][subject]['selected_features'],\n",
    "        fbcsp_scaler, erp_scaler\n",
    "    )\n",
    "    whole_epochs_results_AW_new[subject] = results_new\n",
    "    print(f\"Whole-data classification results for Subject {subject} (new):\")\n",
    "    print(results_new)"
   ]
  },
  {
   "cell_type": "code",
   "execution_count": 52,
   "metadata": {},
   "outputs": [
    {
     "name": "stdout",
     "output_type": "stream",
     "text": [
      "           Accuracy          \n",
      "               mean       std\n",
      "Condition                    \n",
      "AW         0.441857  0.129262\n",
      "AW_2       0.505071  0.074969\n"
     ]
    },
    {
     "data": {
      "application/vnd.plotly.v1+json": {
       "config": {
        "plotlyServerURL": "https://plot.ly"
       },
       "data": [
        {
         "error_y": {
          "array": [
           0.07496931091105472,
           0.07496931091105472,
           0.07496931091105472,
           0.07496931091105472,
           0.07496931091105472,
           0.07496931091105472,
           0.07496931091105472,
           0.07496931091105472,
           0.07496931091105472,
           0.07496931091105472,
           0.07496931091105472,
           0.07496931091105472,
           0.07496931091105472,
           0.07496931091105472,
           0.07496931091105472,
           0.07496931091105472,
           0.07496931091105472,
           0.07496931091105472,
           0.07496931091105472,
           0.07496931091105472,
           0.07496931091105472,
           0.07496931091105472,
           0.07496931091105472,
           0.07496931091105472,
           0.07496931091105472
          ],
          "type": "data",
          "visible": true
         },
         "marker": {
          "color": "#613828"
         },
         "name": "AW_2",
         "type": "bar",
         "x": [
          "1",
          "3",
          "4",
          "5",
          "6",
          "7",
          "8",
          "9",
          "10",
          "11",
          "12",
          "13",
          "14",
          "15",
          "16",
          "17",
          "18",
          "19",
          "20",
          "21",
          "22",
          "24",
          "25",
          "28",
          "29"
         ],
         "y": [
          0.5,
          0.5,
          0.5,
          0.45454545454545453,
          0.45454545454545453,
          0.5454545454545454,
          0.5454545454545454,
          0.5454545454545454,
          0.4444444444444444,
          0.5,
          0.6666666666666666,
          0.5,
          0.3333333333333333,
          0.45454545454545453,
          0.4444444444444444,
          0.7,
          0.5833333333333334,
          0.5454545454545454,
          0.5,
          0.45454545454545453,
          0.5454545454545454,
          0.45454545454545453,
          0.5454545454545454,
          0.45454545454545453,
          0.45454545454545453
         ]
        },
        {
         "error_y": {
          "array": [
           0.12926203413759105,
           0.12926203413759105,
           0.12926203413759105,
           0.12926203413759105,
           0.12926203413759105,
           0.12926203413759105,
           0.12926203413759105,
           0.12926203413759105,
           0.12926203413759105,
           0.12926203413759105,
           0.12926203413759105,
           0.12926203413759105,
           0.12926203413759105,
           0.12926203413759105,
           0.12926203413759105,
           0.12926203413759105,
           0.12926203413759105,
           0.12926203413759105,
           0.12926203413759105,
           0.12926203413759105,
           0.12926203413759105,
           0.12926203413759105,
           0.12926203413759105,
           0.12926203413759105,
           0.12926203413759105
          ],
          "type": "data",
          "visible": true
         },
         "marker": {
          "color": "#ef8a62"
         },
         "name": "AW",
         "type": "bar",
         "x": [
          "1",
          "3",
          "4",
          "5",
          "6",
          "7",
          "8",
          "9",
          "10",
          "11",
          "12",
          "13",
          "14",
          "15",
          "16",
          "17",
          "18",
          "19",
          "20",
          "21",
          "22",
          "24",
          "25",
          "28",
          "29"
         ],
         "y": [
          0.5,
          0.5,
          0.5,
          0.5714285714285714,
          0.5,
          0.42857142857142855,
          0.375,
          0.5714285714285714,
          0.2,
          0.625,
          0.375,
          0.5,
          0.375,
          0.7142857142857143,
          0.14285714285714285,
          0.4,
          0.5,
          0.42857142857142855,
          0.375,
          0.5,
          0.2857142857142857,
          0.5,
          0.42857142857142855,
          0.5,
          0.25
         ]
        }
       ],
       "layout": {
        "barmode": "group",
        "legend": {
         "title": {
          "text": "Condition"
         }
        },
        "shapes": [
         {
          "line": {
           "color": "gray",
           "width": 1
          },
          "type": "line",
          "x0": 0,
          "x1": 1,
          "xref": "x domain",
          "y0": 0.5,
          "y1": 0.5,
          "yref": "y"
         }
        ],
        "template": {
         "data": {
          "bar": [
           {
            "error_x": {
             "color": "#2a3f5f"
            },
            "error_y": {
             "color": "#2a3f5f"
            },
            "marker": {
             "line": {
              "color": "#E5ECF6",
              "width": 0.5
             },
             "pattern": {
              "fillmode": "overlay",
              "size": 10,
              "solidity": 0.2
             }
            },
            "type": "bar"
           }
          ],
          "barpolar": [
           {
            "marker": {
             "line": {
              "color": "#E5ECF6",
              "width": 0.5
             },
             "pattern": {
              "fillmode": "overlay",
              "size": 10,
              "solidity": 0.2
             }
            },
            "type": "barpolar"
           }
          ],
          "carpet": [
           {
            "aaxis": {
             "endlinecolor": "#2a3f5f",
             "gridcolor": "white",
             "linecolor": "white",
             "minorgridcolor": "white",
             "startlinecolor": "#2a3f5f"
            },
            "baxis": {
             "endlinecolor": "#2a3f5f",
             "gridcolor": "white",
             "linecolor": "white",
             "minorgridcolor": "white",
             "startlinecolor": "#2a3f5f"
            },
            "type": "carpet"
           }
          ],
          "choropleth": [
           {
            "colorbar": {
             "outlinewidth": 0,
             "ticks": ""
            },
            "type": "choropleth"
           }
          ],
          "contour": [
           {
            "colorbar": {
             "outlinewidth": 0,
             "ticks": ""
            },
            "colorscale": [
             [
              0,
              "#0d0887"
             ],
             [
              0.1111111111111111,
              "#46039f"
             ],
             [
              0.2222222222222222,
              "#7201a8"
             ],
             [
              0.3333333333333333,
              "#9c179e"
             ],
             [
              0.4444444444444444,
              "#bd3786"
             ],
             [
              0.5555555555555556,
              "#d8576b"
             ],
             [
              0.6666666666666666,
              "#ed7953"
             ],
             [
              0.7777777777777778,
              "#fb9f3a"
             ],
             [
              0.8888888888888888,
              "#fdca26"
             ],
             [
              1,
              "#f0f921"
             ]
            ],
            "type": "contour"
           }
          ],
          "contourcarpet": [
           {
            "colorbar": {
             "outlinewidth": 0,
             "ticks": ""
            },
            "type": "contourcarpet"
           }
          ],
          "heatmap": [
           {
            "colorbar": {
             "outlinewidth": 0,
             "ticks": ""
            },
            "colorscale": [
             [
              0,
              "#0d0887"
             ],
             [
              0.1111111111111111,
              "#46039f"
             ],
             [
              0.2222222222222222,
              "#7201a8"
             ],
             [
              0.3333333333333333,
              "#9c179e"
             ],
             [
              0.4444444444444444,
              "#bd3786"
             ],
             [
              0.5555555555555556,
              "#d8576b"
             ],
             [
              0.6666666666666666,
              "#ed7953"
             ],
             [
              0.7777777777777778,
              "#fb9f3a"
             ],
             [
              0.8888888888888888,
              "#fdca26"
             ],
             [
              1,
              "#f0f921"
             ]
            ],
            "type": "heatmap"
           }
          ],
          "heatmapgl": [
           {
            "colorbar": {
             "outlinewidth": 0,
             "ticks": ""
            },
            "colorscale": [
             [
              0,
              "#0d0887"
             ],
             [
              0.1111111111111111,
              "#46039f"
             ],
             [
              0.2222222222222222,
              "#7201a8"
             ],
             [
              0.3333333333333333,
              "#9c179e"
             ],
             [
              0.4444444444444444,
              "#bd3786"
             ],
             [
              0.5555555555555556,
              "#d8576b"
             ],
             [
              0.6666666666666666,
              "#ed7953"
             ],
             [
              0.7777777777777778,
              "#fb9f3a"
             ],
             [
              0.8888888888888888,
              "#fdca26"
             ],
             [
              1,
              "#f0f921"
             ]
            ],
            "type": "heatmapgl"
           }
          ],
          "histogram": [
           {
            "marker": {
             "pattern": {
              "fillmode": "overlay",
              "size": 10,
              "solidity": 0.2
             }
            },
            "type": "histogram"
           }
          ],
          "histogram2d": [
           {
            "colorbar": {
             "outlinewidth": 0,
             "ticks": ""
            },
            "colorscale": [
             [
              0,
              "#0d0887"
             ],
             [
              0.1111111111111111,
              "#46039f"
             ],
             [
              0.2222222222222222,
              "#7201a8"
             ],
             [
              0.3333333333333333,
              "#9c179e"
             ],
             [
              0.4444444444444444,
              "#bd3786"
             ],
             [
              0.5555555555555556,
              "#d8576b"
             ],
             [
              0.6666666666666666,
              "#ed7953"
             ],
             [
              0.7777777777777778,
              "#fb9f3a"
             ],
             [
              0.8888888888888888,
              "#fdca26"
             ],
             [
              1,
              "#f0f921"
             ]
            ],
            "type": "histogram2d"
           }
          ],
          "histogram2dcontour": [
           {
            "colorbar": {
             "outlinewidth": 0,
             "ticks": ""
            },
            "colorscale": [
             [
              0,
              "#0d0887"
             ],
             [
              0.1111111111111111,
              "#46039f"
             ],
             [
              0.2222222222222222,
              "#7201a8"
             ],
             [
              0.3333333333333333,
              "#9c179e"
             ],
             [
              0.4444444444444444,
              "#bd3786"
             ],
             [
              0.5555555555555556,
              "#d8576b"
             ],
             [
              0.6666666666666666,
              "#ed7953"
             ],
             [
              0.7777777777777778,
              "#fb9f3a"
             ],
             [
              0.8888888888888888,
              "#fdca26"
             ],
             [
              1,
              "#f0f921"
             ]
            ],
            "type": "histogram2dcontour"
           }
          ],
          "mesh3d": [
           {
            "colorbar": {
             "outlinewidth": 0,
             "ticks": ""
            },
            "type": "mesh3d"
           }
          ],
          "parcoords": [
           {
            "line": {
             "colorbar": {
              "outlinewidth": 0,
              "ticks": ""
             }
            },
            "type": "parcoords"
           }
          ],
          "pie": [
           {
            "automargin": true,
            "type": "pie"
           }
          ],
          "scatter": [
           {
            "fillpattern": {
             "fillmode": "overlay",
             "size": 10,
             "solidity": 0.2
            },
            "type": "scatter"
           }
          ],
          "scatter3d": [
           {
            "line": {
             "colorbar": {
              "outlinewidth": 0,
              "ticks": ""
             }
            },
            "marker": {
             "colorbar": {
              "outlinewidth": 0,
              "ticks": ""
             }
            },
            "type": "scatter3d"
           }
          ],
          "scattercarpet": [
           {
            "marker": {
             "colorbar": {
              "outlinewidth": 0,
              "ticks": ""
             }
            },
            "type": "scattercarpet"
           }
          ],
          "scattergeo": [
           {
            "marker": {
             "colorbar": {
              "outlinewidth": 0,
              "ticks": ""
             }
            },
            "type": "scattergeo"
           }
          ],
          "scattergl": [
           {
            "marker": {
             "colorbar": {
              "outlinewidth": 0,
              "ticks": ""
             }
            },
            "type": "scattergl"
           }
          ],
          "scattermapbox": [
           {
            "marker": {
             "colorbar": {
              "outlinewidth": 0,
              "ticks": ""
             }
            },
            "type": "scattermapbox"
           }
          ],
          "scatterpolar": [
           {
            "marker": {
             "colorbar": {
              "outlinewidth": 0,
              "ticks": ""
             }
            },
            "type": "scatterpolar"
           }
          ],
          "scatterpolargl": [
           {
            "marker": {
             "colorbar": {
              "outlinewidth": 0,
              "ticks": ""
             }
            },
            "type": "scatterpolargl"
           }
          ],
          "scatterternary": [
           {
            "marker": {
             "colorbar": {
              "outlinewidth": 0,
              "ticks": ""
             }
            },
            "type": "scatterternary"
           }
          ],
          "surface": [
           {
            "colorbar": {
             "outlinewidth": 0,
             "ticks": ""
            },
            "colorscale": [
             [
              0,
              "#0d0887"
             ],
             [
              0.1111111111111111,
              "#46039f"
             ],
             [
              0.2222222222222222,
              "#7201a8"
             ],
             [
              0.3333333333333333,
              "#9c179e"
             ],
             [
              0.4444444444444444,
              "#bd3786"
             ],
             [
              0.5555555555555556,
              "#d8576b"
             ],
             [
              0.6666666666666666,
              "#ed7953"
             ],
             [
              0.7777777777777778,
              "#fb9f3a"
             ],
             [
              0.8888888888888888,
              "#fdca26"
             ],
             [
              1,
              "#f0f921"
             ]
            ],
            "type": "surface"
           }
          ],
          "table": [
           {
            "cells": {
             "fill": {
              "color": "#EBF0F8"
             },
             "line": {
              "color": "white"
             }
            },
            "header": {
             "fill": {
              "color": "#C8D4E3"
             },
             "line": {
              "color": "white"
             }
            },
            "type": "table"
           }
          ]
         },
         "layout": {
          "annotationdefaults": {
           "arrowcolor": "#2a3f5f",
           "arrowhead": 0,
           "arrowwidth": 1
          },
          "autotypenumbers": "strict",
          "coloraxis": {
           "colorbar": {
            "outlinewidth": 0,
            "ticks": ""
           }
          },
          "colorscale": {
           "diverging": [
            [
             0,
             "#8e0152"
            ],
            [
             0.1,
             "#c51b7d"
            ],
            [
             0.2,
             "#de77ae"
            ],
            [
             0.3,
             "#f1b6da"
            ],
            [
             0.4,
             "#fde0ef"
            ],
            [
             0.5,
             "#f7f7f7"
            ],
            [
             0.6,
             "#e6f5d0"
            ],
            [
             0.7,
             "#b8e186"
            ],
            [
             0.8,
             "#7fbc41"
            ],
            [
             0.9,
             "#4d9221"
            ],
            [
             1,
             "#276419"
            ]
           ],
           "sequential": [
            [
             0,
             "#0d0887"
            ],
            [
             0.1111111111111111,
             "#46039f"
            ],
            [
             0.2222222222222222,
             "#7201a8"
            ],
            [
             0.3333333333333333,
             "#9c179e"
            ],
            [
             0.4444444444444444,
             "#bd3786"
            ],
            [
             0.5555555555555556,
             "#d8576b"
            ],
            [
             0.6666666666666666,
             "#ed7953"
            ],
            [
             0.7777777777777778,
             "#fb9f3a"
            ],
            [
             0.8888888888888888,
             "#fdca26"
            ],
            [
             1,
             "#f0f921"
            ]
           ],
           "sequentialminus": [
            [
             0,
             "#0d0887"
            ],
            [
             0.1111111111111111,
             "#46039f"
            ],
            [
             0.2222222222222222,
             "#7201a8"
            ],
            [
             0.3333333333333333,
             "#9c179e"
            ],
            [
             0.4444444444444444,
             "#bd3786"
            ],
            [
             0.5555555555555556,
             "#d8576b"
            ],
            [
             0.6666666666666666,
             "#ed7953"
            ],
            [
             0.7777777777777778,
             "#fb9f3a"
            ],
            [
             0.8888888888888888,
             "#fdca26"
            ],
            [
             1,
             "#f0f921"
            ]
           ]
          },
          "colorway": [
           "#636efa",
           "#EF553B",
           "#00cc96",
           "#ab63fa",
           "#FFA15A",
           "#19d3f3",
           "#FF6692",
           "#B6E880",
           "#FF97FF",
           "#FECB52"
          ],
          "font": {
           "color": "#2a3f5f"
          },
          "geo": {
           "bgcolor": "white",
           "lakecolor": "white",
           "landcolor": "#E5ECF6",
           "showlakes": true,
           "showland": true,
           "subunitcolor": "white"
          },
          "hoverlabel": {
           "align": "left"
          },
          "hovermode": "closest",
          "mapbox": {
           "style": "light"
          },
          "paper_bgcolor": "white",
          "plot_bgcolor": "#E5ECF6",
          "polar": {
           "angularaxis": {
            "gridcolor": "white",
            "linecolor": "white",
            "ticks": ""
           },
           "bgcolor": "#E5ECF6",
           "radialaxis": {
            "gridcolor": "white",
            "linecolor": "white",
            "ticks": ""
           }
          },
          "scene": {
           "xaxis": {
            "backgroundcolor": "#E5ECF6",
            "gridcolor": "white",
            "gridwidth": 2,
            "linecolor": "white",
            "showbackground": true,
            "ticks": "",
            "zerolinecolor": "white"
           },
           "yaxis": {
            "backgroundcolor": "#E5ECF6",
            "gridcolor": "white",
            "gridwidth": 2,
            "linecolor": "white",
            "showbackground": true,
            "ticks": "",
            "zerolinecolor": "white"
           },
           "zaxis": {
            "backgroundcolor": "#E5ECF6",
            "gridcolor": "white",
            "gridwidth": 2,
            "linecolor": "white",
            "showbackground": true,
            "ticks": "",
            "zerolinecolor": "white"
           }
          },
          "shapedefaults": {
           "line": {
            "color": "#2a3f5f"
           }
          },
          "ternary": {
           "aaxis": {
            "gridcolor": "white",
            "linecolor": "white",
            "ticks": ""
           },
           "baxis": {
            "gridcolor": "white",
            "linecolor": "white",
            "ticks": ""
           },
           "bgcolor": "#E5ECF6",
           "caxis": {
            "gridcolor": "white",
            "linecolor": "white",
            "ticks": ""
           }
          },
          "title": {
           "x": 0.05
          },
          "xaxis": {
           "automargin": true,
           "gridcolor": "white",
           "linecolor": "white",
           "ticks": "",
           "title": {
            "standoff": 15
           },
           "zerolinecolor": "white",
           "zerolinewidth": 2
          },
          "yaxis": {
           "automargin": true,
           "gridcolor": "white",
           "linecolor": "white",
           "ticks": "",
           "title": {
            "standoff": 15
           },
           "zerolinecolor": "white",
           "zerolinewidth": 2
          }
         }
        },
        "title": {
         "text": "Accuracy per Subject and Condition  - combined_accuracy"
        },
        "xaxis": {
         "tickmode": "array",
         "ticktext": [
          "1",
          "3",
          "4",
          "5",
          "6",
          "7",
          "8",
          "9",
          "10",
          "11",
          "12",
          "13",
          "14",
          "15",
          "16",
          "17",
          "18",
          "19",
          "20",
          "21",
          "22",
          "24",
          "25",
          "28",
          "29"
         ],
         "tickvals": [
          "1",
          "3",
          "4",
          "5",
          "6",
          "7",
          "8",
          "9",
          "10",
          "11",
          "12",
          "13",
          "14",
          "15",
          "16",
          "17",
          "18",
          "19",
          "20",
          "21",
          "22",
          "24",
          "25",
          "28",
          "29"
         ],
         "title": {
          "text": "Subject"
         }
        },
        "yaxis": {
         "dtick": 0.1,
         "range": [
          0.3,
          1
         ],
         "tick0": 0.4,
         "title": {
          "text": "Accuracy"
         }
        }
       }
      }
     },
     "metadata": {},
     "output_type": "display_data"
    }
   ],
   "source": [
    "# Create a DataFrame to organize the data\n",
    "data = []\n",
    "for subject_id, scores in whole_epochs_results_AW_new.items():\n",
    "    data.append({\n",
    "        'Subject': subject_id,\n",
    "        'Condition': 'AW_2',\n",
    "        'Accuracy': scores['combined_accuracy']\n",
    "    })\n",
    "for subject_id, scores in whole_epochs_results_AW_seen.items():\n",
    "    data.append({\n",
    "        'Subject': subject_id,\n",
    "        'Condition': 'AW',\n",
    "        'Accuracy': scores['combined_accuracy']\n",
    "    })\n",
    "\n",
    "\n",
    "df = pd.DataFrame(data)\n",
    "df_grouped = df.iloc[:,1:].groupby('Condition').agg(['mean', 'std'])\n",
    "print(df_grouped)\n",
    "\n",
    "# Calculate means and stds for error bars\n",
    "means = df.groupby('Condition')['Accuracy'].mean()\n",
    "stds = df.groupby('Condition')['Accuracy'].std()\n",
    "\n",
    "# Create Plotly grouped bar chart with error bars\n",
    "fig = go.Figure()\n",
    "\n",
    "for condition in df['Condition'].unique():\n",
    "    cond_df = df[df['Condition'] == condition]\n",
    "    fig.add_trace(go.Bar(\n",
    "        x=cond_df['Subject'],\n",
    "        y=cond_df['Accuracy'],\n",
    "        name=condition,\n",
    "        marker_color=colors[condition],\n",
    "        error_y=dict(\n",
    "            type='data',\n",
    "            array=[stds[condition]] * len(cond_df),  # same std for all bars in this condition\n",
    "            visible=True\n",
    "        )\n",
    "    ))\n",
    "\n",
    "# Add chance level line\n",
    "fig.add_hline(y=0.5, line_width=1, line_color=\"gray\")\n",
    "\n",
    "# Update layout to show subject IDs on x-axis ticks\n",
    "fig.update_layout(\n",
    "    barmode='group',\n",
    "    xaxis_title='Subject',\n",
    "    yaxis_title='Accuracy',\n",
    "    title='Accuracy per Subject and Condition  - combined_accuracy',\n",
    "    legend_title_text='Condition',\n",
    "    xaxis=dict(\n",
    "        tickmode='array',\n",
    "        tickvals=df['Subject'].unique(),\n",
    "        ticktext=df['Subject'].unique()\n",
    "    ),\n",
    "    yaxis=dict(range=[0.3, 1.0], tick0=0.4, dtick=0.1),\n",
    ")\n",
    "\n",
    "fig.show()\n"
   ]
  },
  {
   "cell_type": "code",
   "execution_count": 53,
   "metadata": {},
   "outputs": [
    {
     "name": "stdout",
     "output_type": "stream",
     "text": [
      "           Accuracy          \n",
      "               mean       std\n",
      "Condition                    \n",
      "AW         0.438857  0.131999\n",
      "AW_2       0.504929  0.086007\n"
     ]
    },
    {
     "data": {
      "application/vnd.plotly.v1+json": {
       "config": {
        "plotlyServerURL": "https://plot.ly"
       },
       "data": [
        {
         "error_y": {
          "array": [
           0.08600728359472667,
           0.08600728359472667,
           0.08600728359472667,
           0.08600728359472667,
           0.08600728359472667,
           0.08600728359472667,
           0.08600728359472667,
           0.08600728359472667,
           0.08600728359472667,
           0.08600728359472667,
           0.08600728359472667,
           0.08600728359472667,
           0.08600728359472667,
           0.08600728359472667,
           0.08600728359472667,
           0.08600728359472667,
           0.08600728359472667,
           0.08600728359472667,
           0.08600728359472667,
           0.08600728359472667,
           0.08600728359472667,
           0.08600728359472667,
           0.08600728359472667,
           0.08600728359472667,
           0.08600728359472667
          ],
          "type": "data",
          "visible": true
         },
         "marker": {
          "color": "#613828"
         },
         "name": "AW_2",
         "type": "bar",
         "x": [
          "1",
          "3",
          "4",
          "5",
          "6",
          "7",
          "8",
          "9",
          "10",
          "11",
          "12",
          "13",
          "14",
          "15",
          "16",
          "17",
          "18",
          "19",
          "20",
          "21",
          "22",
          "24",
          "25",
          "28",
          "29"
         ],
         "y": [
          0.4166666666666667,
          0.5,
          0.5,
          0.45454545454545453,
          0.6363636363636364,
          0.5454545454545454,
          0.45454545454545453,
          0.5454545454545454,
          0.3333333333333333,
          0.5,
          0.5,
          0.5,
          0.5833333333333334,
          0.45454545454545453,
          0.4444444444444444,
          0.8,
          0.5,
          0.5454545454545454,
          0.5,
          0.45454545454545453,
          0.5454545454545454,
          0.45454545454545453,
          0.5454545454545454,
          0.45454545454545453,
          0.45454545454545453
         ]
        },
        {
         "error_y": {
          "array": [
           0.13199927849730667,
           0.13199927849730667,
           0.13199927849730667,
           0.13199927849730667,
           0.13199927849730667,
           0.13199927849730667,
           0.13199927849730667,
           0.13199927849730667,
           0.13199927849730667,
           0.13199927849730667,
           0.13199927849730667,
           0.13199927849730667,
           0.13199927849730667,
           0.13199927849730667,
           0.13199927849730667,
           0.13199927849730667,
           0.13199927849730667,
           0.13199927849730667,
           0.13199927849730667,
           0.13199927849730667,
           0.13199927849730667,
           0.13199927849730667,
           0.13199927849730667,
           0.13199927849730667,
           0.13199927849730667
          ],
          "type": "data",
          "visible": true
         },
         "marker": {
          "color": "#ef8a62"
         },
         "name": "AW",
         "type": "bar",
         "x": [
          "1",
          "3",
          "4",
          "5",
          "6",
          "7",
          "8",
          "9",
          "10",
          "11",
          "12",
          "13",
          "14",
          "15",
          "16",
          "17",
          "18",
          "19",
          "20",
          "21",
          "22",
          "24",
          "25",
          "28",
          "29"
         ],
         "y": [
          0.625,
          0.5,
          0.5,
          0.5714285714285714,
          0.625,
          0.42857142857142855,
          0.5,
          0.5714285714285714,
          0.2,
          0.375,
          0.25,
          0.5,
          0.5,
          0.42857142857142855,
          0.42857142857142855,
          0.2,
          0.5,
          0.42857142857142855,
          0.5,
          0.5,
          0.2857142857142857,
          0.5,
          0.42857142857142855,
          0.5,
          0.125
         ]
        }
       ],
       "layout": {
        "barmode": "group",
        "legend": {
         "title": {
          "text": "Condition"
         }
        },
        "shapes": [
         {
          "line": {
           "color": "gray",
           "width": 1
          },
          "type": "line",
          "x0": 0,
          "x1": 1,
          "xref": "x domain",
          "y0": 0.5,
          "y1": 0.5,
          "yref": "y"
         }
        ],
        "template": {
         "data": {
          "bar": [
           {
            "error_x": {
             "color": "#2a3f5f"
            },
            "error_y": {
             "color": "#2a3f5f"
            },
            "marker": {
             "line": {
              "color": "#E5ECF6",
              "width": 0.5
             },
             "pattern": {
              "fillmode": "overlay",
              "size": 10,
              "solidity": 0.2
             }
            },
            "type": "bar"
           }
          ],
          "barpolar": [
           {
            "marker": {
             "line": {
              "color": "#E5ECF6",
              "width": 0.5
             },
             "pattern": {
              "fillmode": "overlay",
              "size": 10,
              "solidity": 0.2
             }
            },
            "type": "barpolar"
           }
          ],
          "carpet": [
           {
            "aaxis": {
             "endlinecolor": "#2a3f5f",
             "gridcolor": "white",
             "linecolor": "white",
             "minorgridcolor": "white",
             "startlinecolor": "#2a3f5f"
            },
            "baxis": {
             "endlinecolor": "#2a3f5f",
             "gridcolor": "white",
             "linecolor": "white",
             "minorgridcolor": "white",
             "startlinecolor": "#2a3f5f"
            },
            "type": "carpet"
           }
          ],
          "choropleth": [
           {
            "colorbar": {
             "outlinewidth": 0,
             "ticks": ""
            },
            "type": "choropleth"
           }
          ],
          "contour": [
           {
            "colorbar": {
             "outlinewidth": 0,
             "ticks": ""
            },
            "colorscale": [
             [
              0,
              "#0d0887"
             ],
             [
              0.1111111111111111,
              "#46039f"
             ],
             [
              0.2222222222222222,
              "#7201a8"
             ],
             [
              0.3333333333333333,
              "#9c179e"
             ],
             [
              0.4444444444444444,
              "#bd3786"
             ],
             [
              0.5555555555555556,
              "#d8576b"
             ],
             [
              0.6666666666666666,
              "#ed7953"
             ],
             [
              0.7777777777777778,
              "#fb9f3a"
             ],
             [
              0.8888888888888888,
              "#fdca26"
             ],
             [
              1,
              "#f0f921"
             ]
            ],
            "type": "contour"
           }
          ],
          "contourcarpet": [
           {
            "colorbar": {
             "outlinewidth": 0,
             "ticks": ""
            },
            "type": "contourcarpet"
           }
          ],
          "heatmap": [
           {
            "colorbar": {
             "outlinewidth": 0,
             "ticks": ""
            },
            "colorscale": [
             [
              0,
              "#0d0887"
             ],
             [
              0.1111111111111111,
              "#46039f"
             ],
             [
              0.2222222222222222,
              "#7201a8"
             ],
             [
              0.3333333333333333,
              "#9c179e"
             ],
             [
              0.4444444444444444,
              "#bd3786"
             ],
             [
              0.5555555555555556,
              "#d8576b"
             ],
             [
              0.6666666666666666,
              "#ed7953"
             ],
             [
              0.7777777777777778,
              "#fb9f3a"
             ],
             [
              0.8888888888888888,
              "#fdca26"
             ],
             [
              1,
              "#f0f921"
             ]
            ],
            "type": "heatmap"
           }
          ],
          "heatmapgl": [
           {
            "colorbar": {
             "outlinewidth": 0,
             "ticks": ""
            },
            "colorscale": [
             [
              0,
              "#0d0887"
             ],
             [
              0.1111111111111111,
              "#46039f"
             ],
             [
              0.2222222222222222,
              "#7201a8"
             ],
             [
              0.3333333333333333,
              "#9c179e"
             ],
             [
              0.4444444444444444,
              "#bd3786"
             ],
             [
              0.5555555555555556,
              "#d8576b"
             ],
             [
              0.6666666666666666,
              "#ed7953"
             ],
             [
              0.7777777777777778,
              "#fb9f3a"
             ],
             [
              0.8888888888888888,
              "#fdca26"
             ],
             [
              1,
              "#f0f921"
             ]
            ],
            "type": "heatmapgl"
           }
          ],
          "histogram": [
           {
            "marker": {
             "pattern": {
              "fillmode": "overlay",
              "size": 10,
              "solidity": 0.2
             }
            },
            "type": "histogram"
           }
          ],
          "histogram2d": [
           {
            "colorbar": {
             "outlinewidth": 0,
             "ticks": ""
            },
            "colorscale": [
             [
              0,
              "#0d0887"
             ],
             [
              0.1111111111111111,
              "#46039f"
             ],
             [
              0.2222222222222222,
              "#7201a8"
             ],
             [
              0.3333333333333333,
              "#9c179e"
             ],
             [
              0.4444444444444444,
              "#bd3786"
             ],
             [
              0.5555555555555556,
              "#d8576b"
             ],
             [
              0.6666666666666666,
              "#ed7953"
             ],
             [
              0.7777777777777778,
              "#fb9f3a"
             ],
             [
              0.8888888888888888,
              "#fdca26"
             ],
             [
              1,
              "#f0f921"
             ]
            ],
            "type": "histogram2d"
           }
          ],
          "histogram2dcontour": [
           {
            "colorbar": {
             "outlinewidth": 0,
             "ticks": ""
            },
            "colorscale": [
             [
              0,
              "#0d0887"
             ],
             [
              0.1111111111111111,
              "#46039f"
             ],
             [
              0.2222222222222222,
              "#7201a8"
             ],
             [
              0.3333333333333333,
              "#9c179e"
             ],
             [
              0.4444444444444444,
              "#bd3786"
             ],
             [
              0.5555555555555556,
              "#d8576b"
             ],
             [
              0.6666666666666666,
              "#ed7953"
             ],
             [
              0.7777777777777778,
              "#fb9f3a"
             ],
             [
              0.8888888888888888,
              "#fdca26"
             ],
             [
              1,
              "#f0f921"
             ]
            ],
            "type": "histogram2dcontour"
           }
          ],
          "mesh3d": [
           {
            "colorbar": {
             "outlinewidth": 0,
             "ticks": ""
            },
            "type": "mesh3d"
           }
          ],
          "parcoords": [
           {
            "line": {
             "colorbar": {
              "outlinewidth": 0,
              "ticks": ""
             }
            },
            "type": "parcoords"
           }
          ],
          "pie": [
           {
            "automargin": true,
            "type": "pie"
           }
          ],
          "scatter": [
           {
            "fillpattern": {
             "fillmode": "overlay",
             "size": 10,
             "solidity": 0.2
            },
            "type": "scatter"
           }
          ],
          "scatter3d": [
           {
            "line": {
             "colorbar": {
              "outlinewidth": 0,
              "ticks": ""
             }
            },
            "marker": {
             "colorbar": {
              "outlinewidth": 0,
              "ticks": ""
             }
            },
            "type": "scatter3d"
           }
          ],
          "scattercarpet": [
           {
            "marker": {
             "colorbar": {
              "outlinewidth": 0,
              "ticks": ""
             }
            },
            "type": "scattercarpet"
           }
          ],
          "scattergeo": [
           {
            "marker": {
             "colorbar": {
              "outlinewidth": 0,
              "ticks": ""
             }
            },
            "type": "scattergeo"
           }
          ],
          "scattergl": [
           {
            "marker": {
             "colorbar": {
              "outlinewidth": 0,
              "ticks": ""
             }
            },
            "type": "scattergl"
           }
          ],
          "scattermapbox": [
           {
            "marker": {
             "colorbar": {
              "outlinewidth": 0,
              "ticks": ""
             }
            },
            "type": "scattermapbox"
           }
          ],
          "scatterpolar": [
           {
            "marker": {
             "colorbar": {
              "outlinewidth": 0,
              "ticks": ""
             }
            },
            "type": "scatterpolar"
           }
          ],
          "scatterpolargl": [
           {
            "marker": {
             "colorbar": {
              "outlinewidth": 0,
              "ticks": ""
             }
            },
            "type": "scatterpolargl"
           }
          ],
          "scatterternary": [
           {
            "marker": {
             "colorbar": {
              "outlinewidth": 0,
              "ticks": ""
             }
            },
            "type": "scatterternary"
           }
          ],
          "surface": [
           {
            "colorbar": {
             "outlinewidth": 0,
             "ticks": ""
            },
            "colorscale": [
             [
              0,
              "#0d0887"
             ],
             [
              0.1111111111111111,
              "#46039f"
             ],
             [
              0.2222222222222222,
              "#7201a8"
             ],
             [
              0.3333333333333333,
              "#9c179e"
             ],
             [
              0.4444444444444444,
              "#bd3786"
             ],
             [
              0.5555555555555556,
              "#d8576b"
             ],
             [
              0.6666666666666666,
              "#ed7953"
             ],
             [
              0.7777777777777778,
              "#fb9f3a"
             ],
             [
              0.8888888888888888,
              "#fdca26"
             ],
             [
              1,
              "#f0f921"
             ]
            ],
            "type": "surface"
           }
          ],
          "table": [
           {
            "cells": {
             "fill": {
              "color": "#EBF0F8"
             },
             "line": {
              "color": "white"
             }
            },
            "header": {
             "fill": {
              "color": "#C8D4E3"
             },
             "line": {
              "color": "white"
             }
            },
            "type": "table"
           }
          ]
         },
         "layout": {
          "annotationdefaults": {
           "arrowcolor": "#2a3f5f",
           "arrowhead": 0,
           "arrowwidth": 1
          },
          "autotypenumbers": "strict",
          "coloraxis": {
           "colorbar": {
            "outlinewidth": 0,
            "ticks": ""
           }
          },
          "colorscale": {
           "diverging": [
            [
             0,
             "#8e0152"
            ],
            [
             0.1,
             "#c51b7d"
            ],
            [
             0.2,
             "#de77ae"
            ],
            [
             0.3,
             "#f1b6da"
            ],
            [
             0.4,
             "#fde0ef"
            ],
            [
             0.5,
             "#f7f7f7"
            ],
            [
             0.6,
             "#e6f5d0"
            ],
            [
             0.7,
             "#b8e186"
            ],
            [
             0.8,
             "#7fbc41"
            ],
            [
             0.9,
             "#4d9221"
            ],
            [
             1,
             "#276419"
            ]
           ],
           "sequential": [
            [
             0,
             "#0d0887"
            ],
            [
             0.1111111111111111,
             "#46039f"
            ],
            [
             0.2222222222222222,
             "#7201a8"
            ],
            [
             0.3333333333333333,
             "#9c179e"
            ],
            [
             0.4444444444444444,
             "#bd3786"
            ],
            [
             0.5555555555555556,
             "#d8576b"
            ],
            [
             0.6666666666666666,
             "#ed7953"
            ],
            [
             0.7777777777777778,
             "#fb9f3a"
            ],
            [
             0.8888888888888888,
             "#fdca26"
            ],
            [
             1,
             "#f0f921"
            ]
           ],
           "sequentialminus": [
            [
             0,
             "#0d0887"
            ],
            [
             0.1111111111111111,
             "#46039f"
            ],
            [
             0.2222222222222222,
             "#7201a8"
            ],
            [
             0.3333333333333333,
             "#9c179e"
            ],
            [
             0.4444444444444444,
             "#bd3786"
            ],
            [
             0.5555555555555556,
             "#d8576b"
            ],
            [
             0.6666666666666666,
             "#ed7953"
            ],
            [
             0.7777777777777778,
             "#fb9f3a"
            ],
            [
             0.8888888888888888,
             "#fdca26"
            ],
            [
             1,
             "#f0f921"
            ]
           ]
          },
          "colorway": [
           "#636efa",
           "#EF553B",
           "#00cc96",
           "#ab63fa",
           "#FFA15A",
           "#19d3f3",
           "#FF6692",
           "#B6E880",
           "#FF97FF",
           "#FECB52"
          ],
          "font": {
           "color": "#2a3f5f"
          },
          "geo": {
           "bgcolor": "white",
           "lakecolor": "white",
           "landcolor": "#E5ECF6",
           "showlakes": true,
           "showland": true,
           "subunitcolor": "white"
          },
          "hoverlabel": {
           "align": "left"
          },
          "hovermode": "closest",
          "mapbox": {
           "style": "light"
          },
          "paper_bgcolor": "white",
          "plot_bgcolor": "#E5ECF6",
          "polar": {
           "angularaxis": {
            "gridcolor": "white",
            "linecolor": "white",
            "ticks": ""
           },
           "bgcolor": "#E5ECF6",
           "radialaxis": {
            "gridcolor": "white",
            "linecolor": "white",
            "ticks": ""
           }
          },
          "scene": {
           "xaxis": {
            "backgroundcolor": "#E5ECF6",
            "gridcolor": "white",
            "gridwidth": 2,
            "linecolor": "white",
            "showbackground": true,
            "ticks": "",
            "zerolinecolor": "white"
           },
           "yaxis": {
            "backgroundcolor": "#E5ECF6",
            "gridcolor": "white",
            "gridwidth": 2,
            "linecolor": "white",
            "showbackground": true,
            "ticks": "",
            "zerolinecolor": "white"
           },
           "zaxis": {
            "backgroundcolor": "#E5ECF6",
            "gridcolor": "white",
            "gridwidth": 2,
            "linecolor": "white",
            "showbackground": true,
            "ticks": "",
            "zerolinecolor": "white"
           }
          },
          "shapedefaults": {
           "line": {
            "color": "#2a3f5f"
           }
          },
          "ternary": {
           "aaxis": {
            "gridcolor": "white",
            "linecolor": "white",
            "ticks": ""
           },
           "baxis": {
            "gridcolor": "white",
            "linecolor": "white",
            "ticks": ""
           },
           "bgcolor": "#E5ECF6",
           "caxis": {
            "gridcolor": "white",
            "linecolor": "white",
            "ticks": ""
           }
          },
          "title": {
           "x": 0.05
          },
          "xaxis": {
           "automargin": true,
           "gridcolor": "white",
           "linecolor": "white",
           "ticks": "",
           "title": {
            "standoff": 15
           },
           "zerolinecolor": "white",
           "zerolinewidth": 2
          },
          "yaxis": {
           "automargin": true,
           "gridcolor": "white",
           "linecolor": "white",
           "ticks": "",
           "title": {
            "standoff": 15
           },
           "zerolinecolor": "white",
           "zerolinewidth": 2
          }
         }
        },
        "title": {
         "text": "Accuracy per Subject and Condition  - combined_accuracy"
        },
        "xaxis": {
         "tickmode": "array",
         "ticktext": [
          "1",
          "3",
          "4",
          "5",
          "6",
          "7",
          "8",
          "9",
          "10",
          "11",
          "12",
          "13",
          "14",
          "15",
          "16",
          "17",
          "18",
          "19",
          "20",
          "21",
          "22",
          "24",
          "25",
          "28",
          "29"
         ],
         "tickvals": [
          "1",
          "3",
          "4",
          "5",
          "6",
          "7",
          "8",
          "9",
          "10",
          "11",
          "12",
          "13",
          "14",
          "15",
          "16",
          "17",
          "18",
          "19",
          "20",
          "21",
          "22",
          "24",
          "25",
          "28",
          "29"
         ],
         "title": {
          "text": "Subject"
         }
        },
        "yaxis": {
         "dtick": 0.1,
         "range": [
          0.3,
          1
         ],
         "tick0": 0.4,
         "title": {
          "text": "Accuracy"
         }
        }
       }
      }
     },
     "metadata": {},
     "output_type": "display_data"
    }
   ],
   "source": [
    "# Create a DataFrame to organize the data\n",
    "data = []\n",
    "for subject_id, scores in whole_epochs_results_AW_new.items():\n",
    "    data.append({\n",
    "        'Subject': subject_id,\n",
    "        'Condition': 'AW_2',\n",
    "        'Accuracy': scores['fbcsp_accuracy']\n",
    "    })\n",
    "for subject_id, scores in whole_epochs_results_AW_seen.items():\n",
    "    data.append({\n",
    "        'Subject': subject_id,\n",
    "        'Condition': 'AW',\n",
    "        'Accuracy': scores['fbcsp_accuracy']\n",
    "    })\n",
    "\n",
    "\n",
    "df = pd.DataFrame(data)\n",
    "df_grouped = df.iloc[:,1:].groupby('Condition').agg(['mean', 'std'])\n",
    "print(df_grouped)\n",
    "\n",
    "# Calculate means and stds for error bars\n",
    "means = df.groupby('Condition')['Accuracy'].mean()\n",
    "stds = df.groupby('Condition')['Accuracy'].std()\n",
    "\n",
    "# Create Plotly grouped bar chart with error bars\n",
    "fig = go.Figure()\n",
    "\n",
    "for condition in df['Condition'].unique():\n",
    "    cond_df = df[df['Condition'] == condition]\n",
    "    fig.add_trace(go.Bar(\n",
    "        x=cond_df['Subject'],\n",
    "        y=cond_df['Accuracy'],\n",
    "        name=condition,\n",
    "        marker_color=colors[condition],\n",
    "        error_y=dict(\n",
    "            type='data',\n",
    "            array=[stds[condition]] * len(cond_df),  # same std for all bars in this condition\n",
    "            visible=True\n",
    "        )\n",
    "    ))\n",
    "\n",
    "# Add chance level line\n",
    "fig.add_hline(y=0.5, line_width=1, line_color=\"gray\")\n",
    "\n",
    "# Update layout to show subject IDs on x-axis ticks\n",
    "fig.update_layout(\n",
    "    barmode='group',\n",
    "    xaxis_title='Subject',\n",
    "    yaxis_title='Accuracy',\n",
    "    title='Accuracy per Subject and Condition  - combined_accuracy',\n",
    "    legend_title_text='Condition',\n",
    "    xaxis=dict(\n",
    "        tickmode='array',\n",
    "        tickvals=df['Subject'].unique(),\n",
    "        ticktext=df['Subject'].unique()\n",
    "    ),\n",
    "    yaxis=dict(range=[0.3, 1.0], tick0=0.4, dtick=0.1),\n",
    ")\n",
    "\n",
    "fig.show()\n"
   ]
  },
  {
   "cell_type": "code",
   "execution_count": 54,
   "metadata": {},
   "outputs": [
    {
     "name": "stdout",
     "output_type": "stream",
     "text": [
      "           Accuracy          \n",
      "               mean       std\n",
      "Condition                    \n",
      "AW         0.473286  0.187381\n",
      "AW_2       0.497838  0.140330\n"
     ]
    },
    {
     "data": {
      "application/vnd.plotly.v1+json": {
       "config": {
        "plotlyServerURL": "https://plot.ly"
       },
       "data": [
        {
         "error_y": {
          "array": [
           0.14033040725984552,
           0.14033040725984552,
           0.14033040725984552,
           0.14033040725984552,
           0.14033040725984552,
           0.14033040725984552,
           0.14033040725984552,
           0.14033040725984552,
           0.14033040725984552,
           0.14033040725984552,
           0.14033040725984552,
           0.14033040725984552,
           0.14033040725984552,
           0.14033040725984552,
           0.14033040725984552,
           0.14033040725984552,
           0.14033040725984552,
           0.14033040725984552,
           0.14033040725984552,
           0.14033040725984552,
           0.14033040725984552,
           0.14033040725984552,
           0.14033040725984552,
           0.14033040725984552,
           0.14033040725984552
          ],
          "type": "data",
          "visible": true
         },
         "marker": {
          "color": "#613828"
         },
         "name": "AW_2",
         "type": "bar",
         "x": [
          "1",
          "3",
          "4",
          "5",
          "6",
          "7",
          "8",
          "9",
          "10",
          "11",
          "12",
          "13",
          "14",
          "15",
          "16",
          "17",
          "18",
          "19",
          "20",
          "21",
          "22",
          "24",
          "25",
          "28",
          "29"
         ],
         "y": [
          0.6666666666666666,
          0.5,
          0.4166666666666667,
          0.2727272727272727,
          0.36363636363636365,
          0.5454545454545454,
          0.2727272727272727,
          0.6363636363636364,
          0.3333333333333333,
          0.75,
          0.75,
          0.5833333333333334,
          0.5,
          0.36363636363636365,
          0.4444444444444444,
          0.6,
          0.5833333333333334,
          0.5454545454545454,
          0.5,
          0.36363636363636365,
          0.5454545454545454,
          0.6363636363636364,
          0.5454545454545454,
          0.45454545454545453,
          0.2727272727272727
         ]
        },
        {
         "error_y": {
          "array": [
           0.1873812549159535,
           0.1873812549159535,
           0.1873812549159535,
           0.1873812549159535,
           0.1873812549159535,
           0.1873812549159535,
           0.1873812549159535,
           0.1873812549159535,
           0.1873812549159535,
           0.1873812549159535,
           0.1873812549159535,
           0.1873812549159535,
           0.1873812549159535,
           0.1873812549159535,
           0.1873812549159535,
           0.1873812549159535,
           0.1873812549159535,
           0.1873812549159535,
           0.1873812549159535,
           0.1873812549159535,
           0.1873812549159535,
           0.1873812549159535,
           0.1873812549159535,
           0.1873812549159535,
           0.1873812549159535
          ],
          "type": "data",
          "visible": true
         },
         "marker": {
          "color": "#ef8a62"
         },
         "name": "AW",
         "type": "bar",
         "x": [
          "1",
          "3",
          "4",
          "5",
          "6",
          "7",
          "8",
          "9",
          "10",
          "11",
          "12",
          "13",
          "14",
          "15",
          "16",
          "17",
          "18",
          "19",
          "20",
          "21",
          "22",
          "24",
          "25",
          "28",
          "29"
         ],
         "y": [
          0.625,
          0.5,
          0.5,
          0.5714285714285714,
          0.375,
          0.42857142857142855,
          0.25,
          0.2857142857142857,
          0.2,
          0.375,
          0.375,
          0.625,
          0.375,
          0.5714285714285714,
          0.2857142857142857,
          0.4,
          0.25,
          0.7142857142857143,
          0.625,
          0.375,
          0.7142857142857143,
          0.625,
          0.2857142857142857,
          0.5,
          1
         ]
        }
       ],
       "layout": {
        "barmode": "group",
        "legend": {
         "title": {
          "text": "Condition"
         }
        },
        "shapes": [
         {
          "line": {
           "color": "gray",
           "width": 1
          },
          "type": "line",
          "x0": 0,
          "x1": 1,
          "xref": "x domain",
          "y0": 0.5,
          "y1": 0.5,
          "yref": "y"
         }
        ],
        "template": {
         "data": {
          "bar": [
           {
            "error_x": {
             "color": "#2a3f5f"
            },
            "error_y": {
             "color": "#2a3f5f"
            },
            "marker": {
             "line": {
              "color": "#E5ECF6",
              "width": 0.5
             },
             "pattern": {
              "fillmode": "overlay",
              "size": 10,
              "solidity": 0.2
             }
            },
            "type": "bar"
           }
          ],
          "barpolar": [
           {
            "marker": {
             "line": {
              "color": "#E5ECF6",
              "width": 0.5
             },
             "pattern": {
              "fillmode": "overlay",
              "size": 10,
              "solidity": 0.2
             }
            },
            "type": "barpolar"
           }
          ],
          "carpet": [
           {
            "aaxis": {
             "endlinecolor": "#2a3f5f",
             "gridcolor": "white",
             "linecolor": "white",
             "minorgridcolor": "white",
             "startlinecolor": "#2a3f5f"
            },
            "baxis": {
             "endlinecolor": "#2a3f5f",
             "gridcolor": "white",
             "linecolor": "white",
             "minorgridcolor": "white",
             "startlinecolor": "#2a3f5f"
            },
            "type": "carpet"
           }
          ],
          "choropleth": [
           {
            "colorbar": {
             "outlinewidth": 0,
             "ticks": ""
            },
            "type": "choropleth"
           }
          ],
          "contour": [
           {
            "colorbar": {
             "outlinewidth": 0,
             "ticks": ""
            },
            "colorscale": [
             [
              0,
              "#0d0887"
             ],
             [
              0.1111111111111111,
              "#46039f"
             ],
             [
              0.2222222222222222,
              "#7201a8"
             ],
             [
              0.3333333333333333,
              "#9c179e"
             ],
             [
              0.4444444444444444,
              "#bd3786"
             ],
             [
              0.5555555555555556,
              "#d8576b"
             ],
             [
              0.6666666666666666,
              "#ed7953"
             ],
             [
              0.7777777777777778,
              "#fb9f3a"
             ],
             [
              0.8888888888888888,
              "#fdca26"
             ],
             [
              1,
              "#f0f921"
             ]
            ],
            "type": "contour"
           }
          ],
          "contourcarpet": [
           {
            "colorbar": {
             "outlinewidth": 0,
             "ticks": ""
            },
            "type": "contourcarpet"
           }
          ],
          "heatmap": [
           {
            "colorbar": {
             "outlinewidth": 0,
             "ticks": ""
            },
            "colorscale": [
             [
              0,
              "#0d0887"
             ],
             [
              0.1111111111111111,
              "#46039f"
             ],
             [
              0.2222222222222222,
              "#7201a8"
             ],
             [
              0.3333333333333333,
              "#9c179e"
             ],
             [
              0.4444444444444444,
              "#bd3786"
             ],
             [
              0.5555555555555556,
              "#d8576b"
             ],
             [
              0.6666666666666666,
              "#ed7953"
             ],
             [
              0.7777777777777778,
              "#fb9f3a"
             ],
             [
              0.8888888888888888,
              "#fdca26"
             ],
             [
              1,
              "#f0f921"
             ]
            ],
            "type": "heatmap"
           }
          ],
          "heatmapgl": [
           {
            "colorbar": {
             "outlinewidth": 0,
             "ticks": ""
            },
            "colorscale": [
             [
              0,
              "#0d0887"
             ],
             [
              0.1111111111111111,
              "#46039f"
             ],
             [
              0.2222222222222222,
              "#7201a8"
             ],
             [
              0.3333333333333333,
              "#9c179e"
             ],
             [
              0.4444444444444444,
              "#bd3786"
             ],
             [
              0.5555555555555556,
              "#d8576b"
             ],
             [
              0.6666666666666666,
              "#ed7953"
             ],
             [
              0.7777777777777778,
              "#fb9f3a"
             ],
             [
              0.8888888888888888,
              "#fdca26"
             ],
             [
              1,
              "#f0f921"
             ]
            ],
            "type": "heatmapgl"
           }
          ],
          "histogram": [
           {
            "marker": {
             "pattern": {
              "fillmode": "overlay",
              "size": 10,
              "solidity": 0.2
             }
            },
            "type": "histogram"
           }
          ],
          "histogram2d": [
           {
            "colorbar": {
             "outlinewidth": 0,
             "ticks": ""
            },
            "colorscale": [
             [
              0,
              "#0d0887"
             ],
             [
              0.1111111111111111,
              "#46039f"
             ],
             [
              0.2222222222222222,
              "#7201a8"
             ],
             [
              0.3333333333333333,
              "#9c179e"
             ],
             [
              0.4444444444444444,
              "#bd3786"
             ],
             [
              0.5555555555555556,
              "#d8576b"
             ],
             [
              0.6666666666666666,
              "#ed7953"
             ],
             [
              0.7777777777777778,
              "#fb9f3a"
             ],
             [
              0.8888888888888888,
              "#fdca26"
             ],
             [
              1,
              "#f0f921"
             ]
            ],
            "type": "histogram2d"
           }
          ],
          "histogram2dcontour": [
           {
            "colorbar": {
             "outlinewidth": 0,
             "ticks": ""
            },
            "colorscale": [
             [
              0,
              "#0d0887"
             ],
             [
              0.1111111111111111,
              "#46039f"
             ],
             [
              0.2222222222222222,
              "#7201a8"
             ],
             [
              0.3333333333333333,
              "#9c179e"
             ],
             [
              0.4444444444444444,
              "#bd3786"
             ],
             [
              0.5555555555555556,
              "#d8576b"
             ],
             [
              0.6666666666666666,
              "#ed7953"
             ],
             [
              0.7777777777777778,
              "#fb9f3a"
             ],
             [
              0.8888888888888888,
              "#fdca26"
             ],
             [
              1,
              "#f0f921"
             ]
            ],
            "type": "histogram2dcontour"
           }
          ],
          "mesh3d": [
           {
            "colorbar": {
             "outlinewidth": 0,
             "ticks": ""
            },
            "type": "mesh3d"
           }
          ],
          "parcoords": [
           {
            "line": {
             "colorbar": {
              "outlinewidth": 0,
              "ticks": ""
             }
            },
            "type": "parcoords"
           }
          ],
          "pie": [
           {
            "automargin": true,
            "type": "pie"
           }
          ],
          "scatter": [
           {
            "fillpattern": {
             "fillmode": "overlay",
             "size": 10,
             "solidity": 0.2
            },
            "type": "scatter"
           }
          ],
          "scatter3d": [
           {
            "line": {
             "colorbar": {
              "outlinewidth": 0,
              "ticks": ""
             }
            },
            "marker": {
             "colorbar": {
              "outlinewidth": 0,
              "ticks": ""
             }
            },
            "type": "scatter3d"
           }
          ],
          "scattercarpet": [
           {
            "marker": {
             "colorbar": {
              "outlinewidth": 0,
              "ticks": ""
             }
            },
            "type": "scattercarpet"
           }
          ],
          "scattergeo": [
           {
            "marker": {
             "colorbar": {
              "outlinewidth": 0,
              "ticks": ""
             }
            },
            "type": "scattergeo"
           }
          ],
          "scattergl": [
           {
            "marker": {
             "colorbar": {
              "outlinewidth": 0,
              "ticks": ""
             }
            },
            "type": "scattergl"
           }
          ],
          "scattermapbox": [
           {
            "marker": {
             "colorbar": {
              "outlinewidth": 0,
              "ticks": ""
             }
            },
            "type": "scattermapbox"
           }
          ],
          "scatterpolar": [
           {
            "marker": {
             "colorbar": {
              "outlinewidth": 0,
              "ticks": ""
             }
            },
            "type": "scatterpolar"
           }
          ],
          "scatterpolargl": [
           {
            "marker": {
             "colorbar": {
              "outlinewidth": 0,
              "ticks": ""
             }
            },
            "type": "scatterpolargl"
           }
          ],
          "scatterternary": [
           {
            "marker": {
             "colorbar": {
              "outlinewidth": 0,
              "ticks": ""
             }
            },
            "type": "scatterternary"
           }
          ],
          "surface": [
           {
            "colorbar": {
             "outlinewidth": 0,
             "ticks": ""
            },
            "colorscale": [
             [
              0,
              "#0d0887"
             ],
             [
              0.1111111111111111,
              "#46039f"
             ],
             [
              0.2222222222222222,
              "#7201a8"
             ],
             [
              0.3333333333333333,
              "#9c179e"
             ],
             [
              0.4444444444444444,
              "#bd3786"
             ],
             [
              0.5555555555555556,
              "#d8576b"
             ],
             [
              0.6666666666666666,
              "#ed7953"
             ],
             [
              0.7777777777777778,
              "#fb9f3a"
             ],
             [
              0.8888888888888888,
              "#fdca26"
             ],
             [
              1,
              "#f0f921"
             ]
            ],
            "type": "surface"
           }
          ],
          "table": [
           {
            "cells": {
             "fill": {
              "color": "#EBF0F8"
             },
             "line": {
              "color": "white"
             }
            },
            "header": {
             "fill": {
              "color": "#C8D4E3"
             },
             "line": {
              "color": "white"
             }
            },
            "type": "table"
           }
          ]
         },
         "layout": {
          "annotationdefaults": {
           "arrowcolor": "#2a3f5f",
           "arrowhead": 0,
           "arrowwidth": 1
          },
          "autotypenumbers": "strict",
          "coloraxis": {
           "colorbar": {
            "outlinewidth": 0,
            "ticks": ""
           }
          },
          "colorscale": {
           "diverging": [
            [
             0,
             "#8e0152"
            ],
            [
             0.1,
             "#c51b7d"
            ],
            [
             0.2,
             "#de77ae"
            ],
            [
             0.3,
             "#f1b6da"
            ],
            [
             0.4,
             "#fde0ef"
            ],
            [
             0.5,
             "#f7f7f7"
            ],
            [
             0.6,
             "#e6f5d0"
            ],
            [
             0.7,
             "#b8e186"
            ],
            [
             0.8,
             "#7fbc41"
            ],
            [
             0.9,
             "#4d9221"
            ],
            [
             1,
             "#276419"
            ]
           ],
           "sequential": [
            [
             0,
             "#0d0887"
            ],
            [
             0.1111111111111111,
             "#46039f"
            ],
            [
             0.2222222222222222,
             "#7201a8"
            ],
            [
             0.3333333333333333,
             "#9c179e"
            ],
            [
             0.4444444444444444,
             "#bd3786"
            ],
            [
             0.5555555555555556,
             "#d8576b"
            ],
            [
             0.6666666666666666,
             "#ed7953"
            ],
            [
             0.7777777777777778,
             "#fb9f3a"
            ],
            [
             0.8888888888888888,
             "#fdca26"
            ],
            [
             1,
             "#f0f921"
            ]
           ],
           "sequentialminus": [
            [
             0,
             "#0d0887"
            ],
            [
             0.1111111111111111,
             "#46039f"
            ],
            [
             0.2222222222222222,
             "#7201a8"
            ],
            [
             0.3333333333333333,
             "#9c179e"
            ],
            [
             0.4444444444444444,
             "#bd3786"
            ],
            [
             0.5555555555555556,
             "#d8576b"
            ],
            [
             0.6666666666666666,
             "#ed7953"
            ],
            [
             0.7777777777777778,
             "#fb9f3a"
            ],
            [
             0.8888888888888888,
             "#fdca26"
            ],
            [
             1,
             "#f0f921"
            ]
           ]
          },
          "colorway": [
           "#636efa",
           "#EF553B",
           "#00cc96",
           "#ab63fa",
           "#FFA15A",
           "#19d3f3",
           "#FF6692",
           "#B6E880",
           "#FF97FF",
           "#FECB52"
          ],
          "font": {
           "color": "#2a3f5f"
          },
          "geo": {
           "bgcolor": "white",
           "lakecolor": "white",
           "landcolor": "#E5ECF6",
           "showlakes": true,
           "showland": true,
           "subunitcolor": "white"
          },
          "hoverlabel": {
           "align": "left"
          },
          "hovermode": "closest",
          "mapbox": {
           "style": "light"
          },
          "paper_bgcolor": "white",
          "plot_bgcolor": "#E5ECF6",
          "polar": {
           "angularaxis": {
            "gridcolor": "white",
            "linecolor": "white",
            "ticks": ""
           },
           "bgcolor": "#E5ECF6",
           "radialaxis": {
            "gridcolor": "white",
            "linecolor": "white",
            "ticks": ""
           }
          },
          "scene": {
           "xaxis": {
            "backgroundcolor": "#E5ECF6",
            "gridcolor": "white",
            "gridwidth": 2,
            "linecolor": "white",
            "showbackground": true,
            "ticks": "",
            "zerolinecolor": "white"
           },
           "yaxis": {
            "backgroundcolor": "#E5ECF6",
            "gridcolor": "white",
            "gridwidth": 2,
            "linecolor": "white",
            "showbackground": true,
            "ticks": "",
            "zerolinecolor": "white"
           },
           "zaxis": {
            "backgroundcolor": "#E5ECF6",
            "gridcolor": "white",
            "gridwidth": 2,
            "linecolor": "white",
            "showbackground": true,
            "ticks": "",
            "zerolinecolor": "white"
           }
          },
          "shapedefaults": {
           "line": {
            "color": "#2a3f5f"
           }
          },
          "ternary": {
           "aaxis": {
            "gridcolor": "white",
            "linecolor": "white",
            "ticks": ""
           },
           "baxis": {
            "gridcolor": "white",
            "linecolor": "white",
            "ticks": ""
           },
           "bgcolor": "#E5ECF6",
           "caxis": {
            "gridcolor": "white",
            "linecolor": "white",
            "ticks": ""
           }
          },
          "title": {
           "x": 0.05
          },
          "xaxis": {
           "automargin": true,
           "gridcolor": "white",
           "linecolor": "white",
           "ticks": "",
           "title": {
            "standoff": 15
           },
           "zerolinecolor": "white",
           "zerolinewidth": 2
          },
          "yaxis": {
           "automargin": true,
           "gridcolor": "white",
           "linecolor": "white",
           "ticks": "",
           "title": {
            "standoff": 15
           },
           "zerolinecolor": "white",
           "zerolinewidth": 2
          }
         }
        },
        "title": {
         "text": "Accuracy per Subject and Condition  - combined_accuracy"
        },
        "xaxis": {
         "tickmode": "array",
         "ticktext": [
          "1",
          "3",
          "4",
          "5",
          "6",
          "7",
          "8",
          "9",
          "10",
          "11",
          "12",
          "13",
          "14",
          "15",
          "16",
          "17",
          "18",
          "19",
          "20",
          "21",
          "22",
          "24",
          "25",
          "28",
          "29"
         ],
         "tickvals": [
          "1",
          "3",
          "4",
          "5",
          "6",
          "7",
          "8",
          "9",
          "10",
          "11",
          "12",
          "13",
          "14",
          "15",
          "16",
          "17",
          "18",
          "19",
          "20",
          "21",
          "22",
          "24",
          "25",
          "28",
          "29"
         ],
         "title": {
          "text": "Subject"
         }
        },
        "yaxis": {
         "dtick": 0.1,
         "range": [
          0,
          1
         ],
         "tick0": 0.4,
         "title": {
          "text": "Accuracy"
         }
        }
       }
      }
     },
     "metadata": {},
     "output_type": "display_data"
    }
   ],
   "source": [
    "# Create a DataFrame to organize the data\n",
    "data = []\n",
    "for subject_id, scores in whole_epochs_results_AW_new.items():\n",
    "    data.append({\n",
    "        'Subject': subject_id,\n",
    "        'Condition': 'AW_2',\n",
    "        'Accuracy': scores['erp_accuracy']\n",
    "    })\n",
    "for subject_id, scores in whole_epochs_results_AW_seen.items():\n",
    "    data.append({\n",
    "        'Subject': subject_id,\n",
    "        'Condition': 'AW',\n",
    "        'Accuracy': scores['erp_accuracy']\n",
    "    })\n",
    "\n",
    "\n",
    "df = pd.DataFrame(data)\n",
    "df_grouped = df.iloc[:,1:].groupby('Condition').agg(['mean', 'std'])\n",
    "print(df_grouped)\n",
    "\n",
    "# Calculate means and stds for error bars\n",
    "means = df.groupby('Condition')['Accuracy'].mean()\n",
    "stds = df.groupby('Condition')['Accuracy'].std()\n",
    "\n",
    "# Create Plotly grouped bar chart with error bars\n",
    "fig = go.Figure()\n",
    "\n",
    "for condition in df['Condition'].unique():\n",
    "    cond_df = df[df['Condition'] == condition]\n",
    "    fig.add_trace(go.Bar(\n",
    "        x=cond_df['Subject'],\n",
    "        y=cond_df['Accuracy'],\n",
    "        name=condition,\n",
    "        marker_color=colors[condition],\n",
    "        error_y=dict(\n",
    "            type='data',\n",
    "            array=[stds[condition]] * len(cond_df),  # same std for all bars in this condition\n",
    "            visible=True\n",
    "        )\n",
    "    ))\n",
    "\n",
    "# Add chance level line\n",
    "fig.add_hline(y=0.5, line_width=1, line_color=\"gray\")\n",
    "\n",
    "# Update layout to show subject IDs on x-axis ticks\n",
    "fig.update_layout(\n",
    "    barmode='group',\n",
    "    xaxis_title='Subject',\n",
    "    yaxis_title='Accuracy',\n",
    "    title='Accuracy per Subject and Condition  - combined_accuracy',\n",
    "    legend_title_text='Condition',\n",
    "    xaxis=dict(\n",
    "        tickmode='array',\n",
    "        tickvals=df['Subject'].unique(),\n",
    "        ticktext=df['Subject'].unique()\n",
    "    ),\n",
    "    yaxis=dict(range=[0.0, 1.0], tick0=0.4, dtick=0.1),\n",
    ")\n",
    "\n",
    "fig.show()\n"
   ]
  }
 ],
 "metadata": {
  "kernelspec": {
   "display_name": "Python 3",
   "language": "python",
   "name": "python3"
  },
  "language_info": {
   "codemirror_mode": {
    "name": "ipython",
    "version": 3
   },
   "file_extension": ".py",
   "mimetype": "text/x-python",
   "name": "python",
   "nbconvert_exporter": "python",
   "pygments_lexer": "ipython3",
   "version": "3.11.7"
  }
 },
 "nbformat": 4,
 "nbformat_minor": 2
}
